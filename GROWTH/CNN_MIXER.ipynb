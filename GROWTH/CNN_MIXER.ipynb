{
 "cells": [
  {
   "cell_type": "code",
   "execution_count": 1,
   "id": "9e5cd6bc",
   "metadata": {},
   "outputs": [],
   "source": [
    "import os\n",
    "import pandas as pd\n",
    "import numpy as np\n",
    "from glob import glob\n",
    "from tqdm import tqdm\n",
    "import cv2\n",
    "import torch\n",
    "import torch.nn as nn\n",
    "import torch.nn.functional as F\n",
    "import albumentations as albu\n",
    "from albumentations.pytorch import ToTensorV2\n",
    "from sklearn.model_selection import KFold\n",
    "import pytorch_lightning as pl\n",
    "from torch.utils.data import DataLoader\n",
    "import timm\n",
    "from torchmetrics import Metric\n",
    "from timm.data import IMAGENET_DEFAULT_MEAN, IMAGENET_DEFAULT_STD\n",
    "from pytorch_lightning.callbacks import ModelCheckpoint, EarlyStopping\n",
    "import random"
   ]
  },
  {
   "cell_type": "code",
   "execution_count": 2,
   "id": "22adec16",
   "metadata": {},
   "outputs": [],
   "source": [
    "class NMAE(Metric):\n",
    "    def __init__(self):\n",
    "        super().__init__()\n",
    "        self.add_state(\"nmae\", default=torch.tensor(0.), dist_reduce_fx=\"sum\")\n",
    "        self.add_state(\"total\", default=torch.tensor(0), dist_reduce_fx=\"sum\")\n",
    "    def update(self, preds: torch.Tensor, target: torch.Tensor):\n",
    "        assert preds.shape == target.shape\n",
    "        nmae = torch.sum(torch.abs(target-preds) / (torch.abs(target)))\n",
    "        n_obs = target.numel()\n",
    "        self.nmae += nmae\n",
    "        self.total += n_obs\n",
    "    def compute(self):\n",
    "        return self.nmae / self.total"
   ]
  },
  {
   "cell_type": "code",
   "execution_count": 90,
   "id": "9344bb95",
   "metadata": {},
   "outputs": [],
   "source": [
    "class NMAE(Metric):\n",
    "    def __init__(self):\n",
    "        super().__init__()\n",
    "        self.add_state(\"mae\", default=torch.tensor(0.), dist_reduce_fx=\"sum\")\n",
    "        self.add_state(\"deno\", default=torch.tensor(0.), dist_reduce_fx=\"sum\")\n",
    "    def update(self, preds: torch.Tensor, target: torch.Tensor):\n",
    "        assert preds.shape == target.shape\n",
    "        mae = torch.mean(torch.abs(target-preds))\n",
    "        deno = torch.mean(torch.abs(target))\n",
    "        self.mae += mae\n",
    "        self.deno += deno\n",
    "    def compute(self):\n",
    "        return self.mae / self.deno\n",
    "    \n"
   ]
  },
  {
   "cell_type": "code",
   "execution_count": 94,
   "id": "cd525382",
   "metadata": {},
   "outputs": [],
   "source": [
    "class NMAE(Metric):\n",
    "    def __init__(self):\n",
    "        super().__init__()\n",
    "        self.add_state(\"mae\", default=[], dist_reduce_fx=None)\n",
    "        self.add_state(\"deno\", default=[], dist_reduce_fx=None)\n",
    "        \n",
    "    def update(self, preds: torch.Tensor, target: torch.Tensor):\n",
    "        assert preds.shape == target.shape\n",
    "        mae = torch.abs(target-preds)\n",
    "        deno = torch.abs(target)\n",
    "        self.mae.append(mae)\n",
    "        self.deno.append(deno)\n",
    "    def compute(self):\n",
    "        return torch.mean(torch.cat(self.mae)) / torch.mean(torch.cat(self.deno))"
   ]
  },
  {
   "cell_type": "code",
   "execution_count": 113,
   "id": "02a8be44",
   "metadata": {},
   "outputs": [
    {
     "name": "stderr",
     "output_type": "stream",
     "text": [
      "100%|███████████████████████████████████████████████████████████████████████████████████████████████████████████████████████████████████████████████████████████████████████████████████████████| 1592/1592 [00:08<00:00, 185.28it/s]\n",
      "100%|█████████████████████████████████████████████████████████████████████████████████████████████████████████████████████████████████████████████████████████████████████████████████████████████| 460/460 [00:02<00:00, 173.12it/s]\n",
      "100%|█████████████████████████████████████████████████████████████████████████████████████████████████████████████████████████████████████████████████████████████████████████████████████████████| 492/492 [00:02<00:00, 169.92it/s]\n"
     ]
    }
   ],
   "source": [
    "#processing outlier\n",
    "'''\n",
    "중복데이터 삭제\n",
    "case59, case11, case12, case13, case14,\n",
    "이상치 리스트\n",
    "확인 : CASE05_21, CASE10_41, case16, case22, case23, case45-16, case45-17,\n",
    "CASE73_04, case73-10,CASE73_11, CASE73_14\n",
    "'''\n",
    "preprocessing_train_imgs = glob(\"D:/DACON_GROWTH/PREPROCESSING-TRAIN_224/*\")\n",
    "preprocessing_test_imgs = glob(\"D:/DACON_GROWTH/PREPROCESSING-TEST_224/*\")\n",
    "augmetation_imgs = glob(\"D:/DACON_GROWTH/AUGMENTATION/SIZE224/*\")\n",
    "\n",
    "outlier_imgs = []\n",
    "outlier_path = []\n",
    "train_path = []\n",
    "train_imgs = []\n",
    "for path in tqdm(preprocessing_train_imgs):\n",
    "    img_file = os.path.basename(path)\n",
    "    img_name = img_file.split(\".\")[0]\n",
    "    case = img_name.split(\"_\")[0]\n",
    "    if case in [\"CASE59\", \"CASE11\", \"CASE12\", \"CASE13\", \"CASE14\"]:\n",
    "        continue\n",
    "    elif img_name in [\"CASE05_21\", \"CASE10_41\", \"CASE45_16\", \"CASE45_17\",\n",
    "                     \"CASE73_04\", \"CASE73_10\", \"CASE73_11\", \"CASE73_14\"]:        \n",
    "        continue\n",
    "    elif case in [\"CASE16\", \"CASE22\", \"CASE23\"]:\n",
    "        img = cv2.imread(path, cv2.IMREAD_COLOR)\n",
    "        outlier_path.append(path)\n",
    "        outlier_imgs.append(img)\n",
    "    else:\n",
    "        img = cv2.imread(path, cv2.IMREAD_COLOR)\n",
    "        train_path.append(path)\n",
    "        train_imgs.append(img)\n",
    "        \n",
    "test_path = []\n",
    "test_imgs = []\n",
    "for path in tqdm(preprocessing_test_imgs):\n",
    "    img = cv2.imread(path, cv2.IMREAD_COLOR)\n",
    "    test_path.append(path)\n",
    "    test_imgs.append(img)\n",
    "\n",
    "augment_path = []\n",
    "augment_imgs = []\n",
    "for path in tqdm(augmetation_imgs):\n",
    "    img = cv2.imread(path, cv2.IMREAD_COLOR)\n",
    "    augment_path.append(path)\n",
    "    augment_imgs.append(img)\n",
    "    \n",
    "augment_path = augment_path + outlier_path\n",
    "augment_imgs = augment_imgs + outlier_imgs"
   ]
  },
  {
   "cell_type": "code",
   "execution_count": 114,
   "id": "722a8a73",
   "metadata": {},
   "outputs": [
    {
     "data": {
      "text/plain": [
       "['D:/DACON_GROWTH/AUGMENTATION/SIZE224\\\\augment_data1.png',\n",
       " 'D:/DACON_GROWTH/AUGMENTATION/SIZE224\\\\augment_data10.png',\n",
       " 'D:/DACON_GROWTH/AUGMENTATION/SIZE224\\\\augment_data100.png',\n",
       " 'D:/DACON_GROWTH/AUGMENTATION/SIZE224\\\\augment_data101.png',\n",
       " 'D:/DACON_GROWTH/AUGMENTATION/SIZE224\\\\augment_data102.png',\n",
       " 'D:/DACON_GROWTH/AUGMENTATION/SIZE224\\\\augment_data103.png',\n",
       " 'D:/DACON_GROWTH/AUGMENTATION/SIZE224\\\\augment_data104.png',\n",
       " 'D:/DACON_GROWTH/AUGMENTATION/SIZE224\\\\augment_data105.png',\n",
       " 'D:/DACON_GROWTH/AUGMENTATION/SIZE224\\\\augment_data106.png',\n",
       " 'D:/DACON_GROWTH/AUGMENTATION/SIZE224\\\\augment_data107.png',\n",
       " 'D:/DACON_GROWTH/AUGMENTATION/SIZE224\\\\augment_data108.png',\n",
       " 'D:/DACON_GROWTH/AUGMENTATION/SIZE224\\\\augment_data109.png',\n",
       " 'D:/DACON_GROWTH/AUGMENTATION/SIZE224\\\\augment_data11.png',\n",
       " 'D:/DACON_GROWTH/AUGMENTATION/SIZE224\\\\augment_data110.png',\n",
       " 'D:/DACON_GROWTH/AUGMENTATION/SIZE224\\\\augment_data111.png',\n",
       " 'D:/DACON_GROWTH/AUGMENTATION/SIZE224\\\\augment_data112.png',\n",
       " 'D:/DACON_GROWTH/AUGMENTATION/SIZE224\\\\augment_data113.png',\n",
       " 'D:/DACON_GROWTH/AUGMENTATION/SIZE224\\\\augment_data114.png',\n",
       " 'D:/DACON_GROWTH/AUGMENTATION/SIZE224\\\\augment_data115.png',\n",
       " 'D:/DACON_GROWTH/AUGMENTATION/SIZE224\\\\augment_data116.png',\n",
       " 'D:/DACON_GROWTH/AUGMENTATION/SIZE224\\\\augment_data117.png',\n",
       " 'D:/DACON_GROWTH/AUGMENTATION/SIZE224\\\\augment_data118.png',\n",
       " 'D:/DACON_GROWTH/AUGMENTATION/SIZE224\\\\augment_data119.png',\n",
       " 'D:/DACON_GROWTH/AUGMENTATION/SIZE224\\\\augment_data12.png',\n",
       " 'D:/DACON_GROWTH/AUGMENTATION/SIZE224\\\\augment_data120.png',\n",
       " 'D:/DACON_GROWTH/AUGMENTATION/SIZE224\\\\augment_data121.png',\n",
       " 'D:/DACON_GROWTH/AUGMENTATION/SIZE224\\\\augment_data122.png',\n",
       " 'D:/DACON_GROWTH/AUGMENTATION/SIZE224\\\\augment_data123.png',\n",
       " 'D:/DACON_GROWTH/AUGMENTATION/SIZE224\\\\augment_data124.png',\n",
       " 'D:/DACON_GROWTH/AUGMENTATION/SIZE224\\\\augment_data125.png',\n",
       " 'D:/DACON_GROWTH/AUGMENTATION/SIZE224\\\\augment_data126.png',\n",
       " 'D:/DACON_GROWTH/AUGMENTATION/SIZE224\\\\augment_data127.png',\n",
       " 'D:/DACON_GROWTH/AUGMENTATION/SIZE224\\\\augment_data128.png',\n",
       " 'D:/DACON_GROWTH/AUGMENTATION/SIZE224\\\\augment_data129.png',\n",
       " 'D:/DACON_GROWTH/AUGMENTATION/SIZE224\\\\augment_data13.png',\n",
       " 'D:/DACON_GROWTH/AUGMENTATION/SIZE224\\\\augment_data130.png',\n",
       " 'D:/DACON_GROWTH/AUGMENTATION/SIZE224\\\\augment_data131.png',\n",
       " 'D:/DACON_GROWTH/AUGMENTATION/SIZE224\\\\augment_data132.png',\n",
       " 'D:/DACON_GROWTH/AUGMENTATION/SIZE224\\\\augment_data133.png',\n",
       " 'D:/DACON_GROWTH/AUGMENTATION/SIZE224\\\\augment_data134.png',\n",
       " 'D:/DACON_GROWTH/AUGMENTATION/SIZE224\\\\augment_data135.png',\n",
       " 'D:/DACON_GROWTH/AUGMENTATION/SIZE224\\\\augment_data136.png',\n",
       " 'D:/DACON_GROWTH/AUGMENTATION/SIZE224\\\\augment_data137.png',\n",
       " 'D:/DACON_GROWTH/AUGMENTATION/SIZE224\\\\augment_data138.png',\n",
       " 'D:/DACON_GROWTH/AUGMENTATION/SIZE224\\\\augment_data139.png',\n",
       " 'D:/DACON_GROWTH/AUGMENTATION/SIZE224\\\\augment_data14.png',\n",
       " 'D:/DACON_GROWTH/AUGMENTATION/SIZE224\\\\augment_data140.png',\n",
       " 'D:/DACON_GROWTH/AUGMENTATION/SIZE224\\\\augment_data141.png',\n",
       " 'D:/DACON_GROWTH/AUGMENTATION/SIZE224\\\\augment_data142.png',\n",
       " 'D:/DACON_GROWTH/AUGMENTATION/SIZE224\\\\augment_data143.png',\n",
       " 'D:/DACON_GROWTH/AUGMENTATION/SIZE224\\\\augment_data144.png',\n",
       " 'D:/DACON_GROWTH/AUGMENTATION/SIZE224\\\\augment_data145.png',\n",
       " 'D:/DACON_GROWTH/AUGMENTATION/SIZE224\\\\augment_data146.png',\n",
       " 'D:/DACON_GROWTH/AUGMENTATION/SIZE224\\\\augment_data147.png',\n",
       " 'D:/DACON_GROWTH/AUGMENTATION/SIZE224\\\\augment_data148.png',\n",
       " 'D:/DACON_GROWTH/AUGMENTATION/SIZE224\\\\augment_data149.png',\n",
       " 'D:/DACON_GROWTH/AUGMENTATION/SIZE224\\\\augment_data15.png',\n",
       " 'D:/DACON_GROWTH/AUGMENTATION/SIZE224\\\\augment_data150.png',\n",
       " 'D:/DACON_GROWTH/AUGMENTATION/SIZE224\\\\augment_data151.png',\n",
       " 'D:/DACON_GROWTH/AUGMENTATION/SIZE224\\\\augment_data152.png',\n",
       " 'D:/DACON_GROWTH/AUGMENTATION/SIZE224\\\\augment_data153.png',\n",
       " 'D:/DACON_GROWTH/AUGMENTATION/SIZE224\\\\augment_data154.png',\n",
       " 'D:/DACON_GROWTH/AUGMENTATION/SIZE224\\\\augment_data155.png',\n",
       " 'D:/DACON_GROWTH/AUGMENTATION/SIZE224\\\\augment_data156.png',\n",
       " 'D:/DACON_GROWTH/AUGMENTATION/SIZE224\\\\augment_data157.png',\n",
       " 'D:/DACON_GROWTH/AUGMENTATION/SIZE224\\\\augment_data158.png',\n",
       " 'D:/DACON_GROWTH/AUGMENTATION/SIZE224\\\\augment_data159.png',\n",
       " 'D:/DACON_GROWTH/AUGMENTATION/SIZE224\\\\augment_data16.png',\n",
       " 'D:/DACON_GROWTH/AUGMENTATION/SIZE224\\\\augment_data160.png',\n",
       " 'D:/DACON_GROWTH/AUGMENTATION/SIZE224\\\\augment_data161.png',\n",
       " 'D:/DACON_GROWTH/AUGMENTATION/SIZE224\\\\augment_data162.png',\n",
       " 'D:/DACON_GROWTH/AUGMENTATION/SIZE224\\\\augment_data163.png',\n",
       " 'D:/DACON_GROWTH/AUGMENTATION/SIZE224\\\\augment_data164.png',\n",
       " 'D:/DACON_GROWTH/AUGMENTATION/SIZE224\\\\augment_data165.png',\n",
       " 'D:/DACON_GROWTH/AUGMENTATION/SIZE224\\\\augment_data166.png',\n",
       " 'D:/DACON_GROWTH/AUGMENTATION/SIZE224\\\\augment_data167.png',\n",
       " 'D:/DACON_GROWTH/AUGMENTATION/SIZE224\\\\augment_data168.png',\n",
       " 'D:/DACON_GROWTH/AUGMENTATION/SIZE224\\\\augment_data169.png',\n",
       " 'D:/DACON_GROWTH/AUGMENTATION/SIZE224\\\\augment_data17.png',\n",
       " 'D:/DACON_GROWTH/AUGMENTATION/SIZE224\\\\augment_data170.png',\n",
       " 'D:/DACON_GROWTH/AUGMENTATION/SIZE224\\\\augment_data171.png',\n",
       " 'D:/DACON_GROWTH/AUGMENTATION/SIZE224\\\\augment_data172.png',\n",
       " 'D:/DACON_GROWTH/AUGMENTATION/SIZE224\\\\augment_data173.png',\n",
       " 'D:/DACON_GROWTH/AUGMENTATION/SIZE224\\\\augment_data174.png',\n",
       " 'D:/DACON_GROWTH/AUGMENTATION/SIZE224\\\\augment_data175.png',\n",
       " 'D:/DACON_GROWTH/AUGMENTATION/SIZE224\\\\augment_data176.png',\n",
       " 'D:/DACON_GROWTH/AUGMENTATION/SIZE224\\\\augment_data177.png',\n",
       " 'D:/DACON_GROWTH/AUGMENTATION/SIZE224\\\\augment_data178.png',\n",
       " 'D:/DACON_GROWTH/AUGMENTATION/SIZE224\\\\augment_data179.png',\n",
       " 'D:/DACON_GROWTH/AUGMENTATION/SIZE224\\\\augment_data18.png',\n",
       " 'D:/DACON_GROWTH/AUGMENTATION/SIZE224\\\\augment_data180.png',\n",
       " 'D:/DACON_GROWTH/AUGMENTATION/SIZE224\\\\augment_data181.png',\n",
       " 'D:/DACON_GROWTH/AUGMENTATION/SIZE224\\\\augment_data182.png',\n",
       " 'D:/DACON_GROWTH/AUGMENTATION/SIZE224\\\\augment_data183.png',\n",
       " 'D:/DACON_GROWTH/AUGMENTATION/SIZE224\\\\augment_data184.png',\n",
       " 'D:/DACON_GROWTH/AUGMENTATION/SIZE224\\\\augment_data185.png',\n",
       " 'D:/DACON_GROWTH/AUGMENTATION/SIZE224\\\\augment_data186.png',\n",
       " 'D:/DACON_GROWTH/AUGMENTATION/SIZE224\\\\augment_data187.png',\n",
       " 'D:/DACON_GROWTH/AUGMENTATION/SIZE224\\\\augment_data188.png',\n",
       " 'D:/DACON_GROWTH/AUGMENTATION/SIZE224\\\\augment_data189.png',\n",
       " 'D:/DACON_GROWTH/AUGMENTATION/SIZE224\\\\augment_data19.png',\n",
       " 'D:/DACON_GROWTH/AUGMENTATION/SIZE224\\\\augment_data190.png',\n",
       " 'D:/DACON_GROWTH/AUGMENTATION/SIZE224\\\\augment_data191.png',\n",
       " 'D:/DACON_GROWTH/AUGMENTATION/SIZE224\\\\augment_data192.png',\n",
       " 'D:/DACON_GROWTH/AUGMENTATION/SIZE224\\\\augment_data193.png',\n",
       " 'D:/DACON_GROWTH/AUGMENTATION/SIZE224\\\\augment_data194.png',\n",
       " 'D:/DACON_GROWTH/AUGMENTATION/SIZE224\\\\augment_data195.png',\n",
       " 'D:/DACON_GROWTH/AUGMENTATION/SIZE224\\\\augment_data196.png',\n",
       " 'D:/DACON_GROWTH/AUGMENTATION/SIZE224\\\\augment_data197.png',\n",
       " 'D:/DACON_GROWTH/AUGMENTATION/SIZE224\\\\augment_data198.png',\n",
       " 'D:/DACON_GROWTH/AUGMENTATION/SIZE224\\\\augment_data199.png',\n",
       " 'D:/DACON_GROWTH/AUGMENTATION/SIZE224\\\\augment_data2.png',\n",
       " 'D:/DACON_GROWTH/AUGMENTATION/SIZE224\\\\augment_data20.png',\n",
       " 'D:/DACON_GROWTH/AUGMENTATION/SIZE224\\\\augment_data200.png',\n",
       " 'D:/DACON_GROWTH/AUGMENTATION/SIZE224\\\\augment_data201.png',\n",
       " 'D:/DACON_GROWTH/AUGMENTATION/SIZE224\\\\augment_data202.png',\n",
       " 'D:/DACON_GROWTH/AUGMENTATION/SIZE224\\\\augment_data203.png',\n",
       " 'D:/DACON_GROWTH/AUGMENTATION/SIZE224\\\\augment_data204.png',\n",
       " 'D:/DACON_GROWTH/AUGMENTATION/SIZE224\\\\augment_data205.png',\n",
       " 'D:/DACON_GROWTH/AUGMENTATION/SIZE224\\\\augment_data206.png',\n",
       " 'D:/DACON_GROWTH/AUGMENTATION/SIZE224\\\\augment_data207.png',\n",
       " 'D:/DACON_GROWTH/AUGMENTATION/SIZE224\\\\augment_data208.png',\n",
       " 'D:/DACON_GROWTH/AUGMENTATION/SIZE224\\\\augment_data209.png',\n",
       " 'D:/DACON_GROWTH/AUGMENTATION/SIZE224\\\\augment_data21.png',\n",
       " 'D:/DACON_GROWTH/AUGMENTATION/SIZE224\\\\augment_data210.png',\n",
       " 'D:/DACON_GROWTH/AUGMENTATION/SIZE224\\\\augment_data211.png',\n",
       " 'D:/DACON_GROWTH/AUGMENTATION/SIZE224\\\\augment_data212.png',\n",
       " 'D:/DACON_GROWTH/AUGMENTATION/SIZE224\\\\augment_data213.png',\n",
       " 'D:/DACON_GROWTH/AUGMENTATION/SIZE224\\\\augment_data214.png',\n",
       " 'D:/DACON_GROWTH/AUGMENTATION/SIZE224\\\\augment_data215.png',\n",
       " 'D:/DACON_GROWTH/AUGMENTATION/SIZE224\\\\augment_data216.png',\n",
       " 'D:/DACON_GROWTH/AUGMENTATION/SIZE224\\\\augment_data217.png',\n",
       " 'D:/DACON_GROWTH/AUGMENTATION/SIZE224\\\\augment_data218.png',\n",
       " 'D:/DACON_GROWTH/AUGMENTATION/SIZE224\\\\augment_data219.png',\n",
       " 'D:/DACON_GROWTH/AUGMENTATION/SIZE224\\\\augment_data22.png',\n",
       " 'D:/DACON_GROWTH/AUGMENTATION/SIZE224\\\\augment_data220.png',\n",
       " 'D:/DACON_GROWTH/AUGMENTATION/SIZE224\\\\augment_data221.png',\n",
       " 'D:/DACON_GROWTH/AUGMENTATION/SIZE224\\\\augment_data222.png',\n",
       " 'D:/DACON_GROWTH/AUGMENTATION/SIZE224\\\\augment_data223.png',\n",
       " 'D:/DACON_GROWTH/AUGMENTATION/SIZE224\\\\augment_data224.png',\n",
       " 'D:/DACON_GROWTH/AUGMENTATION/SIZE224\\\\augment_data225.png',\n",
       " 'D:/DACON_GROWTH/AUGMENTATION/SIZE224\\\\augment_data226.png',\n",
       " 'D:/DACON_GROWTH/AUGMENTATION/SIZE224\\\\augment_data227.png',\n",
       " 'D:/DACON_GROWTH/AUGMENTATION/SIZE224\\\\augment_data228.png',\n",
       " 'D:/DACON_GROWTH/AUGMENTATION/SIZE224\\\\augment_data229.png',\n",
       " 'D:/DACON_GROWTH/AUGMENTATION/SIZE224\\\\augment_data23.png',\n",
       " 'D:/DACON_GROWTH/AUGMENTATION/SIZE224\\\\augment_data230.png',\n",
       " 'D:/DACON_GROWTH/AUGMENTATION/SIZE224\\\\augment_data231.png',\n",
       " 'D:/DACON_GROWTH/AUGMENTATION/SIZE224\\\\augment_data232.png',\n",
       " 'D:/DACON_GROWTH/AUGMENTATION/SIZE224\\\\augment_data233.png',\n",
       " 'D:/DACON_GROWTH/AUGMENTATION/SIZE224\\\\augment_data234.png',\n",
       " 'D:/DACON_GROWTH/AUGMENTATION/SIZE224\\\\augment_data235.png',\n",
       " 'D:/DACON_GROWTH/AUGMENTATION/SIZE224\\\\augment_data236.png',\n",
       " 'D:/DACON_GROWTH/AUGMENTATION/SIZE224\\\\augment_data237.png',\n",
       " 'D:/DACON_GROWTH/AUGMENTATION/SIZE224\\\\augment_data238.png',\n",
       " 'D:/DACON_GROWTH/AUGMENTATION/SIZE224\\\\augment_data239.png',\n",
       " 'D:/DACON_GROWTH/AUGMENTATION/SIZE224\\\\augment_data24.png',\n",
       " 'D:/DACON_GROWTH/AUGMENTATION/SIZE224\\\\augment_data240.png',\n",
       " 'D:/DACON_GROWTH/AUGMENTATION/SIZE224\\\\augment_data241.png',\n",
       " 'D:/DACON_GROWTH/AUGMENTATION/SIZE224\\\\augment_data242.png',\n",
       " 'D:/DACON_GROWTH/AUGMENTATION/SIZE224\\\\augment_data243.png',\n",
       " 'D:/DACON_GROWTH/AUGMENTATION/SIZE224\\\\augment_data244.png',\n",
       " 'D:/DACON_GROWTH/AUGMENTATION/SIZE224\\\\augment_data245.png',\n",
       " 'D:/DACON_GROWTH/AUGMENTATION/SIZE224\\\\augment_data246.png',\n",
       " 'D:/DACON_GROWTH/AUGMENTATION/SIZE224\\\\augment_data247.png',\n",
       " 'D:/DACON_GROWTH/AUGMENTATION/SIZE224\\\\augment_data248.png',\n",
       " 'D:/DACON_GROWTH/AUGMENTATION/SIZE224\\\\augment_data249.png',\n",
       " 'D:/DACON_GROWTH/AUGMENTATION/SIZE224\\\\augment_data25.png',\n",
       " 'D:/DACON_GROWTH/AUGMENTATION/SIZE224\\\\augment_data250.png',\n",
       " 'D:/DACON_GROWTH/AUGMENTATION/SIZE224\\\\augment_data251.png',\n",
       " 'D:/DACON_GROWTH/AUGMENTATION/SIZE224\\\\augment_data252.png',\n",
       " 'D:/DACON_GROWTH/AUGMENTATION/SIZE224\\\\augment_data253.png',\n",
       " 'D:/DACON_GROWTH/AUGMENTATION/SIZE224\\\\augment_data254.png',\n",
       " 'D:/DACON_GROWTH/AUGMENTATION/SIZE224\\\\augment_data255.png',\n",
       " 'D:/DACON_GROWTH/AUGMENTATION/SIZE224\\\\augment_data256.png',\n",
       " 'D:/DACON_GROWTH/AUGMENTATION/SIZE224\\\\augment_data257.png',\n",
       " 'D:/DACON_GROWTH/AUGMENTATION/SIZE224\\\\augment_data258.png',\n",
       " 'D:/DACON_GROWTH/AUGMENTATION/SIZE224\\\\augment_data259.png',\n",
       " 'D:/DACON_GROWTH/AUGMENTATION/SIZE224\\\\augment_data26.png',\n",
       " 'D:/DACON_GROWTH/AUGMENTATION/SIZE224\\\\augment_data260.png',\n",
       " 'D:/DACON_GROWTH/AUGMENTATION/SIZE224\\\\augment_data261.png',\n",
       " 'D:/DACON_GROWTH/AUGMENTATION/SIZE224\\\\augment_data262.png',\n",
       " 'D:/DACON_GROWTH/AUGMENTATION/SIZE224\\\\augment_data263.png',\n",
       " 'D:/DACON_GROWTH/AUGMENTATION/SIZE224\\\\augment_data264.png',\n",
       " 'D:/DACON_GROWTH/AUGMENTATION/SIZE224\\\\augment_data265.png',\n",
       " 'D:/DACON_GROWTH/AUGMENTATION/SIZE224\\\\augment_data266.png',\n",
       " 'D:/DACON_GROWTH/AUGMENTATION/SIZE224\\\\augment_data267.png',\n",
       " 'D:/DACON_GROWTH/AUGMENTATION/SIZE224\\\\augment_data268.png',\n",
       " 'D:/DACON_GROWTH/AUGMENTATION/SIZE224\\\\augment_data269.png',\n",
       " 'D:/DACON_GROWTH/AUGMENTATION/SIZE224\\\\augment_data27.png',\n",
       " 'D:/DACON_GROWTH/AUGMENTATION/SIZE224\\\\augment_data270.png',\n",
       " 'D:/DACON_GROWTH/AUGMENTATION/SIZE224\\\\augment_data271.png',\n",
       " 'D:/DACON_GROWTH/AUGMENTATION/SIZE224\\\\augment_data272.png',\n",
       " 'D:/DACON_GROWTH/AUGMENTATION/SIZE224\\\\augment_data273.png',\n",
       " 'D:/DACON_GROWTH/AUGMENTATION/SIZE224\\\\augment_data274.png',\n",
       " 'D:/DACON_GROWTH/AUGMENTATION/SIZE224\\\\augment_data275.png',\n",
       " 'D:/DACON_GROWTH/AUGMENTATION/SIZE224\\\\augment_data276.png',\n",
       " 'D:/DACON_GROWTH/AUGMENTATION/SIZE224\\\\augment_data277.png',\n",
       " 'D:/DACON_GROWTH/AUGMENTATION/SIZE224\\\\augment_data278.png',\n",
       " 'D:/DACON_GROWTH/AUGMENTATION/SIZE224\\\\augment_data279.png',\n",
       " 'D:/DACON_GROWTH/AUGMENTATION/SIZE224\\\\augment_data28.png',\n",
       " 'D:/DACON_GROWTH/AUGMENTATION/SIZE224\\\\augment_data280.png',\n",
       " 'D:/DACON_GROWTH/AUGMENTATION/SIZE224\\\\augment_data281.png',\n",
       " 'D:/DACON_GROWTH/AUGMENTATION/SIZE224\\\\augment_data282.png',\n",
       " 'D:/DACON_GROWTH/AUGMENTATION/SIZE224\\\\augment_data283.png',\n",
       " 'D:/DACON_GROWTH/AUGMENTATION/SIZE224\\\\augment_data284.png',\n",
       " 'D:/DACON_GROWTH/AUGMENTATION/SIZE224\\\\augment_data285.png',\n",
       " 'D:/DACON_GROWTH/AUGMENTATION/SIZE224\\\\augment_data286.png',\n",
       " 'D:/DACON_GROWTH/AUGMENTATION/SIZE224\\\\augment_data287.png',\n",
       " 'D:/DACON_GROWTH/AUGMENTATION/SIZE224\\\\augment_data288.png',\n",
       " 'D:/DACON_GROWTH/AUGMENTATION/SIZE224\\\\augment_data289.png',\n",
       " 'D:/DACON_GROWTH/AUGMENTATION/SIZE224\\\\augment_data29.png',\n",
       " 'D:/DACON_GROWTH/AUGMENTATION/SIZE224\\\\augment_data290.png',\n",
       " 'D:/DACON_GROWTH/AUGMENTATION/SIZE224\\\\augment_data291.png',\n",
       " 'D:/DACON_GROWTH/AUGMENTATION/SIZE224\\\\augment_data292.png',\n",
       " 'D:/DACON_GROWTH/AUGMENTATION/SIZE224\\\\augment_data293.png',\n",
       " 'D:/DACON_GROWTH/AUGMENTATION/SIZE224\\\\augment_data294.png',\n",
       " 'D:/DACON_GROWTH/AUGMENTATION/SIZE224\\\\augment_data295.png',\n",
       " 'D:/DACON_GROWTH/AUGMENTATION/SIZE224\\\\augment_data296.png',\n",
       " 'D:/DACON_GROWTH/AUGMENTATION/SIZE224\\\\augment_data297.png',\n",
       " 'D:/DACON_GROWTH/AUGMENTATION/SIZE224\\\\augment_data298.png',\n",
       " 'D:/DACON_GROWTH/AUGMENTATION/SIZE224\\\\augment_data299.png',\n",
       " 'D:/DACON_GROWTH/AUGMENTATION/SIZE224\\\\augment_data3.png',\n",
       " 'D:/DACON_GROWTH/AUGMENTATION/SIZE224\\\\augment_data30.png',\n",
       " 'D:/DACON_GROWTH/AUGMENTATION/SIZE224\\\\augment_data300.png',\n",
       " 'D:/DACON_GROWTH/AUGMENTATION/SIZE224\\\\augment_data301.png',\n",
       " 'D:/DACON_GROWTH/AUGMENTATION/SIZE224\\\\augment_data302.png',\n",
       " 'D:/DACON_GROWTH/AUGMENTATION/SIZE224\\\\augment_data303.png',\n",
       " 'D:/DACON_GROWTH/AUGMENTATION/SIZE224\\\\augment_data304.png',\n",
       " 'D:/DACON_GROWTH/AUGMENTATION/SIZE224\\\\augment_data305.png',\n",
       " 'D:/DACON_GROWTH/AUGMENTATION/SIZE224\\\\augment_data306.png',\n",
       " 'D:/DACON_GROWTH/AUGMENTATION/SIZE224\\\\augment_data307.png',\n",
       " 'D:/DACON_GROWTH/AUGMENTATION/SIZE224\\\\augment_data308.png',\n",
       " 'D:/DACON_GROWTH/AUGMENTATION/SIZE224\\\\augment_data309.png',\n",
       " 'D:/DACON_GROWTH/AUGMENTATION/SIZE224\\\\augment_data31.png',\n",
       " 'D:/DACON_GROWTH/AUGMENTATION/SIZE224\\\\augment_data310.png',\n",
       " 'D:/DACON_GROWTH/AUGMENTATION/SIZE224\\\\augment_data311.png',\n",
       " 'D:/DACON_GROWTH/AUGMENTATION/SIZE224\\\\augment_data312.png',\n",
       " 'D:/DACON_GROWTH/AUGMENTATION/SIZE224\\\\augment_data313.png',\n",
       " 'D:/DACON_GROWTH/AUGMENTATION/SIZE224\\\\augment_data314.png',\n",
       " 'D:/DACON_GROWTH/AUGMENTATION/SIZE224\\\\augment_data315.png',\n",
       " 'D:/DACON_GROWTH/AUGMENTATION/SIZE224\\\\augment_data316.png',\n",
       " 'D:/DACON_GROWTH/AUGMENTATION/SIZE224\\\\augment_data317.png',\n",
       " 'D:/DACON_GROWTH/AUGMENTATION/SIZE224\\\\augment_data318.png',\n",
       " 'D:/DACON_GROWTH/AUGMENTATION/SIZE224\\\\augment_data319.png',\n",
       " 'D:/DACON_GROWTH/AUGMENTATION/SIZE224\\\\augment_data32.png',\n",
       " 'D:/DACON_GROWTH/AUGMENTATION/SIZE224\\\\augment_data320.png',\n",
       " 'D:/DACON_GROWTH/AUGMENTATION/SIZE224\\\\augment_data321.png',\n",
       " 'D:/DACON_GROWTH/AUGMENTATION/SIZE224\\\\augment_data322.png',\n",
       " 'D:/DACON_GROWTH/AUGMENTATION/SIZE224\\\\augment_data323.png',\n",
       " 'D:/DACON_GROWTH/AUGMENTATION/SIZE224\\\\augment_data324.png',\n",
       " 'D:/DACON_GROWTH/AUGMENTATION/SIZE224\\\\augment_data325.png',\n",
       " 'D:/DACON_GROWTH/AUGMENTATION/SIZE224\\\\augment_data326.png',\n",
       " 'D:/DACON_GROWTH/AUGMENTATION/SIZE224\\\\augment_data327.png',\n",
       " 'D:/DACON_GROWTH/AUGMENTATION/SIZE224\\\\augment_data328.png',\n",
       " 'D:/DACON_GROWTH/AUGMENTATION/SIZE224\\\\augment_data329.png',\n",
       " 'D:/DACON_GROWTH/AUGMENTATION/SIZE224\\\\augment_data33.png',\n",
       " 'D:/DACON_GROWTH/AUGMENTATION/SIZE224\\\\augment_data330.png',\n",
       " 'D:/DACON_GROWTH/AUGMENTATION/SIZE224\\\\augment_data331.png',\n",
       " 'D:/DACON_GROWTH/AUGMENTATION/SIZE224\\\\augment_data332.png',\n",
       " 'D:/DACON_GROWTH/AUGMENTATION/SIZE224\\\\augment_data333.png',\n",
       " 'D:/DACON_GROWTH/AUGMENTATION/SIZE224\\\\augment_data334.png',\n",
       " 'D:/DACON_GROWTH/AUGMENTATION/SIZE224\\\\augment_data335.png',\n",
       " 'D:/DACON_GROWTH/AUGMENTATION/SIZE224\\\\augment_data336.png',\n",
       " 'D:/DACON_GROWTH/AUGMENTATION/SIZE224\\\\augment_data337.png',\n",
       " 'D:/DACON_GROWTH/AUGMENTATION/SIZE224\\\\augment_data338.png',\n",
       " 'D:/DACON_GROWTH/AUGMENTATION/SIZE224\\\\augment_data339.png',\n",
       " 'D:/DACON_GROWTH/AUGMENTATION/SIZE224\\\\augment_data34.png',\n",
       " 'D:/DACON_GROWTH/AUGMENTATION/SIZE224\\\\augment_data340.png',\n",
       " 'D:/DACON_GROWTH/AUGMENTATION/SIZE224\\\\augment_data341.png',\n",
       " 'D:/DACON_GROWTH/AUGMENTATION/SIZE224\\\\augment_data342.png',\n",
       " 'D:/DACON_GROWTH/AUGMENTATION/SIZE224\\\\augment_data343.png',\n",
       " 'D:/DACON_GROWTH/AUGMENTATION/SIZE224\\\\augment_data344.png',\n",
       " 'D:/DACON_GROWTH/AUGMENTATION/SIZE224\\\\augment_data345.png',\n",
       " 'D:/DACON_GROWTH/AUGMENTATION/SIZE224\\\\augment_data346.png',\n",
       " 'D:/DACON_GROWTH/AUGMENTATION/SIZE224\\\\augment_data347.png',\n",
       " 'D:/DACON_GROWTH/AUGMENTATION/SIZE224\\\\augment_data348.png',\n",
       " 'D:/DACON_GROWTH/AUGMENTATION/SIZE224\\\\augment_data349.png',\n",
       " 'D:/DACON_GROWTH/AUGMENTATION/SIZE224\\\\augment_data35.png',\n",
       " 'D:/DACON_GROWTH/AUGMENTATION/SIZE224\\\\augment_data350.png',\n",
       " 'D:/DACON_GROWTH/AUGMENTATION/SIZE224\\\\augment_data351.png',\n",
       " 'D:/DACON_GROWTH/AUGMENTATION/SIZE224\\\\augment_data352.png',\n",
       " 'D:/DACON_GROWTH/AUGMENTATION/SIZE224\\\\augment_data353.png',\n",
       " 'D:/DACON_GROWTH/AUGMENTATION/SIZE224\\\\augment_data354.png',\n",
       " 'D:/DACON_GROWTH/AUGMENTATION/SIZE224\\\\augment_data355.png',\n",
       " 'D:/DACON_GROWTH/AUGMENTATION/SIZE224\\\\augment_data356.png',\n",
       " 'D:/DACON_GROWTH/AUGMENTATION/SIZE224\\\\augment_data357.png',\n",
       " 'D:/DACON_GROWTH/AUGMENTATION/SIZE224\\\\augment_data358.png',\n",
       " 'D:/DACON_GROWTH/AUGMENTATION/SIZE224\\\\augment_data359.png',\n",
       " 'D:/DACON_GROWTH/AUGMENTATION/SIZE224\\\\augment_data36.png',\n",
       " 'D:/DACON_GROWTH/AUGMENTATION/SIZE224\\\\augment_data360.png',\n",
       " 'D:/DACON_GROWTH/AUGMENTATION/SIZE224\\\\augment_data361.png',\n",
       " 'D:/DACON_GROWTH/AUGMENTATION/SIZE224\\\\augment_data362.png',\n",
       " 'D:/DACON_GROWTH/AUGMENTATION/SIZE224\\\\augment_data363.png',\n",
       " 'D:/DACON_GROWTH/AUGMENTATION/SIZE224\\\\augment_data364.png',\n",
       " 'D:/DACON_GROWTH/AUGMENTATION/SIZE224\\\\augment_data365.png',\n",
       " 'D:/DACON_GROWTH/AUGMENTATION/SIZE224\\\\augment_data366.png',\n",
       " 'D:/DACON_GROWTH/AUGMENTATION/SIZE224\\\\augment_data367.png',\n",
       " 'D:/DACON_GROWTH/AUGMENTATION/SIZE224\\\\augment_data368.png',\n",
       " 'D:/DACON_GROWTH/AUGMENTATION/SIZE224\\\\augment_data369.png',\n",
       " 'D:/DACON_GROWTH/AUGMENTATION/SIZE224\\\\augment_data37.png',\n",
       " 'D:/DACON_GROWTH/AUGMENTATION/SIZE224\\\\augment_data370.png',\n",
       " 'D:/DACON_GROWTH/AUGMENTATION/SIZE224\\\\augment_data371.png',\n",
       " 'D:/DACON_GROWTH/AUGMENTATION/SIZE224\\\\augment_data372.png',\n",
       " 'D:/DACON_GROWTH/AUGMENTATION/SIZE224\\\\augment_data373.png',\n",
       " 'D:/DACON_GROWTH/AUGMENTATION/SIZE224\\\\augment_data374.png',\n",
       " 'D:/DACON_GROWTH/AUGMENTATION/SIZE224\\\\augment_data375.png',\n",
       " 'D:/DACON_GROWTH/AUGMENTATION/SIZE224\\\\augment_data376.png',\n",
       " 'D:/DACON_GROWTH/AUGMENTATION/SIZE224\\\\augment_data377.png',\n",
       " 'D:/DACON_GROWTH/AUGMENTATION/SIZE224\\\\augment_data378.png',\n",
       " 'D:/DACON_GROWTH/AUGMENTATION/SIZE224\\\\augment_data379.png',\n",
       " 'D:/DACON_GROWTH/AUGMENTATION/SIZE224\\\\augment_data38.png',\n",
       " 'D:/DACON_GROWTH/AUGMENTATION/SIZE224\\\\augment_data380.png',\n",
       " 'D:/DACON_GROWTH/AUGMENTATION/SIZE224\\\\augment_data381.png',\n",
       " 'D:/DACON_GROWTH/AUGMENTATION/SIZE224\\\\augment_data382.png',\n",
       " 'D:/DACON_GROWTH/AUGMENTATION/SIZE224\\\\augment_data383.png',\n",
       " 'D:/DACON_GROWTH/AUGMENTATION/SIZE224\\\\augment_data384.png',\n",
       " 'D:/DACON_GROWTH/AUGMENTATION/SIZE224\\\\augment_data385.png',\n",
       " 'D:/DACON_GROWTH/AUGMENTATION/SIZE224\\\\augment_data386.png',\n",
       " 'D:/DACON_GROWTH/AUGMENTATION/SIZE224\\\\augment_data387.png',\n",
       " 'D:/DACON_GROWTH/AUGMENTATION/SIZE224\\\\augment_data388.png',\n",
       " 'D:/DACON_GROWTH/AUGMENTATION/SIZE224\\\\augment_data389.png',\n",
       " 'D:/DACON_GROWTH/AUGMENTATION/SIZE224\\\\augment_data39.png',\n",
       " 'D:/DACON_GROWTH/AUGMENTATION/SIZE224\\\\augment_data390.png',\n",
       " 'D:/DACON_GROWTH/AUGMENTATION/SIZE224\\\\augment_data391.png',\n",
       " 'D:/DACON_GROWTH/AUGMENTATION/SIZE224\\\\augment_data392.png',\n",
       " 'D:/DACON_GROWTH/AUGMENTATION/SIZE224\\\\augment_data393.png',\n",
       " 'D:/DACON_GROWTH/AUGMENTATION/SIZE224\\\\augment_data394.png',\n",
       " 'D:/DACON_GROWTH/AUGMENTATION/SIZE224\\\\augment_data395.png',\n",
       " 'D:/DACON_GROWTH/AUGMENTATION/SIZE224\\\\augment_data396.png',\n",
       " 'D:/DACON_GROWTH/AUGMENTATION/SIZE224\\\\augment_data397.png',\n",
       " 'D:/DACON_GROWTH/AUGMENTATION/SIZE224\\\\augment_data398.png',\n",
       " 'D:/DACON_GROWTH/AUGMENTATION/SIZE224\\\\augment_data399.png',\n",
       " 'D:/DACON_GROWTH/AUGMENTATION/SIZE224\\\\augment_data4.png',\n",
       " 'D:/DACON_GROWTH/AUGMENTATION/SIZE224\\\\augment_data40.png',\n",
       " 'D:/DACON_GROWTH/AUGMENTATION/SIZE224\\\\augment_data400.png',\n",
       " 'D:/DACON_GROWTH/AUGMENTATION/SIZE224\\\\augment_data401.png',\n",
       " 'D:/DACON_GROWTH/AUGMENTATION/SIZE224\\\\augment_data402.png',\n",
       " 'D:/DACON_GROWTH/AUGMENTATION/SIZE224\\\\augment_data403.png',\n",
       " 'D:/DACON_GROWTH/AUGMENTATION/SIZE224\\\\augment_data404.png',\n",
       " 'D:/DACON_GROWTH/AUGMENTATION/SIZE224\\\\augment_data405.png',\n",
       " 'D:/DACON_GROWTH/AUGMENTATION/SIZE224\\\\augment_data406.png',\n",
       " 'D:/DACON_GROWTH/AUGMENTATION/SIZE224\\\\augment_data407.png',\n",
       " 'D:/DACON_GROWTH/AUGMENTATION/SIZE224\\\\augment_data408.png',\n",
       " 'D:/DACON_GROWTH/AUGMENTATION/SIZE224\\\\augment_data409.png',\n",
       " 'D:/DACON_GROWTH/AUGMENTATION/SIZE224\\\\augment_data41.png',\n",
       " 'D:/DACON_GROWTH/AUGMENTATION/SIZE224\\\\augment_data410.png',\n",
       " 'D:/DACON_GROWTH/AUGMENTATION/SIZE224\\\\augment_data411.png',\n",
       " 'D:/DACON_GROWTH/AUGMENTATION/SIZE224\\\\augment_data412.png',\n",
       " 'D:/DACON_GROWTH/AUGMENTATION/SIZE224\\\\augment_data413.png',\n",
       " 'D:/DACON_GROWTH/AUGMENTATION/SIZE224\\\\augment_data414.png',\n",
       " 'D:/DACON_GROWTH/AUGMENTATION/SIZE224\\\\augment_data415.png',\n",
       " 'D:/DACON_GROWTH/AUGMENTATION/SIZE224\\\\augment_data416.png',\n",
       " 'D:/DACON_GROWTH/AUGMENTATION/SIZE224\\\\augment_data417.png',\n",
       " 'D:/DACON_GROWTH/AUGMENTATION/SIZE224\\\\augment_data418.png',\n",
       " 'D:/DACON_GROWTH/AUGMENTATION/SIZE224\\\\augment_data419.png',\n",
       " 'D:/DACON_GROWTH/AUGMENTATION/SIZE224\\\\augment_data42.png',\n",
       " 'D:/DACON_GROWTH/AUGMENTATION/SIZE224\\\\augment_data420.png',\n",
       " 'D:/DACON_GROWTH/AUGMENTATION/SIZE224\\\\augment_data421.png',\n",
       " 'D:/DACON_GROWTH/AUGMENTATION/SIZE224\\\\augment_data422.png',\n",
       " 'D:/DACON_GROWTH/AUGMENTATION/SIZE224\\\\augment_data423.png',\n",
       " 'D:/DACON_GROWTH/AUGMENTATION/SIZE224\\\\augment_data424.png',\n",
       " 'D:/DACON_GROWTH/AUGMENTATION/SIZE224\\\\augment_data425.png',\n",
       " 'D:/DACON_GROWTH/AUGMENTATION/SIZE224\\\\augment_data426.png',\n",
       " 'D:/DACON_GROWTH/AUGMENTATION/SIZE224\\\\augment_data427.png',\n",
       " 'D:/DACON_GROWTH/AUGMENTATION/SIZE224\\\\augment_data428.png',\n",
       " 'D:/DACON_GROWTH/AUGMENTATION/SIZE224\\\\augment_data429.png',\n",
       " 'D:/DACON_GROWTH/AUGMENTATION/SIZE224\\\\augment_data43.png',\n",
       " 'D:/DACON_GROWTH/AUGMENTATION/SIZE224\\\\augment_data430.png',\n",
       " 'D:/DACON_GROWTH/AUGMENTATION/SIZE224\\\\augment_data431.png',\n",
       " 'D:/DACON_GROWTH/AUGMENTATION/SIZE224\\\\augment_data432.png',\n",
       " 'D:/DACON_GROWTH/AUGMENTATION/SIZE224\\\\augment_data433.png',\n",
       " 'D:/DACON_GROWTH/AUGMENTATION/SIZE224\\\\augment_data434.png',\n",
       " 'D:/DACON_GROWTH/AUGMENTATION/SIZE224\\\\augment_data435.png',\n",
       " 'D:/DACON_GROWTH/AUGMENTATION/SIZE224\\\\augment_data436.png',\n",
       " 'D:/DACON_GROWTH/AUGMENTATION/SIZE224\\\\augment_data437.png',\n",
       " 'D:/DACON_GROWTH/AUGMENTATION/SIZE224\\\\augment_data438.png',\n",
       " 'D:/DACON_GROWTH/AUGMENTATION/SIZE224\\\\augment_data439.png',\n",
       " 'D:/DACON_GROWTH/AUGMENTATION/SIZE224\\\\augment_data44.png',\n",
       " 'D:/DACON_GROWTH/AUGMENTATION/SIZE224\\\\augment_data440.png',\n",
       " 'D:/DACON_GROWTH/AUGMENTATION/SIZE224\\\\augment_data441.png',\n",
       " 'D:/DACON_GROWTH/AUGMENTATION/SIZE224\\\\augment_data442.png',\n",
       " 'D:/DACON_GROWTH/AUGMENTATION/SIZE224\\\\augment_data443.png',\n",
       " 'D:/DACON_GROWTH/AUGMENTATION/SIZE224\\\\augment_data444.png',\n",
       " 'D:/DACON_GROWTH/AUGMENTATION/SIZE224\\\\augment_data445.png',\n",
       " 'D:/DACON_GROWTH/AUGMENTATION/SIZE224\\\\augment_data446.png',\n",
       " 'D:/DACON_GROWTH/AUGMENTATION/SIZE224\\\\augment_data447.png',\n",
       " 'D:/DACON_GROWTH/AUGMENTATION/SIZE224\\\\augment_data448.png',\n",
       " 'D:/DACON_GROWTH/AUGMENTATION/SIZE224\\\\augment_data449.png',\n",
       " 'D:/DACON_GROWTH/AUGMENTATION/SIZE224\\\\augment_data45.png',\n",
       " 'D:/DACON_GROWTH/AUGMENTATION/SIZE224\\\\augment_data450.png',\n",
       " 'D:/DACON_GROWTH/AUGMENTATION/SIZE224\\\\augment_data451.png',\n",
       " 'D:/DACON_GROWTH/AUGMENTATION/SIZE224\\\\augment_data452.png',\n",
       " 'D:/DACON_GROWTH/AUGMENTATION/SIZE224\\\\augment_data453.png',\n",
       " 'D:/DACON_GROWTH/AUGMENTATION/SIZE224\\\\augment_data454.png',\n",
       " 'D:/DACON_GROWTH/AUGMENTATION/SIZE224\\\\augment_data455.png',\n",
       " 'D:/DACON_GROWTH/AUGMENTATION/SIZE224\\\\augment_data456.png',\n",
       " 'D:/DACON_GROWTH/AUGMENTATION/SIZE224\\\\augment_data457.png',\n",
       " 'D:/DACON_GROWTH/AUGMENTATION/SIZE224\\\\augment_data458.png',\n",
       " 'D:/DACON_GROWTH/AUGMENTATION/SIZE224\\\\augment_data459.png',\n",
       " 'D:/DACON_GROWTH/AUGMENTATION/SIZE224\\\\augment_data46.png',\n",
       " 'D:/DACON_GROWTH/AUGMENTATION/SIZE224\\\\augment_data460.png',\n",
       " 'D:/DACON_GROWTH/AUGMENTATION/SIZE224\\\\augment_data461.png',\n",
       " 'D:/DACON_GROWTH/AUGMENTATION/SIZE224\\\\augment_data462.png',\n",
       " 'D:/DACON_GROWTH/AUGMENTATION/SIZE224\\\\augment_data463.png',\n",
       " 'D:/DACON_GROWTH/AUGMENTATION/SIZE224\\\\augment_data464.png',\n",
       " 'D:/DACON_GROWTH/AUGMENTATION/SIZE224\\\\augment_data465.png',\n",
       " 'D:/DACON_GROWTH/AUGMENTATION/SIZE224\\\\augment_data466.png',\n",
       " 'D:/DACON_GROWTH/AUGMENTATION/SIZE224\\\\augment_data467.png',\n",
       " 'D:/DACON_GROWTH/AUGMENTATION/SIZE224\\\\augment_data468.png',\n",
       " 'D:/DACON_GROWTH/AUGMENTATION/SIZE224\\\\augment_data469.png',\n",
       " 'D:/DACON_GROWTH/AUGMENTATION/SIZE224\\\\augment_data47.png',\n",
       " 'D:/DACON_GROWTH/AUGMENTATION/SIZE224\\\\augment_data470.png',\n",
       " 'D:/DACON_GROWTH/AUGMENTATION/SIZE224\\\\augment_data471.png',\n",
       " 'D:/DACON_GROWTH/AUGMENTATION/SIZE224\\\\augment_data472.png',\n",
       " 'D:/DACON_GROWTH/AUGMENTATION/SIZE224\\\\augment_data473.png',\n",
       " 'D:/DACON_GROWTH/AUGMENTATION/SIZE224\\\\augment_data474.png',\n",
       " 'D:/DACON_GROWTH/AUGMENTATION/SIZE224\\\\augment_data475.png',\n",
       " 'D:/DACON_GROWTH/AUGMENTATION/SIZE224\\\\augment_data476.png',\n",
       " 'D:/DACON_GROWTH/AUGMENTATION/SIZE224\\\\augment_data477.png',\n",
       " 'D:/DACON_GROWTH/AUGMENTATION/SIZE224\\\\augment_data478.png',\n",
       " 'D:/DACON_GROWTH/AUGMENTATION/SIZE224\\\\augment_data479.png',\n",
       " 'D:/DACON_GROWTH/AUGMENTATION/SIZE224\\\\augment_data48.png',\n",
       " 'D:/DACON_GROWTH/AUGMENTATION/SIZE224\\\\augment_data480.png',\n",
       " 'D:/DACON_GROWTH/AUGMENTATION/SIZE224\\\\augment_data481.png',\n",
       " 'D:/DACON_GROWTH/AUGMENTATION/SIZE224\\\\augment_data482.png',\n",
       " 'D:/DACON_GROWTH/AUGMENTATION/SIZE224\\\\augment_data483.png',\n",
       " 'D:/DACON_GROWTH/AUGMENTATION/SIZE224\\\\augment_data484.png',\n",
       " 'D:/DACON_GROWTH/AUGMENTATION/SIZE224\\\\augment_data485.png',\n",
       " 'D:/DACON_GROWTH/AUGMENTATION/SIZE224\\\\augment_data486.png',\n",
       " 'D:/DACON_GROWTH/AUGMENTATION/SIZE224\\\\augment_data487.png',\n",
       " 'D:/DACON_GROWTH/AUGMENTATION/SIZE224\\\\augment_data488.png',\n",
       " 'D:/DACON_GROWTH/AUGMENTATION/SIZE224\\\\augment_data489.png',\n",
       " 'D:/DACON_GROWTH/AUGMENTATION/SIZE224\\\\augment_data49.png',\n",
       " 'D:/DACON_GROWTH/AUGMENTATION/SIZE224\\\\augment_data490.png',\n",
       " 'D:/DACON_GROWTH/AUGMENTATION/SIZE224\\\\augment_data491.png',\n",
       " 'D:/DACON_GROWTH/AUGMENTATION/SIZE224\\\\augment_data492.png',\n",
       " 'D:/DACON_GROWTH/AUGMENTATION/SIZE224\\\\augment_data5.png',\n",
       " 'D:/DACON_GROWTH/AUGMENTATION/SIZE224\\\\augment_data50.png',\n",
       " 'D:/DACON_GROWTH/AUGMENTATION/SIZE224\\\\augment_data51.png',\n",
       " 'D:/DACON_GROWTH/AUGMENTATION/SIZE224\\\\augment_data52.png',\n",
       " 'D:/DACON_GROWTH/AUGMENTATION/SIZE224\\\\augment_data53.png',\n",
       " 'D:/DACON_GROWTH/AUGMENTATION/SIZE224\\\\augment_data54.png',\n",
       " 'D:/DACON_GROWTH/AUGMENTATION/SIZE224\\\\augment_data55.png',\n",
       " 'D:/DACON_GROWTH/AUGMENTATION/SIZE224\\\\augment_data56.png',\n",
       " 'D:/DACON_GROWTH/AUGMENTATION/SIZE224\\\\augment_data57.png',\n",
       " 'D:/DACON_GROWTH/AUGMENTATION/SIZE224\\\\augment_data58.png',\n",
       " 'D:/DACON_GROWTH/AUGMENTATION/SIZE224\\\\augment_data59.png',\n",
       " 'D:/DACON_GROWTH/AUGMENTATION/SIZE224\\\\augment_data6.png',\n",
       " 'D:/DACON_GROWTH/AUGMENTATION/SIZE224\\\\augment_data60.png',\n",
       " 'D:/DACON_GROWTH/AUGMENTATION/SIZE224\\\\augment_data61.png',\n",
       " 'D:/DACON_GROWTH/AUGMENTATION/SIZE224\\\\augment_data62.png',\n",
       " 'D:/DACON_GROWTH/AUGMENTATION/SIZE224\\\\augment_data63.png',\n",
       " 'D:/DACON_GROWTH/AUGMENTATION/SIZE224\\\\augment_data64.png',\n",
       " 'D:/DACON_GROWTH/AUGMENTATION/SIZE224\\\\augment_data65.png',\n",
       " 'D:/DACON_GROWTH/AUGMENTATION/SIZE224\\\\augment_data66.png',\n",
       " 'D:/DACON_GROWTH/AUGMENTATION/SIZE224\\\\augment_data67.png',\n",
       " 'D:/DACON_GROWTH/AUGMENTATION/SIZE224\\\\augment_data68.png',\n",
       " 'D:/DACON_GROWTH/AUGMENTATION/SIZE224\\\\augment_data69.png',\n",
       " 'D:/DACON_GROWTH/AUGMENTATION/SIZE224\\\\augment_data7.png',\n",
       " 'D:/DACON_GROWTH/AUGMENTATION/SIZE224\\\\augment_data70.png',\n",
       " 'D:/DACON_GROWTH/AUGMENTATION/SIZE224\\\\augment_data71.png',\n",
       " 'D:/DACON_GROWTH/AUGMENTATION/SIZE224\\\\augment_data72.png',\n",
       " 'D:/DACON_GROWTH/AUGMENTATION/SIZE224\\\\augment_data73.png',\n",
       " 'D:/DACON_GROWTH/AUGMENTATION/SIZE224\\\\augment_data74.png',\n",
       " 'D:/DACON_GROWTH/AUGMENTATION/SIZE224\\\\augment_data75.png',\n",
       " 'D:/DACON_GROWTH/AUGMENTATION/SIZE224\\\\augment_data76.png',\n",
       " 'D:/DACON_GROWTH/AUGMENTATION/SIZE224\\\\augment_data77.png',\n",
       " 'D:/DACON_GROWTH/AUGMENTATION/SIZE224\\\\augment_data78.png',\n",
       " 'D:/DACON_GROWTH/AUGMENTATION/SIZE224\\\\augment_data79.png',\n",
       " 'D:/DACON_GROWTH/AUGMENTATION/SIZE224\\\\augment_data8.png',\n",
       " 'D:/DACON_GROWTH/AUGMENTATION/SIZE224\\\\augment_data80.png',\n",
       " 'D:/DACON_GROWTH/AUGMENTATION/SIZE224\\\\augment_data81.png',\n",
       " 'D:/DACON_GROWTH/AUGMENTATION/SIZE224\\\\augment_data82.png',\n",
       " 'D:/DACON_GROWTH/AUGMENTATION/SIZE224\\\\augment_data83.png',\n",
       " 'D:/DACON_GROWTH/AUGMENTATION/SIZE224\\\\augment_data84.png',\n",
       " 'D:/DACON_GROWTH/AUGMENTATION/SIZE224\\\\augment_data85.png',\n",
       " 'D:/DACON_GROWTH/AUGMENTATION/SIZE224\\\\augment_data86.png',\n",
       " 'D:/DACON_GROWTH/AUGMENTATION/SIZE224\\\\augment_data87.png',\n",
       " 'D:/DACON_GROWTH/AUGMENTATION/SIZE224\\\\augment_data88.png',\n",
       " 'D:/DACON_GROWTH/AUGMENTATION/SIZE224\\\\augment_data89.png',\n",
       " 'D:/DACON_GROWTH/AUGMENTATION/SIZE224\\\\augment_data9.png',\n",
       " 'D:/DACON_GROWTH/AUGMENTATION/SIZE224\\\\augment_data90.png',\n",
       " 'D:/DACON_GROWTH/AUGMENTATION/SIZE224\\\\augment_data91.png',\n",
       " 'D:/DACON_GROWTH/AUGMENTATION/SIZE224\\\\augment_data92.png',\n",
       " 'D:/DACON_GROWTH/AUGMENTATION/SIZE224\\\\augment_data93.png',\n",
       " 'D:/DACON_GROWTH/AUGMENTATION/SIZE224\\\\augment_data94.png',\n",
       " 'D:/DACON_GROWTH/AUGMENTATION/SIZE224\\\\augment_data95.png',\n",
       " 'D:/DACON_GROWTH/AUGMENTATION/SIZE224\\\\augment_data96.png',\n",
       " 'D:/DACON_GROWTH/AUGMENTATION/SIZE224\\\\augment_data97.png',\n",
       " 'D:/DACON_GROWTH/AUGMENTATION/SIZE224\\\\augment_data98.png',\n",
       " 'D:/DACON_GROWTH/AUGMENTATION/SIZE224\\\\augment_data99.png',\n",
       " 'D:/DACON_GROWTH/PREPROCESSING-TRAIN_224\\\\CASE05_21.png',\n",
       " 'D:/DACON_GROWTH/PREPROCESSING-TRAIN_224\\\\CASE10_41.png',\n",
       " 'D:/DACON_GROWTH/PREPROCESSING-TRAIN_224\\\\CASE16_01.jpg',\n",
       " 'D:/DACON_GROWTH/PREPROCESSING-TRAIN_224\\\\CASE16_02.jpg',\n",
       " 'D:/DACON_GROWTH/PREPROCESSING-TRAIN_224\\\\CASE16_03.jpg',\n",
       " 'D:/DACON_GROWTH/PREPROCESSING-TRAIN_224\\\\CASE16_04.jpg',\n",
       " 'D:/DACON_GROWTH/PREPROCESSING-TRAIN_224\\\\CASE22_01.jpg',\n",
       " 'D:/DACON_GROWTH/PREPROCESSING-TRAIN_224\\\\CASE22_02.jpg',\n",
       " 'D:/DACON_GROWTH/PREPROCESSING-TRAIN_224\\\\CASE22_03.jpg',\n",
       " 'D:/DACON_GROWTH/PREPROCESSING-TRAIN_224\\\\CASE22_04.jpg',\n",
       " 'D:/DACON_GROWTH/PREPROCESSING-TRAIN_224\\\\CASE22_05.jpg',\n",
       " 'D:/DACON_GROWTH/PREPROCESSING-TRAIN_224\\\\CASE22_06.jpg',\n",
       " 'D:/DACON_GROWTH/PREPROCESSING-TRAIN_224\\\\CASE22_07.jpg',\n",
       " 'D:/DACON_GROWTH/PREPROCESSING-TRAIN_224\\\\CASE22_08.jpg',\n",
       " 'D:/DACON_GROWTH/PREPROCESSING-TRAIN_224\\\\CASE22_09.jpg',\n",
       " 'D:/DACON_GROWTH/PREPROCESSING-TRAIN_224\\\\CASE22_10.jpg',\n",
       " 'D:/DACON_GROWTH/PREPROCESSING-TRAIN_224\\\\CASE22_11.jpg',\n",
       " 'D:/DACON_GROWTH/PREPROCESSING-TRAIN_224\\\\CASE23_01.jpg',\n",
       " 'D:/DACON_GROWTH/PREPROCESSING-TRAIN_224\\\\CASE23_02.jpg',\n",
       " 'D:/DACON_GROWTH/PREPROCESSING-TRAIN_224\\\\CASE23_03.jpg',\n",
       " 'D:/DACON_GROWTH/PREPROCESSING-TRAIN_224\\\\CASE23_04.jpg',\n",
       " 'D:/DACON_GROWTH/PREPROCESSING-TRAIN_224\\\\CASE23_05.jpg',\n",
       " 'D:/DACON_GROWTH/PREPROCESSING-TRAIN_224\\\\CASE23_06.jpg',\n",
       " 'D:/DACON_GROWTH/PREPROCESSING-TRAIN_224\\\\CASE23_07.jpg',\n",
       " 'D:/DACON_GROWTH/PREPROCESSING-TRAIN_224\\\\CASE23_08.jpg',\n",
       " 'D:/DACON_GROWTH/PREPROCESSING-TRAIN_224\\\\CASE23_09.jpg',\n",
       " 'D:/DACON_GROWTH/PREPROCESSING-TRAIN_224\\\\CASE45_16.png',\n",
       " 'D:/DACON_GROWTH/PREPROCESSING-TRAIN_224\\\\CASE45_17.png',\n",
       " 'D:/DACON_GROWTH/PREPROCESSING-TRAIN_224\\\\CASE73_04.png',\n",
       " 'D:/DACON_GROWTH/PREPROCESSING-TRAIN_224\\\\CASE73_10.png',\n",
       " 'D:/DACON_GROWTH/PREPROCESSING-TRAIN_224\\\\CASE73_11.png',\n",
       " 'D:/DACON_GROWTH/PREPROCESSING-TRAIN_224\\\\CASE73_14.png']"
      ]
     },
     "execution_count": 114,
     "metadata": {},
     "output_type": "execute_result"
    }
   ],
   "source": [
    "augment_path"
   ]
  },
  {
   "cell_type": "code",
   "execution_count": 3,
   "id": "b6af6414",
   "metadata": {},
   "outputs": [
    {
     "name": "stderr",
     "output_type": "stream",
     "text": [
      "100%|███████████████████████████████████████████████████████████████████████████████████████████████████████████████████████████████████████████████████████████████████████████████████████████| 1592/1592 [00:10<00:00, 154.30it/s]\n",
      "100%|█████████████████████████████████████████████████████████████████████████████████████████████████████████████████████████████████████████████████████████████████████████████████████████████| 460/460 [00:02<00:00, 164.35it/s]\n",
      "100%|█████████████████████████████████████████████████████████████████████████████████████████████████████████████████████████████████████████████████████████████████████████████████████████████| 492/492 [00:04<00:00, 118.01it/s]\n",
      "100%|████████████████████████████████████████████████████████████████████████████████████████████████████████████████████████████████████████████████████████████████████████████████████████████| 1592/1592 [05:01<00:00,  5.28it/s]\n",
      "100%|███████████████████████████████████████████████████████████████████████████████████████████████████████████████████████████████████████████████████████████████████████████████████████████| 1592/1592 [00:08<00:00, 182.82it/s]\n",
      "100%|█████████████████████████████████████████████████████████████████████████████████████████████████████████████████████████████████████████████████████████████████████████████████████████████| 460/460 [00:01<00:00, 318.05it/s]\n"
     ]
    }
   ],
   "source": [
    "#efficientV2_l => train 384, test 480, augment 384\n",
    "preprocessing_train_imgs = glob(\"D:/DACON_GROWTH/PREPROCESSING-TRAIN_224/*\")\n",
    "preprocessing_test_imgs = glob(\"D:/DACON_GROWTH/PREPROCESSING-TEST_224/*\")\n",
    "augmetation_imgs = glob(\"D:/DACON_GROWTH/AUGMENTATION/SIZE224/*\")\n",
    "\n",
    "train_path = []\n",
    "train_imgs = []\n",
    "for path in tqdm(preprocessing_train_imgs):\n",
    "    img = cv2.imread(path, cv2.IMREAD_COLOR)\n",
    "    train_path.append(path)\n",
    "    train_imgs.append(img)\n",
    "\n",
    "test_path = []\n",
    "test_imgs = []\n",
    "for path in tqdm(preprocessing_test_imgs):\n",
    "    img = cv2.imread(path, cv2.IMREAD_COLOR)\n",
    "    test_path.append(path)\n",
    "    test_imgs.append(img)\n",
    "\n",
    "augment_path = []\n",
    "augment_imgs = []\n",
    "for path in tqdm(augmetation_imgs):\n",
    "    img = cv2.imread(path, cv2.IMREAD_COLOR)\n",
    "    augment_path.append(path)\n",
    "    augment_imgs.append(img)\n",
    "\n",
    "\n",
    "train_df = pd.read_parquet(\"D:/DACON_GROWTH/train.parquet\")\n",
    "test_df = pd.read_parquet(\"D:/DACON_GROWTH/test.parquet\")\n",
    "\n",
    "train_df[\"무게\"] = train_df[\"무게\"].apply(lambda x: 0.001 if x<0.001 else x)\n",
    "\n",
    "img2weight = {}\n",
    "for i in tqdm(train_df[\"이미지\"].unique()):\n",
    "    temp = train_df[train_df[\"이미지\"]==i]\n",
    "    weight = temp[\"무게\"].values[0]\n",
    "    img2weight[i] = weight\n",
    "    \n",
    "train_df[\"시간2\"] = train_df[\"시간\"].apply(lambda x: x.split(\" \")[-1])\n",
    "golden_time = ['17:40', '17:41', '17:42', '17:43', '17:44', '17:45', '17:46', '17:47', '17:48', '17:49', '17:50',\n",
    "               '17:51', '17:52', '17:53', '17:54', '17:55', '17:56', '17:57', '17:58', '17:59', '18:00', '18:01',\n",
    "               '18:02', '18:03', '18:04', '18:05']\n",
    "golden_dict ={}\n",
    "for e, i in enumerate(train_df[\"시간2\"].unique()):\n",
    "       golden_dict[i] = e\n",
    "train_df[\"순서\"] = train_df[\"시간2\"].apply(lambda x : golden_dict[x])\n",
    "start = golden_dict['17:40']\n",
    "end = golden_dict[\"18:05\"]\n",
    "\n",
    "train_golden_df = train_df[(train_df[\"순서\"] > 894) & (train_df[\"순서\"] < 919)]\n",
    "\n",
    "features = ['내부온도관측치', '외부온도관측치', '내부습도관측치', '외부습도관측치', 'CO2관측치', 'EC관측치',\n",
    "       '최근분무량', '화이트 LED동작강도', '레드 LED동작강도', '블루 LED동작강도', '냉방온도', '냉방부하',\n",
    "       '난방온도', '난방부하', '총추정광량', '백색광추정광량', '적색광추정광량', '청색광추정광량']\n",
    "\n",
    "img2data = {}\n",
    "for i in tqdm(train_golden_df[\"이미지\"].unique()):\n",
    "       temp = train_golden_df[train_golden_df[\"이미지\"]==i]\n",
    "       temp_mean = temp[features].mean(axis=0)\n",
    "       img2data[temp[\"이미지\"].values[0]] = temp_mean[[\"EC관측치\",'내부습도관측치', '외부습도관측치']].values\n",
    "\n",
    "test_df[\"시간2\"] = test_df[\"시간\"].apply(lambda x: x.split(\" \")[-1])\n",
    "test_df[\"순서\"] = test_df[\"시간2\"].apply(lambda x : golden_dict[x])\n",
    "test_golden_df = test_df[(test_df[\"순서\"] > 894) & (test_df[\"순서\"] < 919)]\n",
    "img2test = {}\n",
    "for i in tqdm(test_golden_df[\"이미지\"].unique()):\n",
    "       temp = test_golden_df[test_golden_df[\"이미지\"]==i]\n",
    "       temp_mean = temp[features].mean(axis=0)\n",
    "       img2test[temp[\"이미지\"].values[0]] = temp_mean[[\"EC관측치\",'내부습도관측치', '외부습도관측치']].values"
   ]
  },
  {
   "cell_type": "code",
   "execution_count": null,
   "id": "63fd6a2e",
   "metadata": {},
   "outputs": [],
   "source": [
    "train_key = []\n",
    "for k, v in img2weight.items():\n",
    "    if v < 0.5:\n",
    "        train_key.append(k)"
   ]
  },
  {
   "cell_type": "code",
   "execution_count": 21,
   "id": "5e4d8eb1",
   "metadata": {},
   "outputs": [
    {
     "data": {
      "text/plain": [
       "array(['D:/DACON_GROWTH/PREPROCESSING-TRAIN_224\\\\CASE01_01.png',\n",
       "       'D:/DACON_GROWTH/PREPROCESSING-TRAIN_224\\\\CASE01_02.png',\n",
       "       'D:/DACON_GROWTH/PREPROCESSING-TRAIN_224\\\\CASE01_03.png', ...,\n",
       "       'D:/DACON_GROWTH/PREPROCESSING-TRAIN_224\\\\CASE74_27.png',\n",
       "       'D:/DACON_GROWTH/PREPROCESSING-TRAIN_224\\\\CASE75_01.png',\n",
       "       'D:/DACON_GROWTH/PREPROCESSING-TRAIN_224\\\\CASE75_02.png'],\n",
       "      dtype='<U53')"
      ]
     },
     "execution_count": 21,
     "metadata": {},
     "output_type": "execute_result"
    }
   ],
   "source": [
    "train_path"
   ]
  },
  {
   "cell_type": "code",
   "execution_count": 34,
   "id": "82df7e93",
   "metadata": {},
   "outputs": [
    {
     "name": "stderr",
     "output_type": "stream",
     "text": [
      "\n",
      "  0%|                                                                                                                                                                                                       | 0/1592 [00:00<?, ?it/s]\u001b[A\n",
      "  0%|▍                                                                                                                                                                                              | 4/1592 [00:00<00:44, 35.93it/s]\u001b[A\n",
      "  1%|█▏                                                                                                                                                                                            | 10/1592 [00:00<00:39, 39.56it/s]\u001b[A\n",
      "  1%|█▉                                                                                                                                                                                            | 16/1592 [00:00<00:34, 46.04it/s]\u001b[A\n",
      "  1%|██▋                                                                                                                                                                                           | 22/1592 [00:00<00:32, 48.67it/s]\u001b[A\n",
      "  2%|███▏                                                                                                                                                                                          | 27/1592 [00:00<00:31, 49.01it/s]\u001b[A\n",
      "  2%|████                                                                                                                                                                                          | 34/1592 [00:00<00:28, 55.37it/s]\u001b[A\n",
      "  3%|████▉                                                                                                                                                                                         | 41/1592 [00:00<00:28, 54.82it/s]\u001b[A\n",
      "  3%|█████▌                                                                                                                                                                                        | 47/1592 [00:00<00:28, 53.51it/s]\u001b[A\n",
      "  3%|██████▍                                                                                                                                                                                       | 54/1592 [00:01<00:26, 57.74it/s]\u001b[A\n",
      "  4%|███████▏                                                                                                                                                                                      | 60/1592 [00:01<00:29, 51.42it/s]\u001b[A\n",
      "  4%|███████▉                                                                                                                                                                                      | 66/1592 [00:01<00:28, 53.19it/s]\u001b[A\n",
      "  5%|████████▌                                                                                                                                                                                     | 72/1592 [00:01<00:28, 54.24it/s]\u001b[A\n",
      "  5%|█████████▌                                                                                                                                                                                    | 80/1592 [00:01<00:25, 59.82it/s]\u001b[A\n",
      "  6%|██████████▌                                                                                                                                                                                   | 88/1592 [00:01<00:23, 64.63it/s]\u001b[A\n",
      "  6%|███████████▎                                                                                                                                                                                  | 95/1592 [00:01<00:22, 65.67it/s]\u001b[A\n",
      "  7%|████████████▋                                                                                                                                                                                | 107/1592 [00:01<00:18, 80.61it/s]\u001b[A\n",
      "  7%|█████████████▉                                                                                                                                                                               | 117/1592 [00:01<00:17, 86.05it/s]\u001b[A\n",
      "  8%|██████████████▉                                                                                                                                                                              | 126/1592 [00:02<00:19, 74.73it/s]\u001b[A\n",
      "  8%|███████████████▉                                                                                                                                                                             | 134/1592 [00:02<00:22, 64.72it/s]\u001b[A\n",
      "  9%|████████████████▋                                                                                                                                                                            | 141/1592 [00:02<00:23, 60.61it/s]\u001b[A\n",
      "  9%|█████████████████▌                                                                                                                                                                           | 148/1592 [00:02<00:25, 56.78it/s]\u001b[A\n",
      " 10%|██████████████████▎                                                                                                                                                                          | 154/1592 [00:02<00:26, 54.09it/s]\u001b[A\n",
      " 10%|███████████████████                                                                                                                                                                          | 161/1592 [00:02<00:25, 56.13it/s]\u001b[A\n",
      " 10%|███████████████████▊                                                                                                                                                                         | 167/1592 [00:02<00:26, 53.24it/s]\u001b[A\n",
      " 11%|████████████████████▋                                                                                                                                                                        | 174/1592 [00:02<00:25, 55.59it/s]\u001b[A\n",
      " 11%|█████████████████████▍                                                                                                                                                                       | 181/1592 [00:03<00:24, 56.78it/s]\u001b[A\n",
      " 12%|██████████████████████▏                                                                                                                                                                      | 187/1592 [00:03<00:26, 53.34it/s]\u001b[A\n",
      " 12%|██████████████████████▉                                                                                                                                                                      | 193/1592 [00:03<00:27, 51.49it/s]\u001b[A\n",
      " 13%|███████████████████████▋                                                                                                                                                                     | 200/1592 [00:03<00:25, 54.63it/s]\u001b[A\n",
      " 13%|████████████████████████▌                                                                                                                                                                    | 207/1592 [00:03<00:24, 56.82it/s]\u001b[A\n",
      " 13%|█████████████████████████▍                                                                                                                                                                   | 214/1592 [00:03<00:24, 56.42it/s]\u001b[A\n",
      " 14%|██████████████████████████                                                                                                                                                                   | 220/1592 [00:03<00:24, 55.99it/s]\u001b[A\n",
      " 14%|██████████████████████████▊                                                                                                                                                                  | 226/1592 [00:03<00:24, 56.38it/s]\u001b[A\n",
      " 15%|███████████████████████████▋                                                                                                                                                                 | 233/1592 [00:04<00:23, 58.16it/s]\u001b[A\n",
      " 15%|████████████████████████████▎                                                                                                                                                                | 239/1592 [00:04<00:24, 54.76it/s]\u001b[A\n",
      " 15%|█████████████████████████████▏                                                                                                                                                               | 246/1592 [00:04<00:23, 57.11it/s]\u001b[A\n",
      " 16%|██████████████████████████████                                                                                                                                                               | 253/1592 [00:04<00:22, 58.95it/s]\u001b[A\n",
      " 16%|██████████████████████████████▊                                                                                                                                                              | 260/1592 [00:04<00:22, 60.11it/s]\u001b[A\n",
      " 17%|███████████████████████████████▋                                                                                                                                                             | 267/1592 [00:04<00:21, 60.77it/s]\u001b[A\n",
      " 17%|████████████████████████████████▌                                                                                                                                                            | 274/1592 [00:04<00:21, 60.92it/s]\u001b[A\n",
      " 18%|█████████████████████████████████▎                                                                                                                                                           | 281/1592 [00:04<00:21, 61.02it/s]\u001b[A\n",
      " 18%|██████████████████████████████████▏                                                                                                                                                          | 288/1592 [00:04<00:22, 56.99it/s]\u001b[A\n",
      " 19%|███████████████████████████████████                                                                                                                                                          | 295/1592 [00:05<00:22, 58.50it/s]\u001b[A\n",
      " 19%|███████████████████████████████████▋                                                                                                                                                         | 301/1592 [00:05<00:23, 55.91it/s]\u001b[A\n",
      " 19%|████████████████████████████████████▌                                                                                                                                                        | 308/1592 [00:05<00:22, 58.17it/s]\u001b[A\n",
      " 20%|█████████████████████████████████████▍                                                                                                                                                       | 315/1592 [00:05<00:21, 59.27it/s]\u001b[A\n",
      " 20%|██████████████████████████████████████▏                                                                                                                                                      | 322/1592 [00:05<00:20, 61.07it/s]\u001b[A\n",
      " 21%|███████████████████████████████████████                                                                                                                                                      | 329/1592 [00:05<00:20, 63.13it/s]\u001b[A\n",
      " 21%|███████████████████████████████████████▉                                                                                                                                                     | 336/1592 [00:05<00:20, 60.32it/s]\u001b[A\n",
      " 22%|████████████████████████████████████████▋                                                                                                                                                    | 343/1592 [00:05<00:19, 62.52it/s]\u001b[A\n",
      " 22%|█████████████████████████████████████████▌                                                                                                                                                   | 350/1592 [00:05<00:19, 63.94it/s]\u001b[A\n",
      " 22%|██████████████████████████████████████████▍                                                                                                                                                  | 357/1592 [00:06<00:21, 58.49it/s]\u001b[A\n",
      " 23%|███████████████████████████████████████████▏                                                                                                                                                 | 364/1592 [00:06<00:20, 60.47it/s]\u001b[A\n",
      " 23%|████████████████████████████████████████████                                                                                                                                                 | 371/1592 [00:06<00:21, 56.30it/s]\u001b[A\n",
      " 24%|████████████████████████████████████████████▉                                                                                                                                                | 379/1592 [00:06<00:19, 61.48it/s]\u001b[A\n",
      " 25%|██████████████████████████████████████████████▌                                                                                                                                              | 392/1592 [00:06<00:15, 78.57it/s]\u001b[A\n",
      " 25%|███████████████████████████████████████████████▌                                                                                                                                             | 401/1592 [00:06<00:15, 78.79it/s]\u001b[A\n",
      " 26%|████████████████████████████████████████████████▋                                                                                                                                            | 410/1592 [00:06<00:16, 73.71it/s]\u001b[A\n",
      " 26%|█████████████████████████████████████████████████▌                                                                                                                                           | 418/1592 [00:06<00:17, 68.15it/s]\u001b[A\n",
      " 27%|██████████████████████████████████████████████████▌                                                                                                                                          | 426/1592 [00:07<00:17, 66.90it/s]\u001b[A\n",
      " 28%|████████████████████████████████████████████████████                                                                                                                                         | 439/1592 [00:07<00:14, 81.94it/s]\u001b[A\n",
      " 28%|█████████████████████████████████████████████████████▋                                                                                                                                       | 452/1592 [00:07<00:12, 93.71it/s]\u001b[A\n",
      " 29%|██████████████████████████████████████████████████████▉                                                                                                                                     | 465/1592 [00:07<00:11, 101.98it/s]\u001b[A\n",
      " 30%|████████████████████████████████████████████████████████▌                                                                                                                                    | 476/1592 [00:07<00:12, 91.29it/s]\u001b[A\n",
      " 31%|█████████████████████████████████████████████████████████▋                                                                                                                                   | 486/1592 [00:07<00:13, 83.73it/s]\u001b[A\n",
      " 31%|██████████████████████████████████████████████████████████▊                                                                                                                                  | 495/1592 [00:07<00:14, 77.64it/s]\u001b[A\n",
      " 32%|████████████████████████████████████████████████████████████                                                                                                                                 | 506/1592 [00:07<00:12, 85.24it/s]\u001b[A\n",
      " 32%|█████████████████████████████████████████████████████████████▏                                                                                                                               | 515/1592 [00:08<00:12, 85.47it/s]\u001b[A\n",
      " 33%|██████████████████████████████████████████████████████████████▏                                                                                                                              | 524/1592 [00:08<00:13, 81.65it/s]\u001b[A\n"
     ]
    },
    {
     "name": "stderr",
     "output_type": "stream",
     "text": [
      " 33%|███████████████████████████████████████████████████████████████▎                                                                                                                             | 533/1592 [00:08<00:14, 73.18it/s]\u001b[A\n",
      " 34%|████████████████████████████████████████████████████████████████▏                                                                                                                            | 541/1592 [00:08<00:14, 70.50it/s]\u001b[A\n",
      " 34%|█████████████████████████████████████████████████████████████████▏                                                                                                                           | 549/1592 [00:08<00:15, 68.59it/s]\u001b[A\n",
      " 35%|██████████████████████████████████████████████████████████████████                                                                                                                           | 556/1592 [00:08<00:15, 67.33it/s]\u001b[A\n",
      " 35%|██████████████████████████████████████████████████████████████████▊                                                                                                                          | 563/1592 [00:08<00:16, 61.55it/s]\u001b[A\n",
      " 36%|███████████████████████████████████████████████████████████████████▋                                                                                                                         | 570/1592 [00:08<00:16, 61.92it/s]\u001b[A\n",
      " 36%|████████████████████████████████████████████████████████████████████▌                                                                                                                        | 577/1592 [00:09<00:16, 63.12it/s]\u001b[A\n",
      " 37%|█████████████████████████████████████████████████████████████████████▎                                                                                                                       | 584/1592 [00:09<00:15, 63.53it/s]\u001b[A\n",
      " 37%|██████████████████████████████████████████████████████████████████████▏                                                                                                                      | 591/1592 [00:09<00:15, 63.50it/s]\u001b[A\n",
      " 38%|██████████████████████████████████████████████████████████████████████▉                                                                                                                      | 598/1592 [00:09<00:15, 64.32it/s]\u001b[A\n",
      " 38%|███████████████████████████████████████████████████████████████████████▉                                                                                                                     | 606/1592 [00:09<00:14, 65.88it/s]\u001b[A\n",
      " 39%|████████████████████████████████████████████████████████████████████████▊                                                                                                                    | 613/1592 [00:09<00:15, 64.66it/s]\u001b[A\n",
      " 39%|█████████████████████████████████████████████████████████████████████████▌                                                                                                                   | 620/1592 [00:09<00:14, 64.80it/s]\u001b[A\n",
      " 39%|██████████████████████████████████████████████████████████████████████████▍                                                                                                                  | 627/1592 [00:09<00:14, 64.87it/s]\u001b[A\n",
      " 40%|███████████████████████████████████████████████████████████████████████████▎                                                                                                                 | 634/1592 [00:09<00:14, 64.82it/s]\u001b[A\n",
      " 40%|████████████████████████████████████████████████████████████████████████████                                                                                                                 | 641/1592 [00:10<00:15, 59.63it/s]\u001b[A\n",
      " 41%|████████████████████████████████████████████████████████████████████████████▉                                                                                                                | 648/1592 [00:10<00:15, 61.02it/s]\u001b[A\n",
      " 41%|█████████████████████████████████████████████████████████████████████████████▊                                                                                                               | 655/1592 [00:10<00:15, 62.04it/s]\u001b[A\n",
      " 42%|██████████████████████████████████████████████████████████████████████████████▋                                                                                                              | 663/1592 [00:10<00:14, 64.60it/s]\u001b[A\n",
      " 42%|███████████████████████████████████████████████████████████████████████████████▌                                                                                                             | 670/1592 [00:10<00:14, 62.01it/s]\u001b[A\n",
      " 43%|████████████████████████████████████████████████████████████████████████████████▎                                                                                                            | 677/1592 [00:10<00:14, 62.38it/s]\u001b[A\n",
      " 43%|█████████████████████████████████████████████████████████████████████████████████▏                                                                                                           | 684/1592 [00:10<00:14, 63.05it/s]\u001b[A\n",
      " 43%|██████████████████████████████████████████████████████████████████████████████████                                                                                                           | 691/1592 [00:10<00:14, 63.13it/s]\u001b[A\n",
      " 44%|██████████████████████████████████████████████████████████████████████████████████▊                                                                                                          | 698/1592 [00:10<00:14, 62.43it/s]\u001b[A\n",
      " 44%|███████████████████████████████████████████████████████████████████████████████████▋                                                                                                         | 705/1592 [00:11<00:13, 63.69it/s]\u001b[A\n",
      " 45%|████████████████████████████████████████████████████████████████████████████████████▌                                                                                                        | 712/1592 [00:11<00:15, 57.96it/s]\u001b[A\n",
      " 45%|█████████████████████████████████████████████████████████████████████████████████████▎                                                                                                       | 719/1592 [00:11<00:14, 60.67it/s]\u001b[A\n",
      " 46%|██████████████████████████████████████████████████████████████████████████████████████▏                                                                                                      | 726/1592 [00:11<00:14, 59.37it/s]\u001b[A\n",
      " 46%|███████████████████████████████████████████████████████████████████████████████████████                                                                                                      | 733/1592 [00:11<00:14, 58.15it/s]\u001b[A\n",
      " 46%|███████████████████████████████████████████████████████████████████████████████████████▋                                                                                                     | 739/1592 [00:11<00:14, 58.42it/s]\u001b[A\n",
      " 47%|████████████████████████████████████████████████████████████████████████████████████████▌                                                                                                    | 746/1592 [00:11<00:14, 59.58it/s]\u001b[A\n",
      " 47%|█████████████████████████████████████████████████████████████████████████████████████████▍                                                                                                   | 753/1592 [00:11<00:13, 60.08it/s]\u001b[A\n",
      " 48%|██████████████████████████████████████████████████████████████████████████████████████████▏                                                                                                  | 760/1592 [00:12<00:14, 58.77it/s]\u001b[A\n",
      " 48%|██████████████████████████████████████████████████████████████████████████████████████████▉                                                                                                  | 766/1592 [00:12<00:14, 57.81it/s]\u001b[A\n",
      " 49%|███████████████████████████████████████████████████████████████████████████████████████████▊                                                                                                 | 773/1592 [00:12<00:14, 57.05it/s]\u001b[A\n",
      " 49%|████████████████████████████████████████████████████████████████████████████████████████████▍                                                                                                | 779/1592 [00:12<00:14, 56.47it/s]\u001b[A\n",
      " 49%|█████████████████████████████████████████████████████████████████████████████████████████████▏                                                                                               | 785/1592 [00:12<00:15, 53.78it/s]\u001b[A\n",
      " 50%|██████████████████████████████████████████████████████████████████████████████████████████████                                                                                               | 792/1592 [00:12<00:13, 57.56it/s]\u001b[A\n",
      " 50%|██████████████████████████████████████████████████████████████████████████████████████████████▉                                                                                              | 800/1592 [00:12<00:12, 61.15it/s]\u001b[A\n",
      " 51%|███████████████████████████████████████████████████████████████████████████████████████████████▊                                                                                             | 807/1592 [00:12<00:12, 62.14it/s]\u001b[A\n",
      " 51%|████████████████████████████████████████████████████████████████████████████████████████████████▋                                                                                            | 814/1592 [00:12<00:12, 63.86it/s]\u001b[A\n",
      " 52%|█████████████████████████████████████████████████████████████████████████████████████████████████▍                                                                                           | 821/1592 [00:13<00:11, 64.95it/s]\u001b[A\n",
      " 52%|██████████████████████████████████████████████████████████████████████████████████████████████████▎                                                                                          | 828/1592 [00:13<00:11, 65.73it/s]\u001b[A\n",
      " 53%|███████████████████████████████████████████████████████████████████████████████████████████████████▏                                                                                         | 836/1592 [00:13<00:11, 67.25it/s]\u001b[A\n",
      " 53%|████████████████████████████████████████████████████████████████████████████████████████████████████                                                                                         | 843/1592 [00:13<00:11, 63.53it/s]\u001b[A\n",
      " 53%|████████████████████████████████████████████████████████████████████████████████████████████████████▉                                                                                        | 850/1592 [00:13<00:11, 63.51it/s]\u001b[A\n",
      " 54%|█████████████████████████████████████████████████████████████████████████████████████████████████████▋                                                                                       | 857/1592 [00:13<00:11, 64.67it/s]\u001b[A\n",
      " 54%|██████████████████████████████████████████████████████████████████████████████████████████████████████▌                                                                                      | 864/1592 [00:13<00:11, 65.52it/s]\u001b[A\n",
      " 55%|███████████████████████████████████████████████████████████████████████████████████████████████████████▌                                                                                     | 872/1592 [00:13<00:10, 68.54it/s]\u001b[A\n",
      " 55%|████████████████████████████████████████████████████████████████████████████████████████████████████████▎                                                                                    | 879/1592 [00:13<00:10, 66.83it/s]\u001b[A\n",
      " 56%|█████████████████████████████████████████████████████████████████████████████████████████████████████████▏                                                                                   | 886/1592 [00:14<00:10, 67.06it/s]\u001b[A\n",
      " 56%|██████████████████████████████████████████████████████████████████████████████████████████████████████████                                                                                   | 893/1592 [00:14<00:10, 67.22it/s]\u001b[A\n",
      " 57%|██████████████████████████████████████████████████████████████████████████████████████████████████████████▊                                                                                  | 900/1592 [00:14<00:10, 67.34it/s]\u001b[A\n",
      " 57%|███████████████████████████████████████████████████████████████████████████████████████████████████████████▋                                                                                 | 907/1592 [00:14<00:10, 67.42it/s]\u001b[A\n",
      " 57%|████████████████████████████████████████████████████████████████████████████████████████████████████████████▋                                                                                | 915/1592 [00:14<00:09, 68.06it/s]\u001b[A\n",
      " 58%|█████████████████████████████████████████████████████████████████████████████████████████████████████████████▍                                                                               | 922/1592 [00:14<00:10, 62.60it/s]\u001b[A\n",
      " 59%|███████████████████████████████████████████████████████████████████████████████████████████████████████████████                                                                              | 935/1592 [00:14<00:08, 80.66it/s]\u001b[A\n",
      " 60%|████████████████████████████████████████████████████████████████████████████████████████████████████████████████▌                                                                            | 948/1592 [00:14<00:06, 92.52it/s]\u001b[A\n",
      " 60%|█████████████████████████████████████████████████████████████████████████████████████████████████████████████████▉                                                                           | 960/1592 [00:14<00:06, 99.25it/s]\u001b[A\n",
      " 61%|███████████████████████████████████████████████████████████████████████████████████████████████████████████████████▎                                                                         | 971/1592 [00:15<00:07, 83.41it/s]\u001b[A\n",
      " 62%|████████████████████████████████████████████████████████████████████████████████████████████████████████████████████▎                                                                        | 980/1592 [00:15<00:08, 72.31it/s]\u001b[A\n",
      " 62%|█████████████████████████████████████████████████████████████████████████████████████████████████████████████████████▎                                                                       | 988/1592 [00:15<00:08, 70.01it/s]\u001b[A\n",
      " 63%|██████████████████████████████████████████████████████████████████████████████████████████████████████████████████████▏                                                                      | 996/1592 [00:15<00:08, 68.95it/s]\u001b[A\n",
      " 63%|██████████████████████████████████████████████████████████████████████████████████████████████████████████████████████▌                                                                     | 1004/1592 [00:15<00:09, 64.60it/s]\u001b[A\n",
      " 64%|███████████████████████████████████████████████████████████████████████████████████████████████████████████████████████▍                                                                    | 1011/1592 [00:15<00:09, 60.03it/s]\u001b[A\n",
      " 64%|████████████████████████████████████████████████████████████████████████████████████████████████████████████████████████▏                                                                   | 1018/1592 [00:15<00:09, 61.49it/s]\u001b[A\n",
      " 64%|█████████████████████████████████████████████████████████████████████████████████████████████████████████████████████████                                                                   | 1025/1592 [00:15<00:09, 62.91it/s]\u001b[A\n",
      " 65%|█████████████████████████████████████████████████████████████████████████████████████████████████████████████████████████▊                                                                  | 1032/1592 [00:16<00:08, 64.47it/s]\u001b[A\n",
      " 65%|██████████████████████████████████████████████████████████████████████████████████████████████████████████████████████████▋                                                                 | 1039/1592 [00:16<00:08, 63.71it/s]\u001b[A\n",
      " 66%|███████████████████████████████████████████████████████████████████████████████████████████████████████████████████████████▌                                                                | 1046/1592 [00:16<00:08, 61.71it/s]\u001b[A\n"
     ]
    },
    {
     "name": "stderr",
     "output_type": "stream",
     "text": [
      " 66%|████████████████████████████████████████████████████████████████████████████████████████████████████████████████████████████▎                                                               | 1053/1592 [00:16<00:09, 56.72it/s]\u001b[A\n",
      " 67%|█████████████████████████████████████████████████████████████████████████████████████████████████████████████████████████████▏                                                              | 1060/1592 [00:16<00:08, 59.12it/s]\u001b[A\n",
      " 67%|██████████████████████████████████████████████████████████████████████████████████████████████████████████████████████████████                                                              | 1067/1592 [00:16<00:08, 58.71it/s]\u001b[A\n",
      " 67%|██████████████████████████████████████████████████████████████████████████████████████████████████████████████████████████████▋                                                             | 1073/1592 [00:16<00:08, 58.08it/s]\u001b[A\n",
      " 68%|███████████████████████████████████████████████████████████████████████████████████████████████████████████████████████████████▌                                                            | 1080/1592 [00:16<00:08, 56.98it/s]\u001b[A\n",
      " 68%|████████████████████████████████████████████████████████████████████████████████████████████████████████████████████████████████▏                                                           | 1086/1592 [00:17<00:08, 57.42it/s]\u001b[A\n",
      " 69%|█████████████████████████████████████████████████████████████████████████████████████████████████████████████████████████████████                                                           | 1093/1592 [00:17<00:08, 59.64it/s]\u001b[A\n",
      " 69%|█████████████████████████████████████████████████████████████████████████████████████████████████████████████████████████████████▉                                                          | 1100/1592 [00:17<00:07, 62.19it/s]\u001b[A\n",
      " 70%|██████████████████████████████████████████████████████████████████████████████████████████████████████████████████████████████████▋                                                         | 1107/1592 [00:17<00:07, 62.60it/s]\u001b[A\n",
      " 70%|███████████████████████████████████████████████████████████████████████████████████████████████████████████████████████████████████▌                                                        | 1114/1592 [00:17<00:07, 63.53it/s]\u001b[A\n",
      " 70%|████████████████████████████████████████████████████████████████████████████████████████████████████████████████████████████████████▍                                                       | 1121/1592 [00:17<00:07, 62.66it/s]\u001b[A\n",
      " 71%|█████████████████████████████████████████████████████████████████████████████████████████████████████████████████████████████████████▏                                                      | 1128/1592 [00:17<00:07, 60.94it/s]\u001b[A\n",
      " 71%|██████████████████████████████████████████████████████████████████████████████████████████████████████████████████████████████████████                                                      | 1135/1592 [00:17<00:07, 62.17it/s]\u001b[A\n",
      " 72%|██████████████████████████████████████████████████████████████████████████████████████████████████████████████████████████████████████▊                                                     | 1142/1592 [00:17<00:07, 63.89it/s]\u001b[A\n",
      " 72%|███████████████████████████████████████████████████████████████████████████████████████████████████████████████████████████████████████▋                                                    | 1149/1592 [00:18<00:06, 64.96it/s]\u001b[A\n",
      " 73%|████████████████████████████████████████████████████████████████████████████████████████████████████████████████████████████████████████▌                                                   | 1156/1592 [00:18<00:06, 62.30it/s]\u001b[A\n",
      " 73%|█████████████████████████████████████████████████████████████████████████████████████████████████████████████████████████████████████████▎                                                  | 1163/1592 [00:18<00:06, 62.48it/s]\u001b[A\n",
      " 73%|██████████████████████████████████████████████████████████████████████████████████████████████████████████████████████████████████████████▏                                                 | 1170/1592 [00:18<00:06, 64.11it/s]\u001b[A\n",
      " 74%|██████████████████████████████████████████████████████████████████████████████████████████████████████████████████████████████████████████▉                                                 | 1177/1592 [00:18<00:06, 65.13it/s]\u001b[A\n",
      " 74%|███████████████████████████████████████████████████████████████████████████████████████████████████████████████████████████████████████████▊                                                | 1184/1592 [00:18<00:06, 65.67it/s]\u001b[A\n",
      " 75%|████████████████████████████████████████████████████████████████████████████████████████████████████████████████████████████████████████████▋                                               | 1191/1592 [00:18<00:06, 66.25it/s]\u001b[A\n",
      " 75%|█████████████████████████████████████████████████████████████████████████████████████████████████████████████████████████████████████████████▍                                              | 1198/1592 [00:18<00:05, 66.65it/s]\u001b[A\n",
      " 76%|██████████████████████████████████████████████████████████████████████████████████████████████████████████████████████████████████████████████▎                                             | 1205/1592 [00:18<00:06, 63.72it/s]\u001b[A\n",
      " 76%|███████████████████████████████████████████████████████████████████████████████████████████████████████████████████████████████████████████████▏                                            | 1212/1592 [00:18<00:06, 62.81it/s]\u001b[A\n",
      " 77%|████████████████████████████████████████████████████████████████████████████████████████████████████████████████████████████████████████████████▋                                           | 1225/1592 [00:19<00:04, 80.46it/s]\u001b[A\n",
      " 78%|██████████████████████████████████████████████████████████████████████████████████████████████████████████████████████████████████████████████████▏                                         | 1238/1592 [00:19<00:03, 93.49it/s]\u001b[A\n",
      " 78%|███████████████████████████████████████████████████████████████████████████████████████████████████████████████████████████████████████████████████▍                                        | 1248/1592 [00:19<00:03, 86.97it/s]\u001b[A\n",
      " 79%|████████████████████████████████████████████████████████████████████████████████████████████████████████████████████████████████████████████████████▍                                       | 1257/1592 [00:19<00:04, 80.63it/s]\u001b[A\n",
      " 80%|█████████████████████████████████████████████████████████████████████████████████████████████████████████████████████████████████████████████████████▌                                      | 1266/1592 [00:19<00:04, 74.37it/s]\u001b[A\n",
      " 80%|██████████████████████████████████████████████████████████████████████████████████████████████████████████████████████████████████████████████████████▉                                     | 1278/1592 [00:19<00:03, 85.74it/s]\u001b[A\n",
      " 81%|███████████████████████████████████████████████████████████████████████████████████████████████████████████████████████████████████████████████████████▉                                    | 1287/1592 [00:19<00:03, 82.85it/s]\u001b[A\n",
      " 81%|█████████████████████████████████████████████████████████████████████████████████████████████████████████████████████████████████████████████████████████                                   | 1296/1592 [00:19<00:03, 79.49it/s]\u001b[A\n",
      " 82%|██████████████████████████████████████████████████████████████████████████████████████████████████████████████████████████████████████████████████████████                                  | 1305/1592 [00:20<00:03, 74.36it/s]\u001b[A\n",
      " 82%|███████████████████████████████████████████████████████████████████████████████████████████████████████████████████████████████████████████████████████████                                 | 1313/1592 [00:20<00:03, 74.01it/s]\u001b[A\n",
      " 83%|███████████████████████████████████████████████████████████████████████████████████████████████████████████████████████████████████████████████████████████▉                                | 1321/1592 [00:20<00:03, 70.95it/s]\u001b[A\n",
      " 83%|████████████████████████████████████████████████████████████████████████████████████████████████████████████████████████████████████████████████████████████▉                               | 1329/1592 [00:20<00:03, 69.53it/s]\u001b[A\n",
      " 84%|█████████████████████████████████████████████████████████████████████████████████████████████████████████████████████████████████████████████████████████████▉                              | 1337/1592 [00:20<00:03, 70.88it/s]\u001b[A\n",
      " 84%|██████████████████████████████████████████████████████████████████████████████████████████████████████████████████████████████████████████████████████████████▊                             | 1345/1592 [00:20<00:03, 65.06it/s]\u001b[A\n",
      " 85%|███████████████████████████████████████████████████████████████████████████████████████████████████████████████████████████████████████████████████████████████▋                            | 1352/1592 [00:20<00:03, 65.74it/s]\u001b[A\n",
      " 85%|████████████████████████████████████████████████████████████████████████████████████████████████████████████████████████████████████████████████████████████████▍                           | 1359/1592 [00:20<00:03, 66.42it/s]\u001b[A\n",
      " 86%|█████████████████████████████████████████████████████████████████████████████████████████████████████████████████████████████████████████████████████████████████▍                          | 1367/1592 [00:21<00:03, 69.05it/s]\u001b[A\n",
      " 86%|██████████████████████████████████████████████████████████████████████████████████████████████████████████████████████████████████████████████████████████████████▎                         | 1374/1592 [00:21<00:03, 67.59it/s]\u001b[A\n",
      " 87%|███████████████████████████████████████████████████████████████████████████████████████████████████████████████████████████████████████████████████████████████████                         | 1381/1592 [00:21<00:03, 67.97it/s]\u001b[A\n",
      " 87%|███████████████████████████████████████████████████████████████████████████████████████████████████████████████████████████████████████████████████████████████████▉                        | 1388/1592 [00:21<00:02, 68.05it/s]\u001b[A\n",
      " 88%|████████████████████████████████████████████████████████████████████████████████████████████████████████████████████████████████████████████████████████████████████▋                       | 1395/1592 [00:21<00:02, 68.12it/s]\u001b[A\n",
      " 88%|█████████████████████████████████████████████████████████████████████████████████████████████████████████████████████████████████████████████████████████████████████▌                      | 1402/1592 [00:21<00:02, 67.97it/s]\u001b[A\n",
      " 89%|██████████████████████████████████████████████████████████████████████████████████████████████████████████████████████████████████████████████████████████████████████▍                     | 1409/1592 [00:21<00:02, 68.06it/s]\u001b[A\n",
      " 89%|███████████████████████████████████████████████████████████████████████████████████████████████████████████████████████████████████████████████████████████████████████▏                    | 1416/1592 [00:21<00:02, 68.12it/s]\u001b[A\n",
      " 89%|████████████████████████████████████████████████████████████████████████████████████████████████████████████████████████████████████████████████████████████████████████                    | 1423/1592 [00:21<00:02, 62.17it/s]\u001b[A\n",
      " 90%|████████████████████████████████████████████████████████████████████████████████████████████████████████████████████████████████████████████████████████████████████████▊                   | 1430/1592 [00:21<00:02, 64.04it/s]\u001b[A\n",
      " 90%|█████████████████████████████████████████████████████████████████████████████████████████████████████████████████████████████████████████████████████████████████████████▋                  | 1437/1592 [00:22<00:02, 65.57it/s]\u001b[A\n",
      " 91%|██████████████████████████████████████████████████████████████████████████████████████████████████████████████████████████████████████████████████████████████████████████▌                 | 1444/1592 [00:22<00:02, 65.85it/s]\u001b[A\n",
      " 91%|███████████████████████████████████████████████████████████████████████████████████████████████████████████████████████████████████████████████████████████████████████████▎                | 1451/1592 [00:22<00:02, 66.18it/s]\u001b[A\n",
      " 92%|████████████████████████████████████████████████████████████████████████████████████████████████████████████████████████████████████████████████████████████████████████████▏               | 1458/1592 [00:22<00:02, 61.32it/s]\u001b[A\n",
      " 92%|█████████████████████████████████████████████████████████████████████████████████████████████████████████████████████████████████████████████████████████████████████████████               | 1465/1592 [00:22<00:02, 62.75it/s]\u001b[A\n",
      " 92%|█████████████████████████████████████████████████████████████████████████████████████████████████████████████████████████████████████████████████████████████████████████████▊              | 1472/1592 [00:22<00:01, 63.62it/s]\u001b[A\n",
      " 93%|██████████████████████████████████████████████████████████████████████████████████████████████████████████████████████████████████████████████████████████████████████████████▋             | 1479/1592 [00:22<00:01, 65.27it/s]\u001b[A\n",
      " 93%|███████████████████████████████████████████████████████████████████████████████████████████████████████████████████████████████████████████████████████████████████████████████▍            | 1486/1592 [00:22<00:02, 49.77it/s]\u001b[A\n",
      " 94%|████████████████████████████████████████████████████████████████████████████████████████████████████████████████████████████████████████████████████████████████████████████████▊           | 1497/1592 [00:23<00:01, 63.75it/s]\u001b[A\n",
      " 95%|█████████████████████████████████████████████████████████████████████████████████████████████████████████████████████████████████████████████████████████████████████████████████▋          | 1505/1592 [00:23<00:01, 66.90it/s]\u001b[A\n",
      " 95%|███████████████████████████████████████████████████████████████████████████████████████████████████████████████████████████████████████████████████████████████████████████████████▎        | 1518/1592 [00:23<00:00, 82.37it/s]\u001b[A\n",
      " 96%|████████████████████████████████████████████████████████████████████████████████████████████████████████████████████████████████████████████████████████████████████████████████████▌       | 1529/1592 [00:23<00:00, 86.05it/s]\u001b[A\n",
      " 97%|█████████████████████████████████████████████████████████████████████████████████████████████████████████████████████████████████████████████████████████████████████████████████████▉      | 1541/1592 [00:23<00:00, 94.00it/s]\u001b[A\n",
      " 98%|██████████████████████████████████████████████████████████████████████████████████████████████████████████████████████████████████████████████████████████████████████████████████████▌    | 1554/1592 [00:23<00:00, 102.42it/s]\u001b[A\n",
      " 98%|███████████████████████████████████████████████████████████████████████████████████████████████████████████████████████████████████████████████████████████████████████████████████████▊   | 1565/1592 [00:23<00:00, 104.36it/s]\u001b[A\n",
      " 99%|██████████████████████████████████████████████████████████████████████████████████████████████████████████████████████████████████████████████████████████████████████████████████████████  | 1576/1592 [00:23<00:00, 91.76it/s]\u001b[A\n",
      "100%|████████████████████████████████████████████████████████████████████████████████████████████████████████████████████████████████████████████████████████████████████████████████████████████| 1592/1592 [00:24<00:00, 66.09it/s]\u001b[A\n",
      "\n",
      "  0%|                                                                                                                                                                                                       | 0/1592 [00:00<?, ?it/s]\u001b[AD:\\meta2\\venv\\lib\\site-packages\\pandas\\core\\frame.py:4913: SettingWithCopyWarning: \n",
      "A value is trying to be set on a copy of a slice from a DataFrame\n",
      "\n",
      "See the caveats in the documentation: https://pandas.pydata.org/pandas-docs/stable/user_guide/indexing.html#returning-a-view-versus-a-copy\n",
      "  errors=errors,\n",
      "\n"
     ]
    },
    {
     "name": "stderr",
     "output_type": "stream",
     "text": [
      "  1%|█▏                                                                                                                                                                                            | 10/1592 [00:00<00:16, 97.60it/s]\u001b[A\n",
      "  1%|██▋                                                                                                                                                                                          | 23/1592 [00:00<00:13, 114.13it/s]\u001b[A\n",
      "  2%|████▍                                                                                                                                                                                        | 37/1592 [00:00<00:12, 121.68it/s]\u001b[A\n",
      "  3%|██████                                                                                                                                                                                       | 51/1592 [00:00<00:12, 126.53it/s]\u001b[A\n",
      "  4%|███████▌                                                                                                                                                                                     | 64/1592 [00:00<00:12, 122.87it/s]\u001b[A\n",
      "  5%|█████████▏                                                                                                                                                                                   | 77/1592 [00:00<00:12, 124.56it/s]\u001b[A\n",
      "  6%|██████████▊                                                                                                                                                                                  | 91/1592 [00:00<00:11, 128.32it/s]\u001b[A\n",
      "  7%|████████████▎                                                                                                                                                                               | 104/1592 [00:00<00:11, 128.69it/s]\u001b[A\n",
      "  7%|█████████████▉                                                                                                                                                                              | 118/1592 [00:00<00:11, 129.21it/s]\u001b[A\n",
      "  8%|███████████████▌                                                                                                                                                                            | 132/1592 [00:01<00:11, 131.44it/s]\u001b[A\n",
      "  9%|█████████████████▏                                                                                                                                                                          | 146/1592 [00:01<00:10, 132.99it/s]\u001b[A\n",
      " 10%|██████████████████▉                                                                                                                                                                         | 160/1592 [00:01<00:10, 134.06it/s]\u001b[A\n",
      " 11%|████████████████████▌                                                                                                                                                                       | 174/1592 [00:01<00:10, 132.90it/s]\u001b[A\n",
      " 12%|██████████████████████▏                                                                                                                                                                     | 188/1592 [00:01<00:10, 133.98it/s]\u001b[A\n",
      " 13%|███████████████████████▊                                                                                                                                                                    | 202/1592 [00:01<00:10, 133.22it/s]\u001b[A\n",
      " 14%|█████████████████████████▌                                                                                                                                                                  | 216/1592 [00:01<00:10, 134.21it/s]\u001b[A\n",
      " 14%|███████████████████████████▏                                                                                                                                                                | 230/1592 [00:01<00:10, 131.18it/s]\u001b[A\n",
      " 15%|████████████████████████████▊                                                                                                                                                               | 244/1592 [00:01<00:10, 131.65it/s]\u001b[A\n",
      " 16%|██████████████████████████████▍                                                                                                                                                             | 258/1592 [00:01<00:10, 131.61it/s]\u001b[A\n",
      " 17%|████████████████████████████████                                                                                                                                                            | 272/1592 [00:02<00:10, 131.22it/s]\u001b[A\n",
      " 18%|█████████████████████████████████▊                                                                                                                                                          | 286/1592 [00:02<00:09, 132.70it/s]\u001b[A\n",
      " 19%|███████████████████████████████████▍                                                                                                                                                        | 300/1592 [00:02<00:09, 131.69it/s]\u001b[A\n",
      " 20%|█████████████████████████████████████                                                                                                                                                       | 314/1592 [00:02<00:09, 132.37it/s]\u001b[A\n",
      " 21%|██████████████████████████████████████▋                                                                                                                                                     | 328/1592 [00:02<00:09, 134.27it/s]\u001b[A\n",
      " 21%|████████████████████████████████████████▍                                                                                                                                                   | 342/1592 [00:02<00:09, 132.39it/s]\u001b[A\n",
      " 22%|██████████████████████████████████████████                                                                                                                                                  | 356/1592 [00:02<00:09, 133.61it/s]\u001b[A\n",
      " 23%|███████████████████████████████████████████▉                                                                                                                                                | 372/1592 [00:02<00:09, 135.27it/s]\u001b[A\n",
      " 24%|█████████████████████████████████████████████▌                                                                                                                                              | 386/1592 [00:02<00:08, 134.91it/s]\u001b[A\n",
      " 25%|███████████████████████████████████████████████▏                                                                                                                                            | 400/1592 [00:03<00:08, 133.53it/s]\u001b[A\n",
      " 26%|████████████████████████████████████████████████▉                                                                                                                                           | 414/1592 [00:03<00:08, 134.40it/s]\u001b[A\n",
      " 27%|██████████████████████████████████████████████████▌                                                                                                                                         | 428/1592 [00:03<00:08, 133.17it/s]\u001b[A\n",
      " 28%|████████████████████████████████████████████████████▏                                                                                                                                       | 442/1592 [00:03<00:08, 134.15it/s]\u001b[A\n",
      " 29%|█████████████████████████████████████████████████████▊                                                                                                                                      | 456/1592 [00:03<00:08, 133.73it/s]\u001b[A\n",
      " 30%|███████████████████████████████████████████████████████▌                                                                                                                                    | 470/1592 [00:03<00:08, 133.72it/s]\u001b[A\n",
      " 30%|█████████████████████████████████████████████████████████▏                                                                                                                                  | 484/1592 [00:03<00:08, 133.13it/s]\u001b[A\n",
      " 31%|██████████████████████████████████████████████████████████▊                                                                                                                                 | 498/1592 [00:03<00:08, 134.14it/s]\u001b[A\n",
      " 32%|████████████████████████████████████████████████████████████▍                                                                                                                               | 512/1592 [00:03<00:08, 134.01it/s]\u001b[A\n",
      " 33%|██████████████████████████████████████████████████████████████                                                                                                                              | 526/1592 [00:04<00:08, 131.50it/s]\u001b[A\n",
      " 34%|███████████████████████████████████████████████████████████████▊                                                                                                                            | 540/1592 [00:04<00:08, 131.44it/s]\u001b[A\n",
      " 35%|█████████████████████████████████████████████████████████████████▍                                                                                                                          | 554/1592 [00:04<00:07, 132.26it/s]\u001b[A\n",
      " 36%|███████████████████████████████████████████████████████████████████                                                                                                                         | 568/1592 [00:04<00:07, 133.14it/s]\u001b[A\n",
      " 37%|████████████████████████████████████████████████████████████████████▋                                                                                                                       | 582/1592 [00:04<00:07, 133.32it/s]\u001b[A\n",
      " 37%|██████████████████████████████████████████████████████████████████████▍                                                                                                                     | 596/1592 [00:04<00:07, 131.75it/s]\u001b[A\n",
      " 38%|████████████████████████████████████████████████████████████████████████                                                                                                                    | 610/1592 [00:04<00:07, 133.15it/s]\u001b[A\n",
      " 39%|█████████████████████████████████████████████████████████████████████████▋                                                                                                                  | 624/1592 [00:04<00:07, 134.83it/s]\u001b[A\n",
      " 40%|███████████████████████████████████████████████████████████████████████████▎                                                                                                                | 638/1592 [00:04<00:07, 132.04it/s]\u001b[A\n",
      " 41%|████████████████████████████████████████████████████████████████████████████▉                                                                                                               | 652/1592 [00:04<00:07, 131.45it/s]\u001b[A\n",
      " 42%|██████████████████████████████████████████████████████████████████████████████▋                                                                                                             | 666/1592 [00:05<00:06, 132.64it/s]\u001b[A\n",
      " 43%|████████████████████████████████████████████████████████████████████████████████▎                                                                                                           | 680/1592 [00:05<00:06, 131.94it/s]\u001b[A\n",
      " 44%|█████████████████████████████████████████████████████████████████████████████████▉                                                                                                          | 694/1592 [00:05<00:06, 133.21it/s]\u001b[A\n",
      " 44%|███████████████████████████████████████████████████████████████████████████████████▌                                                                                                        | 708/1592 [00:05<00:06, 132.77it/s]\u001b[A\n",
      " 45%|█████████████████████████████████████████████████████████████████████████████████████▎                                                                                                      | 722/1592 [00:05<00:06, 131.66it/s]\u001b[A\n",
      " 46%|██████████████████████████████████████████████████████████████████████████████████████▉                                                                                                     | 736/1592 [00:05<00:06, 133.09it/s]\u001b[A\n",
      " 47%|████████████████████████████████████████████████████████████████████████████████████████▌                                                                                                   | 750/1592 [00:05<00:06, 134.10it/s]\u001b[A\n",
      " 48%|██████████████████████████████████████████████████████████████████████████████████████████▏                                                                                                 | 764/1592 [00:05<00:06, 133.32it/s]\u001b[A\n",
      " 49%|███████████████████████████████████████████████████████████████████████████████████████████▊                                                                                                | 778/1592 [00:05<00:06, 129.89it/s]\u001b[A\n",
      " 50%|█████████████████████████████████████████████████████████████████████████████████████████████▌                                                                                              | 792/1592 [00:06<00:06, 131.81it/s]\u001b[A\n",
      " 51%|███████████████████████████████████████████████████████████████████████████████████████████████▍                                                                                            | 808/1592 [00:06<00:05, 134.03it/s]\u001b[A\n",
      " 52%|█████████████████████████████████████████████████████████████████████████████████████████████████                                                                                           | 822/1592 [00:06<00:05, 130.48it/s]\u001b[A\n",
      " 53%|██████████████████████████████████████████████████████████████████████████████████████████████████▋                                                                                         | 836/1592 [00:06<00:05, 131.49it/s]\u001b[A\n",
      " 53%|████████████████████████████████████████████████████████████████████████████████████████████████████▍                                                                                       | 850/1592 [00:06<00:05, 130.79it/s]\u001b[A\n",
      " 54%|██████████████████████████████████████████████████████████████████████████████████████████████████████                                                                                      | 864/1592 [00:06<00:05, 131.00it/s]\u001b[A\n",
      " 55%|███████████████████████████████████████████████████████████████████████████████████████████████████████▋                                                                                    | 878/1592 [00:06<00:05, 128.63it/s]\u001b[A\n",
      " 56%|█████████████████████████████████████████████████████████████████████████████████████████████████████████▏                                                                                  | 891/1592 [00:06<00:05, 127.83it/s]\u001b[A\n",
      " 57%|██████████████████████████████████████████████████████████████████████████████████████████████████████████▊                                                                                 | 905/1592 [00:06<00:05, 130.35it/s]\u001b[A\n",
      " 58%|████████████████████████████████████████████████████████████████████████████████████████████████████████████▌                                                                               | 919/1592 [00:06<00:05, 129.99it/s]\u001b[A\n",
      " 59%|██████████████████████████████████████████████████████████████████████████████████████████████████████████████▏                                                                             | 933/1592 [00:07<00:05, 131.53it/s]\u001b[A\n",
      " 59%|███████████████████████████████████████████████████████████████████████████████████████████████████████████████▊                                                                            | 947/1592 [00:07<00:05, 128.96it/s]\u001b[A\n",
      " 60%|█████████████████████████████████████████████████████████████████████████████████████████████████████████████████▍                                                                          | 961/1592 [00:07<00:04, 129.79it/s]\u001b[A\n",
      " 61%|███████████████████████████████████████████████████████████████████████████████████████████████████████████████████▏                                                                        | 975/1592 [00:07<00:04, 130.31it/s]\u001b[A\n"
     ]
    },
    {
     "name": "stderr",
     "output_type": "stream",
     "text": [
      " 62%|████████████████████████████████████████████████████████████████████████████████████████████████████████████████████▊                                                                       | 989/1592 [00:07<00:04, 132.78it/s]\u001b[A\n",
      " 63%|█████████████████████████████████████████████████████████████████████████████████████████████████████████████████████▊                                                                     | 1003/1592 [00:07<00:04, 132.84it/s]\u001b[A\n",
      " 64%|███████████████████████████████████████████████████████████████████████████████████████████████████████████████████████▍                                                                   | 1017/1592 [00:07<00:04, 131.71it/s]\u001b[A\n",
      " 65%|█████████████████████████████████████████████████████████████████████████████████████████████████████████████████████████                                                                  | 1031/1592 [00:07<00:04, 132.75it/s]\u001b[A\n",
      " 66%|██████████████████████████████████████████████████████████████████████████████████████████████████████████████████████████▋                                                                | 1045/1592 [00:07<00:04, 132.02it/s]\u001b[A\n",
      " 67%|████████████████████████████████████████████████████████████████████████████████████████████████████████████████████████████▍                                                              | 1059/1592 [00:08<00:04, 132.97it/s]\u001b[A\n",
      " 67%|██████████████████████████████████████████████████████████████████████████████████████████████████████████████████████████████                                                             | 1073/1592 [00:08<00:03, 130.36it/s]\u001b[A\n",
      " 68%|███████████████████████████████████████████████████████████████████████████████████████████████████████████████████████████████▋                                                           | 1087/1592 [00:08<00:03, 131.43it/s]\u001b[A\n",
      " 69%|█████████████████████████████████████████████████████████████████████████████████████████████████████████████████████████████████▎                                                         | 1101/1592 [00:08<00:03, 131.09it/s]\u001b[A\n",
      " 70%|██████████████████████████████████████████████████████████████████████████████████████████████████████████████████████████████████▉                                                        | 1115/1592 [00:08<00:03, 130.50it/s]\u001b[A\n",
      " 71%|████████████████████████████████████████████████████████████████████████████████████████████████████████████████████████████████████▌                                                      | 1129/1592 [00:08<00:03, 130.45it/s]\u001b[A\n",
      " 72%|██████████████████████████████████████████████████████████████████████████████████████████████████████████████████████████████████████▎                                                    | 1143/1592 [00:08<00:03, 131.13it/s]\u001b[A\n",
      " 73%|███████████████████████████████████████████████████████████████████████████████████████████████████████████████████████████████████████▉                                                   | 1157/1592 [00:08<00:03, 130.53it/s]\u001b[A\n",
      " 74%|█████████████████████████████████████████████████████████████████████████████████████████████████████████████████████████████████████████▌                                                 | 1171/1592 [00:08<00:03, 130.11it/s]\u001b[A\n",
      " 74%|███████████████████████████████████████████████████████████████████████████████████████████████████████████████████████████████████████████▏                                               | 1185/1592 [00:09<00:03, 131.98it/s]\u001b[A\n",
      " 75%|████████████████████████████████████████████████████████████████████████████████████████████████████████████████████████████████████████████▊                                              | 1199/1592 [00:09<00:02, 131.48it/s]\u001b[A\n",
      " 76%|██████████████████████████████████████████████████████████████████████████████████████████████████████████████████████████████████████████████▍                                            | 1213/1592 [00:09<00:02, 132.58it/s]\u001b[A\n",
      " 77%|████████████████████████████████████████████████████████████████████████████████████████████████████████████████████████████████████████████████▏                                          | 1227/1592 [00:09<00:02, 132.26it/s]\u001b[A\n",
      " 78%|█████████████████████████████████████████████████████████████████████████████████████████████████████████████████████████████████████████████████▊                                         | 1241/1592 [00:09<00:02, 133.14it/s]\u001b[A\n",
      " 79%|███████████████████████████████████████████████████████████████████████████████████████████████████████████████████████████████████████████████████▍                                       | 1255/1592 [00:09<00:02, 133.02it/s]\u001b[A\n",
      " 80%|█████████████████████████████████████████████████████████████████████████████████████████████████████████████████████████████████████████████████████                                      | 1269/1592 [00:09<00:02, 131.84it/s]\u001b[A\n",
      " 81%|██████████████████████████████████████████████████████████████████████████████████████████████████████████████████████████████████████████████████████▋                                    | 1283/1592 [00:09<00:02, 132.47it/s]\u001b[A\n",
      " 81%|████████████████████████████████████████████████████████████████████████████████████████████████████████████████████████████████████████████████████████▎                                  | 1297/1592 [00:09<00:02, 131.46it/s]\u001b[A\n",
      " 82%|█████████████████████████████████████████████████████████████████████████████████████████████████████████████████████████████████████████████████████████▉                                 | 1311/1592 [00:09<00:02, 130.76it/s]\u001b[A\n",
      " 83%|███████████████████████████████████████████████████████████████████████████████████████████████████████████████████████████████████████████████████████████▋                               | 1325/1592 [00:10<00:02, 132.07it/s]\u001b[A\n",
      " 84%|█████████████████████████████████████████████████████████████████████████████████████████████████████████████████████████████████████████████████████████████▎                             | 1339/1592 [00:10<00:01, 130.82it/s]\u001b[A\n",
      " 85%|██████████████████████████████████████████████████████████████████████████████████████████████████████████████████████████████████████████████████████████████▉                            | 1353/1592 [00:10<00:01, 132.12it/s]\u001b[A\n",
      " 86%|████████████████████████████████████████████████████████████████████████████████████████████████████████████████████████████████████████████████████████████████▌                          | 1367/1592 [00:10<00:01, 133.41it/s]\u001b[A\n",
      " 87%|██████████████████████████████████████████████████████████████████████████████████████████████████████████████████████████████████████████████████████████████████▎                        | 1382/1592 [00:10<00:01, 132.36it/s]\u001b[A\n",
      " 88%|███████████████████████████████████████████████████████████████████████████████████████████████████████████████████████████████████████████████████████████████████▉                       | 1396/1592 [00:10<00:01, 131.05it/s]\u001b[A\n",
      " 89%|█████████████████████████████████████████████████████████████████████████████████████████████████████████████████████████████████████████████████████████████████████▌                     | 1410/1592 [00:10<00:01, 129.09it/s]\u001b[A\n",
      " 89%|███████████████████████████████████████████████████████████████████████████████████████████████████████████████████████████████████████████████████████████████████████▎                   | 1424/1592 [00:10<00:01, 129.81it/s]\u001b[A\n",
      " 90%|████████████████████████████████████████████████████████████████████████████████████████████████████████████████████████████████████████████████████████████████████████▉                  | 1438/1592 [00:10<00:01, 131.03it/s]\u001b[A\n",
      " 91%|██████████████████████████████████████████████████████████████████████████████████████████████████████████████████████████████████████████████████████████████████████████▌                | 1452/1592 [00:11<00:01, 128.29it/s]\u001b[A\n",
      " 92%|████████████████████████████████████████████████████████████████████████████████████████████████████████████████████████████████████████████████████████████████████████████               | 1465/1592 [00:11<00:01, 126.89it/s]\u001b[A\n",
      " 93%|█████████████████████████████████████████████████████████████████████████████████████████████████████████████████████████████████████████████████████████████████████████████▋             | 1479/1592 [00:11<00:00, 129.32it/s]\u001b[A\n",
      " 94%|███████████████████████████████████████████████████████████████████████████████████████████████████████████████████████████████████████████████████████████████████████████████▎           | 1493/1592 [00:11<00:00, 128.92it/s]\u001b[A\n",
      " 95%|█████████████████████████████████████████████████████████████████████████████████████████████████████████████████████████████████████████████████████████████████████████████████          | 1507/1592 [00:11<00:00, 130.77it/s]\u001b[A\n",
      " 96%|██████████████████████████████████████████████████████████████████████████████████████████████████████████████████████████████████████████████████████████████████████████████████▋        | 1521/1592 [00:11<00:00, 130.63it/s]\u001b[A\n",
      " 96%|████████████████████████████████████████████████████████████████████████████████████████████████████████████████████████████████████████████████████████████████████████████████████▎      | 1535/1592 [00:11<00:00, 129.83it/s]\u001b[A\n",
      " 97%|█████████████████████████████████████████████████████████████████████████████████████████████████████████████████████████████████████████████████████████████████████████████████████▉     | 1549/1592 [00:11<00:00, 131.05it/s]\u001b[A\n",
      " 98%|███████████████████████████████████████████████████████████████████████████████████████████████████████████████████████████████████████████████████████████████████████████████████████▌   | 1563/1592 [00:11<00:00, 132.95it/s]\u001b[A\n",
      " 99%|█████████████████████████████████████████████████████████████████████████████████████████████████████████████████████████████████████████████████████████████████████████████████████████▏ | 1577/1592 [00:12<00:00, 131.13it/s]\u001b[A\n",
      "100%|███████████████████████████████████████████████████████████████████████████████████████████████████████████████████████████████████████████████████████████████████████████████████████████| 1592/1592 [00:12<00:00, 131.35it/s]\u001b[A\n"
     ]
    }
   ],
   "source": [
    "main_path = \"D:/DACON_GROWTH\"\n",
    "train_imgs = glob(main_path+\"/train/*/*/*.png\") + glob(main_path+\"/train/*/*/*.jpg\")\n",
    "train_imgs = sorted(train_imgs)\n",
    "test_imgs = glob(main_path+\"/test/image/*.png\") + glob(main_path+\"/test/image/*.jpg\")\n",
    "test_imgs = sorted(test_imgs)\n",
    "train_data = glob(main_path+\"/train/*/meta/*.csv\")\n",
    "train_label = glob(main_path+\"/train/*/*.csv\")\n",
    "test_data = glob(main_path+\"/test/meta/*.csv\")\n",
    "\n",
    "train_df = []\n",
    "for i in tqdm(train_data):\n",
    "    name = i.split(\"\\\\\")[-1].split(\".\")[0]\n",
    "    df = pd.read_csv(i)\n",
    "    df[\"이미지\"] = name\n",
    "    case = name.split(\"_\")[0]\n",
    "    label = pd.read_csv(f\"D:/DACON_GROWTH/train/{case}/label.csv\")\n",
    "    label_name = [i.split(\".\")[0] for i in label.img_name]\n",
    "    label.img_name = label_name\n",
    "    leaf_weight = label[label.img_name == name].leaf_weight.values[0]\n",
    "    df[\"무게\"] = leaf_weight\n",
    "    df = df.replace([np.inf, -np.inf], np.nan)\n",
    "    train_df.append(df)\n",
    "\n",
    "train_df = pd.concat(train_df, ignore_index=True)\n",
    "\n",
    "train_df[\"시간2\"] = train_df[\"시간\"].apply(lambda x: x.split(\" \")[-1])\n",
    "golden_time = ['17:40', '17:41', '17:42', '17:43', '17:44', '17:45', '17:46', '17:47', '17:48', '17:49', '17:50',\n",
    "               '17:51', '17:52', '17:53', '17:54', '17:55', '17:56', '17:57', '17:58', '17:59', '18:00', '18:01',\n",
    "               '18:02', '18:03', '18:04', '18:05']\n",
    "golden_dict ={}\n",
    "for e, i in enumerate(train_df[\"시간2\"].unique()):\n",
    "       golden_dict[i] = e\n",
    "train_df[\"순서\"] = train_df[\"시간2\"].apply(lambda x : golden_dict[x])\n",
    "\n",
    "train_df2 = train_df[(train_df[\"순서\"] > 880) & (train_df[\"순서\"] < 930)]\n",
    "\n",
    "train_dfx = train_df2.copy()\n",
    "train_dfx.drop(columns=[\"시간\", \"시간2\"], inplace=True)\n",
    "train_dfx.fillna(0., inplace=True)\n",
    "\n",
    "img2data = {}\n",
    "for i in tqdm(train_dfx['이미지'].unique()):\n",
    "    temp = train_dfx[train_dfx[\"이미지\"]==i]\n",
    "    temp.drop(columns = [\"무게\", \"이미지\"], inplace=True)\n",
    "    img2data[i] = temp.values\n",
    "\n"
   ]
  },
  {
   "cell_type": "code",
   "execution_count": 45,
   "id": "8db6a3fd",
   "metadata": {},
   "outputs": [
    {
     "name": "stderr",
     "output_type": "stream",
     "text": [
      "\n",
      "  0%|                                                                                                                                                                                                       | 0/1592 [00:00<?, ?it/s]\u001b[A\n",
      "  1%|█▌                                                                                                                                                                                           | 13/1592 [00:00<00:12, 126.80it/s]\u001b[A\n",
      "  2%|███                                                                                                                                                                                          | 26/1592 [00:00<00:12, 128.23it/s]\u001b[A\n",
      "  3%|████▋                                                                                                                                                                                        | 40/1592 [00:00<00:11, 130.90it/s]\u001b[A\n",
      "  3%|██████▍                                                                                                                                                                                      | 54/1592 [00:00<00:11, 132.13it/s]\u001b[A\n",
      "  4%|████████                                                                                                                                                                                     | 68/1592 [00:00<00:11, 131.91it/s]\u001b[A\n",
      "  5%|█████████▋                                                                                                                                                                                   | 82/1592 [00:00<00:11, 133.46it/s]\u001b[A\n",
      "  6%|███████████▍                                                                                                                                                                                 | 96/1592 [00:00<00:11, 132.41it/s]\u001b[A\n",
      "  7%|████████████▉                                                                                                                                                                               | 110/1592 [00:00<00:11, 132.13it/s]\u001b[A\n",
      "  8%|██████████████▋                                                                                                                                                                             | 124/1592 [00:00<00:11, 131.18it/s]\u001b[A\n",
      "  9%|████████████████▎                                                                                                                                                                           | 138/1592 [00:01<00:11, 130.91it/s]\u001b[A\n",
      " 10%|█████████████████▉                                                                                                                                                                          | 152/1592 [00:01<00:10, 131.84it/s]\u001b[A\n",
      " 10%|███████████████████▌                                                                                                                                                                        | 166/1592 [00:01<00:10, 132.48it/s]\u001b[A\n",
      " 11%|█████████████████████▎                                                                                                                                                                      | 180/1592 [00:01<00:10, 132.56it/s]\u001b[A\n",
      " 12%|██████████████████████▉                                                                                                                                                                     | 194/1592 [00:01<00:10, 131.88it/s]\u001b[A\n",
      " 13%|████████████████████████▌                                                                                                                                                                   | 208/1592 [00:01<00:10, 131.40it/s]\u001b[A\n",
      " 14%|██████████████████████████▏                                                                                                                                                                 | 222/1592 [00:01<00:10, 132.54it/s]\u001b[A\n",
      " 15%|███████████████████████████▊                                                                                                                                                                | 236/1592 [00:01<00:10, 132.97it/s]\u001b[A\n",
      " 16%|█████████████████████████████▌                                                                                                                                                              | 250/1592 [00:01<00:10, 131.80it/s]\u001b[A\n",
      " 17%|███████████████████████████████▏                                                                                                                                                            | 264/1592 [00:02<00:09, 132.81it/s]\u001b[A\n",
      " 17%|████████████████████████████████▊                                                                                                                                                           | 278/1592 [00:02<00:09, 132.42it/s]\u001b[A\n",
      " 18%|██████████████████████████████████▍                                                                                                                                                         | 292/1592 [00:02<00:10, 128.94it/s]\u001b[A\n",
      " 19%|████████████████████████████████████                                                                                                                                                        | 305/1592 [00:02<00:10, 127.27it/s]\u001b[A\n",
      " 20%|█████████████████████████████████████▌                                                                                                                                                      | 318/1592 [00:02<00:10, 126.08it/s]\u001b[A\n",
      " 21%|███████████████████████████████████████                                                                                                                                                     | 331/1592 [00:02<00:10, 124.90it/s]\u001b[A\n",
      " 22%|████████████████████████████████████████▌                                                                                                                                                   | 344/1592 [00:02<00:10, 124.75it/s]\u001b[A\n",
      " 22%|██████████████████████████████████████████▏                                                                                                                                                 | 357/1592 [00:02<00:10, 121.95it/s]\u001b[A\n",
      " 23%|███████████████████████████████████████████▋                                                                                                                                                | 370/1592 [00:02<00:09, 122.67it/s]\u001b[A\n",
      " 24%|█████████████████████████████████████████████▏                                                                                                                                              | 383/1592 [00:02<00:09, 121.84it/s]\u001b[A\n",
      " 25%|██████████████████████████████████████████████▊                                                                                                                                             | 396/1592 [00:03<00:09, 122.26it/s]\u001b[A\n",
      " 26%|████████████████████████████████████████████████▎                                                                                                                                           | 409/1592 [00:03<00:09, 122.90it/s]\u001b[A\n",
      " 27%|█████████████████████████████████████████████████▊                                                                                                                                          | 422/1592 [00:03<00:09, 119.69it/s]\u001b[A\n",
      " 27%|███████████████████████████████████████████████████▎                                                                                                                                        | 434/1592 [00:03<00:09, 118.28it/s]\u001b[A\n",
      " 28%|████████████████████████████████████████████████████▊                                                                                                                                       | 447/1592 [00:03<00:09, 120.75it/s]\u001b[A\n",
      " 29%|██████████████████████████████████████████████████████▎                                                                                                                                     | 460/1592 [00:03<00:09, 118.87it/s]\u001b[A\n",
      " 30%|███████████████████████████████████████████████████████▋                                                                                                                                    | 472/1592 [00:03<00:09, 118.66it/s]\u001b[A\n",
      " 30%|█████████████████████████████████████████████████████████▎                                                                                                                                  | 485/1592 [00:03<00:09, 120.37it/s]\u001b[A\n",
      " 31%|██████████████████████████████████████████████████████████▊                                                                                                                                 | 498/1592 [00:03<00:08, 122.59it/s]\u001b[A\n",
      " 32%|████████████████████████████████████████████████████████████▎                                                                                                                               | 511/1592 [00:04<00:08, 122.11it/s]\u001b[A\n",
      " 33%|█████████████████████████████████████████████████████████████▉                                                                                                                              | 524/1592 [00:04<00:08, 123.49it/s]\u001b[A\n",
      " 34%|███████████████████████████████████████████████████████████████▍                                                                                                                            | 537/1592 [00:04<00:08, 123.76it/s]\u001b[A\n",
      " 35%|█████████████████████████████████████████████████████████████████                                                                                                                           | 551/1592 [00:04<00:08, 125.77it/s]\u001b[A\n",
      " 35%|██████████████████████████████████████████████████████████████████▌                                                                                                                         | 564/1592 [00:04<00:08, 123.64it/s]\u001b[A\n",
      " 36%|████████████████████████████████████████████████████████████████████▏                                                                                                                       | 577/1592 [00:04<00:08, 125.25it/s]\u001b[A\n",
      " 37%|█████████████████████████████████████████████████████████████████████▊                                                                                                                      | 591/1592 [00:04<00:07, 125.41it/s]\u001b[A\n",
      " 38%|███████████████████████████████████████████████████████████████████████▍                                                                                                                    | 605/1592 [00:04<00:07, 126.89it/s]\u001b[A\n",
      " 39%|████████████████████████████████████████████████████████████████████████▉                                                                                                                   | 618/1592 [00:04<00:07, 126.51it/s]\u001b[A\n",
      " 40%|██████████████████████████████████████████████████████████████████████████▌                                                                                                                 | 631/1592 [00:04<00:07, 126.59it/s]\u001b[A\n",
      " 40%|████████████████████████████████████████████████████████████████████████████                                                                                                                | 644/1592 [00:05<00:07, 126.65it/s]\u001b[A\n",
      " 41%|█████████████████████████████████████████████████████████████████████████████▌                                                                                                              | 657/1592 [00:05<00:07, 125.97it/s]\u001b[A\n",
      " 42%|███████████████████████████████████████████████████████████████████████████████                                                                                                             | 670/1592 [00:05<00:07, 125.15it/s]\u001b[A\n",
      " 43%|████████████████████████████████████████████████████████████████████████████████▊                                                                                                           | 684/1592 [00:05<00:07, 126.73it/s]\u001b[A\n",
      " 44%|██████████████████████████████████████████████████████████████████████████████████▋                                                                                                         | 700/1592 [00:05<00:06, 130.93it/s]\u001b[A\n",
      " 45%|████████████████████████████████████████████████████████████████████████████████████▎                                                                                                       | 714/1592 [00:05<00:06, 127.65it/s]\u001b[A\n",
      " 46%|█████████████████████████████████████████████████████████████████████████████████████▊                                                                                                      | 727/1592 [00:05<00:06, 127.06it/s]\u001b[A\n",
      " 47%|███████████████████████████████████████████████████████████████████████████████████████▌                                                                                                    | 741/1592 [00:05<00:06, 128.73it/s]\u001b[A\n",
      " 47%|█████████████████████████████████████████████████████████████████████████████████████████▏                                                                                                  | 755/1592 [00:05<00:06, 127.81it/s]\u001b[A\n",
      " 48%|██████████████████████████████████████████████████████████████████████████████████████████▋                                                                                                 | 768/1592 [00:06<00:06, 128.22it/s]\u001b[A\n",
      " 49%|████████████████████████████████████████████████████████████████████████████████████████████▎                                                                                               | 782/1592 [00:06<00:06, 128.86it/s]\u001b[A\n",
      " 50%|█████████████████████████████████████████████████████████████████████████████████████████████▉                                                                                              | 795/1592 [00:06<00:06, 127.89it/s]\u001b[A\n",
      " 51%|███████████████████████████████████████████████████████████████████████████████████████████████▌                                                                                            | 809/1592 [00:06<00:06, 128.99it/s]\u001b[A\n",
      " 52%|█████████████████████████████████████████████████████████████████████████████████████████████████▏                                                                                          | 823/1592 [00:06<00:06, 127.98it/s]\u001b[A\n",
      " 53%|██████████████████████████████████████████████████████████████████████████████████████████████████▊                                                                                         | 837/1592 [00:06<00:05, 128.69it/s]\u001b[A\n",
      " 53%|████████████████████████████████████████████████████████████████████████████████████████████████████▍                                                                                       | 850/1592 [00:06<00:05, 128.85it/s]\u001b[A\n",
      " 54%|█████████████████████████████████████████████████████████████████████████████████████████████████████▉                                                                                      | 863/1592 [00:06<00:05, 127.87it/s]\u001b[A\n",
      " 55%|███████████████████████████████████████████████████████████████████████████████████████████████████████▌                                                                                    | 877/1592 [00:06<00:05, 128.99it/s]\u001b[A\n",
      " 56%|█████████████████████████████████████████████████████████████████████████████████████████████████████████                                                                                   | 890/1592 [00:06<00:05, 129.06it/s]\u001b[A\n",
      " 57%|██████████████████████████████████████████████████████████████████████████████████████████████████████████▋                                                                                 | 903/1592 [00:07<00:05, 127.66it/s]\u001b[A\n",
      " 58%|████████████████████████████████████████████████████████████████████████████████████████████████████████████▏                                                                               | 916/1592 [00:07<00:05, 122.55it/s]\u001b[A\n",
      " 58%|█████████████████████████████████████████████████████████████████████████████████████████████████████████████▋                                                                              | 929/1592 [00:07<00:05, 123.43it/s]\u001b[A\n"
     ]
    },
    {
     "name": "stderr",
     "output_type": "stream",
     "text": [
      " 59%|███████████████████████████████████████████████████████████████████████████████████████████████████████████████▏                                                                            | 942/1592 [00:07<00:05, 123.72it/s]\u001b[A\n",
      " 60%|████████████████████████████████████████████████████████████████████████████████████████████████████████████████▊                                                                           | 955/1592 [00:07<00:05, 124.62it/s]\u001b[A\n",
      " 61%|██████████████████████████████████████████████████████████████████████████████████████████████████████████████████▍                                                                         | 969/1592 [00:07<00:04, 126.71it/s]\u001b[A\n",
      " 62%|███████████████████████████████████████████████████████████████████████████████████████████████████████████████████▉                                                                        | 982/1592 [00:07<00:04, 127.09it/s]\u001b[A\n",
      " 62%|█████████████████████████████████████████████████████████████████████████████████████████████████████████████████████▌                                                                      | 995/1592 [00:07<00:04, 127.36it/s]\u001b[A\n",
      " 63%|██████████████████████████████████████████████████████████████████████████████████████████████████████████████████████▍                                                                    | 1008/1592 [00:07<00:04, 126.11it/s]\u001b[A\n",
      " 64%|███████████████████████████████████████████████████████████████████████████████████████████████████████████████████████▉                                                                   | 1021/1592 [00:08<00:04, 126.31it/s]\u001b[A\n",
      " 65%|█████████████████████████████████████████████████████████████████████████████████████████████████████████████████████████▍                                                                 | 1034/1592 [00:08<00:04, 127.17it/s]\u001b[A\n",
      " 66%|██████████████████████████████████████████████████████████████████████████████████████████████████████████████████████████▉                                                                | 1047/1592 [00:08<00:04, 127.78it/s]\u001b[A\n",
      " 67%|████████████████████████████████████████████████████████████████████████████████████████████████████████████████████████████▌                                                              | 1060/1592 [00:08<00:04, 126.75it/s]\u001b[A\n",
      " 67%|██████████████████████████████████████████████████████████████████████████████████████████████████████████████████████████████▏                                                            | 1074/1592 [00:08<00:04, 128.22it/s]\u001b[A\n",
      " 68%|███████████████████████████████████████████████████████████████████████████████████████████████████████████████████████████████▋                                                           | 1087/1592 [00:08<00:04, 121.92it/s]\u001b[A\n",
      " 69%|█████████████████████████████████████████████████████████████████████████████████████████████████████████████████████████████████▏                                                         | 1100/1592 [00:08<00:04, 122.99it/s]\u001b[A\n",
      " 70%|██████████████████████████████████████████████████████████████████████████████████████████████████████████████████████████████████▋                                                        | 1113/1592 [00:08<00:03, 124.78it/s]\u001b[A\n",
      " 71%|████████████████████████████████████████████████████████████████████████████████████████████████████████████████████████████████████▎                                                      | 1126/1592 [00:08<00:03, 124.67it/s]\u001b[A\n",
      " 72%|█████████████████████████████████████████████████████████████████████████████████████████████████████████████████████████████████████▊                                                     | 1139/1592 [00:08<00:03, 124.25it/s]\u001b[A\n",
      " 72%|███████████████████████████████████████████████████████████████████████████████████████████████████████████████████████████████████████▎                                                   | 1152/1592 [00:09<00:03, 124.30it/s]\u001b[A\n",
      " 73%|████████████████████████████████████████████████████████████████████████████████████████████████████████████████████████████████████████▉                                                  | 1166/1592 [00:09<00:03, 124.41it/s]\u001b[A\n",
      " 74%|██████████████████████████████████████████████████████████████████████████████████████████████████████████████████████████████████████████▌                                                | 1180/1592 [00:09<00:03, 126.54it/s]\u001b[A\n",
      " 75%|████████████████████████████████████████████████████████████████████████████████████████████████████████████████████████████████████████████▏                                              | 1193/1592 [00:09<00:03, 126.26it/s]\u001b[A\n",
      " 76%|█████████████████████████████████████████████████████████████████████████████████████████████████████████████████████████████████████████████▋                                             | 1206/1592 [00:09<00:03, 125.01it/s]\u001b[A\n",
      " 77%|███████████████████████████████████████████████████████████████████████████████████████████████████████████████████████████████████████████████▎                                           | 1220/1592 [00:09<00:02, 126.62it/s]\u001b[A\n",
      " 77%|████████████████████████████████████████████████████████████████████████████████████████████████████████████████████████████████████████████████▊                                          | 1233/1592 [00:09<00:02, 124.93it/s]\u001b[A\n",
      " 78%|██████████████████████████████████████████████████████████████████████████████████████████████████████████████████████████████████████████████████▎                                        | 1246/1592 [00:09<00:02, 125.12it/s]\u001b[A\n",
      " 79%|████████████████████████████████████████████████████████████████████████████████████████████████████████████████████████████████████████████████████                                       | 1260/1592 [00:09<00:02, 124.98it/s]\u001b[A\n",
      " 80%|█████████████████████████████████████████████████████████████████████████████████████████████████████████████████████████████████████████████████████▋                                     | 1274/1592 [00:10<00:02, 127.56it/s]\u001b[A\n",
      " 81%|███████████████████████████████████████████████████████████████████████████████████████████████████████████████████████████████████████████████████████▎                                   | 1288/1592 [00:10<00:02, 128.81it/s]\u001b[A\n",
      " 82%|████████████████████████████████████████████████████████████████████████████████████████████████████████████████████████████████████████████████████████▊                                  | 1301/1592 [00:10<00:02, 127.86it/s]\u001b[A\n",
      " 83%|██████████████████████████████████████████████████████████████████████████████████████████████████████████████████████████████████████████████████████████▍                                | 1315/1592 [00:10<00:02, 129.32it/s]\u001b[A\n",
      " 83%|███████████████████████████████████████████████████████████████████████████████████████████████████████████████████████████████████████████████████████████▉                               | 1328/1592 [00:10<00:02, 128.94it/s]\u001b[A\n",
      " 84%|█████████████████████████████████████████████████████████████████████████████████████████████████████████████████████████████████████████████████████████████▌                             | 1341/1592 [00:10<00:02, 122.10it/s]\u001b[A\n",
      " 85%|███████████████████████████████████████████████████████████████████████████████████████████████████████████████████████████████████████████████████████████████                            | 1354/1592 [00:10<00:01, 124.12it/s]\u001b[A\n",
      " 86%|████████████████████████████████████████████████████████████████████████████████████████████████████████████████████████████████████████████████████████████████▌                          | 1367/1592 [00:10<00:01, 115.28it/s]\u001b[A\n",
      " 87%|█████████████████████████████████████████████████████████████████████████████████████████████████████████████████████████████████████████████████████████████████▉                         | 1379/1592 [00:10<00:01, 110.78it/s]\u001b[A\n",
      " 87%|███████████████████████████████████████████████████████████████████████████████████████████████████████████████████████████████████████████████████████████████████▍                       | 1391/1592 [00:11<00:01, 107.43it/s]\u001b[A\n",
      " 88%|████████████████████████████████████████████████████████████████████████████████████████████████████████████████████████████████████████████████████████████████████▋                      | 1402/1592 [00:11<00:01, 101.33it/s]\u001b[A\n",
      " 89%|██████████████████████████████████████████████████████████████████████████████████████████████████████████████████████████████████████████████████████████████████████▊                     | 1413/1592 [00:11<00:01, 98.87it/s]\u001b[A\n",
      " 89%|████████████████████████████████████████████████████████████████████████████████████████████████████████████████████████████████████████████████████████████████████████                    | 1423/1592 [00:11<00:01, 95.09it/s]\u001b[A\n",
      " 90%|████████████████████████████████████████████████████████████████████████████████████████████████████████████████████████████████████████████████████████████████████████▋                  | 1436/1592 [00:11<00:01, 104.22it/s]\u001b[A\n",
      " 91%|██████████████████████████████████████████████████████████████████████████████████████████████████████████████████████████████████████████████████████████████████████████                 | 1448/1592 [00:11<00:01, 107.23it/s]\u001b[A\n",
      " 92%|███████████████████████████████████████████████████████████████████████████████████████████████████████████████████████████████████████████████████████████████████████████▌               | 1461/1592 [00:11<00:01, 113.42it/s]\u001b[A\n",
      " 93%|█████████████████████████████████████████████████████████████████████████████████████████████████████████████████████████████████████████████████████████████████████████████▏             | 1474/1592 [00:11<00:01, 117.95it/s]\u001b[A\n",
      " 93%|██████████████████████████████████████████████████████████████████████████████████████████████████████████████████████████████████████████████████████████████████████████████▌            | 1486/1592 [00:11<00:00, 117.67it/s]\u001b[A\n",
      " 94%|████████████████████████████████████████████████████████████████████████████████████████████████████████████████████████████████████████████████████████████████████████████████           | 1499/1592 [00:12<00:00, 120.37it/s]\u001b[A\n",
      " 95%|█████████████████████████████████████████████████████████████████████████████████████████████████████████████████████████████████████████████████████████████████████████████████▌         | 1512/1592 [00:12<00:00, 122.62it/s]\u001b[A\n",
      " 96%|███████████████████████████████████████████████████████████████████████████████████████████████████████████████████████████████████████████████████████████████████████████████████▏       | 1525/1592 [00:12<00:00, 123.17it/s]\u001b[A\n",
      " 97%|████████████████████████████████████████████████████████████████████████████████████████████████████████████████████████████████████████████████████████████████████████████████████▋      | 1538/1592 [00:12<00:00, 118.21it/s]\u001b[A\n",
      " 97%|██████████████████████████████████████████████████████████████████████████████████████████████████████████████████████████████████████████████████████████████████████████████████████     | 1550/1592 [00:12<00:00, 112.32it/s]\u001b[A\n",
      " 98%|███████████████████████████████████████████████████████████████████████████████████████████████████████████████████████████████████████████████████████████████████████████████████████▌   | 1563/1592 [00:12<00:00, 116.71it/s]\u001b[A\n",
      " 99%|█████████████████████████████████████████████████████████████████████████████████████████████████████████████████████████████████████████████████████████████████████████████████████████  | 1575/1592 [00:12<00:00, 110.16it/s]\u001b[A\n",
      "100%|███████████████████████████████████████████████████████████████████████████████████████████████████████████████████████████████████████████████████████████████████████████████████████████| 1592/1592 [00:12<00:00, 123.31it/s]\u001b[A\n"
     ]
    }
   ],
   "source": [
    "img2data = {}\n",
    "for i in tqdm(train_dfx['이미지'].unique()):\n",
    "    temp = train_dfx[train_dfx[\"이미지\"]==i]\n",
    "    temp.drop(columns = [\"무게\", \"이미지\"], inplace=True)\n",
    "    img2data[i] = np.array(temp.values, dtype=np.float32)"
   ]
  },
  {
   "cell_type": "code",
   "execution_count": 50,
   "id": "ff5bec0b",
   "metadata": {},
   "outputs": [],
   "source": [
    "class PYTORCH_DATASET(nn.Module):\n",
    "    def __init__(self, path: list, img2weight: dict, imgs: np.array, img2data: dict,  \\\n",
    "                 transform=None):\n",
    "        super(PYTORCH_DATASET, self).__init__()\n",
    "        self.path = path\n",
    "        self.imgs = imgs\n",
    "\n",
    "        self.transform = transform\n",
    "        self.img2weight = img2weight\n",
    "        self.img2data = img2data\n",
    "\n",
    "    def __len__(self):\n",
    "        return len(self.path)\n",
    "\n",
    "    def __getitem__(self, idx):\n",
    "        before_img = self.imgs[idx]\n",
    "        img_path = self.path[idx]\n",
    "        img_path = img_path.split(\"\\\\\")[-1].split(\".\")[0]\n",
    "        df_index = self.img2data[img_path]\n",
    "        df_label = self.img2weight[img_path]\n",
    "\n",
    "        after_img = self.transform(image=before_img)[\"image\"]\n",
    "\n",
    "        return {\"사진\": after_img, \"정보\": df_index, \"상표\": df_label}\n",
    "\n",
    "\n",
    "class PYTORCH_PREDICTSET(nn.Module):\n",
    "    def __init__(self, path: list,  imgs: np.array, img2data: dict, \\\n",
    "                 transform=None):\n",
    "        super(PYTORCH_PREDICTSET, self).__init__()\n",
    "        self.path = path\n",
    "        self.imgs = imgs\n",
    "\n",
    "        self.transform = transform\n",
    "        self.img2data = img2data\n",
    "\n",
    "    def __len__(self):\n",
    "        return len(self.path)\n",
    "\n",
    "    def __getitem__(self, idx):\n",
    "        before_img = self.imgs[idx]\n",
    "        img_path = self.path[idx]\n",
    "        img_path = img_path.split(\"\\\\\")[-1].split(\".\")[0]\n",
    "        df_index = self.img2data[img_path]\n",
    "        after_img = self.transform(image=before_img)[\"image\"]\n",
    "        return {\"사진\": after_img, \"정보\": df_index}\n",
    "\n",
    "class PYTORCH_AUGMENTSET(nn.Module):\n",
    "    def __init__(self, aug_imgs: np.array, transform_ori = None, transform_aug=None):\n",
    "        super(PYTORCH_AUGMENTSET, self).__init__()\n",
    "        self.aug_imgs = aug_imgs\n",
    "        self.transform_ori = transform_ori\n",
    "        self.transform_aug = transform_aug\n",
    "\n",
    "    def __len__(self):\n",
    "        return len(self.aug_imgs)\n",
    "\n",
    "    def __getitem__(self, idx):\n",
    "        before_img = self.aug_imgs[idx]\n",
    "        after_img = self.transform_aug(image=before_img)[\"image\"]\n",
    "        before_img = self.transform_ori(image=before_img)[\"image\"]\n",
    "        temp_data = torch.FloatTensor(torch.zeros([49,19]))\n",
    "\n",
    "        return {\"원본\": before_img, \"확장\": after_img, \"정보\": temp_data}"
   ]
  },
  {
   "cell_type": "code",
   "execution_count": 51,
   "id": "cbdc1e74",
   "metadata": {},
   "outputs": [],
   "source": [
    "\n",
    "image_size = 224\n",
    "\n",
    "train_mode= albu.Compose([\n",
    "    albu.RandomResizedCrop(height=image_size, width=image_size,\n",
    "                           scale=(0.25, 1.0), ratio=(0.75, 1.3333333333333333),\n",
    "                           interpolation=1, p=0.9),\n",
    "    albu.ShiftScaleRotate(shift_limit=0.05, scale_limit=0.1,\n",
    "                          rotate_limit=30, interpolation=1, border_mode=0, value=0, p=0.25),\n",
    "    albu.HorizontalFlip(p=0.5),\n",
    "    albu.VerticalFlip(p=0.5),\n",
    "    albu.OneOf([\n",
    "        albu.MotionBlur(p=.2),\n",
    "        albu.MedianBlur(blur_limit=3, p=0.1),\n",
    "        albu.Blur(blur_limit=3, p=0.1),\n",
    "    ], p=0.25),\n",
    "    albu.OneOf([\n",
    "        albu.CLAHE(clip_limit=2),\n",
    "        albu.Sharpen(),\n",
    "        albu.Emboss(),\n",
    "        albu.RandomBrightnessContrast(),\n",
    "    ], p=0.25),\n",
    "    albu.CoarseDropout(max_holes=8, max_height=8, max_width=8, fill_value=0, p=0.25),\n",
    "    albu.Normalize(mean=IMAGENET_DEFAULT_MEAN, std=IMAGENET_DEFAULT_STD),\n",
    "    ToTensorV2(),\n",
    "])\n",
    "\n",
    "test_mode = albu.Compose([\n",
    "    #                 albu.Resize(self.image_size, self.image_size),\n",
    "    albu.Normalize(mean=IMAGENET_DEFAULT_MEAN, std=IMAGENET_DEFAULT_STD),\n",
    "    ToTensorV2(),\n",
    "])\n",
    "\n",
    "import torch\n",
    "import numpy as np\n",
    "from torch import nn\n",
    "from einops.layers.torch import Rearrange\n",
    "\n",
    "\n",
    "class FeedForward(nn.Module):\n",
    "    def __init__(self, dim, hidden_dim, dropout=0.):\n",
    "        super().__init__()\n",
    "        self.net = nn.Sequential(\n",
    "            nn.Linear(dim, hidden_dim),\n",
    "            nn.GELU(),\n",
    "            nn.Dropout(dropout),\n",
    "            nn.Linear(hidden_dim, dim),\n",
    "            nn.Dropout(dropout)\n",
    "        )\n",
    "\n",
    "    def forward(self, x):\n",
    "        return self.net(x)\n",
    "\n",
    "\n",
    "class MixerBlock(nn.Module):\n",
    "\n",
    "    def __init__(self, dim, num_sequence, token_dim, channel_dim, dropout=0.):\n",
    "        super().__init__()\n",
    "\n",
    "        self.token_mix = nn.Sequential(\n",
    "            nn.LayerNorm(dim),\n",
    "            Rearrange('b n d -> b d n'),\n",
    "            FeedForward(num_sequence, token_dim, dropout),\n",
    "            Rearrange('b d n -> b n d')\n",
    "        )\n",
    "\n",
    "        self.channel_mix = nn.Sequential(\n",
    "            nn.LayerNorm(dim),\n",
    "            FeedForward(dim, channel_dim, dropout),\n",
    "        )\n",
    "\n",
    "    def forward(self, x):\n",
    "        x = x + self.token_mix(x)\n",
    "\n",
    "        x = x + self.channel_mix(x)\n",
    "\n",
    "        return x\n",
    "\n",
    "class MLPMixer(nn.Module):\n",
    "\n",
    "    def __init__(self):\n",
    "        super().__init__()\n",
    "\n",
    "        self.dim = 19\n",
    "        self.num_sequence = 49\n",
    "        self.token_dim = 64\n",
    "        self.channel_dim = 128\n",
    "        self.mixer_blocks = nn.ModuleList([])\n",
    "        self.depth = 1\n",
    "        for _ in range(self.depth):\n",
    "            self.mixer_blocks.append(MixerBlock(self.dim, self.num_sequence, self.token_dim, self.channel_dim))\n",
    "        self.layer_norm = nn.LayerNorm(self.dim)\n",
    "\n",
    "    def forward(self, x):\n",
    "        for mixer_block in self.mixer_blocks:\n",
    "            x = mixer_block(x)\n",
    "\n",
    "        x = self.layer_norm(x)\n",
    "\n",
    "        x = x.mean(dim=1)\n",
    "\n",
    "        return x\n",
    "    \n",
    "class CNN_RNN(nn.Module):\n",
    "    def __init__(self):\n",
    "        super(CNN_RNN, self).__init__()\n",
    "        self.model = timm.create_model(\"efficientnet_b0\", pretrained=True, \\\n",
    "                                       num_classes=1)\n",
    "        self.meta = MLPMixer()\n",
    "        self.avg = nn.AdaptiveAvgPool2d((1, 1))\n",
    "        self.linear = nn.Linear(1299, 256)\n",
    "        self.output = nn.Linear(256, 1)\n",
    "        self.relu = nn.ReLU()\n",
    "        self.dropout = nn.Dropout(0.9)\n",
    "        self.dropout1 = nn.Dropout(0.65)\n",
    "        self.dropout2 = nn.Dropout(0.3)\n",
    "        self.dropout3 = nn.Dropout(0)\n",
    "\n",
    "    def forward(self,  x, x2, training):\n",
    "        x = self.model.forward_features(x)\n",
    "        x = self.avg(x)\n",
    "        x = x.flatten()\n",
    "        x = x.view(-1,  1280)\n",
    "        x = self.dropout(x)\n",
    "        x2 = self.meta(x2)\n",
    "        if training:\n",
    "            c = random.choice([0, 0, 0, 1, 2, 3])\n",
    "            if c == 0:\n",
    "                pass\n",
    "            elif c == 1:\n",
    "                x2 = self.dropout1(x2)\n",
    "            elif c == 2:\n",
    "                x2 = self.dropout2(x2)\n",
    "            elif c == 3:\n",
    "                x2 = self.dropout3(x2)\n",
    "        x = torch.cat([x, x2], dim=-1)\n",
    "        x = self.linear(x)\n",
    "        x = self.relu(x)\n",
    "        x = self.output(x)\n",
    "        return x\n"
   ]
  },
  {
   "cell_type": "code",
   "execution_count": 95,
   "id": "0ed991fb",
   "metadata": {},
   "outputs": [],
   "source": [
    "from pytorch_lightning.trainer.supporters import CombinedLoader\n",
    "from adabelief_pytorch import AdaBelief\n",
    "\n",
    "class LIGHTNING_MODEL(pl.LightningModule):\n",
    "    def __init__(self, train_datasest, val_dataset, augment_dataset, predict_dataset):\n",
    "        super(LIGHTNING_MODEL, self).__init__()\n",
    "        self.model = CNN_RNN()\n",
    "        self.train_nmae = NMAE()\n",
    "        self.valid_nmae = NMAE()\n",
    "        self.augment_dataset= augment_dataset\n",
    "        self.train_dataset = train_dataset\n",
    "        self.val_dataset = val_dataset\n",
    "        self.predict_dataset = predict_dataset\n",
    "        self.bestnmae = 10.\n",
    "        \n",
    "    def forward(self, x):\n",
    "        output = self.model(x)\n",
    "        return output\n",
    "    \n",
    "    def train_dataloader(self):\n",
    "        loaders = {\"a\": DataLoader(self.train_dataset, shuffle=True, batch_size=32, num_workers=0), \\\n",
    "                   \"b\": DataLoader(self.augment_dataset, shuffle=True, batch_size=8, num_workers=0)}\n",
    "        combined_loaders = CombinedLoader(loaders, mode=\"max_size_cycle\")\n",
    "        return combined_loaders\n",
    "    \n",
    "    def val_dataloader(self):\n",
    "        return DataLoader(self.val_dataset, shuffle=False, batch_size=32, num_workers=0)\n",
    "    \n",
    "    def predict_dataloader(self):\n",
    "        return DataLoader(self.predict_dataset, shuffle=False, batch_size=32, num_workers=0)\n",
    "    \n",
    "    def configure_optimizers(self):\n",
    "        optimizer = torch.optim.Adam(self.model.parameters(), lr=1e-3)\n",
    "        return optimizer\n",
    "\n",
    "    def training_step(self, train_batch, batch_idx):\n",
    "        ori_batch = train_batch[\"a\"]\n",
    "        aug_batch = train_batch[\"b\"]\n",
    "        img = ori_batch[\"사진\"]\n",
    "        data = ori_batch[\"정보\"]\n",
    "        label = ori_batch[\"상표\"]\n",
    "        \n",
    "        ori = aug_batch[\"원본\"]\n",
    "        ext = aug_batch[\"확장\"]\n",
    "        temp_data = aug_batch[\"정보\"]\n",
    "\n",
    "        pred = self.model(img, data, training=True)\n",
    "        pred = pred.view(-1)\n",
    "        label = label.view(-1)\n",
    "        \n",
    "        train_loss = nn.L1Loss()(pred, label)\n",
    "        self.log(\"train_loss\", train_loss)\n",
    "        \n",
    "        train_nmae = self.train_nmae(pred, label)\n",
    "        self.log('train_NMAE', train_nmae)\n",
    "        \n",
    "        with torch.no_grad():\n",
    "            ori_out = self.model(ori, temp_data, training=False)\n",
    "            ext_out = self.model(ext, temp_data, training=False)\n",
    "        con_loss = nn.L1Loss()(ori_out, ext_out)\n",
    "        con_loss = 0.25 * con_loss \n",
    "        self.log('con_loss', con_loss)\n",
    "        loss = train_loss + con_loss\n",
    "        self.log('loss', loss)\n",
    "        return train_loss\n",
    "\n",
    "    def training_epoch_end(self, outputs):\n",
    "        train_nmae = self.train_nmae.compute()\n",
    "        self.log(\"epoch_train_nmae\", train_nmae)\n",
    "        self.train_nmae.reset()\n",
    "        print(f\"training nmae: {train_nmae:.4}\")\n",
    "        \n",
    "        \n",
    "    def validation_step(self, val_batch, batch_idx):\n",
    "        img = val_batch[\"사진\"]\n",
    "        data = val_batch[\"정보\"]\n",
    "        label = val_batch[\"상표\"]\n",
    "\n",
    "        pred = self.model(img, data, training=False)\n",
    "        pred = pred.view(-1)\n",
    "        label = label.view(-1)\n",
    "        loss = nn.L1Loss()(pred, label)\n",
    "        self.log(\"val_loss\", loss)\n",
    "        self.valid_nmae.update(pred, label)\n",
    "        return loss\n",
    "\n",
    "    def validation_epoch_end(self, outputs):\n",
    "        val_nmae = self.valid_nmae.compute()\n",
    "        self.log(\"val_nmae\", val_nmae)\n",
    "        ext = val_nmae.item()\n",
    "        if ext < self.bestnmae:\n",
    "            self.bestnmae = ext\n",
    "        self.valid_nmae.reset()\n",
    "        print(f\"validation nmae: {val_nmae:.4}\")\n",
    "\n",
    "    def predict_step(self, batch, batch_idx, dataloader_idx=0):\n",
    "        img = batch[\"사진\"]\n",
    "        data = batch[\"정보\"]\n",
    "        pred = self.model(img, data, training=False).unsqueeze(0)\n",
    "        return pred\n"
   ]
  },
  {
   "cell_type": "code",
   "execution_count": 71,
   "id": "abe00cf7",
   "metadata": {},
   "outputs": [],
   "source": [
    "train_path = np.array(train_path)\n",
    "train_imgs = np.array(train_imgs)"
   ]
  },
  {
   "cell_type": "code",
   "execution_count": 28,
   "id": "c54d5c83",
   "metadata": {},
   "outputs": [],
   "source": [
    "#########################################################\n",
    "'''validation 성능평가용'''\n",
    "#########################################################\n",
    "path_train = []\n",
    "path_test = []\n",
    "img_train = []\n",
    "img_test = []\n",
    "path_valid = []\n",
    "img_valid = []\n",
    "\n",
    "for img, path, key in zip(train_imgs, train_path, img2weight.keys()):\n",
    "    if (len(path_train) < 900) or (key in train_key):\n",
    "        path_train.append(path)\n",
    "        img_train.append(img)\n",
    "for img, path, key in zip(train_imgs, train_path, img2weight.keys()):\n",
    "    if (path not in path_train) and (len(path_valid)<200):\n",
    "        path_valid.append(path)\n",
    "        img_valid.append(img)\n",
    "for img, path, key in zip(train_imgs, train_path, img2weight.keys()):\n",
    "    if (path not in path_train) and (path not in path_valid):\n",
    "        path_test.append(path)\n",
    "        img_test.append(img)\n",
    "        \n",
    "path_train = np.array(path_train)\n",
    "path_test = np.array(path_test)\n",
    "img_train = np.array(img_train)\n",
    "img_test = np.array(img_test)\n",
    "path_valid = np.array(path_valid)\n",
    "img_valid = np.array(img_valid)\n",
    "\n",
    "train_dataset = PYTORCH_DATASET(path=path_train, img2weight=img2weight, imgs=img_train, img2data=img2data,\\\n",
    "                                            transform=train_mode)\n",
    "\n",
    "valid_dataset = PYTORCH_DATASET(path=path_valid, img2weight=img2weight, imgs=img_valid, img2data=img2data,\\\n",
    "                                            transform=test_mode)\n",
    "\n",
    "augment_dataset = PYTORCH_AUGMENTSET(aug_imgs=augment_imgs, transform_ori=test_mode, transform_aug=train_mode)\n",
    "\n",
    "test_dataset = PYTORCH_PREDICTSET(path=path_test, imgs=img_test, img2data=img2data, \\\n",
    "                                    transform=test_mode)\n"
   ]
  },
  {
   "cell_type": "code",
   "execution_count": 96,
   "id": "e2bd6641",
   "metadata": {},
   "outputs": [
    {
     "name": "stderr",
     "output_type": "stream",
     "text": [
      "Using 16bit native Automatic Mixed Precision (AMP)\n",
      "GPU available: True, used: True\n",
      "TPU available: False, using: 0 TPU cores\n",
      "IPU available: False, using: 0 IPUs\n",
      "HPU available: False, using: 0 HPUs\n",
      "LOCAL_RANK: 0 - CUDA_VISIBLE_DEVICES: [0]\n",
      "\n",
      "  | Name            | Type               | Params\n",
      "-------------------------------------------------------\n",
      "0 | model           | CNN_RNN            | 4.4 M \n",
      "1 | train_nmae      | NMAE               | 0     \n",
      "2 | valid_nmae      | NMAE               | 0     \n",
      "3 | augment_dataset | PYTORCH_AUGMENTSET | 0     \n",
      "4 | train_dataset   | PYTORCH_DATASET    | 0     \n",
      "5 | val_dataset     | PYTORCH_DATASET    | 0     \n",
      "6 | predict_dataset | PYTORCH_PREDICTSET | 0     \n",
      "-------------------------------------------------------\n",
      "4.4 M     Trainable params\n",
      "0         Non-trainable params\n",
      "4.4 M     Total params\n",
      "8.707     Total estimated model params size (MB)\n"
     ]
    },
    {
     "name": "stdout",
     "output_type": "stream",
     "text": [
      "1\n"
     ]
    },
    {
     "data": {
      "application/vnd.jupyter.widget-view+json": {
       "model_id": "",
       "version_major": 2,
       "version_minor": 0
      },
      "text/plain": [
       "Sanity Checking: 0it [00:00, ?it/s]"
      ]
     },
     "metadata": {},
     "output_type": "display_data"
    },
    {
     "name": "stdout",
     "output_type": "stream",
     "text": [
      "validation nmae: 1.001\n"
     ]
    },
    {
     "data": {
      "application/vnd.jupyter.widget-view+json": {
       "model_id": "1bcd34e34ff24355b1ba2988f92fb140",
       "version_major": 2,
       "version_minor": 0
      },
      "text/plain": [
       "Training: 0it [00:00, ?it/s]"
      ]
     },
     "metadata": {},
     "output_type": "display_data"
    },
    {
     "data": {
      "application/vnd.jupyter.widget-view+json": {
       "model_id": "",
       "version_major": 2,
       "version_minor": 0
      },
      "text/plain": [
       "Validation: 0it [00:00, ?it/s]"
      ]
     },
     "metadata": {},
     "output_type": "display_data"
    },
    {
     "name": "stdout",
     "output_type": "stream",
     "text": [
      "validation nmae: 0.3865\n",
      "training nmae: 0.5866\n"
     ]
    },
    {
     "data": {
      "application/vnd.jupyter.widget-view+json": {
       "model_id": "",
       "version_major": 2,
       "version_minor": 0
      },
      "text/plain": [
       "Validation: 0it [00:00, ?it/s]"
      ]
     },
     "metadata": {},
     "output_type": "display_data"
    },
    {
     "name": "stdout",
     "output_type": "stream",
     "text": [
      "validation nmae: 0.1132\n",
      "training nmae: 0.3199\n"
     ]
    },
    {
     "data": {
      "application/vnd.jupyter.widget-view+json": {
       "model_id": "",
       "version_major": 2,
       "version_minor": 0
      },
      "text/plain": [
       "Validation: 0it [00:00, ?it/s]"
      ]
     },
     "metadata": {},
     "output_type": "display_data"
    },
    {
     "name": "stdout",
     "output_type": "stream",
     "text": [
      "validation nmae: 0.1872\n",
      "training nmae: 0.261\n"
     ]
    },
    {
     "data": {
      "application/vnd.jupyter.widget-view+json": {
       "model_id": "",
       "version_major": 2,
       "version_minor": 0
      },
      "text/plain": [
       "Validation: 0it [00:00, ?it/s]"
      ]
     },
     "metadata": {},
     "output_type": "display_data"
    },
    {
     "name": "stdout",
     "output_type": "stream",
     "text": [
      "validation nmae: 0.2373\n",
      "training nmae: 0.2375\n"
     ]
    },
    {
     "data": {
      "application/vnd.jupyter.widget-view+json": {
       "model_id": "",
       "version_major": 2,
       "version_minor": 0
      },
      "text/plain": [
       "Validation: 0it [00:00, ?it/s]"
      ]
     },
     "metadata": {},
     "output_type": "display_data"
    },
    {
     "name": "stdout",
     "output_type": "stream",
     "text": [
      "validation nmae: 0.1232\n",
      "training nmae: 0.2132\n"
     ]
    },
    {
     "data": {
      "application/vnd.jupyter.widget-view+json": {
       "model_id": "",
       "version_major": 2,
       "version_minor": 0
      },
      "text/plain": [
       "Validation: 0it [00:00, ?it/s]"
      ]
     },
     "metadata": {},
     "output_type": "display_data"
    },
    {
     "name": "stdout",
     "output_type": "stream",
     "text": [
      "validation nmae: 0.2243\n",
      "training nmae: 0.208\n"
     ]
    },
    {
     "data": {
      "application/vnd.jupyter.widget-view+json": {
       "model_id": "",
       "version_major": 2,
       "version_minor": 0
      },
      "text/plain": [
       "Validation: 0it [00:00, ?it/s]"
      ]
     },
     "metadata": {},
     "output_type": "display_data"
    },
    {
     "name": "stdout",
     "output_type": "stream",
     "text": [
      "validation nmae: 0.1064\n",
      "training nmae: 0.2018\n"
     ]
    },
    {
     "data": {
      "application/vnd.jupyter.widget-view+json": {
       "model_id": "",
       "version_major": 2,
       "version_minor": 0
      },
      "text/plain": [
       "Validation: 0it [00:00, ?it/s]"
      ]
     },
     "metadata": {},
     "output_type": "display_data"
    },
    {
     "name": "stdout",
     "output_type": "stream",
     "text": [
      "validation nmae: 0.2297\n",
      "training nmae: 0.1928\n"
     ]
    },
    {
     "data": {
      "application/vnd.jupyter.widget-view+json": {
       "model_id": "",
       "version_major": 2,
       "version_minor": 0
      },
      "text/plain": [
       "Validation: 0it [00:00, ?it/s]"
      ]
     },
     "metadata": {},
     "output_type": "display_data"
    },
    {
     "name": "stdout",
     "output_type": "stream",
     "text": [
      "validation nmae: 0.1123\n",
      "training nmae: 0.1917\n"
     ]
    },
    {
     "data": {
      "application/vnd.jupyter.widget-view+json": {
       "model_id": "",
       "version_major": 2,
       "version_minor": 0
      },
      "text/plain": [
       "Validation: 0it [00:00, ?it/s]"
      ]
     },
     "metadata": {},
     "output_type": "display_data"
    },
    {
     "name": "stdout",
     "output_type": "stream",
     "text": [
      "validation nmae: 0.159\n",
      "training nmae: 0.1738\n"
     ]
    },
    {
     "data": {
      "application/vnd.jupyter.widget-view+json": {
       "model_id": "",
       "version_major": 2,
       "version_minor": 0
      },
      "text/plain": [
       "Validation: 0it [00:00, ?it/s]"
      ]
     },
     "metadata": {},
     "output_type": "display_data"
    },
    {
     "name": "stdout",
     "output_type": "stream",
     "text": [
      "validation nmae: 0.103\n",
      "training nmae: 0.1708\n"
     ]
    },
    {
     "data": {
      "application/vnd.jupyter.widget-view+json": {
       "model_id": "",
       "version_major": 2,
       "version_minor": 0
      },
      "text/plain": [
       "Validation: 0it [00:00, ?it/s]"
      ]
     },
     "metadata": {},
     "output_type": "display_data"
    },
    {
     "name": "stdout",
     "output_type": "stream",
     "text": [
      "validation nmae: 0.1757\n",
      "training nmae: 0.1619\n"
     ]
    },
    {
     "data": {
      "application/vnd.jupyter.widget-view+json": {
       "model_id": "",
       "version_major": 2,
       "version_minor": 0
      },
      "text/plain": [
       "Validation: 0it [00:00, ?it/s]"
      ]
     },
     "metadata": {},
     "output_type": "display_data"
    },
    {
     "name": "stdout",
     "output_type": "stream",
     "text": [
      "validation nmae: 0.1598\n",
      "training nmae: 0.1639\n"
     ]
    },
    {
     "data": {
      "application/vnd.jupyter.widget-view+json": {
       "model_id": "",
       "version_major": 2,
       "version_minor": 0
      },
      "text/plain": [
       "Validation: 0it [00:00, ?it/s]"
      ]
     },
     "metadata": {},
     "output_type": "display_data"
    },
    {
     "name": "stdout",
     "output_type": "stream",
     "text": [
      "validation nmae: 0.09718\n",
      "training nmae: 0.167\n"
     ]
    },
    {
     "data": {
      "application/vnd.jupyter.widget-view+json": {
       "model_id": "",
       "version_major": 2,
       "version_minor": 0
      },
      "text/plain": [
       "Validation: 0it [00:00, ?it/s]"
      ]
     },
     "metadata": {},
     "output_type": "display_data"
    },
    {
     "name": "stdout",
     "output_type": "stream",
     "text": [
      "validation nmae: 0.1405\n",
      "training nmae: 0.1561\n"
     ]
    },
    {
     "data": {
      "application/vnd.jupyter.widget-view+json": {
       "model_id": "",
       "version_major": 2,
       "version_minor": 0
      },
      "text/plain": [
       "Validation: 0it [00:00, ?it/s]"
      ]
     },
     "metadata": {},
     "output_type": "display_data"
    },
    {
     "name": "stdout",
     "output_type": "stream",
     "text": [
      "validation nmae: 0.1621\n",
      "training nmae: 0.1747\n"
     ]
    },
    {
     "data": {
      "application/vnd.jupyter.widget-view+json": {
       "model_id": "",
       "version_major": 2,
       "version_minor": 0
      },
      "text/plain": [
       "Validation: 0it [00:00, ?it/s]"
      ]
     },
     "metadata": {},
     "output_type": "display_data"
    },
    {
     "name": "stdout",
     "output_type": "stream",
     "text": [
      "validation nmae: 0.09136\n",
      "training nmae: 0.1656\n"
     ]
    },
    {
     "data": {
      "application/vnd.jupyter.widget-view+json": {
       "model_id": "",
       "version_major": 2,
       "version_minor": 0
      },
      "text/plain": [
       "Validation: 0it [00:00, ?it/s]"
      ]
     },
     "metadata": {},
     "output_type": "display_data"
    },
    {
     "name": "stdout",
     "output_type": "stream",
     "text": [
      "validation nmae: 0.1972\n",
      "training nmae: 0.1571\n"
     ]
    },
    {
     "data": {
      "application/vnd.jupyter.widget-view+json": {
       "model_id": "",
       "version_major": 2,
       "version_minor": 0
      },
      "text/plain": [
       "Validation: 0it [00:00, ?it/s]"
      ]
     },
     "metadata": {},
     "output_type": "display_data"
    },
    {
     "name": "stdout",
     "output_type": "stream",
     "text": [
      "validation nmae: 0.09802\n",
      "training nmae: 0.1496\n"
     ]
    },
    {
     "data": {
      "application/vnd.jupyter.widget-view+json": {
       "model_id": "",
       "version_major": 2,
       "version_minor": 0
      },
      "text/plain": [
       "Validation: 0it [00:00, ?it/s]"
      ]
     },
     "metadata": {},
     "output_type": "display_data"
    },
    {
     "name": "stdout",
     "output_type": "stream",
     "text": [
      "validation nmae: 0.148\n",
      "training nmae: 0.1427\n"
     ]
    },
    {
     "data": {
      "application/vnd.jupyter.widget-view+json": {
       "model_id": "",
       "version_major": 2,
       "version_minor": 0
      },
      "text/plain": [
       "Validation: 0it [00:00, ?it/s]"
      ]
     },
     "metadata": {},
     "output_type": "display_data"
    },
    {
     "name": "stdout",
     "output_type": "stream",
     "text": [
      "validation nmae: 0.1586\n",
      "training nmae: 0.1522\n"
     ]
    },
    {
     "data": {
      "application/vnd.jupyter.widget-view+json": {
       "model_id": "",
       "version_major": 2,
       "version_minor": 0
      },
      "text/plain": [
       "Validation: 0it [00:00, ?it/s]"
      ]
     },
     "metadata": {},
     "output_type": "display_data"
    },
    {
     "name": "stdout",
     "output_type": "stream",
     "text": [
      "validation nmae: 0.0955\n",
      "training nmae: 0.1435\n"
     ]
    },
    {
     "data": {
      "application/vnd.jupyter.widget-view+json": {
       "model_id": "",
       "version_major": 2,
       "version_minor": 0
      },
      "text/plain": [
       "Validation: 0it [00:00, ?it/s]"
      ]
     },
     "metadata": {},
     "output_type": "display_data"
    },
    {
     "name": "stdout",
     "output_type": "stream",
     "text": [
      "validation nmae: 0.0946\n",
      "training nmae: 0.1506\n"
     ]
    },
    {
     "data": {
      "application/vnd.jupyter.widget-view+json": {
       "model_id": "",
       "version_major": 2,
       "version_minor": 0
      },
      "text/plain": [
       "Validation: 0it [00:00, ?it/s]"
      ]
     },
     "metadata": {},
     "output_type": "display_data"
    },
    {
     "name": "stdout",
     "output_type": "stream",
     "text": [
      "validation nmae: 0.1075\n",
      "training nmae: 0.1401\n"
     ]
    },
    {
     "data": {
      "application/vnd.jupyter.widget-view+json": {
       "model_id": "",
       "version_major": 2,
       "version_minor": 0
      },
      "text/plain": [
       "Validation: 0it [00:00, ?it/s]"
      ]
     },
     "metadata": {},
     "output_type": "display_data"
    },
    {
     "name": "stdout",
     "output_type": "stream",
     "text": [
      "validation nmae: 0.1048\n",
      "training nmae: 0.1347\n"
     ]
    },
    {
     "data": {
      "application/vnd.jupyter.widget-view+json": {
       "model_id": "",
       "version_major": 2,
       "version_minor": 0
      },
      "text/plain": [
       "Validation: 0it [00:00, ?it/s]"
      ]
     },
     "metadata": {},
     "output_type": "display_data"
    },
    {
     "name": "stdout",
     "output_type": "stream",
     "text": [
      "validation nmae: 0.1179\n",
      "training nmae: 0.1416\n"
     ]
    },
    {
     "data": {
      "application/vnd.jupyter.widget-view+json": {
       "model_id": "",
       "version_major": 2,
       "version_minor": 0
      },
      "text/plain": [
       "Validation: 0it [00:00, ?it/s]"
      ]
     },
     "metadata": {},
     "output_type": "display_data"
    },
    {
     "name": "stdout",
     "output_type": "stream",
     "text": [
      "validation nmae: 0.1292\n",
      "training nmae: 0.1481\n"
     ]
    },
    {
     "data": {
      "application/vnd.jupyter.widget-view+json": {
       "model_id": "",
       "version_major": 2,
       "version_minor": 0
      },
      "text/plain": [
       "Validation: 0it [00:00, ?it/s]"
      ]
     },
     "metadata": {},
     "output_type": "display_data"
    },
    {
     "name": "stdout",
     "output_type": "stream",
     "text": [
      "validation nmae: 0.1036\n",
      "training nmae: 0.1302\n"
     ]
    },
    {
     "data": {
      "application/vnd.jupyter.widget-view+json": {
       "model_id": "",
       "version_major": 2,
       "version_minor": 0
      },
      "text/plain": [
       "Validation: 0it [00:00, ?it/s]"
      ]
     },
     "metadata": {},
     "output_type": "display_data"
    },
    {
     "name": "stdout",
     "output_type": "stream",
     "text": [
      "validation nmae: 0.1137\n",
      "training nmae: 0.1543\n"
     ]
    },
    {
     "data": {
      "application/vnd.jupyter.widget-view+json": {
       "model_id": "",
       "version_major": 2,
       "version_minor": 0
      },
      "text/plain": [
       "Validation: 0it [00:00, ?it/s]"
      ]
     },
     "metadata": {},
     "output_type": "display_data"
    },
    {
     "name": "stdout",
     "output_type": "stream",
     "text": [
      "validation nmae: 0.1534\n",
      "training nmae: 0.1391\n"
     ]
    },
    {
     "data": {
      "application/vnd.jupyter.widget-view+json": {
       "model_id": "",
       "version_major": 2,
       "version_minor": 0
      },
      "text/plain": [
       "Validation: 0it [00:00, ?it/s]"
      ]
     },
     "metadata": {},
     "output_type": "display_data"
    },
    {
     "name": "stdout",
     "output_type": "stream",
     "text": [
      "validation nmae: 0.131\n",
      "training nmae: 0.1572\n"
     ]
    },
    {
     "data": {
      "application/vnd.jupyter.widget-view+json": {
       "model_id": "",
       "version_major": 2,
       "version_minor": 0
      },
      "text/plain": [
       "Validation: 0it [00:00, ?it/s]"
      ]
     },
     "metadata": {},
     "output_type": "display_data"
    },
    {
     "name": "stdout",
     "output_type": "stream",
     "text": [
      "validation nmae: 0.1011\n",
      "training nmae: 0.155\n"
     ]
    },
    {
     "data": {
      "application/vnd.jupyter.widget-view+json": {
       "model_id": "",
       "version_major": 2,
       "version_minor": 0
      },
      "text/plain": [
       "Validation: 0it [00:00, ?it/s]"
      ]
     },
     "metadata": {},
     "output_type": "display_data"
    },
    {
     "name": "stdout",
     "output_type": "stream",
     "text": [
      "validation nmae: 0.09905\n",
      "training nmae: 0.1328\n"
     ]
    },
    {
     "data": {
      "application/vnd.jupyter.widget-view+json": {
       "model_id": "",
       "version_major": 2,
       "version_minor": 0
      },
      "text/plain": [
       "Validation: 0it [00:00, ?it/s]"
      ]
     },
     "metadata": {},
     "output_type": "display_data"
    },
    {
     "name": "stdout",
     "output_type": "stream",
     "text": [
      "validation nmae: 0.1175\n",
      "training nmae: 0.1369\n"
     ]
    },
    {
     "data": {
      "application/vnd.jupyter.widget-view+json": {
       "model_id": "",
       "version_major": 2,
       "version_minor": 0
      },
      "text/plain": [
       "Validation: 0it [00:00, ?it/s]"
      ]
     },
     "metadata": {},
     "output_type": "display_data"
    },
    {
     "name": "stdout",
     "output_type": "stream",
     "text": [
      "validation nmae: 0.1268\n",
      "training nmae: 0.1433\n"
     ]
    },
    {
     "data": {
      "application/vnd.jupyter.widget-view+json": {
       "model_id": "",
       "version_major": 2,
       "version_minor": 0
      },
      "text/plain": [
       "Validation: 0it [00:00, ?it/s]"
      ]
     },
     "metadata": {},
     "output_type": "display_data"
    },
    {
     "name": "stdout",
     "output_type": "stream",
     "text": [
      "validation nmae: 0.1194\n",
      "training nmae: 0.1383\n"
     ]
    },
    {
     "data": {
      "application/vnd.jupyter.widget-view+json": {
       "model_id": "",
       "version_major": 2,
       "version_minor": 0
      },
      "text/plain": [
       "Validation: 0it [00:00, ?it/s]"
      ]
     },
     "metadata": {},
     "output_type": "display_data"
    },
    {
     "name": "stdout",
     "output_type": "stream",
     "text": [
      "validation nmae: 0.1019\n",
      "training nmae: 0.1351\n"
     ]
    },
    {
     "data": {
      "application/vnd.jupyter.widget-view+json": {
       "model_id": "",
       "version_major": 2,
       "version_minor": 0
      },
      "text/plain": [
       "Validation: 0it [00:00, ?it/s]"
      ]
     },
     "metadata": {},
     "output_type": "display_data"
    },
    {
     "name": "stdout",
     "output_type": "stream",
     "text": [
      "validation nmae: 0.1277\n",
      "training nmae: 0.12\n"
     ]
    },
    {
     "data": {
      "application/vnd.jupyter.widget-view+json": {
       "model_id": "",
       "version_major": 2,
       "version_minor": 0
      },
      "text/plain": [
       "Validation: 0it [00:00, ?it/s]"
      ]
     },
     "metadata": {},
     "output_type": "display_data"
    },
    {
     "name": "stdout",
     "output_type": "stream",
     "text": [
      "validation nmae: 0.1602\n",
      "training nmae: 0.1288\n"
     ]
    },
    {
     "data": {
      "application/vnd.jupyter.widget-view+json": {
       "model_id": "",
       "version_major": 2,
       "version_minor": 0
      },
      "text/plain": [
       "Validation: 0it [00:00, ?it/s]"
      ]
     },
     "metadata": {},
     "output_type": "display_data"
    },
    {
     "name": "stdout",
     "output_type": "stream",
     "text": [
      "validation nmae: 0.09441\n",
      "training nmae: 0.1358\n"
     ]
    },
    {
     "data": {
      "application/vnd.jupyter.widget-view+json": {
       "model_id": "",
       "version_major": 2,
       "version_minor": 0
      },
      "text/plain": [
       "Validation: 0it [00:00, ?it/s]"
      ]
     },
     "metadata": {},
     "output_type": "display_data"
    },
    {
     "name": "stdout",
     "output_type": "stream",
     "text": [
      "validation nmae: 0.104\n",
      "training nmae: 0.1264\n"
     ]
    },
    {
     "data": {
      "application/vnd.jupyter.widget-view+json": {
       "model_id": "",
       "version_major": 2,
       "version_minor": 0
      },
      "text/plain": [
       "Validation: 0it [00:00, ?it/s]"
      ]
     },
     "metadata": {},
     "output_type": "display_data"
    },
    {
     "name": "stdout",
     "output_type": "stream",
     "text": [
      "validation nmae: 0.1023\n",
      "training nmae: 0.1316\n"
     ]
    },
    {
     "data": {
      "application/vnd.jupyter.widget-view+json": {
       "model_id": "",
       "version_major": 2,
       "version_minor": 0
      },
      "text/plain": [
       "Validation: 0it [00:00, ?it/s]"
      ]
     },
     "metadata": {},
     "output_type": "display_data"
    },
    {
     "name": "stdout",
     "output_type": "stream",
     "text": [
      "validation nmae: 0.1335\n",
      "training nmae: 0.1235\n"
     ]
    },
    {
     "data": {
      "application/vnd.jupyter.widget-view+json": {
       "model_id": "",
       "version_major": 2,
       "version_minor": 0
      },
      "text/plain": [
       "Validation: 0it [00:00, ?it/s]"
      ]
     },
     "metadata": {},
     "output_type": "display_data"
    },
    {
     "name": "stdout",
     "output_type": "stream",
     "text": [
      "validation nmae: 0.08977\n",
      "training nmae: 0.1242\n"
     ]
    },
    {
     "data": {
      "application/vnd.jupyter.widget-view+json": {
       "model_id": "",
       "version_major": 2,
       "version_minor": 0
      },
      "text/plain": [
       "Validation: 0it [00:00, ?it/s]"
      ]
     },
     "metadata": {},
     "output_type": "display_data"
    },
    {
     "name": "stdout",
     "output_type": "stream",
     "text": [
      "validation nmae: 0.09562\n",
      "training nmae: 0.1264\n"
     ]
    },
    {
     "data": {
      "application/vnd.jupyter.widget-view+json": {
       "model_id": "",
       "version_major": 2,
       "version_minor": 0
      },
      "text/plain": [
       "Validation: 0it [00:00, ?it/s]"
      ]
     },
     "metadata": {},
     "output_type": "display_data"
    },
    {
     "name": "stdout",
     "output_type": "stream",
     "text": [
      "validation nmae: 0.1964\n",
      "training nmae: 0.1276\n"
     ]
    },
    {
     "data": {
      "application/vnd.jupyter.widget-view+json": {
       "model_id": "",
       "version_major": 2,
       "version_minor": 0
      },
      "text/plain": [
       "Validation: 0it [00:00, ?it/s]"
      ]
     },
     "metadata": {},
     "output_type": "display_data"
    },
    {
     "name": "stdout",
     "output_type": "stream",
     "text": [
      "validation nmae: 0.1019\n",
      "training nmae: 0.1242\n"
     ]
    },
    {
     "data": {
      "application/vnd.jupyter.widget-view+json": {
       "model_id": "",
       "version_major": 2,
       "version_minor": 0
      },
      "text/plain": [
       "Validation: 0it [00:00, ?it/s]"
      ]
     },
     "metadata": {},
     "output_type": "display_data"
    },
    {
     "name": "stdout",
     "output_type": "stream",
     "text": [
      "validation nmae: 0.1023\n",
      "training nmae: 0.1284\n"
     ]
    },
    {
     "data": {
      "application/vnd.jupyter.widget-view+json": {
       "model_id": "",
       "version_major": 2,
       "version_minor": 0
      },
      "text/plain": [
       "Validation: 0it [00:00, ?it/s]"
      ]
     },
     "metadata": {},
     "output_type": "display_data"
    },
    {
     "name": "stdout",
     "output_type": "stream",
     "text": [
      "validation nmae: 0.1504\n",
      "training nmae: 0.1295\n"
     ]
    },
    {
     "data": {
      "application/vnd.jupyter.widget-view+json": {
       "model_id": "",
       "version_major": 2,
       "version_minor": 0
      },
      "text/plain": [
       "Validation: 0it [00:00, ?it/s]"
      ]
     },
     "metadata": {},
     "output_type": "display_data"
    },
    {
     "name": "stdout",
     "output_type": "stream",
     "text": [
      "validation nmae: 0.1473\n",
      "training nmae: 0.128\n"
     ]
    },
    {
     "data": {
      "application/vnd.jupyter.widget-view+json": {
       "model_id": "",
       "version_major": 2,
       "version_minor": 0
      },
      "text/plain": [
       "Validation: 0it [00:00, ?it/s]"
      ]
     },
     "metadata": {},
     "output_type": "display_data"
    },
    {
     "name": "stdout",
     "output_type": "stream",
     "text": [
      "validation nmae: 0.1442\n",
      "training nmae: 0.1449\n"
     ]
    },
    {
     "data": {
      "application/vnd.jupyter.widget-view+json": {
       "model_id": "",
       "version_major": 2,
       "version_minor": 0
      },
      "text/plain": [
       "Validation: 0it [00:00, ?it/s]"
      ]
     },
     "metadata": {},
     "output_type": "display_data"
    },
    {
     "name": "stdout",
     "output_type": "stream",
     "text": [
      "validation nmae: 0.09566\n",
      "training nmae: 0.1191\n"
     ]
    },
    {
     "data": {
      "application/vnd.jupyter.widget-view+json": {
       "model_id": "",
       "version_major": 2,
       "version_minor": 0
      },
      "text/plain": [
       "Validation: 0it [00:00, ?it/s]"
      ]
     },
     "metadata": {},
     "output_type": "display_data"
    },
    {
     "name": "stdout",
     "output_type": "stream",
     "text": [
      "validation nmae: 0.08873\n",
      "training nmae: 0.1196\n"
     ]
    },
    {
     "data": {
      "application/vnd.jupyter.widget-view+json": {
       "model_id": "",
       "version_major": 2,
       "version_minor": 0
      },
      "text/plain": [
       "Validation: 0it [00:00, ?it/s]"
      ]
     },
     "metadata": {},
     "output_type": "display_data"
    },
    {
     "name": "stdout",
     "output_type": "stream",
     "text": [
      "validation nmae: 0.1237\n",
      "training nmae: 0.1229\n"
     ]
    },
    {
     "data": {
      "application/vnd.jupyter.widget-view+json": {
       "model_id": "",
       "version_major": 2,
       "version_minor": 0
      },
      "text/plain": [
       "Validation: 0it [00:00, ?it/s]"
      ]
     },
     "metadata": {},
     "output_type": "display_data"
    },
    {
     "name": "stdout",
     "output_type": "stream",
     "text": [
      "validation nmae: 0.166\n",
      "training nmae: 0.1227\n"
     ]
    },
    {
     "data": {
      "application/vnd.jupyter.widget-view+json": {
       "model_id": "",
       "version_major": 2,
       "version_minor": 0
      },
      "text/plain": [
       "Validation: 0it [00:00, ?it/s]"
      ]
     },
     "metadata": {},
     "output_type": "display_data"
    },
    {
     "name": "stdout",
     "output_type": "stream",
     "text": [
      "validation nmae: 0.1731\n",
      "training nmae: 0.1336\n"
     ]
    },
    {
     "data": {
      "application/vnd.jupyter.widget-view+json": {
       "model_id": "",
       "version_major": 2,
       "version_minor": 0
      },
      "text/plain": [
       "Validation: 0it [00:00, ?it/s]"
      ]
     },
     "metadata": {},
     "output_type": "display_data"
    },
    {
     "name": "stdout",
     "output_type": "stream",
     "text": [
      "validation nmae: 0.1126\n",
      "training nmae: 0.13\n"
     ]
    },
    {
     "data": {
      "application/vnd.jupyter.widget-view+json": {
       "model_id": "",
       "version_major": 2,
       "version_minor": 0
      },
      "text/plain": [
       "Validation: 0it [00:00, ?it/s]"
      ]
     },
     "metadata": {},
     "output_type": "display_data"
    },
    {
     "name": "stdout",
     "output_type": "stream",
     "text": [
      "validation nmae: 0.1206\n",
      "training nmae: 0.126\n"
     ]
    },
    {
     "data": {
      "application/vnd.jupyter.widget-view+json": {
       "model_id": "",
       "version_major": 2,
       "version_minor": 0
      },
      "text/plain": [
       "Validation: 0it [00:00, ?it/s]"
      ]
     },
     "metadata": {},
     "output_type": "display_data"
    },
    {
     "name": "stdout",
     "output_type": "stream",
     "text": [
      "validation nmae: 0.1066\n",
      "training nmae: 0.119\n"
     ]
    },
    {
     "data": {
      "application/vnd.jupyter.widget-view+json": {
       "model_id": "",
       "version_major": 2,
       "version_minor": 0
      },
      "text/plain": [
       "Validation: 0it [00:00, ?it/s]"
      ]
     },
     "metadata": {},
     "output_type": "display_data"
    },
    {
     "name": "stdout",
     "output_type": "stream",
     "text": [
      "validation nmae: 0.1197\n",
      "training nmae: 0.1212\n"
     ]
    },
    {
     "data": {
      "application/vnd.jupyter.widget-view+json": {
       "model_id": "",
       "version_major": 2,
       "version_minor": 0
      },
      "text/plain": [
       "Validation: 0it [00:00, ?it/s]"
      ]
     },
     "metadata": {},
     "output_type": "display_data"
    },
    {
     "name": "stdout",
     "output_type": "stream",
     "text": [
      "validation nmae: 0.1004\n",
      "training nmae: 0.1235\n"
     ]
    },
    {
     "data": {
      "application/vnd.jupyter.widget-view+json": {
       "model_id": "",
       "version_major": 2,
       "version_minor": 0
      },
      "text/plain": [
       "Validation: 0it [00:00, ?it/s]"
      ]
     },
     "metadata": {},
     "output_type": "display_data"
    },
    {
     "name": "stdout",
     "output_type": "stream",
     "text": [
      "validation nmae: 0.1135\n",
      "training nmae: 0.1277\n"
     ]
    },
    {
     "data": {
      "application/vnd.jupyter.widget-view+json": {
       "model_id": "",
       "version_major": 2,
       "version_minor": 0
      },
      "text/plain": [
       "Validation: 0it [00:00, ?it/s]"
      ]
     },
     "metadata": {},
     "output_type": "display_data"
    },
    {
     "name": "stdout",
     "output_type": "stream",
     "text": [
      "validation nmae: 0.1122\n",
      "training nmae: 0.1318\n"
     ]
    },
    {
     "data": {
      "application/vnd.jupyter.widget-view+json": {
       "model_id": "",
       "version_major": 2,
       "version_minor": 0
      },
      "text/plain": [
       "Validation: 0it [00:00, ?it/s]"
      ]
     },
     "metadata": {},
     "output_type": "display_data"
    },
    {
     "name": "stdout",
     "output_type": "stream",
     "text": [
      "validation nmae: 0.1018\n",
      "training nmae: 0.1167\n"
     ]
    },
    {
     "data": {
      "application/vnd.jupyter.widget-view+json": {
       "model_id": "",
       "version_major": 2,
       "version_minor": 0
      },
      "text/plain": [
       "Validation: 0it [00:00, ?it/s]"
      ]
     },
     "metadata": {},
     "output_type": "display_data"
    },
    {
     "name": "stdout",
     "output_type": "stream",
     "text": [
      "validation nmae: 0.1672\n",
      "training nmae: 0.1207\n"
     ]
    },
    {
     "data": {
      "application/vnd.jupyter.widget-view+json": {
       "model_id": "",
       "version_major": 2,
       "version_minor": 0
      },
      "text/plain": [
       "Validation: 0it [00:00, ?it/s]"
      ]
     },
     "metadata": {},
     "output_type": "display_data"
    },
    {
     "name": "stdout",
     "output_type": "stream",
     "text": [
      "validation nmae: 0.1059\n",
      "training nmae: 0.1185\n"
     ]
    },
    {
     "data": {
      "application/vnd.jupyter.widget-view+json": {
       "model_id": "",
       "version_major": 2,
       "version_minor": 0
      },
      "text/plain": [
       "Validation: 0it [00:00, ?it/s]"
      ]
     },
     "metadata": {},
     "output_type": "display_data"
    },
    {
     "name": "stdout",
     "output_type": "stream",
     "text": [
      "validation nmae: 0.09194\n",
      "training nmae: 0.1212\n"
     ]
    },
    {
     "data": {
      "application/vnd.jupyter.widget-view+json": {
       "model_id": "",
       "version_major": 2,
       "version_minor": 0
      },
      "text/plain": [
       "Validation: 0it [00:00, ?it/s]"
      ]
     },
     "metadata": {},
     "output_type": "display_data"
    },
    {
     "name": "stdout",
     "output_type": "stream",
     "text": [
      "validation nmae: 0.08528\n",
      "training nmae: 0.1199\n"
     ]
    },
    {
     "data": {
      "application/vnd.jupyter.widget-view+json": {
       "model_id": "",
       "version_major": 2,
       "version_minor": 0
      },
      "text/plain": [
       "Validation: 0it [00:00, ?it/s]"
      ]
     },
     "metadata": {},
     "output_type": "display_data"
    },
    {
     "name": "stdout",
     "output_type": "stream",
     "text": [
      "validation nmae: 0.1022\n",
      "training nmae: 0.1243\n"
     ]
    },
    {
     "data": {
      "application/vnd.jupyter.widget-view+json": {
       "model_id": "",
       "version_major": 2,
       "version_minor": 0
      },
      "text/plain": [
       "Validation: 0it [00:00, ?it/s]"
      ]
     },
     "metadata": {},
     "output_type": "display_data"
    },
    {
     "name": "stdout",
     "output_type": "stream",
     "text": [
      "validation nmae: 0.0751\n",
      "training nmae: 0.1244\n"
     ]
    },
    {
     "name": "stderr",
     "output_type": "stream",
     "text": [
      "Using 16bit native Automatic Mixed Precision (AMP)\n",
      "GPU available: True, used: True\n",
      "TPU available: False, using: 0 TPU cores\n",
      "IPU available: False, using: 0 IPUs\n",
      "HPU available: False, using: 0 HPUs\n",
      "LOCAL_RANK: 0 - CUDA_VISIBLE_DEVICES: [0]\n",
      "\n",
      "  | Name            | Type               | Params\n",
      "-------------------------------------------------------\n",
      "0 | model           | CNN_RNN            | 4.4 M \n",
      "1 | train_nmae      | NMAE               | 0     \n",
      "2 | valid_nmae      | NMAE               | 0     \n",
      "3 | augment_dataset | PYTORCH_AUGMENTSET | 0     \n",
      "4 | train_dataset   | PYTORCH_DATASET    | 0     \n",
      "5 | val_dataset     | PYTORCH_DATASET    | 0     \n",
      "6 | predict_dataset | PYTORCH_PREDICTSET | 0     \n",
      "-------------------------------------------------------\n",
      "4.4 M     Trainable params\n",
      "0         Non-trainable params\n",
      "4.4 M     Total params\n",
      "8.707     Total estimated model params size (MB)\n"
     ]
    },
    {
     "name": "stdout",
     "output_type": "stream",
     "text": [
      "1\n"
     ]
    },
    {
     "data": {
      "application/vnd.jupyter.widget-view+json": {
       "model_id": "",
       "version_major": 2,
       "version_minor": 0
      },
      "text/plain": [
       "Sanity Checking: 0it [00:00, ?it/s]"
      ]
     },
     "metadata": {},
     "output_type": "display_data"
    },
    {
     "name": "stdout",
     "output_type": "stream",
     "text": [
      "validation nmae: 0.9974\n"
     ]
    },
    {
     "data": {
      "application/vnd.jupyter.widget-view+json": {
       "model_id": "c694000e10434205bf21d456586b3cf3",
       "version_major": 2,
       "version_minor": 0
      },
      "text/plain": [
       "Training: 0it [00:00, ?it/s]"
      ]
     },
     "metadata": {},
     "output_type": "display_data"
    },
    {
     "data": {
      "application/vnd.jupyter.widget-view+json": {
       "model_id": "",
       "version_major": 2,
       "version_minor": 0
      },
      "text/plain": [
       "Validation: 0it [00:00, ?it/s]"
      ]
     },
     "metadata": {},
     "output_type": "display_data"
    },
    {
     "name": "stdout",
     "output_type": "stream",
     "text": [
      "validation nmae: 0.2172\n",
      "training nmae: 0.5512\n"
     ]
    },
    {
     "data": {
      "application/vnd.jupyter.widget-view+json": {
       "model_id": "",
       "version_major": 2,
       "version_minor": 0
      },
      "text/plain": [
       "Validation: 0it [00:00, ?it/s]"
      ]
     },
     "metadata": {},
     "output_type": "display_data"
    },
    {
     "name": "stdout",
     "output_type": "stream",
     "text": [
      "validation nmae: 0.1998\n",
      "training nmae: 0.3048\n"
     ]
    },
    {
     "data": {
      "application/vnd.jupyter.widget-view+json": {
       "model_id": "",
       "version_major": 2,
       "version_minor": 0
      },
      "text/plain": [
       "Validation: 0it [00:00, ?it/s]"
      ]
     },
     "metadata": {},
     "output_type": "display_data"
    },
    {
     "name": "stdout",
     "output_type": "stream",
     "text": [
      "validation nmae: 0.3244\n",
      "training nmae: 0.2507\n"
     ]
    },
    {
     "data": {
      "application/vnd.jupyter.widget-view+json": {
       "model_id": "",
       "version_major": 2,
       "version_minor": 0
      },
      "text/plain": [
       "Validation: 0it [00:00, ?it/s]"
      ]
     },
     "metadata": {},
     "output_type": "display_data"
    },
    {
     "name": "stdout",
     "output_type": "stream",
     "text": [
      "validation nmae: 0.2271\n",
      "training nmae: 0.2234\n"
     ]
    },
    {
     "data": {
      "application/vnd.jupyter.widget-view+json": {
       "model_id": "",
       "version_major": 2,
       "version_minor": 0
      },
      "text/plain": [
       "Validation: 0it [00:00, ?it/s]"
      ]
     },
     "metadata": {},
     "output_type": "display_data"
    },
    {
     "name": "stdout",
     "output_type": "stream",
     "text": [
      "validation nmae: 0.231\n",
      "training nmae: 0.2001\n"
     ]
    },
    {
     "data": {
      "application/vnd.jupyter.widget-view+json": {
       "model_id": "",
       "version_major": 2,
       "version_minor": 0
      },
      "text/plain": [
       "Validation: 0it [00:00, ?it/s]"
      ]
     },
     "metadata": {},
     "output_type": "display_data"
    },
    {
     "name": "stdout",
     "output_type": "stream",
     "text": [
      "validation nmae: 0.2888\n",
      "training nmae: 0.1989\n"
     ]
    },
    {
     "data": {
      "application/vnd.jupyter.widget-view+json": {
       "model_id": "",
       "version_major": 2,
       "version_minor": 0
      },
      "text/plain": [
       "Validation: 0it [00:00, ?it/s]"
      ]
     },
     "metadata": {},
     "output_type": "display_data"
    },
    {
     "name": "stdout",
     "output_type": "stream",
     "text": [
      "validation nmae: 0.2029\n",
      "training nmae: 0.177\n"
     ]
    },
    {
     "data": {
      "application/vnd.jupyter.widget-view+json": {
       "model_id": "",
       "version_major": 2,
       "version_minor": 0
      },
      "text/plain": [
       "Validation: 0it [00:00, ?it/s]"
      ]
     },
     "metadata": {},
     "output_type": "display_data"
    },
    {
     "name": "stdout",
     "output_type": "stream",
     "text": [
      "validation nmae: 0.2446\n",
      "training nmae: 0.1851\n"
     ]
    },
    {
     "data": {
      "application/vnd.jupyter.widget-view+json": {
       "model_id": "",
       "version_major": 2,
       "version_minor": 0
      },
      "text/plain": [
       "Validation: 0it [00:00, ?it/s]"
      ]
     },
     "metadata": {},
     "output_type": "display_data"
    },
    {
     "name": "stdout",
     "output_type": "stream",
     "text": [
      "validation nmae: 0.1828\n",
      "training nmae: 0.1691\n"
     ]
    },
    {
     "data": {
      "application/vnd.jupyter.widget-view+json": {
       "model_id": "",
       "version_major": 2,
       "version_minor": 0
      },
      "text/plain": [
       "Validation: 0it [00:00, ?it/s]"
      ]
     },
     "metadata": {},
     "output_type": "display_data"
    },
    {
     "name": "stdout",
     "output_type": "stream",
     "text": [
      "validation nmae: 0.1683\n",
      "training nmae: 0.171\n"
     ]
    },
    {
     "data": {
      "application/vnd.jupyter.widget-view+json": {
       "model_id": "",
       "version_major": 2,
       "version_minor": 0
      },
      "text/plain": [
       "Validation: 0it [00:00, ?it/s]"
      ]
     },
     "metadata": {},
     "output_type": "display_data"
    },
    {
     "name": "stdout",
     "output_type": "stream",
     "text": [
      "validation nmae: 0.1906\n",
      "training nmae: 0.171\n"
     ]
    },
    {
     "data": {
      "application/vnd.jupyter.widget-view+json": {
       "model_id": "",
       "version_major": 2,
       "version_minor": 0
      },
      "text/plain": [
       "Validation: 0it [00:00, ?it/s]"
      ]
     },
     "metadata": {},
     "output_type": "display_data"
    },
    {
     "name": "stdout",
     "output_type": "stream",
     "text": [
      "validation nmae: 0.1974\n",
      "training nmae: 0.1728\n"
     ]
    },
    {
     "data": {
      "application/vnd.jupyter.widget-view+json": {
       "model_id": "",
       "version_major": 2,
       "version_minor": 0
      },
      "text/plain": [
       "Validation: 0it [00:00, ?it/s]"
      ]
     },
     "metadata": {},
     "output_type": "display_data"
    },
    {
     "name": "stdout",
     "output_type": "stream",
     "text": [
      "validation nmae: 0.193\n",
      "training nmae: 0.1628\n"
     ]
    },
    {
     "data": {
      "application/vnd.jupyter.widget-view+json": {
       "model_id": "",
       "version_major": 2,
       "version_minor": 0
      },
      "text/plain": [
       "Validation: 0it [00:00, ?it/s]"
      ]
     },
     "metadata": {},
     "output_type": "display_data"
    },
    {
     "name": "stdout",
     "output_type": "stream",
     "text": [
      "validation nmae: 0.174\n",
      "training nmae: 0.1487\n"
     ]
    },
    {
     "data": {
      "application/vnd.jupyter.widget-view+json": {
       "model_id": "",
       "version_major": 2,
       "version_minor": 0
      },
      "text/plain": [
       "Validation: 0it [00:00, ?it/s]"
      ]
     },
     "metadata": {},
     "output_type": "display_data"
    },
    {
     "name": "stdout",
     "output_type": "stream",
     "text": [
      "validation nmae: 0.1689\n",
      "training nmae: 0.1541\n"
     ]
    },
    {
     "data": {
      "application/vnd.jupyter.widget-view+json": {
       "model_id": "",
       "version_major": 2,
       "version_minor": 0
      },
      "text/plain": [
       "Validation: 0it [00:00, ?it/s]"
      ]
     },
     "metadata": {},
     "output_type": "display_data"
    },
    {
     "name": "stdout",
     "output_type": "stream",
     "text": [
      "validation nmae: 0.166\n",
      "training nmae: 0.1457\n"
     ]
    },
    {
     "data": {
      "application/vnd.jupyter.widget-view+json": {
       "model_id": "",
       "version_major": 2,
       "version_minor": 0
      },
      "text/plain": [
       "Validation: 0it [00:00, ?it/s]"
      ]
     },
     "metadata": {},
     "output_type": "display_data"
    },
    {
     "name": "stdout",
     "output_type": "stream",
     "text": [
      "validation nmae: 0.1538\n",
      "training nmae: 0.1456\n"
     ]
    },
    {
     "data": {
      "application/vnd.jupyter.widget-view+json": {
       "model_id": "",
       "version_major": 2,
       "version_minor": 0
      },
      "text/plain": [
       "Validation: 0it [00:00, ?it/s]"
      ]
     },
     "metadata": {},
     "output_type": "display_data"
    },
    {
     "name": "stdout",
     "output_type": "stream",
     "text": [
      "validation nmae: 0.1736\n",
      "training nmae: 0.1531\n"
     ]
    },
    {
     "data": {
      "application/vnd.jupyter.widget-view+json": {
       "model_id": "",
       "version_major": 2,
       "version_minor": 0
      },
      "text/plain": [
       "Validation: 0it [00:00, ?it/s]"
      ]
     },
     "metadata": {},
     "output_type": "display_data"
    },
    {
     "name": "stdout",
     "output_type": "stream",
     "text": [
      "validation nmae: 0.2199\n",
      "training nmae: 0.1444\n"
     ]
    },
    {
     "data": {
      "application/vnd.jupyter.widget-view+json": {
       "model_id": "",
       "version_major": 2,
       "version_minor": 0
      },
      "text/plain": [
       "Validation: 0it [00:00, ?it/s]"
      ]
     },
     "metadata": {},
     "output_type": "display_data"
    },
    {
     "name": "stdout",
     "output_type": "stream",
     "text": [
      "validation nmae: 0.1648\n",
      "training nmae: 0.1449\n"
     ]
    },
    {
     "data": {
      "application/vnd.jupyter.widget-view+json": {
       "model_id": "",
       "version_major": 2,
       "version_minor": 0
      },
      "text/plain": [
       "Validation: 0it [00:00, ?it/s]"
      ]
     },
     "metadata": {},
     "output_type": "display_data"
    },
    {
     "name": "stdout",
     "output_type": "stream",
     "text": [
      "validation nmae: 0.1794\n",
      "training nmae: 0.1487\n"
     ]
    },
    {
     "data": {
      "application/vnd.jupyter.widget-view+json": {
       "model_id": "",
       "version_major": 2,
       "version_minor": 0
      },
      "text/plain": [
       "Validation: 0it [00:00, ?it/s]"
      ]
     },
     "metadata": {},
     "output_type": "display_data"
    },
    {
     "name": "stdout",
     "output_type": "stream",
     "text": [
      "validation nmae: 0.2172\n",
      "training nmae: 0.1603\n"
     ]
    },
    {
     "data": {
      "application/vnd.jupyter.widget-view+json": {
       "model_id": "",
       "version_major": 2,
       "version_minor": 0
      },
      "text/plain": [
       "Validation: 0it [00:00, ?it/s]"
      ]
     },
     "metadata": {},
     "output_type": "display_data"
    },
    {
     "name": "stdout",
     "output_type": "stream",
     "text": [
      "validation nmae: 0.2116\n",
      "training nmae: 0.1589\n"
     ]
    },
    {
     "data": {
      "application/vnd.jupyter.widget-view+json": {
       "model_id": "",
       "version_major": 2,
       "version_minor": 0
      },
      "text/plain": [
       "Validation: 0it [00:00, ?it/s]"
      ]
     },
     "metadata": {},
     "output_type": "display_data"
    },
    {
     "name": "stdout",
     "output_type": "stream",
     "text": [
      "validation nmae: 0.1675\n",
      "training nmae: 0.1395\n"
     ]
    },
    {
     "data": {
      "application/vnd.jupyter.widget-view+json": {
       "model_id": "",
       "version_major": 2,
       "version_minor": 0
      },
      "text/plain": [
       "Validation: 0it [00:00, ?it/s]"
      ]
     },
     "metadata": {},
     "output_type": "display_data"
    },
    {
     "name": "stdout",
     "output_type": "stream",
     "text": [
      "validation nmae: 0.1967\n",
      "training nmae: 0.1382\n"
     ]
    },
    {
     "data": {
      "application/vnd.jupyter.widget-view+json": {
       "model_id": "",
       "version_major": 2,
       "version_minor": 0
      },
      "text/plain": [
       "Validation: 0it [00:00, ?it/s]"
      ]
     },
     "metadata": {},
     "output_type": "display_data"
    },
    {
     "name": "stdout",
     "output_type": "stream",
     "text": [
      "validation nmae: 0.1722\n",
      "training nmae: 0.1402\n"
     ]
    },
    {
     "data": {
      "application/vnd.jupyter.widget-view+json": {
       "model_id": "",
       "version_major": 2,
       "version_minor": 0
      },
      "text/plain": [
       "Validation: 0it [00:00, ?it/s]"
      ]
     },
     "metadata": {},
     "output_type": "display_data"
    },
    {
     "name": "stdout",
     "output_type": "stream",
     "text": [
      "validation nmae: 0.2325\n",
      "training nmae: 0.1483\n"
     ]
    },
    {
     "data": {
      "application/vnd.jupyter.widget-view+json": {
       "model_id": "",
       "version_major": 2,
       "version_minor": 0
      },
      "text/plain": [
       "Validation: 0it [00:00, ?it/s]"
      ]
     },
     "metadata": {},
     "output_type": "display_data"
    },
    {
     "name": "stdout",
     "output_type": "stream",
     "text": [
      "validation nmae: 0.1783\n",
      "training nmae: 0.1336\n"
     ]
    },
    {
     "data": {
      "application/vnd.jupyter.widget-view+json": {
       "model_id": "",
       "version_major": 2,
       "version_minor": 0
      },
      "text/plain": [
       "Validation: 0it [00:00, ?it/s]"
      ]
     },
     "metadata": {},
     "output_type": "display_data"
    },
    {
     "name": "stdout",
     "output_type": "stream",
     "text": [
      "validation nmae: 0.1886\n",
      "training nmae: 0.1364\n"
     ]
    },
    {
     "data": {
      "application/vnd.jupyter.widget-view+json": {
       "model_id": "",
       "version_major": 2,
       "version_minor": 0
      },
      "text/plain": [
       "Validation: 0it [00:00, ?it/s]"
      ]
     },
     "metadata": {},
     "output_type": "display_data"
    },
    {
     "name": "stdout",
     "output_type": "stream",
     "text": [
      "validation nmae: 0.2042\n",
      "training nmae: 0.1347\n"
     ]
    },
    {
     "data": {
      "application/vnd.jupyter.widget-view+json": {
       "model_id": "",
       "version_major": 2,
       "version_minor": 0
      },
      "text/plain": [
       "Validation: 0it [00:00, ?it/s]"
      ]
     },
     "metadata": {},
     "output_type": "display_data"
    },
    {
     "name": "stdout",
     "output_type": "stream",
     "text": [
      "validation nmae: 0.2288\n",
      "training nmae: 0.1343\n"
     ]
    },
    {
     "data": {
      "application/vnd.jupyter.widget-view+json": {
       "model_id": "",
       "version_major": 2,
       "version_minor": 0
      },
      "text/plain": [
       "Validation: 0it [00:00, ?it/s]"
      ]
     },
     "metadata": {},
     "output_type": "display_data"
    },
    {
     "name": "stdout",
     "output_type": "stream",
     "text": [
      "validation nmae: 0.1615\n",
      "training nmae: 0.1327\n"
     ]
    },
    {
     "data": {
      "application/vnd.jupyter.widget-view+json": {
       "model_id": "",
       "version_major": 2,
       "version_minor": 0
      },
      "text/plain": [
       "Validation: 0it [00:00, ?it/s]"
      ]
     },
     "metadata": {},
     "output_type": "display_data"
    },
    {
     "name": "stdout",
     "output_type": "stream",
     "text": [
      "validation nmae: 0.1675\n",
      "training nmae: 0.1333\n"
     ]
    },
    {
     "data": {
      "application/vnd.jupyter.widget-view+json": {
       "model_id": "",
       "version_major": 2,
       "version_minor": 0
      },
      "text/plain": [
       "Validation: 0it [00:00, ?it/s]"
      ]
     },
     "metadata": {},
     "output_type": "display_data"
    },
    {
     "name": "stdout",
     "output_type": "stream",
     "text": [
      "validation nmae: 0.2052\n",
      "training nmae: 0.1303\n"
     ]
    },
    {
     "data": {
      "application/vnd.jupyter.widget-view+json": {
       "model_id": "",
       "version_major": 2,
       "version_minor": 0
      },
      "text/plain": [
       "Validation: 0it [00:00, ?it/s]"
      ]
     },
     "metadata": {},
     "output_type": "display_data"
    },
    {
     "name": "stdout",
     "output_type": "stream",
     "text": [
      "validation nmae: 0.1832\n",
      "training nmae: 0.1432\n"
     ]
    },
    {
     "data": {
      "application/vnd.jupyter.widget-view+json": {
       "model_id": "",
       "version_major": 2,
       "version_minor": 0
      },
      "text/plain": [
       "Validation: 0it [00:00, ?it/s]"
      ]
     },
     "metadata": {},
     "output_type": "display_data"
    },
    {
     "name": "stdout",
     "output_type": "stream",
     "text": [
      "validation nmae: 0.1658\n",
      "training nmae: 0.1326\n"
     ]
    },
    {
     "data": {
      "application/vnd.jupyter.widget-view+json": {
       "model_id": "",
       "version_major": 2,
       "version_minor": 0
      },
      "text/plain": [
       "Validation: 0it [00:00, ?it/s]"
      ]
     },
     "metadata": {},
     "output_type": "display_data"
    },
    {
     "name": "stdout",
     "output_type": "stream",
     "text": [
      "validation nmae: 0.1585\n",
      "training nmae: 0.1382\n"
     ]
    },
    {
     "data": {
      "application/vnd.jupyter.widget-view+json": {
       "model_id": "",
       "version_major": 2,
       "version_minor": 0
      },
      "text/plain": [
       "Validation: 0it [00:00, ?it/s]"
      ]
     },
     "metadata": {},
     "output_type": "display_data"
    },
    {
     "name": "stdout",
     "output_type": "stream",
     "text": [
      "validation nmae: 0.1781\n",
      "training nmae: 0.1233\n"
     ]
    },
    {
     "data": {
      "application/vnd.jupyter.widget-view+json": {
       "model_id": "",
       "version_major": 2,
       "version_minor": 0
      },
      "text/plain": [
       "Validation: 0it [00:00, ?it/s]"
      ]
     },
     "metadata": {},
     "output_type": "display_data"
    },
    {
     "name": "stdout",
     "output_type": "stream",
     "text": [
      "validation nmae: 0.1604\n",
      "training nmae: 0.1293\n"
     ]
    },
    {
     "data": {
      "application/vnd.jupyter.widget-view+json": {
       "model_id": "",
       "version_major": 2,
       "version_minor": 0
      },
      "text/plain": [
       "Validation: 0it [00:00, ?it/s]"
      ]
     },
     "metadata": {},
     "output_type": "display_data"
    },
    {
     "name": "stdout",
     "output_type": "stream",
     "text": [
      "validation nmae: 0.1674\n",
      "training nmae: 0.1338\n"
     ]
    },
    {
     "data": {
      "application/vnd.jupyter.widget-view+json": {
       "model_id": "",
       "version_major": 2,
       "version_minor": 0
      },
      "text/plain": [
       "Validation: 0it [00:00, ?it/s]"
      ]
     },
     "metadata": {},
     "output_type": "display_data"
    },
    {
     "name": "stdout",
     "output_type": "stream",
     "text": [
      "validation nmae: 0.1489\n",
      "training nmae: 0.1223\n"
     ]
    },
    {
     "data": {
      "application/vnd.jupyter.widget-view+json": {
       "model_id": "",
       "version_major": 2,
       "version_minor": 0
      },
      "text/plain": [
       "Validation: 0it [00:00, ?it/s]"
      ]
     },
     "metadata": {},
     "output_type": "display_data"
    },
    {
     "name": "stdout",
     "output_type": "stream",
     "text": [
      "validation nmae: 0.1613\n",
      "training nmae: 0.1366\n"
     ]
    },
    {
     "data": {
      "application/vnd.jupyter.widget-view+json": {
       "model_id": "",
       "version_major": 2,
       "version_minor": 0
      },
      "text/plain": [
       "Validation: 0it [00:00, ?it/s]"
      ]
     },
     "metadata": {},
     "output_type": "display_data"
    },
    {
     "name": "stdout",
     "output_type": "stream",
     "text": [
      "validation nmae: 0.1613\n",
      "training nmae: 0.1333\n"
     ]
    },
    {
     "data": {
      "application/vnd.jupyter.widget-view+json": {
       "model_id": "",
       "version_major": 2,
       "version_minor": 0
      },
      "text/plain": [
       "Validation: 0it [00:00, ?it/s]"
      ]
     },
     "metadata": {},
     "output_type": "display_data"
    },
    {
     "name": "stdout",
     "output_type": "stream",
     "text": [
      "validation nmae: 0.1576\n",
      "training nmae: 0.1314\n"
     ]
    },
    {
     "data": {
      "application/vnd.jupyter.widget-view+json": {
       "model_id": "",
       "version_major": 2,
       "version_minor": 0
      },
      "text/plain": [
       "Validation: 0it [00:00, ?it/s]"
      ]
     },
     "metadata": {},
     "output_type": "display_data"
    },
    {
     "name": "stdout",
     "output_type": "stream",
     "text": [
      "validation nmae: 0.1804\n",
      "training nmae: 0.1172\n"
     ]
    },
    {
     "data": {
      "application/vnd.jupyter.widget-view+json": {
       "model_id": "",
       "version_major": 2,
       "version_minor": 0
      },
      "text/plain": [
       "Validation: 0it [00:00, ?it/s]"
      ]
     },
     "metadata": {},
     "output_type": "display_data"
    },
    {
     "name": "stdout",
     "output_type": "stream",
     "text": [
      "validation nmae: 0.1785\n",
      "training nmae: 0.1279\n"
     ]
    },
    {
     "data": {
      "application/vnd.jupyter.widget-view+json": {
       "model_id": "",
       "version_major": 2,
       "version_minor": 0
      },
      "text/plain": [
       "Validation: 0it [00:00, ?it/s]"
      ]
     },
     "metadata": {},
     "output_type": "display_data"
    },
    {
     "name": "stdout",
     "output_type": "stream",
     "text": [
      "validation nmae: 0.1795\n",
      "training nmae: 0.1243\n"
     ]
    },
    {
     "data": {
      "application/vnd.jupyter.widget-view+json": {
       "model_id": "",
       "version_major": 2,
       "version_minor": 0
      },
      "text/plain": [
       "Validation: 0it [00:00, ?it/s]"
      ]
     },
     "metadata": {},
     "output_type": "display_data"
    },
    {
     "name": "stdout",
     "output_type": "stream",
     "text": [
      "validation nmae: 0.1439\n",
      "training nmae: 0.1259\n"
     ]
    },
    {
     "data": {
      "application/vnd.jupyter.widget-view+json": {
       "model_id": "",
       "version_major": 2,
       "version_minor": 0
      },
      "text/plain": [
       "Validation: 0it [00:00, ?it/s]"
      ]
     },
     "metadata": {},
     "output_type": "display_data"
    },
    {
     "name": "stdout",
     "output_type": "stream",
     "text": [
      "validation nmae: 0.1593\n",
      "training nmae: 0.135\n"
     ]
    },
    {
     "data": {
      "application/vnd.jupyter.widget-view+json": {
       "model_id": "",
       "version_major": 2,
       "version_minor": 0
      },
      "text/plain": [
       "Validation: 0it [00:00, ?it/s]"
      ]
     },
     "metadata": {},
     "output_type": "display_data"
    },
    {
     "name": "stdout",
     "output_type": "stream",
     "text": [
      "validation nmae: 0.1678\n",
      "training nmae: 0.1243\n"
     ]
    },
    {
     "data": {
      "application/vnd.jupyter.widget-view+json": {
       "model_id": "",
       "version_major": 2,
       "version_minor": 0
      },
      "text/plain": [
       "Validation: 0it [00:00, ?it/s]"
      ]
     },
     "metadata": {},
     "output_type": "display_data"
    },
    {
     "name": "stdout",
     "output_type": "stream",
     "text": [
      "validation nmae: 0.1562\n",
      "training nmae: 0.1216\n"
     ]
    },
    {
     "data": {
      "application/vnd.jupyter.widget-view+json": {
       "model_id": "",
       "version_major": 2,
       "version_minor": 0
      },
      "text/plain": [
       "Validation: 0it [00:00, ?it/s]"
      ]
     },
     "metadata": {},
     "output_type": "display_data"
    },
    {
     "name": "stdout",
     "output_type": "stream",
     "text": [
      "validation nmae: 0.1937\n",
      "training nmae: 0.1145\n"
     ]
    },
    {
     "data": {
      "application/vnd.jupyter.widget-view+json": {
       "model_id": "",
       "version_major": 2,
       "version_minor": 0
      },
      "text/plain": [
       "Validation: 0it [00:00, ?it/s]"
      ]
     },
     "metadata": {},
     "output_type": "display_data"
    },
    {
     "name": "stdout",
     "output_type": "stream",
     "text": [
      "validation nmae: 0.2155\n",
      "training nmae: 0.1428\n"
     ]
    },
    {
     "data": {
      "application/vnd.jupyter.widget-view+json": {
       "model_id": "",
       "version_major": 2,
       "version_minor": 0
      },
      "text/plain": [
       "Validation: 0it [00:00, ?it/s]"
      ]
     },
     "metadata": {},
     "output_type": "display_data"
    },
    {
     "name": "stdout",
     "output_type": "stream",
     "text": [
      "validation nmae: 0.1872\n",
      "training nmae: 0.1207\n"
     ]
    },
    {
     "data": {
      "application/vnd.jupyter.widget-view+json": {
       "model_id": "",
       "version_major": 2,
       "version_minor": 0
      },
      "text/plain": [
       "Validation: 0it [00:00, ?it/s]"
      ]
     },
     "metadata": {},
     "output_type": "display_data"
    },
    {
     "name": "stdout",
     "output_type": "stream",
     "text": [
      "validation nmae: 0.1799\n",
      "training nmae: 0.1215\n"
     ]
    },
    {
     "data": {
      "application/vnd.jupyter.widget-view+json": {
       "model_id": "",
       "version_major": 2,
       "version_minor": 0
      },
      "text/plain": [
       "Validation: 0it [00:00, ?it/s]"
      ]
     },
     "metadata": {},
     "output_type": "display_data"
    },
    {
     "name": "stdout",
     "output_type": "stream",
     "text": [
      "validation nmae: 0.2379\n",
      "training nmae: 0.1221\n"
     ]
    },
    {
     "data": {
      "application/vnd.jupyter.widget-view+json": {
       "model_id": "",
       "version_major": 2,
       "version_minor": 0
      },
      "text/plain": [
       "Validation: 0it [00:00, ?it/s]"
      ]
     },
     "metadata": {},
     "output_type": "display_data"
    },
    {
     "name": "stdout",
     "output_type": "stream",
     "text": [
      "validation nmae: 0.1665\n",
      "training nmae: 0.111\n"
     ]
    },
    {
     "data": {
      "application/vnd.jupyter.widget-view+json": {
       "model_id": "",
       "version_major": 2,
       "version_minor": 0
      },
      "text/plain": [
       "Validation: 0it [00:00, ?it/s]"
      ]
     },
     "metadata": {},
     "output_type": "display_data"
    },
    {
     "name": "stdout",
     "output_type": "stream",
     "text": [
      "validation nmae: 0.2159\n",
      "training nmae: 0.1275\n"
     ]
    },
    {
     "data": {
      "application/vnd.jupyter.widget-view+json": {
       "model_id": "",
       "version_major": 2,
       "version_minor": 0
      },
      "text/plain": [
       "Validation: 0it [00:00, ?it/s]"
      ]
     },
     "metadata": {},
     "output_type": "display_data"
    },
    {
     "name": "stdout",
     "output_type": "stream",
     "text": [
      "validation nmae: 0.1527\n",
      "training nmae: 0.1185\n"
     ]
    },
    {
     "data": {
      "application/vnd.jupyter.widget-view+json": {
       "model_id": "",
       "version_major": 2,
       "version_minor": 0
      },
      "text/plain": [
       "Validation: 0it [00:00, ?it/s]"
      ]
     },
     "metadata": {},
     "output_type": "display_data"
    },
    {
     "name": "stdout",
     "output_type": "stream",
     "text": [
      "validation nmae: 0.2198\n",
      "training nmae: 0.1228\n"
     ]
    },
    {
     "data": {
      "application/vnd.jupyter.widget-view+json": {
       "model_id": "",
       "version_major": 2,
       "version_minor": 0
      },
      "text/plain": [
       "Validation: 0it [00:00, ?it/s]"
      ]
     },
     "metadata": {},
     "output_type": "display_data"
    },
    {
     "name": "stdout",
     "output_type": "stream",
     "text": [
      "validation nmae: 0.1659\n",
      "training nmae: 0.128\n"
     ]
    },
    {
     "data": {
      "application/vnd.jupyter.widget-view+json": {
       "model_id": "",
       "version_major": 2,
       "version_minor": 0
      },
      "text/plain": [
       "Validation: 0it [00:00, ?it/s]"
      ]
     },
     "metadata": {},
     "output_type": "display_data"
    },
    {
     "name": "stdout",
     "output_type": "stream",
     "text": [
      "validation nmae: 0.2047\n",
      "training nmae: 0.1276\n"
     ]
    },
    {
     "data": {
      "application/vnd.jupyter.widget-view+json": {
       "model_id": "",
       "version_major": 2,
       "version_minor": 0
      },
      "text/plain": [
       "Validation: 0it [00:00, ?it/s]"
      ]
     },
     "metadata": {},
     "output_type": "display_data"
    },
    {
     "name": "stdout",
     "output_type": "stream",
     "text": [
      "validation nmae: 0.1526\n",
      "training nmae: 0.1241\n"
     ]
    },
    {
     "data": {
      "application/vnd.jupyter.widget-view+json": {
       "model_id": "",
       "version_major": 2,
       "version_minor": 0
      },
      "text/plain": [
       "Validation: 0it [00:00, ?it/s]"
      ]
     },
     "metadata": {},
     "output_type": "display_data"
    },
    {
     "name": "stdout",
     "output_type": "stream",
     "text": [
      "validation nmae: 0.1546\n",
      "training nmae: 0.1193\n"
     ]
    },
    {
     "data": {
      "application/vnd.jupyter.widget-view+json": {
       "model_id": "",
       "version_major": 2,
       "version_minor": 0
      },
      "text/plain": [
       "Validation: 0it [00:00, ?it/s]"
      ]
     },
     "metadata": {},
     "output_type": "display_data"
    },
    {
     "name": "stdout",
     "output_type": "stream",
     "text": [
      "validation nmae: 0.2007\n",
      "training nmae: 0.1175\n"
     ]
    },
    {
     "data": {
      "application/vnd.jupyter.widget-view+json": {
       "model_id": "",
       "version_major": 2,
       "version_minor": 0
      },
      "text/plain": [
       "Validation: 0it [00:00, ?it/s]"
      ]
     },
     "metadata": {},
     "output_type": "display_data"
    },
    {
     "name": "stdout",
     "output_type": "stream",
     "text": [
      "validation nmae: 0.2067\n",
      "training nmae: 0.1143\n"
     ]
    },
    {
     "data": {
      "application/vnd.jupyter.widget-view+json": {
       "model_id": "",
       "version_major": 2,
       "version_minor": 0
      },
      "text/plain": [
       "Validation: 0it [00:00, ?it/s]"
      ]
     },
     "metadata": {},
     "output_type": "display_data"
    },
    {
     "name": "stdout",
     "output_type": "stream",
     "text": [
      "validation nmae: 0.1973\n",
      "training nmae: 0.1174\n"
     ]
    },
    {
     "data": {
      "application/vnd.jupyter.widget-view+json": {
       "model_id": "",
       "version_major": 2,
       "version_minor": 0
      },
      "text/plain": [
       "Validation: 0it [00:00, ?it/s]"
      ]
     },
     "metadata": {},
     "output_type": "display_data"
    },
    {
     "name": "stdout",
     "output_type": "stream",
     "text": [
      "validation nmae: 0.1787\n",
      "training nmae: 0.1202\n"
     ]
    },
    {
     "data": {
      "application/vnd.jupyter.widget-view+json": {
       "model_id": "",
       "version_major": 2,
       "version_minor": 0
      },
      "text/plain": [
       "Validation: 0it [00:00, ?it/s]"
      ]
     },
     "metadata": {},
     "output_type": "display_data"
    },
    {
     "name": "stdout",
     "output_type": "stream",
     "text": [
      "validation nmae: 0.1572\n",
      "training nmae: 0.1227\n"
     ]
    },
    {
     "data": {
      "application/vnd.jupyter.widget-view+json": {
       "model_id": "",
       "version_major": 2,
       "version_minor": 0
      },
      "text/plain": [
       "Validation: 0it [00:00, ?it/s]"
      ]
     },
     "metadata": {},
     "output_type": "display_data"
    },
    {
     "name": "stdout",
     "output_type": "stream",
     "text": [
      "validation nmae: 0.1514\n",
      "training nmae: 0.1217\n"
     ]
    },
    {
     "name": "stderr",
     "output_type": "stream",
     "text": [
      "Using 16bit native Automatic Mixed Precision (AMP)\n",
      "GPU available: True, used: True\n",
      "TPU available: False, using: 0 TPU cores\n",
      "IPU available: False, using: 0 IPUs\n",
      "HPU available: False, using: 0 HPUs\n",
      "LOCAL_RANK: 0 - CUDA_VISIBLE_DEVICES: [0]\n",
      "\n",
      "  | Name            | Type               | Params\n",
      "-------------------------------------------------------\n",
      "0 | model           | CNN_RNN            | 4.4 M \n",
      "1 | train_nmae      | NMAE               | 0     \n",
      "2 | valid_nmae      | NMAE               | 0     \n",
      "3 | augment_dataset | PYTORCH_AUGMENTSET | 0     \n",
      "4 | train_dataset   | PYTORCH_DATASET    | 0     \n",
      "5 | val_dataset     | PYTORCH_DATASET    | 0     \n",
      "6 | predict_dataset | PYTORCH_PREDICTSET | 0     \n",
      "-------------------------------------------------------\n",
      "4.4 M     Trainable params\n",
      "0         Non-trainable params\n",
      "4.4 M     Total params\n",
      "8.707     Total estimated model params size (MB)\n"
     ]
    },
    {
     "name": "stdout",
     "output_type": "stream",
     "text": [
      "1\n"
     ]
    },
    {
     "data": {
      "application/vnd.jupyter.widget-view+json": {
       "model_id": "",
       "version_major": 2,
       "version_minor": 0
      },
      "text/plain": [
       "Sanity Checking: 0it [00:00, ?it/s]"
      ]
     },
     "metadata": {},
     "output_type": "display_data"
    },
    {
     "name": "stdout",
     "output_type": "stream",
     "text": [
      "validation nmae: 1.001\n"
     ]
    },
    {
     "data": {
      "application/vnd.jupyter.widget-view+json": {
       "model_id": "53330ff9c6264ffbbb2f46fd6aca6d5f",
       "version_major": 2,
       "version_minor": 0
      },
      "text/plain": [
       "Training: 0it [00:00, ?it/s]"
      ]
     },
     "metadata": {},
     "output_type": "display_data"
    },
    {
     "data": {
      "application/vnd.jupyter.widget-view+json": {
       "model_id": "",
       "version_major": 2,
       "version_minor": 0
      },
      "text/plain": [
       "Validation: 0it [00:00, ?it/s]"
      ]
     },
     "metadata": {},
     "output_type": "display_data"
    },
    {
     "name": "stdout",
     "output_type": "stream",
     "text": [
      "validation nmae: 0.2329\n",
      "training nmae: 0.5978\n"
     ]
    },
    {
     "data": {
      "application/vnd.jupyter.widget-view+json": {
       "model_id": "",
       "version_major": 2,
       "version_minor": 0
      },
      "text/plain": [
       "Validation: 0it [00:00, ?it/s]"
      ]
     },
     "metadata": {},
     "output_type": "display_data"
    },
    {
     "name": "stdout",
     "output_type": "stream",
     "text": [
      "validation nmae: 0.115\n",
      "training nmae: 0.2828\n"
     ]
    },
    {
     "data": {
      "application/vnd.jupyter.widget-view+json": {
       "model_id": "",
       "version_major": 2,
       "version_minor": 0
      },
      "text/plain": [
       "Validation: 0it [00:00, ?it/s]"
      ]
     },
     "metadata": {},
     "output_type": "display_data"
    },
    {
     "name": "stdout",
     "output_type": "stream",
     "text": [
      "validation nmae: 0.1147\n",
      "training nmae: 0.2752\n"
     ]
    },
    {
     "data": {
      "application/vnd.jupyter.widget-view+json": {
       "model_id": "",
       "version_major": 2,
       "version_minor": 0
      },
      "text/plain": [
       "Validation: 0it [00:00, ?it/s]"
      ]
     },
     "metadata": {},
     "output_type": "display_data"
    },
    {
     "name": "stdout",
     "output_type": "stream",
     "text": [
      "validation nmae: 0.6027\n",
      "training nmae: 0.257\n"
     ]
    },
    {
     "data": {
      "application/vnd.jupyter.widget-view+json": {
       "model_id": "",
       "version_major": 2,
       "version_minor": 0
      },
      "text/plain": [
       "Validation: 0it [00:00, ?it/s]"
      ]
     },
     "metadata": {},
     "output_type": "display_data"
    },
    {
     "name": "stdout",
     "output_type": "stream",
     "text": [
      "validation nmae: 0.1532\n",
      "training nmae: 0.236\n"
     ]
    },
    {
     "data": {
      "application/vnd.jupyter.widget-view+json": {
       "model_id": "",
       "version_major": 2,
       "version_minor": 0
      },
      "text/plain": [
       "Validation: 0it [00:00, ?it/s]"
      ]
     },
     "metadata": {},
     "output_type": "display_data"
    },
    {
     "name": "stdout",
     "output_type": "stream",
     "text": [
      "validation nmae: 0.1208\n",
      "training nmae: 0.2203\n"
     ]
    },
    {
     "data": {
      "application/vnd.jupyter.widget-view+json": {
       "model_id": "",
       "version_major": 2,
       "version_minor": 0
      },
      "text/plain": [
       "Validation: 0it [00:00, ?it/s]"
      ]
     },
     "metadata": {},
     "output_type": "display_data"
    },
    {
     "name": "stdout",
     "output_type": "stream",
     "text": [
      "validation nmae: 0.2167\n",
      "training nmae: 0.2027\n"
     ]
    },
    {
     "data": {
      "application/vnd.jupyter.widget-view+json": {
       "model_id": "",
       "version_major": 2,
       "version_minor": 0
      },
      "text/plain": [
       "Validation: 0it [00:00, ?it/s]"
      ]
     },
     "metadata": {},
     "output_type": "display_data"
    },
    {
     "name": "stdout",
     "output_type": "stream",
     "text": [
      "validation nmae: 0.07085\n",
      "training nmae: 0.2163\n"
     ]
    },
    {
     "data": {
      "application/vnd.jupyter.widget-view+json": {
       "model_id": "",
       "version_major": 2,
       "version_minor": 0
      },
      "text/plain": [
       "Validation: 0it [00:00, ?it/s]"
      ]
     },
     "metadata": {},
     "output_type": "display_data"
    },
    {
     "name": "stdout",
     "output_type": "stream",
     "text": [
      "validation nmae: 0.1573\n",
      "training nmae: 0.183\n"
     ]
    },
    {
     "data": {
      "application/vnd.jupyter.widget-view+json": {
       "model_id": "",
       "version_major": 2,
       "version_minor": 0
      },
      "text/plain": [
       "Validation: 0it [00:00, ?it/s]"
      ]
     },
     "metadata": {},
     "output_type": "display_data"
    },
    {
     "name": "stdout",
     "output_type": "stream",
     "text": [
      "validation nmae: 0.08782\n",
      "training nmae: 0.1862\n"
     ]
    },
    {
     "data": {
      "application/vnd.jupyter.widget-view+json": {
       "model_id": "",
       "version_major": 2,
       "version_minor": 0
      },
      "text/plain": [
       "Validation: 0it [00:00, ?it/s]"
      ]
     },
     "metadata": {},
     "output_type": "display_data"
    },
    {
     "name": "stdout",
     "output_type": "stream",
     "text": [
      "validation nmae: 0.1352\n",
      "training nmae: 0.1717\n"
     ]
    },
    {
     "data": {
      "application/vnd.jupyter.widget-view+json": {
       "model_id": "",
       "version_major": 2,
       "version_minor": 0
      },
      "text/plain": [
       "Validation: 0it [00:00, ?it/s]"
      ]
     },
     "metadata": {},
     "output_type": "display_data"
    },
    {
     "name": "stdout",
     "output_type": "stream",
     "text": [
      "validation nmae: 0.1304\n",
      "training nmae: 0.175\n"
     ]
    },
    {
     "data": {
      "application/vnd.jupyter.widget-view+json": {
       "model_id": "",
       "version_major": 2,
       "version_minor": 0
      },
      "text/plain": [
       "Validation: 0it [00:00, ?it/s]"
      ]
     },
     "metadata": {},
     "output_type": "display_data"
    },
    {
     "name": "stdout",
     "output_type": "stream",
     "text": [
      "validation nmae: 0.1945\n",
      "training nmae: 0.1791\n"
     ]
    },
    {
     "data": {
      "application/vnd.jupyter.widget-view+json": {
       "model_id": "",
       "version_major": 2,
       "version_minor": 0
      },
      "text/plain": [
       "Validation: 0it [00:00, ?it/s]"
      ]
     },
     "metadata": {},
     "output_type": "display_data"
    },
    {
     "name": "stdout",
     "output_type": "stream",
     "text": [
      "validation nmae: 0.1606\n",
      "training nmae: 0.1853\n"
     ]
    },
    {
     "data": {
      "application/vnd.jupyter.widget-view+json": {
       "model_id": "",
       "version_major": 2,
       "version_minor": 0
      },
      "text/plain": [
       "Validation: 0it [00:00, ?it/s]"
      ]
     },
     "metadata": {},
     "output_type": "display_data"
    },
    {
     "name": "stdout",
     "output_type": "stream",
     "text": [
      "validation nmae: 0.07219\n",
      "training nmae: 0.1632\n"
     ]
    },
    {
     "data": {
      "application/vnd.jupyter.widget-view+json": {
       "model_id": "",
       "version_major": 2,
       "version_minor": 0
      },
      "text/plain": [
       "Validation: 0it [00:00, ?it/s]"
      ]
     },
     "metadata": {},
     "output_type": "display_data"
    },
    {
     "name": "stdout",
     "output_type": "stream",
     "text": [
      "validation nmae: 0.1184\n",
      "training nmae: 0.1532\n"
     ]
    },
    {
     "data": {
      "application/vnd.jupyter.widget-view+json": {
       "model_id": "",
       "version_major": 2,
       "version_minor": 0
      },
      "text/plain": [
       "Validation: 0it [00:00, ?it/s]"
      ]
     },
     "metadata": {},
     "output_type": "display_data"
    },
    {
     "name": "stdout",
     "output_type": "stream",
     "text": [
      "validation nmae: 0.07063\n",
      "training nmae: 0.1713\n"
     ]
    },
    {
     "data": {
      "application/vnd.jupyter.widget-view+json": {
       "model_id": "",
       "version_major": 2,
       "version_minor": 0
      },
      "text/plain": [
       "Validation: 0it [00:00, ?it/s]"
      ]
     },
     "metadata": {},
     "output_type": "display_data"
    },
    {
     "name": "stdout",
     "output_type": "stream",
     "text": [
      "validation nmae: 0.1903\n",
      "training nmae: 0.1581\n"
     ]
    },
    {
     "data": {
      "application/vnd.jupyter.widget-view+json": {
       "model_id": "",
       "version_major": 2,
       "version_minor": 0
      },
      "text/plain": [
       "Validation: 0it [00:00, ?it/s]"
      ]
     },
     "metadata": {},
     "output_type": "display_data"
    },
    {
     "name": "stdout",
     "output_type": "stream",
     "text": [
      "validation nmae: 0.1093\n",
      "training nmae: 0.1596\n"
     ]
    },
    {
     "data": {
      "application/vnd.jupyter.widget-view+json": {
       "model_id": "",
       "version_major": 2,
       "version_minor": 0
      },
      "text/plain": [
       "Validation: 0it [00:00, ?it/s]"
      ]
     },
     "metadata": {},
     "output_type": "display_data"
    },
    {
     "name": "stdout",
     "output_type": "stream",
     "text": [
      "validation nmae: 0.1004\n",
      "training nmae: 0.1474\n"
     ]
    },
    {
     "data": {
      "application/vnd.jupyter.widget-view+json": {
       "model_id": "",
       "version_major": 2,
       "version_minor": 0
      },
      "text/plain": [
       "Validation: 0it [00:00, ?it/s]"
      ]
     },
     "metadata": {},
     "output_type": "display_data"
    },
    {
     "name": "stdout",
     "output_type": "stream",
     "text": [
      "validation nmae: 0.08346\n",
      "training nmae: 0.147\n"
     ]
    },
    {
     "data": {
      "application/vnd.jupyter.widget-view+json": {
       "model_id": "",
       "version_major": 2,
       "version_minor": 0
      },
      "text/plain": [
       "Validation: 0it [00:00, ?it/s]"
      ]
     },
     "metadata": {},
     "output_type": "display_data"
    },
    {
     "name": "stdout",
     "output_type": "stream",
     "text": [
      "validation nmae: 0.1116\n",
      "training nmae: 0.1577\n"
     ]
    },
    {
     "data": {
      "application/vnd.jupyter.widget-view+json": {
       "model_id": "",
       "version_major": 2,
       "version_minor": 0
      },
      "text/plain": [
       "Validation: 0it [00:00, ?it/s]"
      ]
     },
     "metadata": {},
     "output_type": "display_data"
    },
    {
     "name": "stdout",
     "output_type": "stream",
     "text": [
      "validation nmae: 0.3391\n",
      "training nmae: 0.1831\n"
     ]
    },
    {
     "data": {
      "application/vnd.jupyter.widget-view+json": {
       "model_id": "",
       "version_major": 2,
       "version_minor": 0
      },
      "text/plain": [
       "Validation: 0it [00:00, ?it/s]"
      ]
     },
     "metadata": {},
     "output_type": "display_data"
    },
    {
     "name": "stdout",
     "output_type": "stream",
     "text": [
      "validation nmae: 0.1056\n",
      "training nmae: 0.1616\n"
     ]
    },
    {
     "data": {
      "application/vnd.jupyter.widget-view+json": {
       "model_id": "",
       "version_major": 2,
       "version_minor": 0
      },
      "text/plain": [
       "Validation: 0it [00:00, ?it/s]"
      ]
     },
     "metadata": {},
     "output_type": "display_data"
    },
    {
     "name": "stdout",
     "output_type": "stream",
     "text": [
      "validation nmae: 0.1171\n",
      "training nmae: 0.1456\n"
     ]
    },
    {
     "data": {
      "application/vnd.jupyter.widget-view+json": {
       "model_id": "",
       "version_major": 2,
       "version_minor": 0
      },
      "text/plain": [
       "Validation: 0it [00:00, ?it/s]"
      ]
     },
     "metadata": {},
     "output_type": "display_data"
    },
    {
     "name": "stdout",
     "output_type": "stream",
     "text": [
      "validation nmae: 0.1075\n",
      "training nmae: 0.1448\n"
     ]
    },
    {
     "data": {
      "application/vnd.jupyter.widget-view+json": {
       "model_id": "",
       "version_major": 2,
       "version_minor": 0
      },
      "text/plain": [
       "Validation: 0it [00:00, ?it/s]"
      ]
     },
     "metadata": {},
     "output_type": "display_data"
    },
    {
     "name": "stdout",
     "output_type": "stream",
     "text": [
      "validation nmae: 0.06253\n",
      "training nmae: 0.1437\n"
     ]
    },
    {
     "data": {
      "application/vnd.jupyter.widget-view+json": {
       "model_id": "",
       "version_major": 2,
       "version_minor": 0
      },
      "text/plain": [
       "Validation: 0it [00:00, ?it/s]"
      ]
     },
     "metadata": {},
     "output_type": "display_data"
    },
    {
     "name": "stdout",
     "output_type": "stream",
     "text": [
      "validation nmae: 0.09647\n",
      "training nmae: 0.1305\n"
     ]
    },
    {
     "data": {
      "application/vnd.jupyter.widget-view+json": {
       "model_id": "",
       "version_major": 2,
       "version_minor": 0
      },
      "text/plain": [
       "Validation: 0it [00:00, ?it/s]"
      ]
     },
     "metadata": {},
     "output_type": "display_data"
    },
    {
     "name": "stdout",
     "output_type": "stream",
     "text": [
      "validation nmae: 0.1184\n",
      "training nmae: 0.1455\n"
     ]
    },
    {
     "data": {
      "application/vnd.jupyter.widget-view+json": {
       "model_id": "",
       "version_major": 2,
       "version_minor": 0
      },
      "text/plain": [
       "Validation: 0it [00:00, ?it/s]"
      ]
     },
     "metadata": {},
     "output_type": "display_data"
    },
    {
     "name": "stdout",
     "output_type": "stream",
     "text": [
      "validation nmae: 0.2467\n",
      "training nmae: 0.1438\n"
     ]
    },
    {
     "data": {
      "application/vnd.jupyter.widget-view+json": {
       "model_id": "",
       "version_major": 2,
       "version_minor": 0
      },
      "text/plain": [
       "Validation: 0it [00:00, ?it/s]"
      ]
     },
     "metadata": {},
     "output_type": "display_data"
    },
    {
     "name": "stdout",
     "output_type": "stream",
     "text": [
      "validation nmae: 0.07365\n",
      "training nmae: 0.1483\n"
     ]
    },
    {
     "data": {
      "application/vnd.jupyter.widget-view+json": {
       "model_id": "",
       "version_major": 2,
       "version_minor": 0
      },
      "text/plain": [
       "Validation: 0it [00:00, ?it/s]"
      ]
     },
     "metadata": {},
     "output_type": "display_data"
    },
    {
     "name": "stdout",
     "output_type": "stream",
     "text": [
      "validation nmae: 0.07228\n",
      "training nmae: 0.1345\n"
     ]
    },
    {
     "data": {
      "application/vnd.jupyter.widget-view+json": {
       "model_id": "",
       "version_major": 2,
       "version_minor": 0
      },
      "text/plain": [
       "Validation: 0it [00:00, ?it/s]"
      ]
     },
     "metadata": {},
     "output_type": "display_data"
    },
    {
     "name": "stdout",
     "output_type": "stream",
     "text": [
      "validation nmae: 0.06339\n",
      "training nmae: 0.143\n"
     ]
    },
    {
     "data": {
      "application/vnd.jupyter.widget-view+json": {
       "model_id": "",
       "version_major": 2,
       "version_minor": 0
      },
      "text/plain": [
       "Validation: 0it [00:00, ?it/s]"
      ]
     },
     "metadata": {},
     "output_type": "display_data"
    },
    {
     "name": "stdout",
     "output_type": "stream",
     "text": [
      "validation nmae: 0.1713\n",
      "training nmae: 0.1416\n"
     ]
    },
    {
     "data": {
      "application/vnd.jupyter.widget-view+json": {
       "model_id": "",
       "version_major": 2,
       "version_minor": 0
      },
      "text/plain": [
       "Validation: 0it [00:00, ?it/s]"
      ]
     },
     "metadata": {},
     "output_type": "display_data"
    },
    {
     "name": "stdout",
     "output_type": "stream",
     "text": [
      "validation nmae: 0.1149\n",
      "training nmae: 0.143\n"
     ]
    },
    {
     "data": {
      "application/vnd.jupyter.widget-view+json": {
       "model_id": "",
       "version_major": 2,
       "version_minor": 0
      },
      "text/plain": [
       "Validation: 0it [00:00, ?it/s]"
      ]
     },
     "metadata": {},
     "output_type": "display_data"
    },
    {
     "name": "stdout",
     "output_type": "stream",
     "text": [
      "validation nmae: 0.06605\n",
      "training nmae: 0.1368\n"
     ]
    },
    {
     "data": {
      "application/vnd.jupyter.widget-view+json": {
       "model_id": "",
       "version_major": 2,
       "version_minor": 0
      },
      "text/plain": [
       "Validation: 0it [00:00, ?it/s]"
      ]
     },
     "metadata": {},
     "output_type": "display_data"
    },
    {
     "name": "stdout",
     "output_type": "stream",
     "text": [
      "validation nmae: 0.1293\n",
      "training nmae: 0.1294\n"
     ]
    },
    {
     "data": {
      "application/vnd.jupyter.widget-view+json": {
       "model_id": "",
       "version_major": 2,
       "version_minor": 0
      },
      "text/plain": [
       "Validation: 0it [00:00, ?it/s]"
      ]
     },
     "metadata": {},
     "output_type": "display_data"
    },
    {
     "name": "stdout",
     "output_type": "stream",
     "text": [
      "validation nmae: 0.1299\n",
      "training nmae: 0.1358\n"
     ]
    },
    {
     "data": {
      "application/vnd.jupyter.widget-view+json": {
       "model_id": "",
       "version_major": 2,
       "version_minor": 0
      },
      "text/plain": [
       "Validation: 0it [00:00, ?it/s]"
      ]
     },
     "metadata": {},
     "output_type": "display_data"
    },
    {
     "name": "stdout",
     "output_type": "stream",
     "text": [
      "validation nmae: 0.07257\n",
      "training nmae: 0.1382\n"
     ]
    },
    {
     "data": {
      "application/vnd.jupyter.widget-view+json": {
       "model_id": "",
       "version_major": 2,
       "version_minor": 0
      },
      "text/plain": [
       "Validation: 0it [00:00, ?it/s]"
      ]
     },
     "metadata": {},
     "output_type": "display_data"
    },
    {
     "name": "stdout",
     "output_type": "stream",
     "text": [
      "validation nmae: 0.07491\n",
      "training nmae: 0.1301\n"
     ]
    },
    {
     "data": {
      "application/vnd.jupyter.widget-view+json": {
       "model_id": "",
       "version_major": 2,
       "version_minor": 0
      },
      "text/plain": [
       "Validation: 0it [00:00, ?it/s]"
      ]
     },
     "metadata": {},
     "output_type": "display_data"
    },
    {
     "name": "stdout",
     "output_type": "stream",
     "text": [
      "validation nmae: 0.07731\n",
      "training nmae: 0.1307\n"
     ]
    },
    {
     "data": {
      "application/vnd.jupyter.widget-view+json": {
       "model_id": "",
       "version_major": 2,
       "version_minor": 0
      },
      "text/plain": [
       "Validation: 0it [00:00, ?it/s]"
      ]
     },
     "metadata": {},
     "output_type": "display_data"
    },
    {
     "name": "stdout",
     "output_type": "stream",
     "text": [
      "validation nmae: 0.09666\n",
      "training nmae: 0.13\n"
     ]
    },
    {
     "data": {
      "application/vnd.jupyter.widget-view+json": {
       "model_id": "",
       "version_major": 2,
       "version_minor": 0
      },
      "text/plain": [
       "Validation: 0it [00:00, ?it/s]"
      ]
     },
     "metadata": {},
     "output_type": "display_data"
    },
    {
     "name": "stdout",
     "output_type": "stream",
     "text": [
      "validation nmae: 0.06488\n",
      "training nmae: 0.1454\n"
     ]
    },
    {
     "data": {
      "application/vnd.jupyter.widget-view+json": {
       "model_id": "",
       "version_major": 2,
       "version_minor": 0
      },
      "text/plain": [
       "Validation: 0it [00:00, ?it/s]"
      ]
     },
     "metadata": {},
     "output_type": "display_data"
    },
    {
     "name": "stdout",
     "output_type": "stream",
     "text": [
      "validation nmae: 0.1135\n",
      "training nmae: 0.1428\n"
     ]
    },
    {
     "data": {
      "application/vnd.jupyter.widget-view+json": {
       "model_id": "",
       "version_major": 2,
       "version_minor": 0
      },
      "text/plain": [
       "Validation: 0it [00:00, ?it/s]"
      ]
     },
     "metadata": {},
     "output_type": "display_data"
    },
    {
     "name": "stdout",
     "output_type": "stream",
     "text": [
      "validation nmae: 0.07161\n",
      "training nmae: 0.1253\n"
     ]
    },
    {
     "data": {
      "application/vnd.jupyter.widget-view+json": {
       "model_id": "",
       "version_major": 2,
       "version_minor": 0
      },
      "text/plain": [
       "Validation: 0it [00:00, ?it/s]"
      ]
     },
     "metadata": {},
     "output_type": "display_data"
    },
    {
     "name": "stdout",
     "output_type": "stream",
     "text": [
      "validation nmae: 0.08152\n",
      "training nmae: 0.1307\n"
     ]
    },
    {
     "data": {
      "application/vnd.jupyter.widget-view+json": {
       "model_id": "",
       "version_major": 2,
       "version_minor": 0
      },
      "text/plain": [
       "Validation: 0it [00:00, ?it/s]"
      ]
     },
     "metadata": {},
     "output_type": "display_data"
    },
    {
     "name": "stdout",
     "output_type": "stream",
     "text": [
      "validation nmae: 0.1279\n",
      "training nmae: 0.1385\n"
     ]
    },
    {
     "data": {
      "application/vnd.jupyter.widget-view+json": {
       "model_id": "",
       "version_major": 2,
       "version_minor": 0
      },
      "text/plain": [
       "Validation: 0it [00:00, ?it/s]"
      ]
     },
     "metadata": {},
     "output_type": "display_data"
    },
    {
     "name": "stdout",
     "output_type": "stream",
     "text": [
      "validation nmae: 0.1263\n",
      "training nmae: 0.1259\n"
     ]
    },
    {
     "data": {
      "application/vnd.jupyter.widget-view+json": {
       "model_id": "",
       "version_major": 2,
       "version_minor": 0
      },
      "text/plain": [
       "Validation: 0it [00:00, ?it/s]"
      ]
     },
     "metadata": {},
     "output_type": "display_data"
    },
    {
     "name": "stdout",
     "output_type": "stream",
     "text": [
      "validation nmae: 0.09708\n",
      "training nmae: 0.1338\n"
     ]
    },
    {
     "data": {
      "application/vnd.jupyter.widget-view+json": {
       "model_id": "",
       "version_major": 2,
       "version_minor": 0
      },
      "text/plain": [
       "Validation: 0it [00:00, ?it/s]"
      ]
     },
     "metadata": {},
     "output_type": "display_data"
    },
    {
     "name": "stdout",
     "output_type": "stream",
     "text": [
      "validation nmae: 0.06809\n",
      "training nmae: 0.134\n"
     ]
    },
    {
     "data": {
      "application/vnd.jupyter.widget-view+json": {
       "model_id": "",
       "version_major": 2,
       "version_minor": 0
      },
      "text/plain": [
       "Validation: 0it [00:00, ?it/s]"
      ]
     },
     "metadata": {},
     "output_type": "display_data"
    },
    {
     "name": "stdout",
     "output_type": "stream",
     "text": [
      "validation nmae: 0.116\n",
      "training nmae: 0.1296\n"
     ]
    },
    {
     "data": {
      "application/vnd.jupyter.widget-view+json": {
       "model_id": "",
       "version_major": 2,
       "version_minor": 0
      },
      "text/plain": [
       "Validation: 0it [00:00, ?it/s]"
      ]
     },
     "metadata": {},
     "output_type": "display_data"
    },
    {
     "name": "stdout",
     "output_type": "stream",
     "text": [
      "validation nmae: 0.1423\n",
      "training nmae: 0.131\n"
     ]
    },
    {
     "data": {
      "application/vnd.jupyter.widget-view+json": {
       "model_id": "",
       "version_major": 2,
       "version_minor": 0
      },
      "text/plain": [
       "Validation: 0it [00:00, ?it/s]"
      ]
     },
     "metadata": {},
     "output_type": "display_data"
    },
    {
     "name": "stdout",
     "output_type": "stream",
     "text": [
      "validation nmae: 0.06922\n",
      "training nmae: 0.132\n"
     ]
    },
    {
     "data": {
      "application/vnd.jupyter.widget-view+json": {
       "model_id": "",
       "version_major": 2,
       "version_minor": 0
      },
      "text/plain": [
       "Validation: 0it [00:00, ?it/s]"
      ]
     },
     "metadata": {},
     "output_type": "display_data"
    },
    {
     "name": "stdout",
     "output_type": "stream",
     "text": [
      "validation nmae: 0.1847\n",
      "training nmae: 0.1287\n"
     ]
    },
    {
     "data": {
      "application/vnd.jupyter.widget-view+json": {
       "model_id": "",
       "version_major": 2,
       "version_minor": 0
      },
      "text/plain": [
       "Validation: 0it [00:00, ?it/s]"
      ]
     },
     "metadata": {},
     "output_type": "display_data"
    },
    {
     "name": "stdout",
     "output_type": "stream",
     "text": [
      "validation nmae: 0.073\n",
      "training nmae: 0.1266\n"
     ]
    },
    {
     "data": {
      "application/vnd.jupyter.widget-view+json": {
       "model_id": "",
       "version_major": 2,
       "version_minor": 0
      },
      "text/plain": [
       "Validation: 0it [00:00, ?it/s]"
      ]
     },
     "metadata": {},
     "output_type": "display_data"
    },
    {
     "name": "stdout",
     "output_type": "stream",
     "text": [
      "validation nmae: 0.08529\n",
      "training nmae: 0.1353\n"
     ]
    },
    {
     "data": {
      "application/vnd.jupyter.widget-view+json": {
       "model_id": "",
       "version_major": 2,
       "version_minor": 0
      },
      "text/plain": [
       "Validation: 0it [00:00, ?it/s]"
      ]
     },
     "metadata": {},
     "output_type": "display_data"
    },
    {
     "name": "stdout",
     "output_type": "stream",
     "text": [
      "validation nmae: 0.08341\n",
      "training nmae: 0.1246\n"
     ]
    },
    {
     "data": {
      "application/vnd.jupyter.widget-view+json": {
       "model_id": "",
       "version_major": 2,
       "version_minor": 0
      },
      "text/plain": [
       "Validation: 0it [00:00, ?it/s]"
      ]
     },
     "metadata": {},
     "output_type": "display_data"
    },
    {
     "name": "stdout",
     "output_type": "stream",
     "text": [
      "validation nmae: 0.07679\n",
      "training nmae: 0.1262\n"
     ]
    },
    {
     "data": {
      "application/vnd.jupyter.widget-view+json": {
       "model_id": "",
       "version_major": 2,
       "version_minor": 0
      },
      "text/plain": [
       "Validation: 0it [00:00, ?it/s]"
      ]
     },
     "metadata": {},
     "output_type": "display_data"
    },
    {
     "name": "stdout",
     "output_type": "stream",
     "text": [
      "validation nmae: 0.08196\n",
      "training nmae: 0.125\n"
     ]
    },
    {
     "data": {
      "application/vnd.jupyter.widget-view+json": {
       "model_id": "",
       "version_major": 2,
       "version_minor": 0
      },
      "text/plain": [
       "Validation: 0it [00:00, ?it/s]"
      ]
     },
     "metadata": {},
     "output_type": "display_data"
    },
    {
     "name": "stdout",
     "output_type": "stream",
     "text": [
      "validation nmae: 0.07005\n",
      "training nmae: 0.1232\n"
     ]
    },
    {
     "data": {
      "application/vnd.jupyter.widget-view+json": {
       "model_id": "",
       "version_major": 2,
       "version_minor": 0
      },
      "text/plain": [
       "Validation: 0it [00:00, ?it/s]"
      ]
     },
     "metadata": {},
     "output_type": "display_data"
    },
    {
     "name": "stdout",
     "output_type": "stream",
     "text": [
      "validation nmae: 0.07659\n",
      "training nmae: 0.1198\n"
     ]
    },
    {
     "data": {
      "application/vnd.jupyter.widget-view+json": {
       "model_id": "",
       "version_major": 2,
       "version_minor": 0
      },
      "text/plain": [
       "Validation: 0it [00:00, ?it/s]"
      ]
     },
     "metadata": {},
     "output_type": "display_data"
    },
    {
     "name": "stdout",
     "output_type": "stream",
     "text": [
      "validation nmae: 0.06694\n",
      "training nmae: 0.1231\n"
     ]
    },
    {
     "data": {
      "application/vnd.jupyter.widget-view+json": {
       "model_id": "",
       "version_major": 2,
       "version_minor": 0
      },
      "text/plain": [
       "Validation: 0it [00:00, ?it/s]"
      ]
     },
     "metadata": {},
     "output_type": "display_data"
    },
    {
     "name": "stdout",
     "output_type": "stream",
     "text": [
      "validation nmae: 0.08828\n",
      "training nmae: 0.1254\n"
     ]
    },
    {
     "data": {
      "application/vnd.jupyter.widget-view+json": {
       "model_id": "",
       "version_major": 2,
       "version_minor": 0
      },
      "text/plain": [
       "Validation: 0it [00:00, ?it/s]"
      ]
     },
     "metadata": {},
     "output_type": "display_data"
    },
    {
     "name": "stdout",
     "output_type": "stream",
     "text": [
      "validation nmae: 0.08375\n",
      "training nmae: 0.1294\n"
     ]
    },
    {
     "data": {
      "application/vnd.jupyter.widget-view+json": {
       "model_id": "",
       "version_major": 2,
       "version_minor": 0
      },
      "text/plain": [
       "Validation: 0it [00:00, ?it/s]"
      ]
     },
     "metadata": {},
     "output_type": "display_data"
    },
    {
     "name": "stdout",
     "output_type": "stream",
     "text": [
      "validation nmae: 0.1362\n",
      "training nmae: 0.12\n"
     ]
    },
    {
     "data": {
      "application/vnd.jupyter.widget-view+json": {
       "model_id": "",
       "version_major": 2,
       "version_minor": 0
      },
      "text/plain": [
       "Validation: 0it [00:00, ?it/s]"
      ]
     },
     "metadata": {},
     "output_type": "display_data"
    },
    {
     "name": "stdout",
     "output_type": "stream",
     "text": [
      "validation nmae: 0.0749\n",
      "training nmae: 0.1175\n"
     ]
    },
    {
     "data": {
      "application/vnd.jupyter.widget-view+json": {
       "model_id": "",
       "version_major": 2,
       "version_minor": 0
      },
      "text/plain": [
       "Validation: 0it [00:00, ?it/s]"
      ]
     },
     "metadata": {},
     "output_type": "display_data"
    },
    {
     "name": "stdout",
     "output_type": "stream",
     "text": [
      "validation nmae: 0.1232\n",
      "training nmae: 0.1215\n"
     ]
    },
    {
     "data": {
      "application/vnd.jupyter.widget-view+json": {
       "model_id": "",
       "version_major": 2,
       "version_minor": 0
      },
      "text/plain": [
       "Validation: 0it [00:00, ?it/s]"
      ]
     },
     "metadata": {},
     "output_type": "display_data"
    },
    {
     "name": "stdout",
     "output_type": "stream",
     "text": [
      "validation nmae: 0.1058\n",
      "training nmae: 0.1286\n"
     ]
    },
    {
     "data": {
      "application/vnd.jupyter.widget-view+json": {
       "model_id": "",
       "version_major": 2,
       "version_minor": 0
      },
      "text/plain": [
       "Validation: 0it [00:00, ?it/s]"
      ]
     },
     "metadata": {},
     "output_type": "display_data"
    },
    {
     "name": "stdout",
     "output_type": "stream",
     "text": [
      "validation nmae: 0.05498\n",
      "training nmae: 0.128\n"
     ]
    },
    {
     "data": {
      "application/vnd.jupyter.widget-view+json": {
       "model_id": "",
       "version_major": 2,
       "version_minor": 0
      },
      "text/plain": [
       "Validation: 0it [00:00, ?it/s]"
      ]
     },
     "metadata": {},
     "output_type": "display_data"
    },
    {
     "name": "stdout",
     "output_type": "stream",
     "text": [
      "validation nmae: 0.07737\n",
      "training nmae: 0.1301\n"
     ]
    },
    {
     "name": "stderr",
     "output_type": "stream",
     "text": [
      "Using 16bit native Automatic Mixed Precision (AMP)\n",
      "GPU available: True, used: True\n",
      "TPU available: False, using: 0 TPU cores\n",
      "IPU available: False, using: 0 IPUs\n",
      "HPU available: False, using: 0 HPUs\n",
      "LOCAL_RANK: 0 - CUDA_VISIBLE_DEVICES: [0]\n",
      "\n",
      "  | Name            | Type               | Params\n",
      "-------------------------------------------------------\n",
      "0 | model           | CNN_RNN            | 4.4 M \n",
      "1 | train_nmae      | NMAE               | 0     \n",
      "2 | valid_nmae      | NMAE               | 0     \n",
      "3 | augment_dataset | PYTORCH_AUGMENTSET | 0     \n",
      "4 | train_dataset   | PYTORCH_DATASET    | 0     \n",
      "5 | val_dataset     | PYTORCH_DATASET    | 0     \n",
      "6 | predict_dataset | PYTORCH_PREDICTSET | 0     \n",
      "-------------------------------------------------------\n",
      "4.4 M     Trainable params\n",
      "0         Non-trainable params\n",
      "4.4 M     Total params\n",
      "8.707     Total estimated model params size (MB)\n"
     ]
    },
    {
     "name": "stdout",
     "output_type": "stream",
     "text": [
      "1\n"
     ]
    },
    {
     "data": {
      "application/vnd.jupyter.widget-view+json": {
       "model_id": "",
       "version_major": 2,
       "version_minor": 0
      },
      "text/plain": [
       "Sanity Checking: 0it [00:00, ?it/s]"
      ]
     },
     "metadata": {},
     "output_type": "display_data"
    },
    {
     "name": "stdout",
     "output_type": "stream",
     "text": [
      "validation nmae: 0.9963\n"
     ]
    },
    {
     "data": {
      "application/vnd.jupyter.widget-view+json": {
       "model_id": "fa8d26af24a942b189a57704104d5343",
       "version_major": 2,
       "version_minor": 0
      },
      "text/plain": [
       "Training: 0it [00:00, ?it/s]"
      ]
     },
     "metadata": {},
     "output_type": "display_data"
    },
    {
     "data": {
      "application/vnd.jupyter.widget-view+json": {
       "model_id": "",
       "version_major": 2,
       "version_minor": 0
      },
      "text/plain": [
       "Validation: 0it [00:00, ?it/s]"
      ]
     },
     "metadata": {},
     "output_type": "display_data"
    },
    {
     "name": "stdout",
     "output_type": "stream",
     "text": [
      "validation nmae: 0.2728\n",
      "training nmae: 0.6135\n"
     ]
    },
    {
     "data": {
      "application/vnd.jupyter.widget-view+json": {
       "model_id": "",
       "version_major": 2,
       "version_minor": 0
      },
      "text/plain": [
       "Validation: 0it [00:00, ?it/s]"
      ]
     },
     "metadata": {},
     "output_type": "display_data"
    },
    {
     "name": "stdout",
     "output_type": "stream",
     "text": [
      "validation nmae: 0.4101\n",
      "training nmae: 0.3025\n"
     ]
    },
    {
     "data": {
      "application/vnd.jupyter.widget-view+json": {
       "model_id": "",
       "version_major": 2,
       "version_minor": 0
      },
      "text/plain": [
       "Validation: 0it [00:00, ?it/s]"
      ]
     },
     "metadata": {},
     "output_type": "display_data"
    },
    {
     "name": "stdout",
     "output_type": "stream",
     "text": [
      "validation nmae: 0.1228\n",
      "training nmae: 0.2784\n"
     ]
    },
    {
     "data": {
      "application/vnd.jupyter.widget-view+json": {
       "model_id": "",
       "version_major": 2,
       "version_minor": 0
      },
      "text/plain": [
       "Validation: 0it [00:00, ?it/s]"
      ]
     },
     "metadata": {},
     "output_type": "display_data"
    },
    {
     "name": "stdout",
     "output_type": "stream",
     "text": [
      "validation nmae: 0.1392\n",
      "training nmae: 0.2349\n"
     ]
    },
    {
     "data": {
      "application/vnd.jupyter.widget-view+json": {
       "model_id": "",
       "version_major": 2,
       "version_minor": 0
      },
      "text/plain": [
       "Validation: 0it [00:00, ?it/s]"
      ]
     },
     "metadata": {},
     "output_type": "display_data"
    },
    {
     "name": "stdout",
     "output_type": "stream",
     "text": [
      "validation nmae: 0.1647\n",
      "training nmae: 0.2228\n"
     ]
    },
    {
     "data": {
      "application/vnd.jupyter.widget-view+json": {
       "model_id": "",
       "version_major": 2,
       "version_minor": 0
      },
      "text/plain": [
       "Validation: 0it [00:00, ?it/s]"
      ]
     },
     "metadata": {},
     "output_type": "display_data"
    },
    {
     "name": "stdout",
     "output_type": "stream",
     "text": [
      "validation nmae: 0.1848\n",
      "training nmae: 0.1957\n"
     ]
    },
    {
     "data": {
      "application/vnd.jupyter.widget-view+json": {
       "model_id": "",
       "version_major": 2,
       "version_minor": 0
      },
      "text/plain": [
       "Validation: 0it [00:00, ?it/s]"
      ]
     },
     "metadata": {},
     "output_type": "display_data"
    },
    {
     "name": "stdout",
     "output_type": "stream",
     "text": [
      "validation nmae: 0.1852\n",
      "training nmae: 0.1837\n"
     ]
    },
    {
     "data": {
      "application/vnd.jupyter.widget-view+json": {
       "model_id": "",
       "version_major": 2,
       "version_minor": 0
      },
      "text/plain": [
       "Validation: 0it [00:00, ?it/s]"
      ]
     },
     "metadata": {},
     "output_type": "display_data"
    },
    {
     "name": "stdout",
     "output_type": "stream",
     "text": [
      "validation nmae: 0.1965\n",
      "training nmae: 0.186\n"
     ]
    },
    {
     "data": {
      "application/vnd.jupyter.widget-view+json": {
       "model_id": "",
       "version_major": 2,
       "version_minor": 0
      },
      "text/plain": [
       "Validation: 0it [00:00, ?it/s]"
      ]
     },
     "metadata": {},
     "output_type": "display_data"
    },
    {
     "name": "stdout",
     "output_type": "stream",
     "text": [
      "validation nmae: 0.1267\n",
      "training nmae: 0.1738\n"
     ]
    },
    {
     "data": {
      "application/vnd.jupyter.widget-view+json": {
       "model_id": "",
       "version_major": 2,
       "version_minor": 0
      },
      "text/plain": [
       "Validation: 0it [00:00, ?it/s]"
      ]
     },
     "metadata": {},
     "output_type": "display_data"
    },
    {
     "name": "stdout",
     "output_type": "stream",
     "text": [
      "validation nmae: 0.1663\n",
      "training nmae: 0.1727\n"
     ]
    },
    {
     "data": {
      "application/vnd.jupyter.widget-view+json": {
       "model_id": "",
       "version_major": 2,
       "version_minor": 0
      },
      "text/plain": [
       "Validation: 0it [00:00, ?it/s]"
      ]
     },
     "metadata": {},
     "output_type": "display_data"
    },
    {
     "name": "stdout",
     "output_type": "stream",
     "text": [
      "validation nmae: 0.1202\n",
      "training nmae: 0.1857\n"
     ]
    },
    {
     "data": {
      "application/vnd.jupyter.widget-view+json": {
       "model_id": "",
       "version_major": 2,
       "version_minor": 0
      },
      "text/plain": [
       "Validation: 0it [00:00, ?it/s]"
      ]
     },
     "metadata": {},
     "output_type": "display_data"
    },
    {
     "name": "stdout",
     "output_type": "stream",
     "text": [
      "validation nmae: 0.08968\n",
      "training nmae: 0.1707\n"
     ]
    },
    {
     "data": {
      "application/vnd.jupyter.widget-view+json": {
       "model_id": "",
       "version_major": 2,
       "version_minor": 0
      },
      "text/plain": [
       "Validation: 0it [00:00, ?it/s]"
      ]
     },
     "metadata": {},
     "output_type": "display_data"
    },
    {
     "name": "stdout",
     "output_type": "stream",
     "text": [
      "validation nmae: 0.1086\n",
      "training nmae: 0.1639\n"
     ]
    },
    {
     "data": {
      "application/vnd.jupyter.widget-view+json": {
       "model_id": "",
       "version_major": 2,
       "version_minor": 0
      },
      "text/plain": [
       "Validation: 0it [00:00, ?it/s]"
      ]
     },
     "metadata": {},
     "output_type": "display_data"
    },
    {
     "name": "stdout",
     "output_type": "stream",
     "text": [
      "validation nmae: 0.146\n",
      "training nmae: 0.1833\n"
     ]
    },
    {
     "data": {
      "application/vnd.jupyter.widget-view+json": {
       "model_id": "",
       "version_major": 2,
       "version_minor": 0
      },
      "text/plain": [
       "Validation: 0it [00:00, ?it/s]"
      ]
     },
     "metadata": {},
     "output_type": "display_data"
    },
    {
     "name": "stdout",
     "output_type": "stream",
     "text": [
      "validation nmae: 0.111\n",
      "training nmae: 0.1516\n"
     ]
    },
    {
     "data": {
      "application/vnd.jupyter.widget-view+json": {
       "model_id": "",
       "version_major": 2,
       "version_minor": 0
      },
      "text/plain": [
       "Validation: 0it [00:00, ?it/s]"
      ]
     },
     "metadata": {},
     "output_type": "display_data"
    },
    {
     "name": "stdout",
     "output_type": "stream",
     "text": [
      "validation nmae: 0.1187\n",
      "training nmae: 0.1587\n"
     ]
    },
    {
     "data": {
      "application/vnd.jupyter.widget-view+json": {
       "model_id": "",
       "version_major": 2,
       "version_minor": 0
      },
      "text/plain": [
       "Validation: 0it [00:00, ?it/s]"
      ]
     },
     "metadata": {},
     "output_type": "display_data"
    },
    {
     "name": "stdout",
     "output_type": "stream",
     "text": [
      "validation nmae: 0.1015\n",
      "training nmae: 0.1836\n"
     ]
    },
    {
     "data": {
      "application/vnd.jupyter.widget-view+json": {
       "model_id": "",
       "version_major": 2,
       "version_minor": 0
      },
      "text/plain": [
       "Validation: 0it [00:00, ?it/s]"
      ]
     },
     "metadata": {},
     "output_type": "display_data"
    },
    {
     "name": "stdout",
     "output_type": "stream",
     "text": [
      "validation nmae: 0.1818\n",
      "training nmae: 0.1657\n"
     ]
    },
    {
     "data": {
      "application/vnd.jupyter.widget-view+json": {
       "model_id": "",
       "version_major": 2,
       "version_minor": 0
      },
      "text/plain": [
       "Validation: 0it [00:00, ?it/s]"
      ]
     },
     "metadata": {},
     "output_type": "display_data"
    },
    {
     "name": "stdout",
     "output_type": "stream",
     "text": [
      "validation nmae: 0.1687\n",
      "training nmae: 0.1535\n"
     ]
    },
    {
     "data": {
      "application/vnd.jupyter.widget-view+json": {
       "model_id": "",
       "version_major": 2,
       "version_minor": 0
      },
      "text/plain": [
       "Validation: 0it [00:00, ?it/s]"
      ]
     },
     "metadata": {},
     "output_type": "display_data"
    },
    {
     "name": "stdout",
     "output_type": "stream",
     "text": [
      "validation nmae: 0.08763\n",
      "training nmae: 0.1566\n"
     ]
    },
    {
     "data": {
      "application/vnd.jupyter.widget-view+json": {
       "model_id": "",
       "version_major": 2,
       "version_minor": 0
      },
      "text/plain": [
       "Validation: 0it [00:00, ?it/s]"
      ]
     },
     "metadata": {},
     "output_type": "display_data"
    },
    {
     "name": "stdout",
     "output_type": "stream",
     "text": [
      "validation nmae: 0.104\n",
      "training nmae: 0.1482\n"
     ]
    },
    {
     "data": {
      "application/vnd.jupyter.widget-view+json": {
       "model_id": "",
       "version_major": 2,
       "version_minor": 0
      },
      "text/plain": [
       "Validation: 0it [00:00, ?it/s]"
      ]
     },
     "metadata": {},
     "output_type": "display_data"
    },
    {
     "name": "stdout",
     "output_type": "stream",
     "text": [
      "validation nmae: 0.1348\n",
      "training nmae: 0.149\n"
     ]
    },
    {
     "data": {
      "application/vnd.jupyter.widget-view+json": {
       "model_id": "",
       "version_major": 2,
       "version_minor": 0
      },
      "text/plain": [
       "Validation: 0it [00:00, ?it/s]"
      ]
     },
     "metadata": {},
     "output_type": "display_data"
    },
    {
     "name": "stdout",
     "output_type": "stream",
     "text": [
      "validation nmae: 0.1583\n",
      "training nmae: 0.1512\n"
     ]
    },
    {
     "data": {
      "application/vnd.jupyter.widget-view+json": {
       "model_id": "",
       "version_major": 2,
       "version_minor": 0
      },
      "text/plain": [
       "Validation: 0it [00:00, ?it/s]"
      ]
     },
     "metadata": {},
     "output_type": "display_data"
    },
    {
     "name": "stdout",
     "output_type": "stream",
     "text": [
      "validation nmae: 0.1474\n",
      "training nmae: 0.1423\n"
     ]
    },
    {
     "data": {
      "application/vnd.jupyter.widget-view+json": {
       "model_id": "",
       "version_major": 2,
       "version_minor": 0
      },
      "text/plain": [
       "Validation: 0it [00:00, ?it/s]"
      ]
     },
     "metadata": {},
     "output_type": "display_data"
    },
    {
     "name": "stdout",
     "output_type": "stream",
     "text": [
      "validation nmae: 0.1097\n",
      "training nmae: 0.1521\n"
     ]
    },
    {
     "data": {
      "application/vnd.jupyter.widget-view+json": {
       "model_id": "",
       "version_major": 2,
       "version_minor": 0
      },
      "text/plain": [
       "Validation: 0it [00:00, ?it/s]"
      ]
     },
     "metadata": {},
     "output_type": "display_data"
    },
    {
     "name": "stdout",
     "output_type": "stream",
     "text": [
      "validation nmae: 0.1024\n",
      "training nmae: 0.1554\n"
     ]
    },
    {
     "data": {
      "application/vnd.jupyter.widget-view+json": {
       "model_id": "",
       "version_major": 2,
       "version_minor": 0
      },
      "text/plain": [
       "Validation: 0it [00:00, ?it/s]"
      ]
     },
     "metadata": {},
     "output_type": "display_data"
    },
    {
     "name": "stdout",
     "output_type": "stream",
     "text": [
      "validation nmae: 0.1123\n",
      "training nmae: 0.1455\n"
     ]
    },
    {
     "data": {
      "application/vnd.jupyter.widget-view+json": {
       "model_id": "",
       "version_major": 2,
       "version_minor": 0
      },
      "text/plain": [
       "Validation: 0it [00:00, ?it/s]"
      ]
     },
     "metadata": {},
     "output_type": "display_data"
    },
    {
     "name": "stdout",
     "output_type": "stream",
     "text": [
      "validation nmae: 0.0962\n",
      "training nmae: 0.1419\n"
     ]
    },
    {
     "data": {
      "application/vnd.jupyter.widget-view+json": {
       "model_id": "",
       "version_major": 2,
       "version_minor": 0
      },
      "text/plain": [
       "Validation: 0it [00:00, ?it/s]"
      ]
     },
     "metadata": {},
     "output_type": "display_data"
    },
    {
     "name": "stdout",
     "output_type": "stream",
     "text": [
      "validation nmae: 0.1599\n",
      "training nmae: 0.1344\n"
     ]
    },
    {
     "data": {
      "application/vnd.jupyter.widget-view+json": {
       "model_id": "",
       "version_major": 2,
       "version_minor": 0
      },
      "text/plain": [
       "Validation: 0it [00:00, ?it/s]"
      ]
     },
     "metadata": {},
     "output_type": "display_data"
    },
    {
     "name": "stdout",
     "output_type": "stream",
     "text": [
      "validation nmae: 0.08117\n",
      "training nmae: 0.1423\n"
     ]
    },
    {
     "data": {
      "application/vnd.jupyter.widget-view+json": {
       "model_id": "",
       "version_major": 2,
       "version_minor": 0
      },
      "text/plain": [
       "Validation: 0it [00:00, ?it/s]"
      ]
     },
     "metadata": {},
     "output_type": "display_data"
    },
    {
     "name": "stdout",
     "output_type": "stream",
     "text": [
      "validation nmae: 0.1031\n",
      "training nmae: 0.1305\n"
     ]
    },
    {
     "data": {
      "application/vnd.jupyter.widget-view+json": {
       "model_id": "",
       "version_major": 2,
       "version_minor": 0
      },
      "text/plain": [
       "Validation: 0it [00:00, ?it/s]"
      ]
     },
     "metadata": {},
     "output_type": "display_data"
    },
    {
     "name": "stdout",
     "output_type": "stream",
     "text": [
      "validation nmae: 0.0852\n",
      "training nmae: 0.1364\n"
     ]
    },
    {
     "data": {
      "application/vnd.jupyter.widget-view+json": {
       "model_id": "",
       "version_major": 2,
       "version_minor": 0
      },
      "text/plain": [
       "Validation: 0it [00:00, ?it/s]"
      ]
     },
     "metadata": {},
     "output_type": "display_data"
    },
    {
     "name": "stdout",
     "output_type": "stream",
     "text": [
      "validation nmae: 0.0942\n",
      "training nmae: 0.1318\n"
     ]
    },
    {
     "data": {
      "application/vnd.jupyter.widget-view+json": {
       "model_id": "",
       "version_major": 2,
       "version_minor": 0
      },
      "text/plain": [
       "Validation: 0it [00:00, ?it/s]"
      ]
     },
     "metadata": {},
     "output_type": "display_data"
    },
    {
     "name": "stdout",
     "output_type": "stream",
     "text": [
      "validation nmae: 0.07849\n",
      "training nmae: 0.1468\n"
     ]
    },
    {
     "data": {
      "application/vnd.jupyter.widget-view+json": {
       "model_id": "",
       "version_major": 2,
       "version_minor": 0
      },
      "text/plain": [
       "Validation: 0it [00:00, ?it/s]"
      ]
     },
     "metadata": {},
     "output_type": "display_data"
    },
    {
     "name": "stdout",
     "output_type": "stream",
     "text": [
      "validation nmae: 0.1094\n",
      "training nmae: 0.1372\n"
     ]
    },
    {
     "data": {
      "application/vnd.jupyter.widget-view+json": {
       "model_id": "",
       "version_major": 2,
       "version_minor": 0
      },
      "text/plain": [
       "Validation: 0it [00:00, ?it/s]"
      ]
     },
     "metadata": {},
     "output_type": "display_data"
    },
    {
     "name": "stdout",
     "output_type": "stream",
     "text": [
      "validation nmae: 0.1107\n",
      "training nmae: 0.1378\n"
     ]
    },
    {
     "data": {
      "application/vnd.jupyter.widget-view+json": {
       "model_id": "",
       "version_major": 2,
       "version_minor": 0
      },
      "text/plain": [
       "Validation: 0it [00:00, ?it/s]"
      ]
     },
     "metadata": {},
     "output_type": "display_data"
    },
    {
     "name": "stdout",
     "output_type": "stream",
     "text": [
      "validation nmae: 0.08839\n",
      "training nmae: 0.1323\n"
     ]
    },
    {
     "data": {
      "application/vnd.jupyter.widget-view+json": {
       "model_id": "",
       "version_major": 2,
       "version_minor": 0
      },
      "text/plain": [
       "Validation: 0it [00:00, ?it/s]"
      ]
     },
     "metadata": {},
     "output_type": "display_data"
    },
    {
     "name": "stdout",
     "output_type": "stream",
     "text": [
      "validation nmae: 0.1264\n",
      "training nmae: 0.1407\n"
     ]
    },
    {
     "data": {
      "application/vnd.jupyter.widget-view+json": {
       "model_id": "",
       "version_major": 2,
       "version_minor": 0
      },
      "text/plain": [
       "Validation: 0it [00:00, ?it/s]"
      ]
     },
     "metadata": {},
     "output_type": "display_data"
    },
    {
     "name": "stdout",
     "output_type": "stream",
     "text": [
      "validation nmae: 0.1131\n",
      "training nmae: 0.1259\n"
     ]
    },
    {
     "data": {
      "application/vnd.jupyter.widget-view+json": {
       "model_id": "",
       "version_major": 2,
       "version_minor": 0
      },
      "text/plain": [
       "Validation: 0it [00:00, ?it/s]"
      ]
     },
     "metadata": {},
     "output_type": "display_data"
    },
    {
     "name": "stdout",
     "output_type": "stream",
     "text": [
      "validation nmae: 0.1082\n",
      "training nmae: 0.1305\n"
     ]
    },
    {
     "data": {
      "application/vnd.jupyter.widget-view+json": {
       "model_id": "",
       "version_major": 2,
       "version_minor": 0
      },
      "text/plain": [
       "Validation: 0it [00:00, ?it/s]"
      ]
     },
     "metadata": {},
     "output_type": "display_data"
    },
    {
     "name": "stdout",
     "output_type": "stream",
     "text": [
      "validation nmae: 0.1086\n",
      "training nmae: 0.1312\n"
     ]
    },
    {
     "data": {
      "application/vnd.jupyter.widget-view+json": {
       "model_id": "",
       "version_major": 2,
       "version_minor": 0
      },
      "text/plain": [
       "Validation: 0it [00:00, ?it/s]"
      ]
     },
     "metadata": {},
     "output_type": "display_data"
    },
    {
     "name": "stdout",
     "output_type": "stream",
     "text": [
      "validation nmae: 0.09971\n",
      "training nmae: 0.1329\n"
     ]
    },
    {
     "data": {
      "application/vnd.jupyter.widget-view+json": {
       "model_id": "",
       "version_major": 2,
       "version_minor": 0
      },
      "text/plain": [
       "Validation: 0it [00:00, ?it/s]"
      ]
     },
     "metadata": {},
     "output_type": "display_data"
    },
    {
     "name": "stdout",
     "output_type": "stream",
     "text": [
      "validation nmae: 0.1276\n",
      "training nmae: 0.1284\n"
     ]
    },
    {
     "data": {
      "application/vnd.jupyter.widget-view+json": {
       "model_id": "",
       "version_major": 2,
       "version_minor": 0
      },
      "text/plain": [
       "Validation: 0it [00:00, ?it/s]"
      ]
     },
     "metadata": {},
     "output_type": "display_data"
    },
    {
     "name": "stdout",
     "output_type": "stream",
     "text": [
      "validation nmae: 0.1005\n",
      "training nmae: 0.1264\n"
     ]
    },
    {
     "data": {
      "application/vnd.jupyter.widget-view+json": {
       "model_id": "",
       "version_major": 2,
       "version_minor": 0
      },
      "text/plain": [
       "Validation: 0it [00:00, ?it/s]"
      ]
     },
     "metadata": {},
     "output_type": "display_data"
    },
    {
     "name": "stdout",
     "output_type": "stream",
     "text": [
      "validation nmae: 0.1543\n",
      "training nmae: 0.1272\n"
     ]
    },
    {
     "data": {
      "application/vnd.jupyter.widget-view+json": {
       "model_id": "",
       "version_major": 2,
       "version_minor": 0
      },
      "text/plain": [
       "Validation: 0it [00:00, ?it/s]"
      ]
     },
     "metadata": {},
     "output_type": "display_data"
    },
    {
     "name": "stdout",
     "output_type": "stream",
     "text": [
      "validation nmae: 0.07805\n",
      "training nmae: 0.1268\n"
     ]
    },
    {
     "data": {
      "application/vnd.jupyter.widget-view+json": {
       "model_id": "",
       "version_major": 2,
       "version_minor": 0
      },
      "text/plain": [
       "Validation: 0it [00:00, ?it/s]"
      ]
     },
     "metadata": {},
     "output_type": "display_data"
    },
    {
     "name": "stdout",
     "output_type": "stream",
     "text": [
      "validation nmae: 0.1237\n",
      "training nmae: 0.123\n"
     ]
    },
    {
     "data": {
      "application/vnd.jupyter.widget-view+json": {
       "model_id": "",
       "version_major": 2,
       "version_minor": 0
      },
      "text/plain": [
       "Validation: 0it [00:00, ?it/s]"
      ]
     },
     "metadata": {},
     "output_type": "display_data"
    },
    {
     "name": "stdout",
     "output_type": "stream",
     "text": [
      "validation nmae: 0.08417\n",
      "training nmae: 0.1269\n"
     ]
    },
    {
     "data": {
      "application/vnd.jupyter.widget-view+json": {
       "model_id": "",
       "version_major": 2,
       "version_minor": 0
      },
      "text/plain": [
       "Validation: 0it [00:00, ?it/s]"
      ]
     },
     "metadata": {},
     "output_type": "display_data"
    },
    {
     "name": "stdout",
     "output_type": "stream",
     "text": [
      "validation nmae: 0.09851\n",
      "training nmae: 0.1348\n"
     ]
    },
    {
     "data": {
      "application/vnd.jupyter.widget-view+json": {
       "model_id": "",
       "version_major": 2,
       "version_minor": 0
      },
      "text/plain": [
       "Validation: 0it [00:00, ?it/s]"
      ]
     },
     "metadata": {},
     "output_type": "display_data"
    },
    {
     "name": "stdout",
     "output_type": "stream",
     "text": [
      "validation nmae: 0.1038\n",
      "training nmae: 0.1415\n"
     ]
    },
    {
     "data": {
      "application/vnd.jupyter.widget-view+json": {
       "model_id": "",
       "version_major": 2,
       "version_minor": 0
      },
      "text/plain": [
       "Validation: 0it [00:00, ?it/s]"
      ]
     },
     "metadata": {},
     "output_type": "display_data"
    },
    {
     "name": "stdout",
     "output_type": "stream",
     "text": [
      "validation nmae: 0.1426\n",
      "training nmae: 0.1228\n"
     ]
    },
    {
     "data": {
      "application/vnd.jupyter.widget-view+json": {
       "model_id": "",
       "version_major": 2,
       "version_minor": 0
      },
      "text/plain": [
       "Validation: 0it [00:00, ?it/s]"
      ]
     },
     "metadata": {},
     "output_type": "display_data"
    },
    {
     "name": "stdout",
     "output_type": "stream",
     "text": [
      "validation nmae: 0.08685\n",
      "training nmae: 0.1264\n"
     ]
    },
    {
     "data": {
      "application/vnd.jupyter.widget-view+json": {
       "model_id": "",
       "version_major": 2,
       "version_minor": 0
      },
      "text/plain": [
       "Validation: 0it [00:00, ?it/s]"
      ]
     },
     "metadata": {},
     "output_type": "display_data"
    },
    {
     "name": "stdout",
     "output_type": "stream",
     "text": [
      "validation nmae: 0.08623\n",
      "training nmae: 0.1289\n"
     ]
    },
    {
     "data": {
      "application/vnd.jupyter.widget-view+json": {
       "model_id": "",
       "version_major": 2,
       "version_minor": 0
      },
      "text/plain": [
       "Validation: 0it [00:00, ?it/s]"
      ]
     },
     "metadata": {},
     "output_type": "display_data"
    },
    {
     "name": "stdout",
     "output_type": "stream",
     "text": [
      "validation nmae: 0.08173\n",
      "training nmae: 0.1254\n"
     ]
    },
    {
     "data": {
      "application/vnd.jupyter.widget-view+json": {
       "model_id": "",
       "version_major": 2,
       "version_minor": 0
      },
      "text/plain": [
       "Validation: 0it [00:00, ?it/s]"
      ]
     },
     "metadata": {},
     "output_type": "display_data"
    },
    {
     "name": "stdout",
     "output_type": "stream",
     "text": [
      "validation nmae: 0.09452\n",
      "training nmae: 0.1219\n"
     ]
    },
    {
     "data": {
      "application/vnd.jupyter.widget-view+json": {
       "model_id": "",
       "version_major": 2,
       "version_minor": 0
      },
      "text/plain": [
       "Validation: 0it [00:00, ?it/s]"
      ]
     },
     "metadata": {},
     "output_type": "display_data"
    },
    {
     "name": "stdout",
     "output_type": "stream",
     "text": [
      "validation nmae: 0.09944\n",
      "training nmae: 0.1263\n"
     ]
    },
    {
     "data": {
      "application/vnd.jupyter.widget-view+json": {
       "model_id": "",
       "version_major": 2,
       "version_minor": 0
      },
      "text/plain": [
       "Validation: 0it [00:00, ?it/s]"
      ]
     },
     "metadata": {},
     "output_type": "display_data"
    },
    {
     "name": "stdout",
     "output_type": "stream",
     "text": [
      "validation nmae: 0.07624\n",
      "training nmae: 0.1273\n"
     ]
    },
    {
     "data": {
      "application/vnd.jupyter.widget-view+json": {
       "model_id": "",
       "version_major": 2,
       "version_minor": 0
      },
      "text/plain": [
       "Validation: 0it [00:00, ?it/s]"
      ]
     },
     "metadata": {},
     "output_type": "display_data"
    },
    {
     "name": "stdout",
     "output_type": "stream",
     "text": [
      "validation nmae: 0.1009\n",
      "training nmae: 0.12\n"
     ]
    },
    {
     "data": {
      "application/vnd.jupyter.widget-view+json": {
       "model_id": "",
       "version_major": 2,
       "version_minor": 0
      },
      "text/plain": [
       "Validation: 0it [00:00, ?it/s]"
      ]
     },
     "metadata": {},
     "output_type": "display_data"
    },
    {
     "name": "stdout",
     "output_type": "stream",
     "text": [
      "validation nmae: 0.0754\n",
      "training nmae: 0.116\n"
     ]
    },
    {
     "data": {
      "application/vnd.jupyter.widget-view+json": {
       "model_id": "",
       "version_major": 2,
       "version_minor": 0
      },
      "text/plain": [
       "Validation: 0it [00:00, ?it/s]"
      ]
     },
     "metadata": {},
     "output_type": "display_data"
    },
    {
     "name": "stdout",
     "output_type": "stream",
     "text": [
      "validation nmae: 0.1129\n",
      "training nmae: 0.118\n"
     ]
    },
    {
     "data": {
      "application/vnd.jupyter.widget-view+json": {
       "model_id": "",
       "version_major": 2,
       "version_minor": 0
      },
      "text/plain": [
       "Validation: 0it [00:00, ?it/s]"
      ]
     },
     "metadata": {},
     "output_type": "display_data"
    },
    {
     "name": "stdout",
     "output_type": "stream",
     "text": [
      "validation nmae: 0.09645\n",
      "training nmae: 0.1319\n"
     ]
    },
    {
     "data": {
      "application/vnd.jupyter.widget-view+json": {
       "model_id": "",
       "version_major": 2,
       "version_minor": 0
      },
      "text/plain": [
       "Validation: 0it [00:00, ?it/s]"
      ]
     },
     "metadata": {},
     "output_type": "display_data"
    },
    {
     "name": "stdout",
     "output_type": "stream",
     "text": [
      "validation nmae: 0.105\n",
      "training nmae: 0.1288\n"
     ]
    },
    {
     "data": {
      "application/vnd.jupyter.widget-view+json": {
       "model_id": "",
       "version_major": 2,
       "version_minor": 0
      },
      "text/plain": [
       "Validation: 0it [00:00, ?it/s]"
      ]
     },
     "metadata": {},
     "output_type": "display_data"
    },
    {
     "name": "stdout",
     "output_type": "stream",
     "text": [
      "validation nmae: 0.119\n",
      "training nmae: 0.1191\n"
     ]
    },
    {
     "data": {
      "application/vnd.jupyter.widget-view+json": {
       "model_id": "",
       "version_major": 2,
       "version_minor": 0
      },
      "text/plain": [
       "Validation: 0it [00:00, ?it/s]"
      ]
     },
     "metadata": {},
     "output_type": "display_data"
    },
    {
     "name": "stdout",
     "output_type": "stream",
     "text": [
      "validation nmae: 0.118\n",
      "training nmae: 0.126\n"
     ]
    },
    {
     "data": {
      "application/vnd.jupyter.widget-view+json": {
       "model_id": "",
       "version_major": 2,
       "version_minor": 0
      },
      "text/plain": [
       "Validation: 0it [00:00, ?it/s]"
      ]
     },
     "metadata": {},
     "output_type": "display_data"
    },
    {
     "name": "stdout",
     "output_type": "stream",
     "text": [
      "validation nmae: 0.08711\n",
      "training nmae: 0.1188\n"
     ]
    },
    {
     "data": {
      "application/vnd.jupyter.widget-view+json": {
       "model_id": "",
       "version_major": 2,
       "version_minor": 0
      },
      "text/plain": [
       "Validation: 0it [00:00, ?it/s]"
      ]
     },
     "metadata": {},
     "output_type": "display_data"
    },
    {
     "name": "stdout",
     "output_type": "stream",
     "text": [
      "validation nmae: 0.1279\n",
      "training nmae: 0.1228\n"
     ]
    },
    {
     "data": {
      "application/vnd.jupyter.widget-view+json": {
       "model_id": "",
       "version_major": 2,
       "version_minor": 0
      },
      "text/plain": [
       "Validation: 0it [00:00, ?it/s]"
      ]
     },
     "metadata": {},
     "output_type": "display_data"
    },
    {
     "name": "stdout",
     "output_type": "stream",
     "text": [
      "validation nmae: 0.101\n",
      "training nmae: 0.1119\n"
     ]
    },
    {
     "data": {
      "application/vnd.jupyter.widget-view+json": {
       "model_id": "",
       "version_major": 2,
       "version_minor": 0
      },
      "text/plain": [
       "Validation: 0it [00:00, ?it/s]"
      ]
     },
     "metadata": {},
     "output_type": "display_data"
    },
    {
     "name": "stdout",
     "output_type": "stream",
     "text": [
      "validation nmae: 0.1236\n",
      "training nmae: 0.1204\n"
     ]
    },
    {
     "data": {
      "application/vnd.jupyter.widget-view+json": {
       "model_id": "",
       "version_major": 2,
       "version_minor": 0
      },
      "text/plain": [
       "Validation: 0it [00:00, ?it/s]"
      ]
     },
     "metadata": {},
     "output_type": "display_data"
    },
    {
     "name": "stdout",
     "output_type": "stream",
     "text": [
      "validation nmae: 0.1081\n",
      "training nmae: 0.1228\n"
     ]
    },
    {
     "data": {
      "application/vnd.jupyter.widget-view+json": {
       "model_id": "",
       "version_major": 2,
       "version_minor": 0
      },
      "text/plain": [
       "Validation: 0it [00:00, ?it/s]"
      ]
     },
     "metadata": {},
     "output_type": "display_data"
    },
    {
     "name": "stdout",
     "output_type": "stream",
     "text": [
      "validation nmae: 0.1016\n",
      "training nmae: 0.1252\n"
     ]
    },
    {
     "name": "stderr",
     "output_type": "stream",
     "text": [
      "Using 16bit native Automatic Mixed Precision (AMP)\n",
      "GPU available: True, used: True\n",
      "TPU available: False, using: 0 TPU cores\n",
      "IPU available: False, using: 0 IPUs\n",
      "HPU available: False, using: 0 HPUs\n",
      "LOCAL_RANK: 0 - CUDA_VISIBLE_DEVICES: [0]\n",
      "\n",
      "  | Name            | Type               | Params\n",
      "-------------------------------------------------------\n",
      "0 | model           | CNN_RNN            | 4.4 M \n",
      "1 | train_nmae      | NMAE               | 0     \n",
      "2 | valid_nmae      | NMAE               | 0     \n",
      "3 | augment_dataset | PYTORCH_AUGMENTSET | 0     \n",
      "4 | train_dataset   | PYTORCH_DATASET    | 0     \n",
      "5 | val_dataset     | PYTORCH_DATASET    | 0     \n",
      "6 | predict_dataset | PYTORCH_PREDICTSET | 0     \n",
      "-------------------------------------------------------\n",
      "4.4 M     Trainable params\n",
      "0         Non-trainable params\n",
      "4.4 M     Total params\n",
      "8.707     Total estimated model params size (MB)\n"
     ]
    },
    {
     "name": "stdout",
     "output_type": "stream",
     "text": [
      "1\n"
     ]
    },
    {
     "data": {
      "application/vnd.jupyter.widget-view+json": {
       "model_id": "",
       "version_major": 2,
       "version_minor": 0
      },
      "text/plain": [
       "Sanity Checking: 0it [00:00, ?it/s]"
      ]
     },
     "metadata": {},
     "output_type": "display_data"
    },
    {
     "name": "stdout",
     "output_type": "stream",
     "text": [
      "validation nmae: 1.001\n"
     ]
    },
    {
     "data": {
      "application/vnd.jupyter.widget-view+json": {
       "model_id": "15256c31a37b438eba1a6e4a2b95bd55",
       "version_major": 2,
       "version_minor": 0
      },
      "text/plain": [
       "Training: 0it [00:00, ?it/s]"
      ]
     },
     "metadata": {},
     "output_type": "display_data"
    },
    {
     "data": {
      "application/vnd.jupyter.widget-view+json": {
       "model_id": "",
       "version_major": 2,
       "version_minor": 0
      },
      "text/plain": [
       "Validation: 0it [00:00, ?it/s]"
      ]
     },
     "metadata": {},
     "output_type": "display_data"
    },
    {
     "name": "stdout",
     "output_type": "stream",
     "text": [
      "validation nmae: 0.2309\n",
      "training nmae: 0.5834\n"
     ]
    },
    {
     "data": {
      "application/vnd.jupyter.widget-view+json": {
       "model_id": "",
       "version_major": 2,
       "version_minor": 0
      },
      "text/plain": [
       "Validation: 0it [00:00, ?it/s]"
      ]
     },
     "metadata": {},
     "output_type": "display_data"
    },
    {
     "name": "stdout",
     "output_type": "stream",
     "text": [
      "validation nmae: 0.1813\n",
      "training nmae: 0.2918\n"
     ]
    },
    {
     "data": {
      "application/vnd.jupyter.widget-view+json": {
       "model_id": "",
       "version_major": 2,
       "version_minor": 0
      },
      "text/plain": [
       "Validation: 0it [00:00, ?it/s]"
      ]
     },
     "metadata": {},
     "output_type": "display_data"
    },
    {
     "name": "stdout",
     "output_type": "stream",
     "text": [
      "validation nmae: 0.2449\n",
      "training nmae: 0.2688\n"
     ]
    },
    {
     "data": {
      "application/vnd.jupyter.widget-view+json": {
       "model_id": "",
       "version_major": 2,
       "version_minor": 0
      },
      "text/plain": [
       "Validation: 0it [00:00, ?it/s]"
      ]
     },
     "metadata": {},
     "output_type": "display_data"
    },
    {
     "name": "stdout",
     "output_type": "stream",
     "text": [
      "validation nmae: 0.2056\n",
      "training nmae: 0.2437\n"
     ]
    },
    {
     "data": {
      "application/vnd.jupyter.widget-view+json": {
       "model_id": "",
       "version_major": 2,
       "version_minor": 0
      },
      "text/plain": [
       "Validation: 0it [00:00, ?it/s]"
      ]
     },
     "metadata": {},
     "output_type": "display_data"
    },
    {
     "name": "stdout",
     "output_type": "stream",
     "text": [
      "validation nmae: 0.3685\n",
      "training nmae: 0.2107\n"
     ]
    },
    {
     "data": {
      "application/vnd.jupyter.widget-view+json": {
       "model_id": "",
       "version_major": 2,
       "version_minor": 0
      },
      "text/plain": [
       "Validation: 0it [00:00, ?it/s]"
      ]
     },
     "metadata": {},
     "output_type": "display_data"
    },
    {
     "name": "stdout",
     "output_type": "stream",
     "text": [
      "validation nmae: 0.1795\n",
      "training nmae: 0.2091\n"
     ]
    },
    {
     "data": {
      "application/vnd.jupyter.widget-view+json": {
       "model_id": "",
       "version_major": 2,
       "version_minor": 0
      },
      "text/plain": [
       "Validation: 0it [00:00, ?it/s]"
      ]
     },
     "metadata": {},
     "output_type": "display_data"
    },
    {
     "name": "stdout",
     "output_type": "stream",
     "text": [
      "validation nmae: 0.1647\n",
      "training nmae: 0.1975\n"
     ]
    },
    {
     "data": {
      "application/vnd.jupyter.widget-view+json": {
       "model_id": "",
       "version_major": 2,
       "version_minor": 0
      },
      "text/plain": [
       "Validation: 0it [00:00, ?it/s]"
      ]
     },
     "metadata": {},
     "output_type": "display_data"
    },
    {
     "name": "stdout",
     "output_type": "stream",
     "text": [
      "validation nmae: 0.1613\n",
      "training nmae: 0.191\n"
     ]
    },
    {
     "data": {
      "application/vnd.jupyter.widget-view+json": {
       "model_id": "",
       "version_major": 2,
       "version_minor": 0
      },
      "text/plain": [
       "Validation: 0it [00:00, ?it/s]"
      ]
     },
     "metadata": {},
     "output_type": "display_data"
    },
    {
     "name": "stdout",
     "output_type": "stream",
     "text": [
      "validation nmae: 0.2907\n",
      "training nmae: 0.1937\n"
     ]
    },
    {
     "data": {
      "application/vnd.jupyter.widget-view+json": {
       "model_id": "",
       "version_major": 2,
       "version_minor": 0
      },
      "text/plain": [
       "Validation: 0it [00:00, ?it/s]"
      ]
     },
     "metadata": {},
     "output_type": "display_data"
    },
    {
     "name": "stdout",
     "output_type": "stream",
     "text": [
      "validation nmae: 0.1536\n",
      "training nmae: 0.2065\n"
     ]
    },
    {
     "data": {
      "application/vnd.jupyter.widget-view+json": {
       "model_id": "",
       "version_major": 2,
       "version_minor": 0
      },
      "text/plain": [
       "Validation: 0it [00:00, ?it/s]"
      ]
     },
     "metadata": {},
     "output_type": "display_data"
    },
    {
     "name": "stdout",
     "output_type": "stream",
     "text": [
      "validation nmae: 0.1094\n",
      "training nmae: 0.1744\n"
     ]
    },
    {
     "data": {
      "application/vnd.jupyter.widget-view+json": {
       "model_id": "",
       "version_major": 2,
       "version_minor": 0
      },
      "text/plain": [
       "Validation: 0it [00:00, ?it/s]"
      ]
     },
     "metadata": {},
     "output_type": "display_data"
    },
    {
     "name": "stdout",
     "output_type": "stream",
     "text": [
      "validation nmae: 0.1225\n",
      "training nmae: 0.1746\n"
     ]
    },
    {
     "data": {
      "application/vnd.jupyter.widget-view+json": {
       "model_id": "",
       "version_major": 2,
       "version_minor": 0
      },
      "text/plain": [
       "Validation: 0it [00:00, ?it/s]"
      ]
     },
     "metadata": {},
     "output_type": "display_data"
    },
    {
     "name": "stdout",
     "output_type": "stream",
     "text": [
      "validation nmae: 0.09091\n",
      "training nmae: 0.1572\n"
     ]
    },
    {
     "data": {
      "application/vnd.jupyter.widget-view+json": {
       "model_id": "",
       "version_major": 2,
       "version_minor": 0
      },
      "text/plain": [
       "Validation: 0it [00:00, ?it/s]"
      ]
     },
     "metadata": {},
     "output_type": "display_data"
    },
    {
     "name": "stdout",
     "output_type": "stream",
     "text": [
      "validation nmae: 0.123\n",
      "training nmae: 0.1687\n"
     ]
    },
    {
     "data": {
      "application/vnd.jupyter.widget-view+json": {
       "model_id": "",
       "version_major": 2,
       "version_minor": 0
      },
      "text/plain": [
       "Validation: 0it [00:00, ?it/s]"
      ]
     },
     "metadata": {},
     "output_type": "display_data"
    },
    {
     "name": "stdout",
     "output_type": "stream",
     "text": [
      "validation nmae: 0.1159\n",
      "training nmae: 0.1536\n"
     ]
    },
    {
     "data": {
      "application/vnd.jupyter.widget-view+json": {
       "model_id": "",
       "version_major": 2,
       "version_minor": 0
      },
      "text/plain": [
       "Validation: 0it [00:00, ?it/s]"
      ]
     },
     "metadata": {},
     "output_type": "display_data"
    },
    {
     "name": "stdout",
     "output_type": "stream",
     "text": [
      "validation nmae: 0.1789\n",
      "training nmae: 0.1529\n"
     ]
    },
    {
     "data": {
      "application/vnd.jupyter.widget-view+json": {
       "model_id": "",
       "version_major": 2,
       "version_minor": 0
      },
      "text/plain": [
       "Validation: 0it [00:00, ?it/s]"
      ]
     },
     "metadata": {},
     "output_type": "display_data"
    },
    {
     "name": "stdout",
     "output_type": "stream",
     "text": [
      "validation nmae: 0.1266\n",
      "training nmae: 0.1468\n"
     ]
    },
    {
     "data": {
      "application/vnd.jupyter.widget-view+json": {
       "model_id": "",
       "version_major": 2,
       "version_minor": 0
      },
      "text/plain": [
       "Validation: 0it [00:00, ?it/s]"
      ]
     },
     "metadata": {},
     "output_type": "display_data"
    },
    {
     "name": "stdout",
     "output_type": "stream",
     "text": [
      "validation nmae: 0.1818\n",
      "training nmae: 0.149\n"
     ]
    },
    {
     "data": {
      "application/vnd.jupyter.widget-view+json": {
       "model_id": "",
       "version_major": 2,
       "version_minor": 0
      },
      "text/plain": [
       "Validation: 0it [00:00, ?it/s]"
      ]
     },
     "metadata": {},
     "output_type": "display_data"
    },
    {
     "name": "stdout",
     "output_type": "stream",
     "text": [
      "validation nmae: 0.1401\n",
      "training nmae: 0.1583\n"
     ]
    },
    {
     "data": {
      "application/vnd.jupyter.widget-view+json": {
       "model_id": "",
       "version_major": 2,
       "version_minor": 0
      },
      "text/plain": [
       "Validation: 0it [00:00, ?it/s]"
      ]
     },
     "metadata": {},
     "output_type": "display_data"
    },
    {
     "name": "stdout",
     "output_type": "stream",
     "text": [
      "validation nmae: 0.1243\n",
      "training nmae: 0.1334\n"
     ]
    },
    {
     "data": {
      "application/vnd.jupyter.widget-view+json": {
       "model_id": "",
       "version_major": 2,
       "version_minor": 0
      },
      "text/plain": [
       "Validation: 0it [00:00, ?it/s]"
      ]
     },
     "metadata": {},
     "output_type": "display_data"
    },
    {
     "name": "stdout",
     "output_type": "stream",
     "text": [
      "validation nmae: 0.1428\n",
      "training nmae: 0.1445\n"
     ]
    },
    {
     "data": {
      "application/vnd.jupyter.widget-view+json": {
       "model_id": "",
       "version_major": 2,
       "version_minor": 0
      },
      "text/plain": [
       "Validation: 0it [00:00, ?it/s]"
      ]
     },
     "metadata": {},
     "output_type": "display_data"
    },
    {
     "name": "stdout",
     "output_type": "stream",
     "text": [
      "validation nmae: 0.1049\n",
      "training nmae: 0.1515\n"
     ]
    },
    {
     "data": {
      "application/vnd.jupyter.widget-view+json": {
       "model_id": "",
       "version_major": 2,
       "version_minor": 0
      },
      "text/plain": [
       "Validation: 0it [00:00, ?it/s]"
      ]
     },
     "metadata": {},
     "output_type": "display_data"
    },
    {
     "name": "stdout",
     "output_type": "stream",
     "text": [
      "validation nmae: 0.1314\n",
      "training nmae: 0.1418\n"
     ]
    },
    {
     "data": {
      "application/vnd.jupyter.widget-view+json": {
       "model_id": "",
       "version_major": 2,
       "version_minor": 0
      },
      "text/plain": [
       "Validation: 0it [00:00, ?it/s]"
      ]
     },
     "metadata": {},
     "output_type": "display_data"
    },
    {
     "name": "stdout",
     "output_type": "stream",
     "text": [
      "validation nmae: 0.1101\n",
      "training nmae: 0.1427\n"
     ]
    },
    {
     "data": {
      "application/vnd.jupyter.widget-view+json": {
       "model_id": "",
       "version_major": 2,
       "version_minor": 0
      },
      "text/plain": [
       "Validation: 0it [00:00, ?it/s]"
      ]
     },
     "metadata": {},
     "output_type": "display_data"
    },
    {
     "name": "stdout",
     "output_type": "stream",
     "text": [
      "validation nmae: 0.1833\n",
      "training nmae: 0.1506\n"
     ]
    },
    {
     "data": {
      "application/vnd.jupyter.widget-view+json": {
       "model_id": "",
       "version_major": 2,
       "version_minor": 0
      },
      "text/plain": [
       "Validation: 0it [00:00, ?it/s]"
      ]
     },
     "metadata": {},
     "output_type": "display_data"
    },
    {
     "name": "stdout",
     "output_type": "stream",
     "text": [
      "validation nmae: 0.1317\n",
      "training nmae: 0.1436\n"
     ]
    },
    {
     "data": {
      "application/vnd.jupyter.widget-view+json": {
       "model_id": "",
       "version_major": 2,
       "version_minor": 0
      },
      "text/plain": [
       "Validation: 0it [00:00, ?it/s]"
      ]
     },
     "metadata": {},
     "output_type": "display_data"
    },
    {
     "name": "stdout",
     "output_type": "stream",
     "text": [
      "validation nmae: 0.1066\n",
      "training nmae: 0.1293\n"
     ]
    },
    {
     "data": {
      "application/vnd.jupyter.widget-view+json": {
       "model_id": "",
       "version_major": 2,
       "version_minor": 0
      },
      "text/plain": [
       "Validation: 0it [00:00, ?it/s]"
      ]
     },
     "metadata": {},
     "output_type": "display_data"
    },
    {
     "name": "stdout",
     "output_type": "stream",
     "text": [
      "validation nmae: 0.1453\n",
      "training nmae: 0.1329\n"
     ]
    },
    {
     "data": {
      "application/vnd.jupyter.widget-view+json": {
       "model_id": "",
       "version_major": 2,
       "version_minor": 0
      },
      "text/plain": [
       "Validation: 0it [00:00, ?it/s]"
      ]
     },
     "metadata": {},
     "output_type": "display_data"
    },
    {
     "name": "stdout",
     "output_type": "stream",
     "text": [
      "validation nmae: 0.1168\n",
      "training nmae: 0.1337\n"
     ]
    },
    {
     "data": {
      "application/vnd.jupyter.widget-view+json": {
       "model_id": "",
       "version_major": 2,
       "version_minor": 0
      },
      "text/plain": [
       "Validation: 0it [00:00, ?it/s]"
      ]
     },
     "metadata": {},
     "output_type": "display_data"
    },
    {
     "name": "stdout",
     "output_type": "stream",
     "text": [
      "validation nmae: 0.1126\n",
      "training nmae: 0.1308\n"
     ]
    },
    {
     "data": {
      "application/vnd.jupyter.widget-view+json": {
       "model_id": "",
       "version_major": 2,
       "version_minor": 0
      },
      "text/plain": [
       "Validation: 0it [00:00, ?it/s]"
      ]
     },
     "metadata": {},
     "output_type": "display_data"
    },
    {
     "name": "stdout",
     "output_type": "stream",
     "text": [
      "validation nmae: 0.1202\n",
      "training nmae: 0.1363\n"
     ]
    },
    {
     "data": {
      "application/vnd.jupyter.widget-view+json": {
       "model_id": "",
       "version_major": 2,
       "version_minor": 0
      },
      "text/plain": [
       "Validation: 0it [00:00, ?it/s]"
      ]
     },
     "metadata": {},
     "output_type": "display_data"
    },
    {
     "name": "stdout",
     "output_type": "stream",
     "text": [
      "validation nmae: 0.1452\n",
      "training nmae: 0.1362\n"
     ]
    },
    {
     "data": {
      "application/vnd.jupyter.widget-view+json": {
       "model_id": "",
       "version_major": 2,
       "version_minor": 0
      },
      "text/plain": [
       "Validation: 0it [00:00, ?it/s]"
      ]
     },
     "metadata": {},
     "output_type": "display_data"
    },
    {
     "name": "stdout",
     "output_type": "stream",
     "text": [
      "validation nmae: 0.1072\n",
      "training nmae: 0.1357\n"
     ]
    },
    {
     "data": {
      "application/vnd.jupyter.widget-view+json": {
       "model_id": "",
       "version_major": 2,
       "version_minor": 0
      },
      "text/plain": [
       "Validation: 0it [00:00, ?it/s]"
      ]
     },
     "metadata": {},
     "output_type": "display_data"
    },
    {
     "name": "stdout",
     "output_type": "stream",
     "text": [
      "validation nmae: 0.1093\n",
      "training nmae: 0.1404\n"
     ]
    },
    {
     "data": {
      "application/vnd.jupyter.widget-view+json": {
       "model_id": "",
       "version_major": 2,
       "version_minor": 0
      },
      "text/plain": [
       "Validation: 0it [00:00, ?it/s]"
      ]
     },
     "metadata": {},
     "output_type": "display_data"
    },
    {
     "name": "stdout",
     "output_type": "stream",
     "text": [
      "validation nmae: 0.1518\n",
      "training nmae: 0.1309\n"
     ]
    },
    {
     "data": {
      "application/vnd.jupyter.widget-view+json": {
       "model_id": "",
       "version_major": 2,
       "version_minor": 0
      },
      "text/plain": [
       "Validation: 0it [00:00, ?it/s]"
      ]
     },
     "metadata": {},
     "output_type": "display_data"
    },
    {
     "name": "stdout",
     "output_type": "stream",
     "text": [
      "validation nmae: 0.1602\n",
      "training nmae: 0.1287\n"
     ]
    },
    {
     "data": {
      "application/vnd.jupyter.widget-view+json": {
       "model_id": "",
       "version_major": 2,
       "version_minor": 0
      },
      "text/plain": [
       "Validation: 0it [00:00, ?it/s]"
      ]
     },
     "metadata": {},
     "output_type": "display_data"
    },
    {
     "name": "stdout",
     "output_type": "stream",
     "text": [
      "validation nmae: 0.1086\n",
      "training nmae: 0.1221\n"
     ]
    },
    {
     "data": {
      "application/vnd.jupyter.widget-view+json": {
       "model_id": "",
       "version_major": 2,
       "version_minor": 0
      },
      "text/plain": [
       "Validation: 0it [00:00, ?it/s]"
      ]
     },
     "metadata": {},
     "output_type": "display_data"
    },
    {
     "name": "stdout",
     "output_type": "stream",
     "text": [
      "validation nmae: 0.1456\n",
      "training nmae: 0.1328\n"
     ]
    },
    {
     "data": {
      "application/vnd.jupyter.widget-view+json": {
       "model_id": "",
       "version_major": 2,
       "version_minor": 0
      },
      "text/plain": [
       "Validation: 0it [00:00, ?it/s]"
      ]
     },
     "metadata": {},
     "output_type": "display_data"
    },
    {
     "name": "stdout",
     "output_type": "stream",
     "text": [
      "validation nmae: 0.1236\n",
      "training nmae: 0.1306\n"
     ]
    },
    {
     "data": {
      "application/vnd.jupyter.widget-view+json": {
       "model_id": "",
       "version_major": 2,
       "version_minor": 0
      },
      "text/plain": [
       "Validation: 0it [00:00, ?it/s]"
      ]
     },
     "metadata": {},
     "output_type": "display_data"
    },
    {
     "name": "stdout",
     "output_type": "stream",
     "text": [
      "validation nmae: 0.1859\n",
      "training nmae: 0.1216\n"
     ]
    },
    {
     "data": {
      "application/vnd.jupyter.widget-view+json": {
       "model_id": "",
       "version_major": 2,
       "version_minor": 0
      },
      "text/plain": [
       "Validation: 0it [00:00, ?it/s]"
      ]
     },
     "metadata": {},
     "output_type": "display_data"
    },
    {
     "name": "stdout",
     "output_type": "stream",
     "text": [
      "validation nmae: 0.1602\n",
      "training nmae: 0.1332\n"
     ]
    },
    {
     "data": {
      "application/vnd.jupyter.widget-view+json": {
       "model_id": "",
       "version_major": 2,
       "version_minor": 0
      },
      "text/plain": [
       "Validation: 0it [00:00, ?it/s]"
      ]
     },
     "metadata": {},
     "output_type": "display_data"
    },
    {
     "name": "stdout",
     "output_type": "stream",
     "text": [
      "validation nmae: 0.1133\n",
      "training nmae: 0.1261\n"
     ]
    },
    {
     "data": {
      "application/vnd.jupyter.widget-view+json": {
       "model_id": "",
       "version_major": 2,
       "version_minor": 0
      },
      "text/plain": [
       "Validation: 0it [00:00, ?it/s]"
      ]
     },
     "metadata": {},
     "output_type": "display_data"
    },
    {
     "name": "stdout",
     "output_type": "stream",
     "text": [
      "validation nmae: 0.1105\n",
      "training nmae: 0.1215\n"
     ]
    },
    {
     "data": {
      "application/vnd.jupyter.widget-view+json": {
       "model_id": "",
       "version_major": 2,
       "version_minor": 0
      },
      "text/plain": [
       "Validation: 0it [00:00, ?it/s]"
      ]
     },
     "metadata": {},
     "output_type": "display_data"
    },
    {
     "name": "stdout",
     "output_type": "stream",
     "text": [
      "validation nmae: 0.1209\n",
      "training nmae: 0.1248\n"
     ]
    },
    {
     "data": {
      "application/vnd.jupyter.widget-view+json": {
       "model_id": "",
       "version_major": 2,
       "version_minor": 0
      },
      "text/plain": [
       "Validation: 0it [00:00, ?it/s]"
      ]
     },
     "metadata": {},
     "output_type": "display_data"
    },
    {
     "name": "stdout",
     "output_type": "stream",
     "text": [
      "validation nmae: 0.1028\n",
      "training nmae: 0.1268\n"
     ]
    },
    {
     "data": {
      "application/vnd.jupyter.widget-view+json": {
       "model_id": "",
       "version_major": 2,
       "version_minor": 0
      },
      "text/plain": [
       "Validation: 0it [00:00, ?it/s]"
      ]
     },
     "metadata": {},
     "output_type": "display_data"
    },
    {
     "name": "stdout",
     "output_type": "stream",
     "text": [
      "validation nmae: 0.1189\n",
      "training nmae: 0.1328\n"
     ]
    },
    {
     "data": {
      "application/vnd.jupyter.widget-view+json": {
       "model_id": "",
       "version_major": 2,
       "version_minor": 0
      },
      "text/plain": [
       "Validation: 0it [00:00, ?it/s]"
      ]
     },
     "metadata": {},
     "output_type": "display_data"
    },
    {
     "name": "stdout",
     "output_type": "stream",
     "text": [
      "validation nmae: 0.1163\n",
      "training nmae: 0.1257\n"
     ]
    },
    {
     "data": {
      "application/vnd.jupyter.widget-view+json": {
       "model_id": "",
       "version_major": 2,
       "version_minor": 0
      },
      "text/plain": [
       "Validation: 0it [00:00, ?it/s]"
      ]
     },
     "metadata": {},
     "output_type": "display_data"
    },
    {
     "name": "stdout",
     "output_type": "stream",
     "text": [
      "validation nmae: 0.1626\n",
      "training nmae: 0.1249\n"
     ]
    },
    {
     "data": {
      "application/vnd.jupyter.widget-view+json": {
       "model_id": "",
       "version_major": 2,
       "version_minor": 0
      },
      "text/plain": [
       "Validation: 0it [00:00, ?it/s]"
      ]
     },
     "metadata": {},
     "output_type": "display_data"
    },
    {
     "name": "stdout",
     "output_type": "stream",
     "text": [
      "validation nmae: 0.1226\n",
      "training nmae: 0.1344\n"
     ]
    },
    {
     "data": {
      "application/vnd.jupyter.widget-view+json": {
       "model_id": "",
       "version_major": 2,
       "version_minor": 0
      },
      "text/plain": [
       "Validation: 0it [00:00, ?it/s]"
      ]
     },
     "metadata": {},
     "output_type": "display_data"
    },
    {
     "name": "stdout",
     "output_type": "stream",
     "text": [
      "validation nmae: 0.1006\n",
      "training nmae: 0.127\n"
     ]
    },
    {
     "data": {
      "application/vnd.jupyter.widget-view+json": {
       "model_id": "",
       "version_major": 2,
       "version_minor": 0
      },
      "text/plain": [
       "Validation: 0it [00:00, ?it/s]"
      ]
     },
     "metadata": {},
     "output_type": "display_data"
    },
    {
     "name": "stdout",
     "output_type": "stream",
     "text": [
      "validation nmae: 0.1149\n",
      "training nmae: 0.1226\n"
     ]
    },
    {
     "data": {
      "application/vnd.jupyter.widget-view+json": {
       "model_id": "",
       "version_major": 2,
       "version_minor": 0
      },
      "text/plain": [
       "Validation: 0it [00:00, ?it/s]"
      ]
     },
     "metadata": {},
     "output_type": "display_data"
    },
    {
     "name": "stdout",
     "output_type": "stream",
     "text": [
      "validation nmae: 0.1026\n",
      "training nmae: 0.1297\n"
     ]
    },
    {
     "data": {
      "application/vnd.jupyter.widget-view+json": {
       "model_id": "",
       "version_major": 2,
       "version_minor": 0
      },
      "text/plain": [
       "Validation: 0it [00:00, ?it/s]"
      ]
     },
     "metadata": {},
     "output_type": "display_data"
    },
    {
     "name": "stdout",
     "output_type": "stream",
     "text": [
      "validation nmae: 0.1236\n",
      "training nmae: 0.12\n"
     ]
    },
    {
     "data": {
      "application/vnd.jupyter.widget-view+json": {
       "model_id": "",
       "version_major": 2,
       "version_minor": 0
      },
      "text/plain": [
       "Validation: 0it [00:00, ?it/s]"
      ]
     },
     "metadata": {},
     "output_type": "display_data"
    },
    {
     "name": "stdout",
     "output_type": "stream",
     "text": [
      "validation nmae: 0.1132\n",
      "training nmae: 0.124\n"
     ]
    },
    {
     "data": {
      "application/vnd.jupyter.widget-view+json": {
       "model_id": "",
       "version_major": 2,
       "version_minor": 0
      },
      "text/plain": [
       "Validation: 0it [00:00, ?it/s]"
      ]
     },
     "metadata": {},
     "output_type": "display_data"
    },
    {
     "name": "stdout",
     "output_type": "stream",
     "text": [
      "validation nmae: 0.09884\n",
      "training nmae: 0.1275\n"
     ]
    },
    {
     "data": {
      "application/vnd.jupyter.widget-view+json": {
       "model_id": "",
       "version_major": 2,
       "version_minor": 0
      },
      "text/plain": [
       "Validation: 0it [00:00, ?it/s]"
      ]
     },
     "metadata": {},
     "output_type": "display_data"
    },
    {
     "name": "stdout",
     "output_type": "stream",
     "text": [
      "validation nmae: 0.1214\n",
      "training nmae: 0.1169\n"
     ]
    },
    {
     "data": {
      "application/vnd.jupyter.widget-view+json": {
       "model_id": "",
       "version_major": 2,
       "version_minor": 0
      },
      "text/plain": [
       "Validation: 0it [00:00, ?it/s]"
      ]
     },
     "metadata": {},
     "output_type": "display_data"
    },
    {
     "name": "stdout",
     "output_type": "stream",
     "text": [
      "validation nmae: 0.09685\n",
      "training nmae: 0.1197\n"
     ]
    },
    {
     "data": {
      "application/vnd.jupyter.widget-view+json": {
       "model_id": "",
       "version_major": 2,
       "version_minor": 0
      },
      "text/plain": [
       "Validation: 0it [00:00, ?it/s]"
      ]
     },
     "metadata": {},
     "output_type": "display_data"
    },
    {
     "name": "stdout",
     "output_type": "stream",
     "text": [
      "validation nmae: 0.1129\n",
      "training nmae: 0.124\n"
     ]
    },
    {
     "data": {
      "application/vnd.jupyter.widget-view+json": {
       "model_id": "",
       "version_major": 2,
       "version_minor": 0
      },
      "text/plain": [
       "Validation: 0it [00:00, ?it/s]"
      ]
     },
     "metadata": {},
     "output_type": "display_data"
    },
    {
     "name": "stdout",
     "output_type": "stream",
     "text": [
      "validation nmae: 0.1414\n",
      "training nmae: 0.127\n"
     ]
    },
    {
     "data": {
      "application/vnd.jupyter.widget-view+json": {
       "model_id": "",
       "version_major": 2,
       "version_minor": 0
      },
      "text/plain": [
       "Validation: 0it [00:00, ?it/s]"
      ]
     },
     "metadata": {},
     "output_type": "display_data"
    },
    {
     "name": "stdout",
     "output_type": "stream",
     "text": [
      "validation nmae: 0.1081\n",
      "training nmae: 0.124\n"
     ]
    },
    {
     "data": {
      "application/vnd.jupyter.widget-view+json": {
       "model_id": "",
       "version_major": 2,
       "version_minor": 0
      },
      "text/plain": [
       "Validation: 0it [00:00, ?it/s]"
      ]
     },
     "metadata": {},
     "output_type": "display_data"
    },
    {
     "name": "stdout",
     "output_type": "stream",
     "text": [
      "validation nmae: 0.1228\n",
      "training nmae: 0.1179\n"
     ]
    },
    {
     "data": {
      "application/vnd.jupyter.widget-view+json": {
       "model_id": "",
       "version_major": 2,
       "version_minor": 0
      },
      "text/plain": [
       "Validation: 0it [00:00, ?it/s]"
      ]
     },
     "metadata": {},
     "output_type": "display_data"
    },
    {
     "name": "stdout",
     "output_type": "stream",
     "text": [
      "validation nmae: 0.112\n",
      "training nmae: 0.1251\n"
     ]
    },
    {
     "data": {
      "application/vnd.jupyter.widget-view+json": {
       "model_id": "",
       "version_major": 2,
       "version_minor": 0
      },
      "text/plain": [
       "Validation: 0it [00:00, ?it/s]"
      ]
     },
     "metadata": {},
     "output_type": "display_data"
    },
    {
     "name": "stdout",
     "output_type": "stream",
     "text": [
      "validation nmae: 0.1149\n",
      "training nmae: 0.1198\n"
     ]
    },
    {
     "data": {
      "application/vnd.jupyter.widget-view+json": {
       "model_id": "",
       "version_major": 2,
       "version_minor": 0
      },
      "text/plain": [
       "Validation: 0it [00:00, ?it/s]"
      ]
     },
     "metadata": {},
     "output_type": "display_data"
    },
    {
     "name": "stdout",
     "output_type": "stream",
     "text": [
      "validation nmae: 0.09916\n",
      "training nmae: 0.1223\n"
     ]
    },
    {
     "data": {
      "application/vnd.jupyter.widget-view+json": {
       "model_id": "",
       "version_major": 2,
       "version_minor": 0
      },
      "text/plain": [
       "Validation: 0it [00:00, ?it/s]"
      ]
     },
     "metadata": {},
     "output_type": "display_data"
    },
    {
     "name": "stdout",
     "output_type": "stream",
     "text": [
      "validation nmae: 0.1084\n",
      "training nmae: 0.1194\n"
     ]
    },
    {
     "data": {
      "application/vnd.jupyter.widget-view+json": {
       "model_id": "",
       "version_major": 2,
       "version_minor": 0
      },
      "text/plain": [
       "Validation: 0it [00:00, ?it/s]"
      ]
     },
     "metadata": {},
     "output_type": "display_data"
    },
    {
     "name": "stdout",
     "output_type": "stream",
     "text": [
      "validation nmae: 0.107\n",
      "training nmae: 0.1171\n"
     ]
    },
    {
     "data": {
      "application/vnd.jupyter.widget-view+json": {
       "model_id": "",
       "version_major": 2,
       "version_minor": 0
      },
      "text/plain": [
       "Validation: 0it [00:00, ?it/s]"
      ]
     },
     "metadata": {},
     "output_type": "display_data"
    },
    {
     "name": "stdout",
     "output_type": "stream",
     "text": [
      "validation nmae: 0.1324\n",
      "training nmae: 0.1269\n"
     ]
    },
    {
     "data": {
      "application/vnd.jupyter.widget-view+json": {
       "model_id": "",
       "version_major": 2,
       "version_minor": 0
      },
      "text/plain": [
       "Validation: 0it [00:00, ?it/s]"
      ]
     },
     "metadata": {},
     "output_type": "display_data"
    },
    {
     "name": "stdout",
     "output_type": "stream",
     "text": [
      "validation nmae: 0.115\n",
      "training nmae: 0.1141\n"
     ]
    },
    {
     "data": {
      "application/vnd.jupyter.widget-view+json": {
       "model_id": "",
       "version_major": 2,
       "version_minor": 0
      },
      "text/plain": [
       "Validation: 0it [00:00, ?it/s]"
      ]
     },
     "metadata": {},
     "output_type": "display_data"
    },
    {
     "name": "stdout",
     "output_type": "stream",
     "text": [
      "validation nmae: 0.1894\n",
      "training nmae: 0.1138\n"
     ]
    },
    {
     "data": {
      "application/vnd.jupyter.widget-view+json": {
       "model_id": "",
       "version_major": 2,
       "version_minor": 0
      },
      "text/plain": [
       "Validation: 0it [00:00, ?it/s]"
      ]
     },
     "metadata": {},
     "output_type": "display_data"
    },
    {
     "name": "stdout",
     "output_type": "stream",
     "text": [
      "validation nmae: 0.1502\n",
      "training nmae: 0.1216\n"
     ]
    }
   ],
   "source": [
    "# #########################################################\n",
    "# '''이상치 검증용'''\n",
    "# #########################################################\n",
    "\n",
    "kf = KFold(n_splits=5, shuffle=False)\n",
    "\n",
    "for fold, (ti, vi) in enumerate(kf.split(train_path)):                                                                                                   \n",
    "    trainset_path, validset_path = train_path[ti], train_path[vi]\n",
    "    train_imgset, valid_imgset = train_imgs[ti], train_imgs[vi]\n",
    "\n",
    "    train_dataset = PYTORCH_DATASET(path=trainset_path, img2weight=img2weight, imgs=train_imgset, img2data=img2data,\\\n",
    "                                    transform=train_mode)\n",
    "\n",
    "    valid_dataset = PYTORCH_DATASET(path=validset_path, img2weight=img2weight, imgs=valid_imgset, img2data=img2data,\\\n",
    "                                    transform=test_mode)\n",
    "\n",
    "    augment_dataset = PYTORCH_AUGMENTSET(aug_imgs=augment_imgs, transform_ori=test_mode, transform_aug=train_mode)\n",
    "\n",
    "    test_dataset = PYTORCH_PREDICTSET(path=validset_path, imgs=valid_imgset, img2data=img2data, \\\n",
    "                            transform=test_mode)\n",
    "\n",
    "\n",
    "    model_name = \"efficientnet_B0\"\n",
    "\n",
    "    model = LIGHTNING_MODEL(train_dataset, valid_dataset, augment_dataset, test_dataset)\n",
    "\n",
    "    check_path =  f\"D:/DACON_GROWTH/outlier_{fold}/{model_name}\"\n",
    "    if not os.path.exists(check_path):\n",
    "        os.makedirs(check_path)\n",
    "    checkpoint_callback = ModelCheckpoint(dirpath=check_path, save_top_k=1, monitor=\"val_nmae\", \\\n",
    "                                          save_weights_only=True)\n",
    "    print(1)\n",
    "    trainer = pl.Trainer(\n",
    "        devices=[0],\n",
    "        accelerator='gpu',\n",
    "        max_epochs=70,\n",
    "        callbacks=[checkpoint_callback],\n",
    "        precision=16\n",
    "    )\n",
    "\n",
    "    trainer.fit(model)\n",
    "\n",
    "    bestscore = model.bestnmae\n",
    "    checkpoint_ = os.listdir(check_path)[0]\n",
    "    file_name = os.path.basename(checkpoint_).split(\".ckpt\")[0]\n",
    "    src = os.path.join(check_path, checkpoint_)\n",
    "    score_name = file_name + f\"_{bestscore : .4f}.ckpt\"\n",
    "    dst = os.path.join(check_path, score_name)\n",
    "    os.rename(src, dst)"
   ]
  },
  {
   "cell_type": "code",
   "execution_count": 103,
   "id": "c8b58587",
   "metadata": {},
   "outputs": [
    {
     "name": "stderr",
     "output_type": "stream",
     "text": [
      "Using 16bit native Automatic Mixed Precision (AMP)\n",
      "GPU available: True, used: True\n",
      "TPU available: False, using: 0 TPU cores\n",
      "IPU available: False, using: 0 IPUs\n",
      "HPU available: False, using: 0 HPUs\n",
      "LOCAL_RANK: 0 - CUDA_VISIBLE_DEVICES: [0]\n"
     ]
    },
    {
     "data": {
      "application/vnd.jupyter.widget-view+json": {
       "model_id": "de9acfffbe7a4954a9ff8d0b847bafb4",
       "version_major": 2,
       "version_minor": 0
      },
      "text/plain": [
       "Predicting: 0it [00:00, ?it/s]"
      ]
     },
     "metadata": {},
     "output_type": "display_data"
    },
    {
     "name": "stderr",
     "output_type": "stream",
     "text": [
      "LOCAL_RANK: 0 - CUDA_VISIBLE_DEVICES: [0]\n"
     ]
    },
    {
     "data": {
      "application/vnd.jupyter.widget-view+json": {
       "model_id": "59633d16a6ea4c1ea4869c3ea667d672",
       "version_major": 2,
       "version_minor": 0
      },
      "text/plain": [
       "Predicting: 0it [00:00, ?it/s]"
      ]
     },
     "metadata": {},
     "output_type": "display_data"
    },
    {
     "name": "stdout",
     "output_type": "stream",
     "text": [
      "0\n"
     ]
    },
    {
     "name": "stderr",
     "output_type": "stream",
     "text": [
      "Using 16bit native Automatic Mixed Precision (AMP)\n",
      "GPU available: True, used: True\n",
      "TPU available: False, using: 0 TPU cores\n",
      "IPU available: False, using: 0 IPUs\n",
      "HPU available: False, using: 0 HPUs\n",
      "LOCAL_RANK: 0 - CUDA_VISIBLE_DEVICES: [0]\n"
     ]
    },
    {
     "data": {
      "application/vnd.jupyter.widget-view+json": {
       "model_id": "228c12c9ca254cc8ab32303aca49c244",
       "version_major": 2,
       "version_minor": 0
      },
      "text/plain": [
       "Predicting: 0it [00:00, ?it/s]"
      ]
     },
     "metadata": {},
     "output_type": "display_data"
    },
    {
     "name": "stderr",
     "output_type": "stream",
     "text": [
      "LOCAL_RANK: 0 - CUDA_VISIBLE_DEVICES: [0]\n"
     ]
    },
    {
     "data": {
      "application/vnd.jupyter.widget-view+json": {
       "model_id": "098272939d174388832e63b0bb9b1b00",
       "version_major": 2,
       "version_minor": 0
      },
      "text/plain": [
       "Predicting: 0it [00:00, ?it/s]"
      ]
     },
     "metadata": {},
     "output_type": "display_data"
    },
    {
     "name": "stdout",
     "output_type": "stream",
     "text": [
      "1\n"
     ]
    },
    {
     "name": "stderr",
     "output_type": "stream",
     "text": [
      "Using 16bit native Automatic Mixed Precision (AMP)\n",
      "GPU available: True, used: True\n",
      "TPU available: False, using: 0 TPU cores\n",
      "IPU available: False, using: 0 IPUs\n",
      "HPU available: False, using: 0 HPUs\n",
      "LOCAL_RANK: 0 - CUDA_VISIBLE_DEVICES: [0]\n"
     ]
    },
    {
     "data": {
      "application/vnd.jupyter.widget-view+json": {
       "model_id": "155c7fb06fb74eb2a5ec79feb6bfe843",
       "version_major": 2,
       "version_minor": 0
      },
      "text/plain": [
       "Predicting: 0it [00:00, ?it/s]"
      ]
     },
     "metadata": {},
     "output_type": "display_data"
    },
    {
     "name": "stderr",
     "output_type": "stream",
     "text": [
      "LOCAL_RANK: 0 - CUDA_VISIBLE_DEVICES: [0]\n"
     ]
    },
    {
     "data": {
      "application/vnd.jupyter.widget-view+json": {
       "model_id": "64df0673c57b4ab7928b67d5ef029a93",
       "version_major": 2,
       "version_minor": 0
      },
      "text/plain": [
       "Predicting: 0it [00:00, ?it/s]"
      ]
     },
     "metadata": {},
     "output_type": "display_data"
    },
    {
     "name": "stdout",
     "output_type": "stream",
     "text": [
      "2\n"
     ]
    },
    {
     "name": "stderr",
     "output_type": "stream",
     "text": [
      "Using 16bit native Automatic Mixed Precision (AMP)\n",
      "GPU available: True, used: True\n",
      "TPU available: False, using: 0 TPU cores\n",
      "IPU available: False, using: 0 IPUs\n",
      "HPU available: False, using: 0 HPUs\n",
      "LOCAL_RANK: 0 - CUDA_VISIBLE_DEVICES: [0]\n"
     ]
    },
    {
     "data": {
      "application/vnd.jupyter.widget-view+json": {
       "model_id": "b458ca9965a242bf8e467109d2856290",
       "version_major": 2,
       "version_minor": 0
      },
      "text/plain": [
       "Predicting: 0it [00:00, ?it/s]"
      ]
     },
     "metadata": {},
     "output_type": "display_data"
    },
    {
     "name": "stderr",
     "output_type": "stream",
     "text": [
      "LOCAL_RANK: 0 - CUDA_VISIBLE_DEVICES: [0]\n"
     ]
    },
    {
     "data": {
      "application/vnd.jupyter.widget-view+json": {
       "model_id": "52de1dfb102641bbb4f13fb1dbd537d8",
       "version_major": 2,
       "version_minor": 0
      },
      "text/plain": [
       "Predicting: 0it [00:00, ?it/s]"
      ]
     },
     "metadata": {},
     "output_type": "display_data"
    },
    {
     "name": "stdout",
     "output_type": "stream",
     "text": [
      "3\n"
     ]
    },
    {
     "name": "stderr",
     "output_type": "stream",
     "text": [
      "Using 16bit native Automatic Mixed Precision (AMP)\n",
      "GPU available: True, used: True\n",
      "TPU available: False, using: 0 TPU cores\n",
      "IPU available: False, using: 0 IPUs\n",
      "HPU available: False, using: 0 HPUs\n",
      "LOCAL_RANK: 0 - CUDA_VISIBLE_DEVICES: [0]\n"
     ]
    },
    {
     "data": {
      "application/vnd.jupyter.widget-view+json": {
       "model_id": "c9b2d48f0ad84f0d844073d9150c4bf8",
       "version_major": 2,
       "version_minor": 0
      },
      "text/plain": [
       "Predicting: 0it [00:00, ?it/s]"
      ]
     },
     "metadata": {},
     "output_type": "display_data"
    },
    {
     "name": "stderr",
     "output_type": "stream",
     "text": [
      "LOCAL_RANK: 0 - CUDA_VISIBLE_DEVICES: [0]\n"
     ]
    },
    {
     "data": {
      "application/vnd.jupyter.widget-view+json": {
       "model_id": "980757a9b3fe4f15b81900a3ad076696",
       "version_major": 2,
       "version_minor": 0
      },
      "text/plain": [
       "Predicting: 0it [00:00, ?it/s]"
      ]
     },
     "metadata": {},
     "output_type": "display_data"
    },
    {
     "name": "stdout",
     "output_type": "stream",
     "text": [
      "4\n"
     ]
    }
   ],
   "source": [
    "kf = KFold(n_splits=5, shuffle=False)\n",
    "fold1 = {}\n",
    "fold2 = {}\n",
    "fold3 = {}\n",
    "fold4 = {}\n",
    "fold5 = {}\n",
    "for fold, (ti, vi) in enumerate(kf.split(train_path)):                                                                                                   \n",
    "    trainset_path, validset_path = train_path[ti], train_path[vi]\n",
    "    train_imgset, valid_imgset = train_imgs[ti], train_imgs[vi]\n",
    "\n",
    "    valid_dataset = PYTORCH_DATASET(path=validset_path, img2weight=img2weight, imgs=valid_imgset, img2data=img2data,\\\n",
    "                                    transform=test_mode)\n",
    "\n",
    "    model_name = \"efficientnet_B0\"\n",
    "    \n",
    "    if fold == 0:\n",
    "        check_path = r\"D:\\DACON_GROWTH\\outlier_0\\efficientnet_B0/epoch=69-step=4340_ 0.0751.ckpt\"\n",
    "    elif fold == 1:\n",
    "        check_path = r\"D:\\DACON_GROWTH\\outlier_1\\efficientnet_B0/epoch=47-step=2976_ 0.1439.ckpt\"\n",
    "    elif fold == 2:\n",
    "        check_path = r\"D:\\DACON_GROWTH\\outlier_2\\efficientnet_B0/epoch=68-step=4278_ 0.0550.ckpt\"\n",
    "    elif fold == 3:\n",
    "        check_path = r\"D:\\DACON_GROWTH\\outlier_3\\efficientnet_B0/epoch=58-step=3658_ 0.0754.ckpt\"\n",
    "    elif fold == 4:\n",
    "        check_path = r\"D:\\DACON_GROWTH\\outlier_4\\efficientnet_B0/epoch=12-step=806_ 0.0909.ckpt\"\n",
    "        \n",
    "    \n",
    "    trainer = pl.Trainer(\n",
    "        devices=[0],\n",
    "        accelerator='gpu',\n",
    "        max_epochs=70,\n",
    "        callbacks=[checkpoint_callback],\n",
    "        precision=16\n",
    "    )\n",
    "    \n",
    "\n",
    "    model = LIGHTNING_MODEL.load_from_checkpoint(checkpoint_path=check_path,\n",
    "                              train_datasest = None, val_dataset = None, \\\n",
    "                    augment_dataset= None, predict_dataset = valid_dataset)\n",
    "    trainer.predict(model)\n",
    "    \n",
    "    prediction = trainer.predict(model)\n",
    "    \n",
    "    sub_list = []\n",
    "    for p in prediction:\n",
    "        p = p.view(-1)\n",
    "        for sample in p:\n",
    "            sample = sample.cpu().numpy()\n",
    "            sub_list.append(sample)\n",
    "    #true value\n",
    "    valid_true = []\n",
    "    for p in validset_path:\n",
    "        p = p.split(\"\\\\\")[-1].split(\".\")[0]\n",
    "        w = img2weight[p]\n",
    "        valid_true.append(w)\n",
    "    \n",
    "    for i, j, k in zip(validset_path, sub_list, valid_true):\n",
    "        i = i.split(\"\\\\\")[-1].split(\".\")[0]\n",
    "        result = np.abs(j-k) / j\n",
    "        result2 = np.abs(j-k)\n",
    "        if fold == 0:\n",
    "            fold1[i] = [result, result2]\n",
    "        elif fold == 1:\n",
    "            fold2[i] = [result, result2]\n",
    "        elif fold == 2:\n",
    "            fold3[i] = [result, result2]\n",
    "        elif fold == 3:\n",
    "            fold4[i] = [result, result2]\n",
    "        elif fold == 4:\n",
    "            fold5[i] = [result, result2]\n",
    "    print(fold)"
   ]
  },
  {
   "cell_type": "code",
   "execution_count": 104,
   "id": "9726e702",
   "metadata": {},
   "outputs": [
    {
     "data": {
      "text/plain": [
       "{'CASE01_01': [0.23644933228593873, 9.40625],\n",
       " 'CASE01_02': [0.2232885476647473, 10.90625],\n",
       " 'CASE01_03': [0.2037519541427827, 12.21875],\n",
       " 'CASE01_04': [0.18072289156626506, 13.125],\n",
       " 'CASE01_05': [0.1856936416184971, 16.0625],\n",
       " 'CASE01_06': [0.1799163179916318, 18.8125],\n",
       " 'CASE01_07': [0.2936302433972035, 35.4375],\n",
       " 'CASE01_08': [0.13004846526655897, 20.125],\n",
       " 'CASE01_09': [0.034482758620689655, 6.25],\n",
       " 'CASE02_01': [0.029301745635910224, 5.875],\n",
       " 'CASE02_02': [0.011214953271028037, 2.25],\n",
       " 'CASE02_03': [0.021414665801427646, 4.125],\n",
       " 'CASE02_04': [0.020471464019851116, 4.125],\n",
       " 'CASE02_05': [0.036101083032490974, 7.5],\n",
       " 'CASE02_06': [0.021844660194174758, 4.5],\n",
       " 'CASE02_07': [0.03128834355828221, 6.375],\n",
       " 'CASE02_08': [0.09433962264150944, 19.375],\n",
       " 'CASE02_09': [0.07788595271210014, 14.0],\n",
       " 'CASE02_10': [0.012028869286287089, 1.875],\n",
       " 'CASE02_11': [0.0008764241893076249, 0.125],\n",
       " 'CASE03_01': [0.07800891530460624, 0.8203125],\n",
       " 'CASE03_02': [0.15623205054566341, 2.125],\n",
       " 'CASE03_03': [0.1151662611516626, 2.21875],\n",
       " 'CASE03_04': [0.06472491909385113, 1.875],\n",
       " 'CASE03_05': [0.1405990016638935, 5.28125],\n",
       " 'CASE04_01': [0.03888596952180767, 2.3125],\n",
       " 'CASE04_02': [0.0137221269296741, 1.0],\n",
       " 'CASE04_03': [0.009034051424600417, 0.8125],\n",
       " 'CASE04_04': [0.06438026474127558, 6.6875],\n",
       " 'CASE04_05': [0.025235032162295893, 3.1875],\n",
       " 'CASE04_06': [0.0635593220338983, 9.375],\n",
       " 'CASE04_07': [0.11654676258992806, 20.25],\n",
       " 'CASE04_08': [0.0965391621129326, 19.875],\n",
       " 'CASE04_09': [0.07247160627366143, 16.75],\n",
       " 'CASE04_10': [0.014097744360902255, 3.75],\n",
       " 'CASE04_11': [0.04599659284497445, 13.5],\n",
       " 'CASE04_12': [0.06353135313531354, 19.25],\n",
       " 'CASE04_13': [0.06377759607522486, 19.5],\n",
       " 'CASE04_14': [0.05284227381905524, 16.5],\n",
       " 'CASE04_15': [0.09311424100156494, 29.75],\n",
       " 'CASE04_16': [0.006902502157031924, 2.0],\n",
       " 'CASE04_17': [0.009151414309484194, 2.75],\n",
       " 'CASE04_18': [0.012976480129764802, 4.0],\n",
       " 'CASE04_19': [0.036021926389976505, 11.5],\n",
       " 'CASE04_20': [0.04636785162287481, 15.0],\n",
       " 'CASE04_21': [0.023622047244094488, 7.5],\n",
       " 'CASE04_22': [0.006389776357827476, 2.0],\n",
       " 'CASE04_23': [0.01987281399046105, 6.25],\n",
       " 'CASE04_24': [0.00878594249201278, 2.75],\n",
       " 'CASE04_25': [0.026045777426992895, 8.25],\n",
       " 'CASE04_26': [0.020516717325227963, 6.75],\n",
       " 'CASE04_27': [0.061996779388083734, 19.25],\n",
       " 'CASE05_01': [0.5888244596731682, 0.54541015625],\n",
       " 'CASE05_02': [0.7457191780821918, 0.8505859375],\n",
       " 'CASE05_03': [1.0177909562638991, 1.3408203125],\n",
       " 'CASE05_04': [0.3393843725335438, 0.83984375],\n",
       " 'CASE05_05': [0.39615384615384613, 1.20703125],\n",
       " 'CASE05_06': [0.45405982905982906, 1.66015625],\n",
       " 'CASE05_07': [0.20986687548942834, 1.046875],\n",
       " 'CASE05_08': [0.09691358024691359, 0.61328125],\n",
       " 'CASE05_09': [0.20469627360898418, 1.56640625],\n",
       " 'CASE05_10': [0.24924924924924924, 2.59375],\n",
       " 'CASE05_11': [0.15726681127982647, 2.265625],\n",
       " 'CASE05_12': [0.19863597612958228, 3.640625],\n",
       " 'CASE05_13': [0.09784615384615385, 2.484375],\n",
       " 'CASE05_14': [0.060320452403393024, 2.0],\n",
       " 'CASE05_15': [0.02562225475841874, 1.09375],\n",
       " 'CASE05_16': [0.08845928529584066, 4.71875],\n",
       " 'CASE05_17': [0.03481822836661547, 2.125],\n",
       " 'CASE05_18': [0.009074410163339383, 0.625],\n",
       " 'CASE05_19': [0.02315160567587752, 1.9375],\n",
       " 'CASE05_20': [0.0862173649058895, 8.875],\n",
       " 'CASE05_21': [0.5024617067833698, 57.40625],\n",
       " 'CASE05_22': [0.036458333333333336, 3.5],\n",
       " 'CASE05_23': [0.29723991507430997, 35.0],\n",
       " 'CASE06_01': [0.8976165254237288, 1.03436279296875],\n",
       " 'CASE06_02': [0.5870967741935483, 0.7109375],\n",
       " 'CASE06_03': [0.20184590690208667, 0.24560546875],\n",
       " 'CASE06_04': [0.00847457627118644, 0.01171875],\n",
       " 'CASE06_05': [0.14898688915375446, 0.244140625],\n",
       " 'CASE06_06': [0.01110550227158001, 0.021484375],\n",
       " 'CASE06_07': [0.13663220088626293, 0.361328125],\n",
       " 'CASE06_08': [0.230690537084399, 0.880859375],\n",
       " 'CASE06_09': [0.1452991452991453, 0.9296875],\n",
       " 'CASE06_10': [0.01079414032382421, 0.109375],\n",
       " 'CASE06_11': [0.05170731707317073, 0.828125],\n",
       " 'CASE07_01': [0.08777686628383921, 13.375],\n",
       " 'CASE07_02': [0.11205211726384365, 21.5],\n",
       " 'CASE07_03': [0.2059667240390132, 44.875],\n",
       " 'CASE07_04': [0.2524366471734893, 64.75],\n",
       " 'CASE07_05': [0.012601927353595256, 4.25],\n",
       " 'CASE07_06': [0.19707520891364902, 70.75],\n",
       " 'CASE07_07': [0.048312375909993384, 18.25],\n",
       " 'CASE07_08': [0.056504599211563734, 21.5],\n",
       " 'CASE07_09': [0.09716859716859717, 37.75],\n",
       " 'CASE08_01': [0.16414777497900923, 0.095458984375],\n",
       " 'CASE08_02': [0.09001837109614207, 0.07177734375],\n",
       " 'CASE08_03': [0.4776203966005666, 0.41162109375],\n",
       " 'CASE08_04': [0.7819810851169736, 0.76708984375],\n",
       " 'CASE08_05': [0.624747814391392, 0.9072265625],\n",
       " 'CASE08_06': [0.6575875486381323, 1.3203125],\n",
       " 'CASE08_07': [0.6049382716049383, 1.72265625],\n",
       " 'CASE08_08': [0.4624125874125874, 2.06640625],\n",
       " 'CASE08_09': [0.3173129437465866, 2.26953125],\n",
       " 'CASE08_10': [0.4045031055900621, 4.0703125],\n",
       " 'CASE08_11': [0.13531047265987026, 2.28125],\n",
       " 'CASE09_01': [0.14709517923362175, 29.75],\n",
       " 'CASE09_02': [0.09888888888888889, 22.25],\n",
       " 'CASE09_03': [0.013108614232209739, 3.5],\n",
       " 'CASE09_04': [0.06816421378776143, 22.0],\n",
       " 'CASE09_05': [0.016983695652173912, 6.25],\n",
       " 'CASE09_06': [0.05844572896596018, 22.75],\n",
       " 'CASE09_07': [0.06304619225967541, 25.25],\n",
       " 'CASE09_08': [0.06394640682095006, 26.25],\n",
       " 'CASE09_09': [0.1450653983353151, 61.0],\n",
       " 'CASE10_01': [0.950792061179898, 0.637420654296875],\n",
       " 'CASE10_02': [0.9054675273865415, 0.565032958984375],\n",
       " 'CASE10_03': [0.8311076197957581, 0.5166015625],\n",
       " 'CASE10_04': [0.8061424100156495, 0.5030517578125],\n",
       " 'CASE10_05': [0.7432539682539683, 0.457275390625],\n",
       " 'CASE10_06': [0.07658450704225352, 0.04248046875],\n",
       " 'CASE10_07': [0.20056899004267426, 0.1376953125],\n",
       " 'CASE10_08': [0.34523809523809523, 0.33984375],\n",
       " 'CASE10_09': [0.531201248049922, 0.6650390625],\n",
       " 'CASE10_10': [0.44315030504714364, 0.7802734375],\n",
       " 'CASE10_11': [0.3996937212863706, 1.01953125],\n",
       " 'CASE10_12': [0.6642857142857143, 2.1796875],\n",
       " 'CASE10_13': [0.3497723823975721, 1.80078125],\n",
       " 'CASE10_14': [0.1792152704135737, 1.3203125],\n",
       " 'CASE10_15': [0.0426917510853835, 0.4609375],\n",
       " 'CASE10_16': [0.1400611620795107, 1.7890625],\n",
       " 'CASE10_17': [0.14230019493177387, 2.28125],\n",
       " 'CASE10_18': [0.19576719576719576, 3.46875],\n",
       " 'CASE10_19': [0.37209302325581395, 7.25],\n",
       " 'CASE10_20': [0.2545811518324607, 6.078125],\n",
       " 'CASE10_21': [0.14831717056474614, 4.0625],\n",
       " 'CASE10_22': [0.1131367292225201, 3.296875],\n",
       " 'CASE10_23': [0.08858166922683051, 2.703125],\n",
       " 'CASE10_24': [0.11078717201166181, 3.5625],\n",
       " 'CASE10_25': [0.023381294964028777, 0.8125],\n",
       " 'CASE10_26': [0.02425876010781671, 0.84375],\n",
       " 'CASE10_27': [0.08619091751621873, 2.90625],\n",
       " 'CASE10_28': [0.01768346595932803, 0.625],\n",
       " 'CASE10_29': [0.0650994575045208, 2.25],\n",
       " 'CASE10_30': [0.05545774647887324, 1.96875],\n",
       " 'CASE10_31': [0.03962101636520241, 1.4375],\n",
       " 'CASE10_32': [0.03963666391412056, 1.5],\n",
       " 'CASE10_33': [0.13350340136054423, 4.90625],\n",
       " 'CASE10_34': [0.11145038167938931, 4.5625],\n",
       " 'CASE10_35': [0.06778476589797344, 3.03125],\n",
       " 'CASE10_36': [0.054196959682749506, 2.5625],\n",
       " 'CASE10_37': [0.013131976362442548, 0.625],\n",
       " 'CASE10_38': [0.006825938566552901, 0.3125],\n",
       " 'CASE10_39': [0.0449521002210759, 1.90625],\n",
       " 'CASE10_40': [0.09249011857707509, 3.65625],\n",
       " 'CASE10_41': [0.4355400696864111, 15.625],\n",
       " 'CASE10_42': [0.12785072563925362, 5.78125],\n",
       " 'CASE11_01': [0.9082016899338722, 0.603546142578125],\n",
       " 'CASE11_02': [0.9522630147630148, 0.598419189453125],\n",
       " 'CASE11_03': [0.8561452513966481, 0.5238037109375],\n",
       " 'CASE11_04': [0.8156374501992032, 0.49981689453125],\n",
       " 'CASE11_05': [0.7109250398724083, 0.435302734375],\n",
       " 'CASE11_06': [0.27011494252873564, 0.149169921875],\n",
       " 'CASE11_07': [0.15390447308567096, 0.09912109375],\n",
       " 'CASE11_08': [0.2905852417302799, 0.27880859375],\n",
       " 'CASE11_09': [0.6849199663016007, 0.7939453125],\n",
       " 'CASE11_10': [0.3278520041109969, 0.623046875],\n",
       " 'CASE11_11': [0.3925019127773527, 1.001953125],\n",
       " 'CASE11_12': [0.7803030303030303, 2.4140625],\n",
       " 'CASE11_13': [0.4444444444444444, 2.25],\n",
       " 'CASE11_14': [0.20953830542871638, 1.61328125],\n",
       " 'CASE11_15': [0.04100069492703266, 0.4609375],\n",
       " 'CASE11_16': [0.15257244234180958, 2.015625],\n",
       " 'CASE11_17': [0.14271844660194175, 2.296875],\n",
       " 'CASE11_18': [0.20452567449956485, 3.671875],\n",
       " 'CASE11_19': [0.36640625, 7.328125],\n",
       " 'CASE11_20': [0.13669501822600244, 3.515625],\n",
       " 'CASE11_21': [0.08885116015846067, 2.453125],\n",
       " 'CASE11_22': [0.12088535754824063, 3.328125],\n",
       " 'CASE11_23': [0.08409212640599893, 2.453125],\n",
       " 'CASE11_24': [0.06444906444906445, 1.9375],\n",
       " 'CASE11_25': [0.035768261964735516, 1.109375],\n",
       " 'CASE11_26': [0.011268985791278784, 0.359375],\n",
       " 'CASE11_27': [0.05348133198789102, 1.65625],\n",
       " 'CASE11_28': [0.09404990403071017, 3.0625],\n",
       " 'CASE11_29': [0.07180020811654526, 2.15625],\n",
       " 'CASE11_30': [0.010648596321393998, 0.34375],\n",
       " 'CASE11_31': [0.036619718309859155, 1.21875],\n",
       " 'CASE11_32': [0.07065217391304347, 2.4375],\n",
       " 'CASE11_33': [0.07750472589792061, 2.5625],\n",
       " 'CASE11_34': [0.16877637130801687, 6.25],\n",
       " 'CASE11_35': [0.03851640513552068, 1.6875],\n",
       " 'CASE11_36': [0.015151515151515152, 0.6875],\n",
       " 'CASE11_37': [0.002145922746781116, 0.09375],\n",
       " 'CASE11_38': [0.03794642857142857, 1.59375],\n",
       " 'CASE11_39': [0.07863383637807785, 3.09375],\n",
       " 'CASE11_40': [0.04966887417218543, 1.875],\n",
       " 'CASE11_41': [0.2844364937388193, 9.9375],\n",
       " 'CASE12_01': [0.9594072164948454, 0.590728759765625],\n",
       " 'CASE12_02': [0.8607, 0.52532958984375],\n",
       " 'CASE12_03': [0.807008785942492, 0.49334716796875],\n",
       " 'CASE12_04': [0.6934499593165175, 0.4161376953125],\n",
       " 'CASE12_05': [0.4352517985611511, 0.265869140625],\n",
       " 'CASE12_06': [0.2436837815810921, 0.14599609375],\n",
       " 'CASE12_07': [0.3194291986827662, 0.2841796875],\n",
       " 'CASE12_08': [0.48678601875532823, 0.5576171875],\n",
       " 'CASE12_09': [0.36090651558073655, 0.6220703125],\n",
       " 'CASE12_10': [0.3013698630136986, 0.73046875],\n",
       " 'CASE12_11': [0.5644211903204709, 1.685546875],\n",
       " 'CASE12_12': [0.5087396504139834, 2.16015625],\n",
       " 'CASE12_13': [0.2140221402214022, 1.359375],\n",
       " 'CASE12_14': [0.13485113835376533, 1.203125],\n",
       " 'CASE12_15': [0.21121883656509696, 2.3828125],\n",
       " 'CASE12_16': [0.16405433646812956, 2.453125],\n",
       " 'CASE12_17': [0.17625570776255708, 3.015625],\n",
       " 'CASE12_18': [0.3347315436241611, 6.234375],\n",
       " 'CASE12_19': [0.29953302201467646, 7.015625],\n",
       " 'CASE12_20': [0.08147745790331341, 2.34375],\n",
       " 'CASE12_21': [0.1354625550660793, 3.84375],\n",
       " 'CASE12_22': [0.1105318039624609, 3.3125],\n",
       " 'CASE12_23': [0.11412770236299648, 3.546875],\n",
       " 'CASE12_24': [0.06482364156339371, 2.125],\n",
       " 'CASE12_25': [0.027604630454140695, 0.96875],\n",
       " 'CASE12_26': [0.017132551848512173, 0.59375],\n",
       " 'CASE12_27': [0.10682492581602374, 3.375],\n",
       " 'CASE12_28': [0.005623242736644799, 0.1875],\n",
       " 'CASE12_29': [0.029182879377431907, 0.9375],\n",
       " 'CASE12_30': [0.0037735849056603774, 0.125],\n",
       " 'CASE12_31': [0.03145235892691952, 1.0625],\n",
       " 'CASE12_32': [0.16666666666666666, 5.8125],\n",
       " 'CASE12_33': [0.021671826625386997, 0.875],\n",
       " 'CASE12_34': [0.09131403118040089, 3.84375],\n",
       " 'CASE12_35': [0.09467864547339323, 4.28125],\n",
       " 'CASE12_36': [0.007128969539857421, 0.34375],\n",
       " 'CASE12_37': [0.036005434782608696, 1.65625],\n",
       " 'CASE12_38': [0.02046783625730994, 0.875],\n",
       " 'CASE12_39': [0.0707070707070707, 2.84375],\n",
       " 'CASE12_40': [0.29354047424366314, 11.21875],\n",
       " 'CASE12_41': [0.10373760488176964, 4.25],\n",
       " 'CASE12_42': [0.2713972201901975, 11.59375],\n",
       " 'CASE13_01': [0.9132162480376766, 0.568084716796875],\n",
       " 'CASE13_02': [0.8448831587429493, 0.511962890625],\n",
       " 'CASE13_03': [0.8107779578606159, 0.488525390625],\n",
       " 'CASE13_04': [0.7367778681855167, 0.442138671875],\n",
       " 'CASE13_05': [0.28257042253521125, 0.15673828125],\n",
       " 'CASE13_06': [0.32304038004750596, 0.19921875],\n",
       " 'CASE13_07': [0.37252914343639126, 0.35888671875],\n",
       " 'CASE13_08': [0.4186959937156324, 0.5205078125],\n",
       " 'CASE13_09': [0.35021551724137934, 0.634765625],\n",
       " 'CASE13_10': [0.38256087981146897, 0.951171875],\n",
       " 'CASE13_11': [0.45539906103286387, 1.515625],\n",
       " 'CASE13_12': [0.38128861429832306, 1.6875],\n",
       " 'CASE13_13': [0.2211660329531052, 1.36328125],\n",
       " 'CASE13_14': [0.3462264150943396, 2.8671875],\n",
       " 'CASE13_15': [0.18741976893453144, 2.28125],\n",
       " 'CASE13_16': [0.14054600606673406, 2.171875],\n",
       " 'CASE13_17': [0.1989051094890511, 3.40625],\n",
       " 'CASE13_18': [0.3417296389588581, 6.359375],\n",
       " 'CASE13_19': [0.3903133903133903, 8.5625],\n",
       " 'CASE13_20': [0.11838516093835243, 3.390625],\n",
       " 'CASE13_21': [0.1378392762107504, 4.046875],\n",
       " 'CASE13_22': [0.114214463840399, 3.578125],\n",
       " 'CASE13_23': [0.07393364928909953, 2.4375],\n",
       " 'CASE13_24': [0.053953488372093024, 1.8125],\n",
       " 'CASE13_25': [0.04516129032258064, 1.53125],\n",
       " 'CASE13_26': [0.015943312666076175, 0.5625],\n",
       " 'CASE13_27': [0.08095676172953081, 2.75],\n",
       " 'CASE13_28': [0.008865248226950355, 0.3125],\n",
       " 'CASE13_29': [0.08170844939647168, 2.75],\n",
       " 'CASE13_30': [0.01059135039717564, 0.375],\n",
       " 'CASE13_31': [0.0017497812773403325, 0.0625],\n",
       " 'CASE13_32': [0.2837370242214533, 10.25],\n",
       " 'CASE13_33': [0.04739336492890995, 2.1875],\n",
       " 'CASE13_34': [0.0888086642599278, 3.84375],\n",
       " 'CASE13_35': [0.0954637779282329, 4.40625],\n",
       " 'CASE13_36': [0.022151898734177215, 1.09375],\n",
       " 'CASE13_37': [0.015068493150684932, 0.6875],\n",
       " 'CASE13_38': [0.001444043321299639, 0.0625],\n",
       " 'CASE13_39': [0.12169735788630905, 4.75],\n",
       " 'CASE13_40': [0.46794338051623646, 17.5625],\n",
       " 'CASE13_41': [0.011258278145695364, 0.53125],\n",
       " 'CASE14_01': [0.8953511572226656, 0.54779052734375],\n",
       " 'CASE14_02': [0.7859726688102894, 0.4774169921875],\n",
       " 'CASE14_03': [0.8138189935064936, 0.48956298828125],\n",
       " 'CASE14_04': [0.6869350862777321, 0.408203125],\n",
       " 'CASE14_05': [0.14298169136878813, 0.080078125],\n",
       " 'CASE14_06': [0.35255948089401584, 0.23876953125],\n",
       " 'CASE14_07': [0.35471698113207545, 0.3671875],\n",
       " 'CASE14_08': [0.39364844903988183, 0.5205078125],\n",
       " 'CASE14_09': [0.3779128672745694, 0.728515625],\n",
       " 'CASE14_10': [0.40804169769173493, 1.0703125],\n",
       " 'CASE14_11': [0.4903047091412742, 1.728515625],\n",
       " 'CASE14_12': [0.35337124289195776, 1.69921875],\n",
       " 'CASE14_13': [0.12752808988764044, 0.88671875],\n",
       " 'CASE14_14': [0.2320675105485232, 2.1484375],\n",
       " 'CASE14_15': [0.19342839429634223, 2.4375],\n",
       " 'CASE14_16': [0.07418111753371869, 1.203125],\n",
       " 'CASE14_17': [0.2010919017288444, 3.453125],\n",
       " 'CASE14_18': [0.40067057837384745, 7.46875],\n",
       " 'CASE14_19': [0.3242876526458616, 7.46875],\n",
       " 'CASE14_20': [0.12493120528343424, 3.546875],\n",
       " 'CASE14_21': [0.14086021505376345, 4.09375],\n",
       " 'CASE14_22': [0.10879284649776454, 3.421875],\n",
       " 'CASE14_23': [0.05772811918063315, 1.9375],\n",
       " 'CASE14_24': [0.05772811918063315, 1.9375],\n",
       " 'CASE14_25': [0.06381039197812215, 2.1875],\n",
       " 'CASE14_26': [0.00686106346483705, 0.25],\n",
       " 'CASE14_27': [0.027312775330396475, 0.96875],\n",
       " 'CASE14_28': [0.02990325417766051, 1.0625],\n",
       " 'CASE14_29': [0.06912028725314183, 2.40625],\n",
       " 'CASE14_30': [0.02153316106804479, 0.78125],\n",
       " 'CASE14_31': [0.026936026936026935, 1.0],\n",
       " 'CASE14_32': [0.21753515301902399, 8.21875],\n",
       " 'CASE14_33': [0.004106776180698152, 0.1875],\n",
       " 'CASE14_34': [0.08686440677966102, 3.84375],\n",
       " 'CASE14_35': [0.05471324983520105, 2.59375],\n",
       " 'CASE14_36': [0.0025906735751295338, 0.125],\n",
       " 'CASE14_37': [0.02656675749318801, 1.21875],\n",
       " 'CASE14_38': [0.049586776859504134, 2.0625]}"
      ]
     },
     "execution_count": 104,
     "metadata": {},
     "output_type": "execute_result"
    }
   ],
   "source": [
    "fold1"
   ]
  },
  {
   "cell_type": "code",
   "execution_count": 105,
   "id": "b21e030c",
   "metadata": {},
   "outputs": [
    {
     "data": {
      "text/plain": [
       "{'CASE14_39': [0.023943661971830985, 1.0625],\n",
       " 'CASE14_40': [0.14839133289560077, 7.0625],\n",
       " 'CASE14_41': [0.06377998829724986, 3.40625],\n",
       " 'CASE15_01': [0.8219954648526077, 1.06201171875],\n",
       " 'CASE15_02': [0.694920091324201, 1.18896484375],\n",
       " 'CASE15_03': [0.45066273932253315, 0.896484375],\n",
       " 'CASE15_04': [0.4155701754385965, 1.1103515625],\n",
       " 'CASE15_05': [0.39959839357429716, 1.166015625],\n",
       " 'CASE15_06': [0.4305312317571512, 1.4404296875],\n",
       " 'CASE15_07': [0.524505588993981, 2.3828125],\n",
       " 'CASE15_08': [0.5319289005924951, 3.15625],\n",
       " 'CASE15_09': [0.26952526799387444, 2.0625],\n",
       " 'CASE15_10': [0.35448666127728373, 3.42578125],\n",
       " 'CASE15_11': [0.10771113831089352, 1.375],\n",
       " 'CASE16_01': [0.3723916532905297, 58.0],\n",
       " 'CASE16_02': [0.4024466750313676, 80.1875],\n",
       " 'CASE16_03': [0.4582463465553236, 109.75],\n",
       " 'CASE16_04': [0.26504941599281223, 73.75],\n",
       " 'CASE17_01': [0.12841328413284134, 43.5],\n",
       " 'CASE17_02': [0.2228956228956229, 82.75],\n",
       " 'CASE17_03': [0.006464124111182934, 2.5],\n",
       " 'CASE18_01': [0.552648790058862, 0.8251953125],\n",
       " 'CASE18_02': [0.500945179584121, 1.03515625],\n",
       " 'CASE18_03': [0.45964642582628745, 1.16796875],\n",
       " 'CASE18_04': [0.43178717598908595, 1.236328125],\n",
       " 'CASE18_05': [0.5891115926327194, 2.1240234375],\n",
       " 'CASE18_06': [0.5435875943000839, 2.533203125],\n",
       " 'CASE18_07': [0.475, 2.857421875],\n",
       " 'CASE18_08': [0.4777777777777778, 3.86328125],\n",
       " 'CASE18_09': [0.4351063829787234, 4.79296875],\n",
       " 'CASE18_10': [0.36070381231671556, 5.765625],\n",
       " 'CASE18_11': [0.4420118343195266, 11.671875],\n",
       " 'CASE19_01': [0.9802631578947368, 1.2913818359375],\n",
       " 'CASE19_02': [0.7720644666155027, 0.982421875],\n",
       " 'CASE19_03': [0.5565543071161049, 0.7255859375],\n",
       " 'CASE19_04': [0.49236894492368943, 0.724609375],\n",
       " 'CASE19_05': [0.6166365280289331, 0.9990234375],\n",
       " 'CASE20_01': [0.62372634643377, 1.673828125],\n",
       " 'CASE20_02': [0.5065426997245179, 1.4365234375],\n",
       " 'CASE20_03': [0.415421398684997, 1.357421875],\n",
       " 'CASE20_04': [0.2531707317073171, 1.013671875],\n",
       " 'CASE20_05': [0.3076650106458481, 1.693359375],\n",
       " 'CASE20_06': [0.28404255319148936, 2.0859375],\n",
       " 'CASE20_07': [0.2315377932232841, 2.08203125],\n",
       " 'CASE20_08': [0.09266123054114159, 0.9765625],\n",
       " 'CASE20_09': [0.10439210693825589, 1.28125],\n",
       " 'CASE20_10': [0.20242914979757085, 3.125],\n",
       " 'CASE20_11': [0.08199018920812894, 1.828125],\n",
       " 'CASE20_12': [0.05425631431244153, 1.8125],\n",
       " 'CASE21_01': [0.04403048264182896, 6.5],\n",
       " 'CASE21_02': [0.012588512981904013, 2.0],\n",
       " 'CASE21_03': [0.010533707865168539, 1.875],\n",
       " 'CASE21_04': [0.0625, 12.875],\n",
       " 'CASE21_05': [0.08551881413911061, 18.75],\n",
       " 'CASE21_06': [0.06718489727928928, 15.125],\n",
       " 'CASE21_07': [0.006922257720979766, 1.625],\n",
       " 'CASE21_08': [0.01749271137026239, 4.5],\n",
       " 'CASE22_01': [0.6829944547134935, 0.7216796875],\n",
       " 'CASE22_02': [0.3890469416785206, 0.5341796875],\n",
       " 'CASE22_03': [0.27664041994750654, 0.5146484375],\n",
       " 'CASE22_04': [0.68122009569378, 1.66845703125],\n",
       " 'CASE22_05': [0.8955840455840456, 3.06982421875],\n",
       " 'CASE22_06': [0.786330608537693, 3.3818359375],\n",
       " 'CASE22_07': [0.7603110209601082, 4.392578125],\n",
       " 'CASE22_08': [0.6697223677317967, 4.994140625],\n",
       " 'CASE22_09': [0.7114295824486907, 7.853515625],\n",
       " 'CASE22_10': [0.7214611872146118, 11.109375],\n",
       " 'CASE22_11': [0.6981818181818182, 15.0],\n",
       " 'CASE23_01': [0.7424859110832811, 148.21875],\n",
       " 'CASE23_02': [0.7267827529021559, 164.34375],\n",
       " 'CASE23_03': [0.5412011173184358, 145.3125],\n",
       " 'CASE23_04': [0.4645110410094637, 147.25],\n",
       " 'CASE23_05': [0.45028612303290416, 157.375],\n",
       " 'CASE23_06': [0.508819538670285, 187.5],\n",
       " 'CASE23_07': [0.5309278350515464, 206.0],\n",
       " 'CASE23_08': [0.5381877022653722, 207.875],\n",
       " 'CASE23_09': [0.4634304207119741, 179.0],\n",
       " 'CASE24_01': [0.15478615071283094, 1.78125],\n",
       " 'CASE24_02': [0.013579049466537343, 0.21875],\n",
       " 'CASE24_03': [0.2052980132450331, 3.875],\n",
       " 'CASE24_04': [0.04643628509719223, 1.34375],\n",
       " 'CASE24_05': [0.022116903633491312, 0.875],\n",
       " 'CASE24_06': [0.03110047846889952, 1.625],\n",
       " 'CASE24_07': [0.011569416498993963, 0.71875],\n",
       " 'CASE24_08': [0.07569386038687972, 5.625],\n",
       " 'CASE24_09': [0.11637630662020906, 10.4375],\n",
       " 'CASE25_01': [0.11932324131789848, 16.75],\n",
       " 'CASE25_02': [0.14604948124501196, 22.875],\n",
       " 'CASE25_03': [0.14417613636363635, 25.375],\n",
       " 'CASE25_04': [0.08832807570977919, 17.5],\n",
       " 'CASE25_05': [0.0211307824100514, 4.625],\n",
       " 'CASE25_06': [0.043523316062176166, 10.5],\n",
       " 'CASE25_07': [0.030010172939979655, 7.375],\n",
       " 'CASE25_08': [0.045853658536585365, 11.75],\n",
       " 'CASE25_09': [0.05380952380952381, 14.125],\n",
       " 'CASE25_10': [0.06349952963311382, 16.875],\n",
       " 'CASE25_11': [0.05596669750231267, 15.125],\n",
       " 'CASE25_12': [0.06404391582799634, 17.5],\n",
       " 'CASE25_13': [0.07842248413417952, 21.625],\n",
       " 'CASE25_14': [0.06134686346863469, 16.625],\n",
       " 'CASE25_15': [0.06898148148148148, 18.625],\n",
       " 'CASE25_16': [0.0753931544865865, 20.375],\n",
       " 'CASE25_17': [0.08699633699633699, 23.75],\n",
       " 'CASE25_18': [0.081651376146789, 22.25],\n",
       " 'CASE25_19': [0.06894934333958724, 18.375],\n",
       " 'CASE25_20': [0.051495831289847964, 13.125],\n",
       " 'CASE26_01': [0.6415318744053282, 0.658447265625],\n",
       " 'CASE26_02': [0.1725521669341894, 0.2099609375],\n",
       " 'CASE26_03': [0.13445835601524225, 0.2412109375],\n",
       " 'CASE26_04': [0.13498402555910544, 0.330078125],\n",
       " 'CASE26_05': [0.1864406779661017, 0.623046875],\n",
       " 'CASE26_06': [0.13232323232323231, 0.51171875],\n",
       " 'CASE26_07': [0.22827687776141384, 1.2109375],\n",
       " 'CASE26_08': [0.2534090909090909, 1.7421875],\n",
       " 'CASE26_09': [0.09643605870020965, 0.71875],\n",
       " 'CASE26_10': [0.04730983302411874, 0.3984375],\n",
       " 'CASE26_11': [0.06772009029345373, 0.703125],\n",
       " 'CASE26_12': [0.008949880668257757, 0.1171875],\n",
       " 'CASE26_13': [0.2299687825182102, 3.453125],\n",
       " 'CASE26_14': [0.2936444086886565, 5.703125],\n",
       " 'CASE26_15': [0.0640495867768595, 1.9375],\n",
       " 'CASE26_16': [0.12031872509960159, 4.71875],\n",
       " 'CASE26_17': [0.05167518455423055, 2.84375],\n",
       " 'CASE26_18': [0.047872340425531915, 3.375],\n",
       " 'CASE26_19': [0.09012539184952978, 7.1875],\n",
       " 'CASE26_20': [0.11054545454545454, 9.5],\n",
       " 'CASE26_21': [0.09103641456582633, 8.125],\n",
       " 'CASE26_22': [0.11096433289299867, 10.5],\n",
       " 'CASE26_23': [0.09941520467836257, 9.5625],\n",
       " 'CASE26_24': [0.1116816431322208, 10.875],\n",
       " 'CASE26_25': [0.11567635903919089, 11.4375],\n",
       " 'CASE26_26': [0.1266540642722117, 12.5625],\n",
       " 'CASE26_27': [0.11437699680511182, 11.1875],\n",
       " 'CASE26_28': [0.09505459216441875, 9.25],\n",
       " 'CASE26_29': [0.10404624277456648, 10.125],\n",
       " 'CASE26_30': [0.20353403141361257, 19.4375],\n",
       " 'CASE26_31': [0.10583153347732181, 9.1875],\n",
       " 'CASE26_32': [0.10600444773906598, 8.9375],\n",
       " 'CASE26_33': [0.046052631578947366, 3.5],\n",
       " 'CASE26_34': [0.06654991243432574, 4.75],\n",
       " 'CASE26_35': [0.053180914512922464, 3.34375],\n",
       " 'CASE26_36': [0.042481833426495245, 2.375],\n",
       " 'CASE26_37': [0.03671328671328671, 1.96875],\n",
       " 'CASE26_38': [0.07480550568521843, 3.90625],\n",
       " 'CASE26_39': [0.18772348033373062, 9.84375],\n",
       " 'CASE26_40': [0.19741100323624594, 9.53125],\n",
       " 'CASE26_41': [0.21679284239504473, 9.84375],\n",
       " 'CASE26_42': [0.11271676300578035, 4.875],\n",
       " 'CASE26_43': [0.065284178187404, 2.65625],\n",
       " 'CASE26_44': [0.13209076175040518, 5.09375],\n",
       " 'CASE26_45': [0.3994544037412315, 16.015625],\n",
       " 'CASE26_46': [0.2675359712230216, 9.296875],\n",
       " 'CASE26_47': [0.02158273381294964, 0.75],\n",
       " 'CASE27_01': [0.9990631290027449, 1.0663828125],\n",
       " 'CASE27_02': [0.8649732620320856, 0.94775390625],\n",
       " 'CASE27_03': [0.5655940594059405, 0.66943359375],\n",
       " 'CASE27_04': [0.4053691275167785, 0.58984375],\n",
       " 'CASE27_05': [0.3220518244315177, 0.5947265625],\n",
       " 'CASE28_01': [0.2661619103086779, 0.892578125],\n",
       " 'CASE28_02': [0.26147704590818366, 1.0234375],\n",
       " 'CASE28_03': [0.22086956521739132, 0.9921875],\n",
       " 'CASE28_04': [0.2890520694259012, 1.69140625],\n",
       " 'CASE28_05': [0.28649535265172227, 2.046875],\n",
       " 'CASE28_06': [0.15813953488372093, 1.328125],\n",
       " 'CASE28_07': [0.1035548686244204, 1.046875],\n",
       " 'CASE28_08': [0.014018691588785047, 0.1640625],\n",
       " 'CASE28_09': [0.11660397635679742, 1.6953125],\n",
       " 'CASE28_10': [0.1281085154483798, 2.65625],\n",
       " 'CASE29_01': [0.060361216730038025, 15.875],\n",
       " 'CASE29_02': [0.024284475281873375, 7.0],\n",
       " 'CASE29_03': [0.0947136563876652, 32.25],\n",
       " 'CASE29_04': [0.10041265474552957, 36.5],\n",
       " 'CASE29_05': [0.13364361702127658, 50.25],\n",
       " 'CASE29_06': [0.08277703604806408, 31.0],\n",
       " 'CASE29_07': [0.018481848184818482, 7.0],\n",
       " 'CASE29_08': [0.08134280180761781, 31.5],\n",
       " 'CASE30_01': [0.9990019493177389, 1.000953125],\n",
       " 'CASE30_02': [0.659923339011925, 0.756591796875],\n",
       " 'CASE30_03': [0.43741976893453144, 0.66552734375],\n",
       " 'CASE30_04': [0.3455399061032864, 0.71875],\n",
       " 'CASE30_05': [0.2996870109546166, 0.748046875],\n",
       " 'CASE30_06': [0.29688454489920585, 0.94921875],\n",
       " 'CASE30_07': [0.3291828793774319, 1.65234375],\n",
       " 'CASE30_08': [0.20328425821064552, 1.40234375],\n",
       " 'CASE30_09': [0.18055555555555555, 1.67578125],\n",
       " 'CASE30_10': [0.10705445544554455, 1.3515625],\n",
       " 'CASE30_11': [0.11030126336248786, 1.7734375],\n",
       " 'CASE31_01': [0.013659237958303379, 2.375],\n",
       " 'CASE31_02': [0.051643192488262914, 11.0],\n",
       " 'CASE31_03': [0.09953917050691244, 27.0],\n",
       " 'CASE31_04': [0.05267489711934156, 16.0],\n",
       " 'CASE31_05': [0.08118361153262518, 26.75],\n",
       " 'CASE31_06': [0.1937544357700497, 68.25],\n",
       " 'CASE31_07': [0.20270270270270271, 75.0],\n",
       " 'CASE31_08': [0.041203400915631135, 15.75],\n",
       " 'CASE31_09': [0.021628498727735368, 8.5],\n",
       " 'CASE32_01': [0.022413793103448276, 0.076171875],\n",
       " 'CASE32_02': [0.13141993957703926, 0.6796875],\n",
       " 'CASE32_03': [0.2421686746987952, 1.5703125],\n",
       " 'CASE32_04': [0.06565950029052876, 0.44140625],\n",
       " 'CASE32_05': [0.064, 0.5625],\n",
       " 'CASE32_06': [0.055666003976143144, 0.65625],\n",
       " 'CASE32_07': [0.3353096179183136, 3.9765625],\n",
       " 'CASE32_08': [0.09232096635030199, 1.671875],\n",
       " 'CASE32_09': [0.1916072842438638, 3.78125],\n",
       " 'CASE32_10': [0.01910480349344978, 0.546875],\n",
       " 'CASE32_11': [0.03318777292576419, 1.1875],\n",
       " 'CASE32_12': [0.06595602931379081, 3.09375],\n",
       " 'CASE32_13': [0.02502606882168926, 1.5],\n",
       " 'CASE32_14': [0.04202401372212693, 3.0625],\n",
       " 'CASE32_15': [0.019256308100929615, 1.8125],\n",
       " 'CASE32_16': [0.008408071748878924, 0.9375],\n",
       " 'CASE32_17': [0.07295285359801489, 9.1875],\n",
       " 'CASE32_18': [0.06743421052631579, 10.25],\n",
       " 'CASE32_19': [0.05529332434254889, 10.25],\n",
       " 'CASE32_20': [0.02586206896551724, 5.625],\n",
       " 'CASE32_21': [0.11665817626082527, 28.625],\n",
       " 'CASE32_22': [0.10701438848920863, 29.75],\n",
       " 'CASE32_23': [0.13873295910184444, 43.25],\n",
       " 'CASE32_24': [0.21775417298937785, 71.75],\n",
       " 'CASE32_25': [0.16013745704467353, 58.25],\n",
       " 'CASE32_26': [0.18549422336328628, 72.25],\n",
       " 'CASE33_01': [0.06931702344546381, 0.265625],\n",
       " 'CASE33_02': [0.1476261127596439, 0.77734375],\n",
       " 'CASE33_03': [0.0635872825434913, 0.4140625],\n",
       " 'CASE33_04': [0.0449438202247191, 0.34375],\n",
       " 'CASE33_05': [0.000792393026941363, 0.0078125],\n",
       " 'CASE33_06': [0.08638083228247162, 1.0703125],\n",
       " 'CASE33_07': [0.057803468208092484, 0.9375],\n",
       " 'CASE33_08': [0.1354895104895105, 2.421875],\n",
       " 'CASE33_09': [0.03215434083601286, 0.78125],\n",
       " 'CASE33_10': [0.10704533042053523, 3.0625],\n",
       " 'CASE33_11': [0.06964006259780908, 2.78125],\n",
       " 'CASE33_12': [0.052695336159903086, 2.71875],\n",
       " 'CASE33_13': [0.04844961240310078, 3.125],\n",
       " 'CASE33_14': [0.00456968773800457, 0.375],\n",
       " 'CASE33_15': [0.04587724736515809, 4.625],\n",
       " 'CASE33_16': [0.009129967776584319, 1.0625],\n",
       " 'CASE33_17': [0.11759082217973231, 15.375],\n",
       " 'CASE33_18': [0.006661732050333087, 1.125],\n",
       " 'CASE33_19': [0.06894329896907217, 13.375],\n",
       " 'CASE33_20': [0.03407247160627366, 7.875],\n",
       " 'CASE33_21': [0.04284412032816773, 11.75],\n",
       " 'CASE33_22': [0.06551724137931035, 19.0],\n",
       " 'CASE33_23': [0.21283509341998375, 65.5],\n",
       " 'CASE33_24': [0.12428571428571429, 43.5],\n",
       " 'CASE33_25': [0.1909275558564658, 70.5],\n",
       " 'CASE34_01': [0.8411365260900643, 1.149169921875],\n",
       " 'CASE34_02': [0.4773972602739726, 0.6806640625],\n",
       " 'CASE34_03': [0.13502327987584067, 0.2548828125],\n",
       " 'CASE34_04': [0.19180859691808597, 0.4619140625],\n",
       " 'CASE34_05': [0.1579296615792966, 0.46484375],\n",
       " 'CASE34_06': [0.12449186991869919, 0.478515625],\n",
       " 'CASE34_07': [0.12396069538926682, 0.640625],\n",
       " 'CASE34_08': [0.0028328611898017, 0.01953125],\n",
       " 'CASE34_09': [0.10287081339712918, 1.0078125],\n",
       " 'CASE34_10': [0.1331877729257642, 1.4296875],\n",
       " 'CASE34_11': [0.0341130604288499, 0.546875],\n",
       " 'CASE34_12': [0.12470771628994544, 2.5],\n",
       " 'CASE34_13': [0.11266034578918015, 3.15625],\n",
       " 'CASE34_14': [0.09607686148919135, 3.75],\n",
       " 'CASE34_15': [0.03126809496236248, 1.6875],\n",
       " 'CASE34_16': [0.09253731343283582, 5.8125],\n",
       " 'CASE34_17': [0.07738998482549317, 6.375],\n",
       " 'CASE34_18': [0.01959686450167973, 2.1875],\n",
       " 'CASE34_19': [0.0462478184991274, 6.625],\n",
       " 'CASE34_20': [0.009365994236311239, 1.625],\n",
       " 'CASE34_21': [0.03462686567164179, 7.25],\n",
       " 'CASE34_22': [0.004789781798829164, 1.125],\n",
       " 'CASE34_23': [0.04913793103448276, 14.25],\n",
       " 'CASE34_24': [0.02201974183750949, 7.25],\n",
       " 'CASE34_25': [0.04781997187060478, 17.0],\n",
       " 'CASE34_26': [0.02160702228224173, 8.0],\n",
       " 'CASE34_27': [0.19730639730639732, 73.25],\n",
       " 'CASE35_01': [0.7597774780849629, 1.100341796875],\n",
       " 'CASE35_02': [0.3904320987654321, 0.7412109375],\n",
       " 'CASE35_03': [0.14797639123102868, 0.3427734375],\n",
       " 'CASE35_04': [0.12191872085276483, 0.357421875],\n",
       " 'CASE35_05': [0.21018793273986153, 0.830078125],\n",
       " 'CASE35_06': [0.052587646076794656, 0.24609375],\n",
       " 'CASE35_07': [0.05871559633027523, 0.375],\n",
       " 'CASE35_08': [0.018885741265344664, 0.15625],\n",
       " 'CASE35_09': [0.173061863743148, 1.7265625],\n",
       " 'CASE35_10': [0.029866666666666666, 0.4375],\n",
       " 'CASE35_11': [0.13593882752761258, 2.5],\n",
       " 'CASE35_12': [0.13971050975456262, 3.46875],\n",
       " 'CASE35_13': [0.06806282722513089, 2.4375],\n",
       " 'CASE35_14': [0.025440313111545987, 1.21875],\n",
       " 'CASE35_15': [0.08057630736392743, 4.71875],\n",
       " 'CASE35_16': [0.11092715231788079, 8.375],\n",
       " 'CASE35_17': [0.0566272557560672, 5.6875],\n",
       " 'CASE35_18': [0.010436432637571158, 1.375],\n",
       " 'CASE35_19': [0.016042780748663103, 2.625],\n",
       " 'CASE35_20': [0.017385705086928525, 3.375],\n",
       " 'CASE35_21': [0.013728720483250962, 3.125],\n",
       " 'CASE35_22': [0.07149758454106281, 18.5],\n",
       " 'CASE35_23': [0.06158833063209076, 19.0],\n",
       " 'CASE35_24': [0.09766763848396501, 33.5],\n",
       " 'CASE35_25': [0.07518796992481203, 27.5],\n",
       " 'CASE35_26': [0.16219839142091153, 60.5],\n",
       " 'CASE35_27': [0.22694571615434925, 86.75],\n",
       " 'CASE36_01': [0.9994060324825986, 1.68259375],\n",
       " 'CASE36_02': [0.8165816326530613, 1.56298828125],\n",
       " 'CASE36_03': [0.6341166936790924, 1.5283203125],\n",
       " 'CASE36_04': [0.6133909287257019, 1.6640625],\n",
       " 'CASE36_05': [0.3556220891550233, 1.0439453125],\n",
       " 'CASE36_06': [0.3574833174451859, 1.46484375],\n",
       " 'CASE36_07': [0.2145481263776635, 1.140625],\n",
       " 'CASE36_08': [0.06414662084765177, 0.4375],\n",
       " 'CASE36_09': [0.03604358759430008, 0.3359375],\n",
       " 'CASE36_10': [0.018413597733711047, 0.203125],\n",
       " 'CASE36_11': [0.03285077951002227, 0.4609375],\n",
       " 'CASE36_12': [0.02145214521452145, 0.40625],\n",
       " 'CASE36_13': [0.04878048780487805, 1.15625],\n",
       " 'CASE36_14': [0.00946969696969697, 0.3125],\n",
       " 'CASE36_15': [0.01741654571843251, 0.75],\n",
       " 'CASE36_16': [0.10567632850241546, 5.46875],\n",
       " 'CASE36_17': [0.059144676979071886, 4.0625],\n",
       " 'CASE36_18': [0.052480230050323505, 4.5625]}"
      ]
     },
     "execution_count": 105,
     "metadata": {},
     "output_type": "execute_result"
    }
   ],
   "source": [
    "fold2"
   ]
  },
  {
   "cell_type": "code",
   "execution_count": 106,
   "id": "ffd81ec7",
   "metadata": {},
   "outputs": [
    {
     "data": {
      "text/plain": [
       "{'CASE36_19': [0.02525523911875336, 2.9375],\n",
       " 'CASE36_20': [0.024472573839662448, 3.625],\n",
       " 'CASE36_21': [0.009292351679771264, 1.625],\n",
       " 'CASE36_22': [0.03003003003003003, 6.25],\n",
       " 'CASE36_23': [0.01457286432160804, 3.625],\n",
       " 'CASE36_24': [0.02145922746781116, 6.25],\n",
       " 'CASE36_25': [0.035483870967741936, 11.0],\n",
       " 'CASE36_26': [0.01098901098901099, 3.75],\n",
       " 'CASE36_27': [0.010744985673352435, 3.75],\n",
       " 'CASE37_01': [0.856339928057554, 0.4649658203125],\n",
       " 'CASE37_02': [0.24285714285714285, 0.15771484375],\n",
       " 'CASE37_03': [0.0494579945799458, 0.0712890625],\n",
       " 'CASE37_04': [0.2808896210873147, 0.666015625],\n",
       " 'CASE37_05': [0.07994670219853431, 0.234375],\n",
       " 'CASE37_06': [0.3985728848114169, 1.52734375],\n",
       " 'CASE37_07': [0.010503040353786623, 0.07421875],\n",
       " 'CASE37_08': [0.058774834437086095, 0.5546875],\n",
       " 'CASE37_09': [0.11198428290766209, 1.3359375],\n",
       " 'CASE37_10': [0.0051933064050779, 0.0703125],\n",
       " 'CASE37_11': [0.07906976744186046, 1.328125],\n",
       " 'CASE37_12': [0.058823529411764705, 1.28125],\n",
       " 'CASE37_13': [0.0640495867768595, 1.9375],\n",
       " 'CASE37_14': [0.0960573476702509, 4.1875],\n",
       " 'CASE37_15': [0.01232394366197183, 0.65625],\n",
       " 'CASE37_16': [0.04953271028037383, 3.3125],\n",
       " 'CASE37_17': [0.03073463268365817, 2.5625],\n",
       " 'CASE37_18': [0.05892857142857143, 6.1875],\n",
       " 'CASE37_19': [0.04633920296570899, 6.25],\n",
       " 'CASE37_20': [0.005947955390334572, 1.0],\n",
       " 'CASE37_21': [0.010578718108276292, 2.125],\n",
       " 'CASE37_22': [0.07529162248144221, 17.75],\n",
       " 'CASE37_23': [0.012488849241748439, 3.5],\n",
       " 'CASE37_24': [0.03746877601998335, 11.25],\n",
       " 'CASE37_25': [0.002976190476190476, 1.0],\n",
       " 'CASE37_26': [0.01314878892733564, 4.75],\n",
       " 'CASE37_27': [0.002785515320334262, 1.0],\n",
       " 'CASE38_01': [0.9980841908325538, 0.52097265625],\n",
       " 'CASE38_02': [0.20224719101123595, 0.10546875],\n",
       " 'CASE38_03': [0.5247524752475248, 0.28466796875],\n",
       " 'CASE38_04': [0.5849056603773585, 0.37841796875],\n",
       " 'CASE38_05': [0.6111627906976744, 0.6416015625],\n",
       " 'CASE38_06': [0.0628456510809452, 0.1220703125],\n",
       " 'CASE38_07': [0.19629927594529364, 0.4765625],\n",
       " 'CASE38_08': [0.09276437847866419, 0.29296875],\n",
       " 'CASE38_09': [0.16865594187856772, 0.634765625],\n",
       " 'CASE38_10': [0.28619246861924685, 1.3359375],\n",
       " 'CASE38_11': [0.1605703657780533, 1.01171875],\n",
       " 'CASE38_12': [0.011545293072824156, 0.1015625],\n",
       " 'CASE38_13': [0.3549107142857143, 3.7265625],\n",
       " 'CASE38_14': [0.18067438349270257, 2.8046875],\n",
       " 'CASE38_15': [0.0007485029940119761, 0.015625],\n",
       " 'CASE38_16': [0.12938596491228072, 3.6875],\n",
       " 'CASE38_17': [0.04528985507246377, 1.5625],\n",
       " 'CASE38_18': [0.043448275862068966, 1.96875],\n",
       " 'CASE38_19': [0.014889815366289458, 0.78125],\n",
       " 'CASE38_20': [0.03204524033930255, 2.125],\n",
       " 'CASE38_21': [0.037397157816005985, 3.125],\n",
       " 'CASE38_22': [0.015006002400960384, 1.5625],\n",
       " 'CASE38_23': [0.01908957415565345, 2.4375],\n",
       " 'CASE38_24': [0.04560810810810811, 6.75],\n",
       " 'CASE38_25': [0.007670850767085077, 1.375],\n",
       " 'CASE38_26': [0.08208508088675853, 17.125],\n",
       " 'CASE38_27': [0.06435137895812053, 15.75],\n",
       " 'CASE38_28': [0.040940766550522645, 11.75],\n",
       " 'CASE39_01': [0.8827978424015009, 0.459503173828125],\n",
       " 'CASE39_02': [0.39402427637721754, 0.2060546875],\n",
       " 'CASE39_03': [0.4335548172757475, 0.2548828125],\n",
       " 'CASE39_04': [1.029940119760479, 0.83984375],\n",
       " 'CASE39_05': [0.300498753117207, 0.470703125],\n",
       " 'CASE39_06': [0.12800687285223367, 0.291015625],\n",
       " 'CASE39_07': [0.09103260869565218, 0.26171875],\n",
       " 'CASE39_08': [0.18419588202559822, 0.646484375],\n",
       " 'CASE39_09': [0.1572052401746725, 0.703125],\n",
       " 'CASE39_10': [0.22472727272727272, 1.20703125],\n",
       " 'CASE39_11': [0.03655483224837256, 0.28515625],\n",
       " 'CASE39_12': [0.005287009063444109, 0.0546875],\n",
       " 'CASE39_13': [0.09526774595267747, 1.1953125],\n",
       " 'CASE39_14': [0.06740535549399815, 1.140625],\n",
       " 'CASE39_15': [0.07296954314720812, 1.796875],\n",
       " 'CASE39_16': [0.005763688760806916, 0.1875],\n",
       " 'CASE39_17': [0.020537124802527645, 0.8125],\n",
       " 'CASE39_18': [0.0891156462585034, 4.09375],\n",
       " 'CASE39_19': [0.1029723991507431, 6.0625],\n",
       " 'CASE39_20': [0.061748195669607056, 4.8125],\n",
       " 'CASE39_21': [0.027918781725888325, 2.75],\n",
       " 'CASE39_22': [0.007411328745367919, 0.875],\n",
       " 'CASE39_23': [0.028522039757994815, 4.125],\n",
       " 'CASE39_24': [0.06944444444444445, 11.25],\n",
       " 'CASE39_25': [0.09943001899936668, 19.625],\n",
       " 'CASE39_26': [0.06475195822454308, 15.5],\n",
       " 'CASE39_27': [0.031055900621118012, 8.75],\n",
       " 'CASE39_28': [0.02711864406779661, 8.0],\n",
       " 'CASE40_01': [0.8170028818443804, 0.415283203125],\n",
       " 'CASE40_02': [0.3057929724596391, 0.1572265625],\n",
       " 'CASE40_03': [0.125, 0.07080078125],\n",
       " 'CASE40_04': [0.24457429048414023, 0.2861328125],\n",
       " 'CASE40_05': [0.6124234470691163, 0.68359375],\n",
       " 'CASE40_06': [0.17175763645468203, 0.3349609375],\n",
       " 'CASE40_07': [0.25439330543933053, 0.59375],\n",
       " 'CASE40_08': [0.13329848405645583, 0.498046875],\n",
       " 'CASE40_09': [0.1008801624915369, 0.58203125],\n",
       " 'CASE40_10': [0.06627680311890838, 0.53125],\n",
       " 'CASE40_11': [0.04975124378109453, 0.546875],\n",
       " 'CASE40_12': [0.050595238095238096, 0.796875],\n",
       " 'CASE40_13': [0.14966442953020134, 3.484375],\n",
       " 'CASE40_14': [0.01293103448275862, 0.375],\n",
       " 'CASE40_15': [0.07413249211356467, 2.9375],\n",
       " 'CASE40_16': [0.007232084155161078, 0.34375],\n",
       " 'CASE40_17': [0.044965786901270774, 2.875],\n",
       " 'CASE40_18': [0.09111277072442121, 7.625],\n",
       " 'CASE40_19': [0.0844496214327315, 9.0625],\n",
       " 'CASE40_20': [0.1421152030217186, 18.8125],\n",
       " 'CASE40_21': [0.10867802108678021, 16.75],\n",
       " 'CASE40_22': [0.061224489795918366, 10.5],\n",
       " 'CASE40_23': [0.04342273307790549, 8.5],\n",
       " 'CASE40_24': [0.09321120689655173, 21.625],\n",
       " 'CASE40_25': [0.03805309734513274, 10.75],\n",
       " 'CASE40_26': [0.003228410008071025, 1.0],\n",
       " 'CASE40_27': [0.03366488140780413, 11.0],\n",
       " 'CASE41_01': [0.530114722753346, 0.270751953125],\n",
       " 'CASE41_02': [0.0956140350877193, 0.05322265625],\n",
       " 'CASE41_03': [0.04756312389900176, 0.03955078125],\n",
       " 'CASE41_04': [0.38128249566724437, 0.4296875],\n",
       " 'CASE41_05': [0.20650566781665844, 0.4091796875],\n",
       " 'CASE41_06': [0.24306688417618272, 0.58203125],\n",
       " 'CASE41_07': [0.13866231647634583, 0.498046875],\n",
       " 'CASE41_08': [0.1111111111111111, 0.59765625],\n",
       " 'CASE41_09': [0.042743538767395624, 0.3359375],\n",
       " 'CASE41_10': [0.08573596358118361, 0.8828125],\n",
       " 'CASE41_11': [0.09888947646747752, 1.4609375],\n",
       " 'CASE41_12': [0.01927353595255745, 0.40625],\n",
       " 'CASE41_13': [0.0633245382585752, 1.875],\n",
       " 'CASE41_14': [0.03468697123519458, 1.28125],\n",
       " 'CASE41_15': [0.022029372496662217, 1.03125],\n",
       " 'CASE41_16': [0.007874015748031496, 0.46875],\n",
       " 'CASE41_17': [0.039452495974235106, 3.0625],\n",
       " 'CASE41_18': [0.0853960396039604, 8.625],\n",
       " 'CASE41_19': [0.10786739238000989, 13.625],\n",
       " 'CASE41_20': [0.13526970954356846, 20.375],\n",
       " 'CASE41_21': [0.0406015037593985, 6.75],\n",
       " 'CASE41_22': [0.03365695792880259, 6.5],\n",
       " 'CASE41_23': [0.00646900269541779, 1.5],\n",
       " 'CASE41_24': [0.01499531396438613, 4.0],\n",
       " 'CASE41_25': [0.0066555740432612314, 2.0],\n",
       " 'CASE41_26': [0.010526315789473684, 3.5],\n",
       " 'CASE41_27': [0.024147727272727272, 8.5],\n",
       " 'CASE42_01': [1.5714285714285714, 0.8486328125],\n",
       " 'CASE42_02': [0.23510150622134904, 0.3505859375],\n",
       " 'CASE42_03': [0.33982852689010135, 0.42578125],\n",
       " 'CASE42_04': [0.5658031088082901, 1.06640625],\n",
       " 'CASE42_05': [0.33722438391699094, 1.015625],\n",
       " 'CASE42_06': [0.1737943585077343, 0.74609375],\n",
       " 'CASE42_07': [0.11180124223602485, 0.6328125],\n",
       " 'CASE42_08': [0.002976190476190476, 0.0234375],\n",
       " 'CASE42_09': [0.03228410008071025, 0.3125],\n",
       " 'CASE42_10': [0.03569023569023569, 0.4140625],\n",
       " 'CASE42_11': [0.04056338028169014, 0.5625],\n",
       " 'CASE42_12': [0.029469548133595286, 0.46875],\n",
       " 'CASE42_13': [0.14486391571553994, 2.578125],\n",
       " 'CASE42_14': [0.03469812630117974, 0.78125],\n",
       " 'CASE42_15': [0.012594458438287154, 0.390625],\n",
       " 'CASE42_16': [0.12742812742812742, 5.125],\n",
       " 'CASE42_17': [0.10332871012482663, 4.65625],\n",
       " 'CASE42_18': [0.16776909200240528, 8.71875],\n",
       " 'CASE42_19': [0.01896551724137931, 1.03125],\n",
       " 'CASE42_20': [0.02304147465437788, 1.5625],\n",
       " 'CASE42_21': [0.03387220939183987, 2.75],\n",
       " 'CASE42_22': [0.04017041996348144, 4.125],\n",
       " 'CASE42_23': [0.034220532319391636, 4.5],\n",
       " 'CASE42_24': [0.035541195476575124, 5.5],\n",
       " 'CASE42_25': [0.027777777777777776, 5.0],\n",
       " 'CASE42_26': [0.12123039806996382, 25.125],\n",
       " 'CASE42_27': [0.0635386119257087, 16.25],\n",
       " 'CASE42_28': [0.02017543859649123, 5.75],\n",
       " 'CASE43_01': [0.6763819095477387, 0.6572265625],\n",
       " 'CASE43_02': [0.276690888764673, 0.4833984375],\n",
       " 'CASE43_03': [0.3017163504968383, 0.65234375],\n",
       " 'CASE43_04': [0.39913854989231873, 1.0859375],\n",
       " 'CASE43_05': [0.10697674418604651, 0.44921875],\n",
       " 'CASE43_06': [0.14122137404580154, 0.72265625],\n",
       " 'CASE43_07': [0.0611672278338945, 0.42578125],\n",
       " 'CASE43_08': [0.009205020920502092, 0.0859375],\n",
       " 'CASE43_09': [0.04046639231824417, 0.4609375],\n",
       " 'CASE43_10': [0.05464159811985899, 0.7265625],\n",
       " 'CASE43_11': [0.04015865146256817, 0.6328125],\n",
       " 'CASE43_12': [0.10403587443946188, 1.8125],\n",
       " 'CASE43_13': [0.07625272331154684, 1.640625],\n",
       " 'CASE43_14': [0.010570824524312896, 0.3125],\n",
       " 'CASE43_15': [0.07775020678246485, 2.9375],\n",
       " 'CASE43_16': [0.02245508982035928, 0.9375],\n",
       " 'CASE43_17': [0.024262295081967214, 1.15625],\n",
       " 'CASE43_18': [0.004326663061114116, 0.25],\n",
       " 'CASE43_19': [0.02345215759849906, 1.5625],\n",
       " 'CASE43_20': [0.03803486529318542, 3.0],\n",
       " 'CASE43_21': [0.023106546854942234, 2.25],\n",
       " 'CASE43_22': [0.001015744032503809, 0.125],\n",
       " 'CASE43_23': [0.02787162162162162, 4.125],\n",
       " 'CASE43_24': [0.0762902019446522, 12.75],\n",
       " 'CASE43_25': [0.15572232645403378, 31.125],\n",
       " 'CASE43_26': [0.07346938775510205, 18.0],\n",
       " 'CASE43_27': [0.0071492403932082215, 2.0],\n",
       " 'CASE43_28': [0.012, 3.75],\n",
       " 'CASE44_01': [0.8710247349823321, 0.4814453125],\n",
       " 'CASE44_02': [1.5533980582524272, 1.09375],\n",
       " 'CASE44_03': [0.7235161532682194, 0.9404296875],\n",
       " 'CASE44_04': [0.25286259541984735, 0.517578125],\n",
       " 'CASE44_05': [0.5339285714285714, 1.16796875],\n",
       " 'CASE44_06': [0.3992583436341162, 1.26171875],\n",
       " 'CASE44_07': [0.08955223880597014, 0.421875],\n",
       " 'CASE44_08': [0.23346055979643765, 1.43359375],\n",
       " 'CASE44_09': [0.0595446584938704, 0.53125],\n",
       " 'CASE44_10': [0.06923076923076923, 0.7734375],\n",
       " 'CASE44_11': [0.032474226804123714, 0.4921875],\n",
       " 'CASE44_12': [0.13011456628477905, 2.484375],\n",
       " 'CASE44_13': [0.1303648068669528, 3.796875],\n",
       " 'CASE44_14': [0.008035714285714285, 0.28125],\n",
       " 'CASE44_15': [0.06862133499688085, 3.4375],\n",
       " 'CASE44_16': [0.015151515151515152, 1.0],\n",
       " 'CASE44_17': [0.02223816355810617, 1.9375],\n",
       " 'CASE44_18': [0.07833047455688966, 8.5625],\n",
       " 'CASE44_19': [0.019240506329113925, 2.375],\n",
       " 'CASE44_20': [0.03862660944206009, 5.625],\n",
       " 'CASE44_21': [0.010217983651226158, 1.875],\n",
       " 'CASE44_22': [0.020833333333333332, 4.5],\n",
       " 'CASE44_23': [0.08158029758850692, 19.875],\n",
       " 'CASE44_24': [0.12341197822141561, 34.0],\n",
       " 'CASE44_25': [0.08179012345679013, 26.5],\n",
       " 'CASE44_26': [0.027702702702702704, 10.25],\n",
       " 'CASE44_27': [0.07013738250180766, 24.25],\n",
       " 'CASE45_01': [1.3875114784205693, 0.73779296875],\n",
       " 'CASE45_02': [1.7418546365914787, 1.357421875],\n",
       " 'CASE45_03': [0.5347648261758691, 1.021484375],\n",
       " 'CASE45_04': [0.510016694490818, 1.193359375],\n",
       " 'CASE45_05': [0.604381443298969, 1.83203125],\n",
       " 'CASE45_06': [0.2158703071672355, 0.98828125],\n",
       " 'CASE45_07': [0.29017566688353935, 1.7421875],\n",
       " 'CASE45_08': [0.1885245901639344, 1.6171875],\n",
       " 'CASE45_09': [0.016, 0.1875],\n",
       " 'CASE45_10': [0.16234498308906425, 2.25],\n",
       " 'CASE45_11': [0.043037974683544304, 0.796875],\n",
       " 'CASE45_12': [0.009742120343839542, 0.265625],\n",
       " 'CASE45_13': [0.03185840707964602, 1.125],\n",
       " 'CASE45_14': [0.00205761316872428, 0.09375],\n",
       " 'CASE45_15': [0.030987394957983194, 1.84375],\n",
       " 'CASE45_16': [0.4915254237288136, 39.875],\n",
       " 'CASE45_17': [1.0766182298546896, 50.9375],\n",
       " 'CASE45_18': [0.04323211528564076, 5.25],\n",
       " 'CASE45_19': [0.040983606557377046, 5.625],\n",
       " 'CASE45_20': [0.004421518054532056, 0.75],\n",
       " 'CASE45_21': [0.0759974667511083, 15.0],\n",
       " 'CASE45_22': [0.059353471118177, 14.0],\n",
       " 'CASE45_23': [0.1813773035887488, 46.75],\n",
       " 'CASE45_24': [0.1549636803874092, 48.0],\n",
       " 'CASE45_25': [0.039942938659058486, 14.0],\n",
       " 'CASE45_26': [0.06344015696533682, 24.25],\n",
       " 'CASE45_27': [0.1367741935483871, 53.0],\n",
       " 'CASE46_01': [1.0414993306559572, 0.759765625],\n",
       " 'CASE46_02': [0.712, 1.1298828125],\n",
       " 'CASE46_03': [0.572452229299363, 1.404296875],\n",
       " 'CASE46_04': [0.5193181818181818, 1.78515625],\n",
       " 'CASE46_05': [0.41369047619047616, 2.171875],\n",
       " 'CASE46_06': [0.27867095391211144, 2.03125],\n",
       " 'CASE46_07': [0.16218293620292082, 1.6484375],\n",
       " 'CASE46_08': [0.08395202741290692, 1.1484375],\n",
       " 'CASE46_09': [0.15490196078431373, 2.46875],\n",
       " 'CASE46_10': [0.24437299035369775, 4.75],\n",
       " 'CASE46_11': [0.10503040353786622, 2.96875],\n",
       " 'CASE46_12': [0.16907391673746813, 6.21875],\n",
       " 'CASE46_13': [0.13429106808244848, 6.71875],\n",
       " 'CASE46_14': [0.02986425339366516, 2.0625],\n",
       " 'CASE47_01': [0.031266017426960536, 3.8125],\n",
       " 'CASE47_02': [0.04600694444444445, 6.625],\n",
       " 'CASE47_03': [0.1478537360890302, 23.25],\n",
       " 'CASE47_04': [0.06989247311827956, 13.0],\n",
       " 'CASE47_05': [0.07569974554707379, 14.875],\n",
       " 'CASE47_06': [0.10256410256410256, 20.5],\n",
       " 'CASE47_07': [0.08650937689050212, 17.875],\n",
       " 'CASE47_08': [0.06627565982404691, 14.125],\n",
       " 'CASE47_09': [0.06376811594202898, 13.75],\n",
       " 'CASE47_10': [0.04715909090909091, 10.375],\n",
       " 'CASE47_11': [0.06900452488687783, 15.25],\n",
       " 'CASE48_01': [0.13285024154589373, 27.5],\n",
       " 'CASE48_02': [0.11378687537627935, 23.625],\n",
       " 'CASE49_01': [0.8848307912297426, 0.453216552734375],\n",
       " 'CASE49_02': [0.35924170616113743, 0.18505859375],\n",
       " 'CASE49_03': [0.9962721342031687, 0.52197265625],\n",
       " 'CASE49_04': [1.0077648363838048, 0.88720703125],\n",
       " 'CASE49_05': [0.5374301675977654, 0.939453125],\n",
       " 'CASE49_06': [0.6758409785932722, 1.7265625],\n",
       " 'CASE49_07': [0.3245469522240527, 1.5390625],\n",
       " 'CASE49_08': [0.06083459024635495, 0.47265625],\n",
       " 'CASE49_09': [0.04881769641495042, 0.5],\n",
       " 'CASE49_10': [0.023754345307068367, 0.3203125],\n",
       " 'CASE49_11': [0.05842911877394636, 0.953125],\n",
       " 'CASE49_12': [0.05230557467309016, 1.1875],\n",
       " 'CASE49_13': [0.06263048016701461, 1.875],\n",
       " 'CASE49_14': [0.007936507936507936, 0.28125],\n",
       " 'CASE49_15': [0.015302218821729151, 0.625],\n",
       " 'CASE49_16': [0.04860614724803431, 2.125],\n",
       " 'CASE49_17': [0.04609218436873747, 2.15625],\n",
       " 'CASE49_18': [0.07021791767554479, 3.625],\n",
       " 'CASE49_19': [0.03750756200846945, 1.9375],\n",
       " 'CASE49_20': [0.08305274971941638, 4.625],\n",
       " 'CASE49_21': [0.14773922187171398, 8.78125],\n",
       " 'CASE49_22': [0.030560271646859084, 1.6875],\n",
       " 'CASE49_23': [0.04766949152542373, 2.8125],\n",
       " 'CASE49_24': [0.047987616099071206, 2.90625],\n",
       " 'CASE49_25': [0.006259780907668232, 0.375],\n",
       " 'CASE49_26': [0.048109965635738834, 3.0625],\n",
       " 'CASE49_27': [0.0766698024459078, 5.09375],\n",
       " 'CASE49_28': [0.053538175046554934, 3.59375],\n",
       " 'CASE49_29': [0.049225159525979945, 3.375],\n",
       " 'CASE49_30': [0.05693950177935943, 4.0],\n",
       " 'CASE49_31': [0.011607142857142858, 0.8125],\n",
       " 'CASE49_32': [0.03103448275862069, 2.25],\n",
       " 'CASE49_33': [0.03359858532272325, 2.375],\n",
       " 'CASE49_34': [0.005420054200542005, 0.375],\n",
       " 'CASE49_35': [0.04632152588555858, 3.1875]}"
      ]
     },
     "execution_count": 106,
     "metadata": {},
     "output_type": "execute_result"
    }
   ],
   "source": [
    "fold3"
   ]
  },
  {
   "cell_type": "code",
   "execution_count": 107,
   "id": "748c2687",
   "metadata": {},
   "outputs": [
    {
     "data": {
      "text/plain": [
       "{'CASE49_36': [0.037037037037037035, 2.8125],\n",
       " 'CASE49_37': [0.029292107404393815, 2.25],\n",
       " 'CASE49_38': [0.04051863857374392, 3.125],\n",
       " 'CASE50_01': [0.8493465634075508, 0.8568115234375],\n",
       " 'CASE50_02': [0.22403733955659277, 0.1875],\n",
       " 'CASE50_03': [0.31276778063410454, 0.3564453125],\n",
       " 'CASE50_04': [0.009795191451469279, 0.0107421875],\n",
       " 'CASE50_05': [0.3206816421378776, 0.404296875],\n",
       " 'CASE50_06': [0.2619047619047619, 0.451171875],\n",
       " 'CASE50_07': [0.08608205953338696, 0.208984375],\n",
       " 'CASE50_08': [0.2506493506493506, 0.75390625],\n",
       " 'CASE50_09': [0.2717171717171717, 1.05078125],\n",
       " 'CASE50_10': [0.24808575803981622, 1.265625],\n",
       " 'CASE50_11': [0.2, 1.2734375],\n",
       " 'CASE50_12': [0.021415270018621976, 0.1796875],\n",
       " 'CASE50_13': [0.1980495123780945, 2.0625],\n",
       " 'CASE50_14': [0.03599221789883268, 0.578125],\n",
       " 'CASE50_15': [0.13636363636363635, 2.625],\n",
       " 'CASE50_16': [0.23922413793103448, 5.203125],\n",
       " 'CASE50_17': [0.14186046511627906, 3.8125],\n",
       " 'CASE50_18': [0.03467153284671533, 1.1875],\n",
       " 'CASE50_19': [0.030039525691699605, 1.1875],\n",
       " 'CASE50_20': [0.023477157360406092, 1.15625],\n",
       " 'CASE50_21': [0.043878656554712896, 2.53125],\n",
       " 'CASE50_22': [0.036771300448430494, 2.5625],\n",
       " 'CASE50_23': [0.01971830985915493, 1.75],\n",
       " 'CASE50_24': [0.037259615384615384, 3.875],\n",
       " 'CASE50_25': [0.006578947368421052, 0.75],\n",
       " 'CASE50_26': [0.15495764823119082, 19.4375],\n",
       " 'CASE50_27': [0.045346062052505964, 7.125],\n",
       " 'CASE50_28': [0.03162055335968379, 6.0],\n",
       " 'CASE51_01': [0.7105137963843958, 0.729248046875],\n",
       " 'CASE51_02': [0.39214686384497704, 0.37548828125],\n",
       " 'CASE51_03': [0.10227272727272728, 0.1142578125],\n",
       " 'CASE51_04': [0.5305019305019305, 0.6708984375],\n",
       " 'CASE51_05': [0.3814323607427056, 0.7021484375],\n",
       " 'CASE51_06': [0.03278688524590164, 0.0859375],\n",
       " 'CASE51_07': [0.11293499671700591, 0.3359375],\n",
       " 'CASE51_08': [0.2531997774067891, 0.888671875],\n",
       " 'CASE51_09': [0.4653812445223488, 2.07421875],\n",
       " 'CASE51_10': [0.24262492474413005, 1.57421875],\n",
       " 'CASE51_11': [0.1513157894736842, 1.2578125],\n",
       " 'CASE51_12': [0.23809523809523808, 2.5],\n",
       " 'CASE51_13': [0.07085828343313373, 1.109375],\n",
       " 'CASE51_14': [0.06649616368286446, 1.21875],\n",
       " 'CASE51_15': [0.19204284621270085, 3.921875],\n",
       " 'CASE51_16': [0.24218230206254157, 5.6875],\n",
       " 'CASE51_17': [0.10730478589420656, 3.328125],\n",
       " 'CASE51_18': [0.12093411175979983, 4.53125],\n",
       " 'CASE51_19': [0.07379823967501693, 3.40625],\n",
       " 'CASE51_20': [0.016146393972012917, 0.9375],\n",
       " 'CASE51_21': [0.011131725417439703, 0.75],\n",
       " 'CASE51_22': [0.003843197540353574, 0.3125],\n",
       " 'CASE51_23': [0.015665796344647518, 1.5],\n",
       " 'CASE51_24': [0.012352610892756879, 1.375],\n",
       " 'CASE51_25': [0.13329954384186518, 16.4375],\n",
       " 'CASE51_26': [0.09222886421861656, 13.5],\n",
       " 'CASE51_27': [0.013437057991513438, 2.375],\n",
       " 'CASE51_28': [0.016938519447929738, 3.375],\n",
       " 'CASE52_01': [0.9491610738255034, 0.6905517578125],\n",
       " 'CASE52_02': [0.2829601990049751, 0.22216796875],\n",
       " 'CASE52_03': [0.14529280948851, 0.19140625],\n",
       " 'CASE52_04': [0.2509782001117943, 0.4384765625],\n",
       " 'CASE52_05': [0.685337726523888, 1.625],\n",
       " 'CASE52_06': [0.09888220120378331, 0.44921875],\n",
       " 'CASE52_07': [0.15533285612025768, 0.84765625],\n",
       " 'CASE52_08': [0.16097560975609757, 1.16015625],\n",
       " 'CASE52_09': [0.12292118582791034, 1.328125],\n",
       " 'CASE52_10': [0.07932011331444759, 1.3125],\n",
       " 'CASE52_11': [0.03596559812353401, 0.71875],\n",
       " 'CASE52_12': [0.22790055248618785, 5.15625],\n",
       " 'CASE52_13': [0.040145985401459854, 1.375],\n",
       " 'CASE52_14': [0.09472259810554803, 4.375],\n",
       " 'CASE52_15': [0.06727099236641221, 4.40625],\n",
       " 'CASE52_16': [0.02947845804988662, 2.4375],\n",
       " 'CASE52_17': [0.08020477815699659, 8.8125],\n",
       " 'CASE52_18': [0.06663376110562685, 8.4375],\n",
       " 'CASE52_19': [0.1018363939899833, 15.25],\n",
       " 'CASE52_20': [0.16391184573002754, 29.75],\n",
       " 'CASE52_21': [0.1760233918128655, 37.625],\n",
       " 'CASE52_22': [0.1562982005141388, 38.0],\n",
       " 'CASE52_23': [0.15821596244131456, 42.125],\n",
       " 'CASE52_24': [0.010175763182238668, 2.75],\n",
       " 'CASE52_25': [0.010844306738962044, 3.5],\n",
       " 'CASE52_26': [0.05345687811831789, 18.75],\n",
       " 'CASE52_27': [0.02099370188943317, 7.5],\n",
       " 'CASE53_01': [0.8026891807379612, 0.626708984375],\n",
       " 'CASE53_02': [0.039907904834996163, 0.05078125],\n",
       " 'CASE53_03': [0.2687074829931973, 0.462890625],\n",
       " 'CASE53_04': [0.44710211591536336, 0.94921875],\n",
       " 'CASE53_05': [0.625, 2.03125],\n",
       " 'CASE53_06': [0.019781718963165076, 0.11328125],\n",
       " 'CASE53_07': [0.30012610340479196, 1.859375],\n",
       " 'CASE53_08': [0.24647302904564317, 2.3203125],\n",
       " 'CASE53_09': [0.003986048829098156, 0.0625],\n",
       " 'CASE53_10': [0.02717825739408473, 0.53125],\n",
       " 'CASE53_11': [0.27376697641172265, 5.984375],\n",
       " 'CASE53_12': [0.04423076923076923, 1.4375],\n",
       " 'CASE53_13': [0.0835181079083518, 3.53125],\n",
       " 'CASE53_14': [0.05862068965517241, 3.1875],\n",
       " 'CASE53_15': [0.018276762402088774, 1.3125],\n",
       " 'CASE53_16': [0.049782202862476664, 5.0],\n",
       " 'CASE53_17': [0.04997501249375312, 6.25],\n",
       " 'CASE53_18': [0.011343804537521814, 1.625],\n",
       " 'CASE53_19': [0.12508544087491455, 22.875],\n",
       " 'CASE53_20': [0.2141623488773748, 46.5],\n",
       " 'CASE53_21': [0.15376623376623377, 37.0],\n",
       " 'CASE53_22': [0.0950834879406308, 25.625],\n",
       " 'CASE53_23': [0.10504201680672269, 31.25],\n",
       " 'CASE53_24': [0.012048192771084338, 3.75],\n",
       " 'CASE53_25': [0.0071581961345740875, 2.5],\n",
       " 'CASE53_26': [0.03723404255319149, 14.0],\n",
       " 'CASE53_27': [0.05506329113924051, 21.75],\n",
       " 'CASE54_01': [0.5116531165311653, 0.4609375],\n",
       " 'CASE54_02': [0.3008595988538682, 0.3076171875],\n",
       " 'CASE54_03': [0.13994685562444642, 0.154296875],\n",
       " 'CASE54_04': [0.2389240506329114, 0.294921875],\n",
       " 'CASE54_05': [0.5058986814712005, 0.7119140625],\n",
       " 'CASE54_06': [0.2925851703406814, 0.5703125],\n",
       " 'CASE54_07': [0.380352644836272, 0.884765625],\n",
       " 'CASE54_08': [0.314, 0.919921875],\n",
       " 'CASE54_09': [0.39079229122055675, 1.42578125],\n",
       " 'CASE54_10': [0.1772549019607843, 0.8828125],\n",
       " 'CASE54_11': [0.2927335640138408, 1.65234375],\n",
       " 'CASE54_12': [0.08593012275731822, 0.7109375],\n",
       " 'CASE54_13': [0.15665399239543726, 1.609375],\n",
       " 'CASE54_14': [0.04095386210471747, 0.6171875],\n",
       " 'CASE54_15': [0.10765349032800672, 2.0],\n",
       " 'CASE54_16': [0.20043731778425655, 4.296875],\n",
       " 'CASE54_17': [0.20435618193465727, 4.984375],\n",
       " 'CASE54_18': [0.18384697130712008, 5.40625],\n",
       " 'CASE54_19': [0.09220985691573927, 3.625],\n",
       " 'CASE54_20': [0.0253324889170361, 1.25],\n",
       " 'CASE54_21': [0.005025125628140704, 0.3125],\n",
       " 'CASE54_22': [0.021844660194174758, 1.6875],\n",
       " 'CASE54_23': [0.041721854304635764, 3.9375],\n",
       " 'CASE54_24': [0.04059462550028588, 4.4375],\n",
       " 'CASE54_25': [0.06747572815533981, 8.6875],\n",
       " 'CASE54_26': [0.08003442340791739, 11.625],\n",
       " 'CASE54_27': [0.033967391304347824, 6.25],\n",
       " 'CASE54_28': [0.07649599012954966, 15.5],\n",
       " 'CASE55_01': [0.3504361210877373, 0.33349609375],\n",
       " 'CASE55_02': [0.06816220880069025, 0.0771484375],\n",
       " 'CASE55_03': [0.004580152671755725, 0.005859375],\n",
       " 'CASE55_04': [0.4072727272727273, 0.546875],\n",
       " 'CASE55_05': [0.39469409853817, 0.7119140625],\n",
       " 'CASE55_06': [0.30339805825242716, 0.732421875],\n",
       " 'CASE55_07': [0.2903225806451613, 0.896484375],\n",
       " 'CASE55_08': [0.22083124687030545, 0.861328125],\n",
       " 'CASE55_09': [0.21678891605541972, 1.0390625],\n",
       " 'CASE55_10': [0.2192866578599736, 1.296875],\n",
       " 'CASE55_11': [0.07817258883248732, 0.6015625],\n",
       " 'CASE55_12': [0.12647289866457187, 1.2578125],\n",
       " 'CASE55_13': [0.003990877993158495, 0.0546875],\n",
       " 'CASE55_14': [0.03173164097914778, 0.546875],\n",
       " 'CASE55_15': [0.16, 3.25],\n",
       " 'CASE55_16': [0.2385076615589607, 5.59375],\n",
       " 'CASE55_17': [0.033973412112259974, 1.078125],\n",
       " 'CASE55_18': [0.029459901800327332, 1.125],\n",
       " 'CASE55_19': [0.033400133600534405, 1.5625],\n",
       " 'CASE55_20': [0.0016189962223421479, 0.09375],\n",
       " 'CASE55_21': [0.022569444444444444, 1.625],\n",
       " 'CASE55_22': [0.033261026753434564, 2.875],\n",
       " 'CASE55_23': [0.02792956891317547, 2.875],\n",
       " 'CASE55_24': [0.028397565922920892, 3.5],\n",
       " 'CASE55_25': [0.004266211604095563, 0.625],\n",
       " 'CASE55_26': [0.03582089552238806, 6.0],\n",
       " 'CASE55_27': [0.05636478784040532, 11.125],\n",
       " 'CASE55_28': [0.05395894428152493, 11.5],\n",
       " 'CASE56_01': [0.7982485128883013, 0.5897216796875],\n",
       " 'CASE56_02': [0.08500861573808156, 0.072265625],\n",
       " 'CASE56_03': [0.1879460745440127, 0.2314453125],\n",
       " 'CASE56_04': [0.2044153720359771, 0.244140625],\n",
       " 'CASE56_05': [0.01308698999230177, 0.0166015625],\n",
       " 'CASE56_06': [0.028668941979522185, 0.041015625],\n",
       " 'CASE56_07': [0.014652014652014652, 0.02734375],\n",
       " 'CASE56_08': [0.028070175438596492, 0.078125],\n",
       " 'CASE56_09': [0.07745726495726496, 0.283203125],\n",
       " 'CASE56_10': [0.18883792048929662, 0.96484375],\n",
       " 'CASE56_11': [0.2873900293255132, 1.9140625],\n",
       " 'CASE56_12': [0.2442982456140351, 2.17578125],\n",
       " 'CASE56_13': [0.34599406528189913, 4.5546875],\n",
       " 'CASE56_14': [0.0646041856232939, 1.109375],\n",
       " 'CASE56_15': [0.023255813953488372, 0.53125],\n",
       " 'CASE56_16': [0.07011866235167206, 2.03125],\n",
       " 'CASE56_17': [0.027301092043681748, 1.09375],\n",
       " 'CASE56_18': [0.1012987012987013, 4.875],\n",
       " 'CASE56_19': [0.008411214953271028, 0.5625],\n",
       " 'CASE56_20': [0.18001417434443656, 15.875],\n",
       " 'CASE56_21': [0.13884107860011474, 15.125],\n",
       " 'CASE56_22': [0.03004073319755601, 3.6875],\n",
       " 'CASE56_23': [0.16293929712460065, 25.5],\n",
       " 'CASE56_24': [0.045491470349309504, 7.0],\n",
       " 'CASE56_25': [0.09382871536523929, 18.625],\n",
       " 'CASE56_26': [0.10286591606960081, 25.125],\n",
       " 'CASE56_27': [0.0873932697137117, 21.75],\n",
       " 'CASE57_01': [0.6596130592503023, 0.53271484375],\n",
       " 'CASE57_02': [0.02392739273927393, 0.0283203125],\n",
       " 'CASE57_03': [0.20930232558139536, 0.3076171875],\n",
       " 'CASE57_04': [0.041968162083936326, 0.056640625],\n",
       " 'CASE57_05': [0.01714898177920686, 0.03125],\n",
       " 'CASE57_06': [0.0084985835694051, 0.017578125],\n",
       " 'CASE57_07': [0.18639798488664988, 0.43359375],\n",
       " 'CASE57_08': [0.12422360248447205, 0.4296875],\n",
       " 'CASE57_09': [0.016433853738701727, 0.078125],\n",
       " 'CASE57_10': [0.03137516688918558, 0.18359375],\n",
       " 'CASE57_11': [0.16727772685609532, 1.42578125],\n",
       " 'CASE57_12': [0.0012853470437017994, 0.015625],\n",
       " 'CASE57_13': [0.07424812030075188, 1.234375],\n",
       " 'CASE57_14': [0.04449152542372881, 0.984375],\n",
       " 'CASE57_15': [0.1024904214559387, 3.34375],\n",
       " 'CASE57_16': [0.012955465587044534, 0.5],\n",
       " 'CASE57_17': [0.0501628664495114, 2.40625],\n",
       " 'CASE57_18': [0.006796116504854369, 0.4375],\n",
       " 'CASE57_19': [0.08260869565217391, 7.125],\n",
       " 'CASE57_20': [0.17971014492753623, 19.375],\n",
       " 'CASE57_21': [0.05922077922077922, 7.125],\n",
       " 'CASE57_22': [0.07440719542109567, 11.375],\n",
       " 'CASE57_23': [0.24206349206349206, 45.75],\n",
       " 'CASE57_24': [0.046632124352331605, 7.875],\n",
       " 'CASE57_25': [0.0773511407902059, 17.375],\n",
       " 'CASE57_26': [0.08087535680304472, 21.25],\n",
       " 'CASE57_27': [0.04968027545499262, 12.625],\n",
       " 'CASE58_01': [0.7074128620520374, 0.70361328125],\n",
       " 'CASE58_02': [0.23874256584536957, 0.2744140625],\n",
       " 'CASE58_03': [0.11608497723823975, 0.1494140625],\n",
       " 'CASE58_04': [0.3217081850533808, 0.44140625],\n",
       " 'CASE58_05': [0.7037533512064343, 1.025390625],\n",
       " 'CASE58_06': [0.7827715355805244, 1.6328125],\n",
       " 'CASE58_07': [0.4958968347010551, 1.65234375],\n",
       " 'CASE58_08': [0.43130990415335463, 2.109375],\n",
       " 'CASE58_09': [0.22789676002196596, 1.62109375],\n",
       " 'CASE58_10': [0.1970357454228422, 1.765625],\n",
       " 'CASE58_11': [0.14340588988476313, 1.75],\n",
       " 'CASE58_12': [0.1124031007751938, 1.8125],\n",
       " 'CASE58_13': [0.11361926260346125, 2.359375],\n",
       " 'CASE58_14': [0.14684533780011166, 4.109375],\n",
       " 'CASE58_15': [0.009601181683899557, 0.40625],\n",
       " 'CASE58_16': [0.004067402672864613, 0.21875],\n",
       " 'CASE58_17': [0.11391129032258064, 7.0625],\n",
       " 'CASE58_18': [0.1296583850931677, 10.4375],\n",
       " 'CASE58_19': [0.04272062956717257, 4.75],\n",
       " 'CASE58_20': [0.05385329619312906, 7.25],\n",
       " 'CASE58_21': [0.01669195751138088, 2.75],\n",
       " 'CASE58_22': [0.029042904290429043, 5.5],\n",
       " 'CASE58_23': [0.036036036036036036, 7.5],\n",
       " 'CASE58_24': [0.06988082340195016, 16.125],\n",
       " 'CASE58_25': [0.05573248407643312, 13.125],\n",
       " 'CASE58_26': [0.07653319817536747, 18.875],\n",
       " 'CASE58_27': [0.08287568647029456, 20.75],\n",
       " 'CASE58_28': [0.09222333000997009, 23.125],\n",
       " 'CASE58_29': [0.023547880690737835, 5.625],\n",
       " 'CASE58_30': [0.04, 9.75],\n",
       " 'CASE58_31': [0.008858780614903595, 2.125],\n",
       " 'CASE58_32': [0.02786377708978328, 6.75],\n",
       " 'CASE58_33': [0.028825995807127882, 6.875],\n",
       " 'CASE59_01': [0.5900962861072903, 0.4189453125],\n",
       " 'CASE59_02': [0.057227138643067846, 0.04736328125],\n",
       " 'CASE59_03': [0.5299011960478419, 0.49755859375],\n",
       " 'CASE59_04': [0.7872954764196343, 0.798828125],\n",
       " 'CASE59_05': [1.298372513562387, 1.40234375],\n",
       " 'CASE59_06': [1.213953488372093, 2.0390625],\n",
       " 'CASE59_07': [0.6934306569343066, 2.041015625],\n",
       " 'CASE59_08': [0.5046179680940386, 2.34765625],\n",
       " 'CASE59_09': [0.22319474835886213, 1.59375],\n",
       " 'CASE59_10': [0.1403654485049834, 1.3203125],\n",
       " 'CASE59_11': [0.09637814610190301, 1.2265625],\n",
       " 'CASE59_12': [0.1189083820662768, 1.90625],\n",
       " 'CASE59_13': [0.1935483870967742, 3.75],\n",
       " 'CASE59_14': [0.38503034389750507, 8.921875],\n",
       " 'CASE59_15': [0.1683760683760684, 6.15625],\n",
       " 'CASE59_16': [0.11371020142949967, 5.46875],\n",
       " 'CASE59_17': [0.23394751535455052, 13.09375],\n",
       " 'CASE59_18': [0.22784810126582278, 16.875],\n",
       " 'CASE59_19': [0.11478365384615384, 11.9375],\n",
       " 'CASE59_20': [0.11438389788905252, 14.5625],\n",
       " 'CASE59_21': [0.0626486915146709, 9.875],\n",
       " 'CASE59_22': [0.008916323731138546, 1.625],\n",
       " 'CASE59_23': [0.0018656716417910447, 0.375],\n",
       " 'CASE59_24': [0.03970917225950783, 8.875],\n",
       " 'CASE59_25': [0.02573932092004381, 5.875],\n",
       " 'CASE59_26': [0.04856396866840731, 11.625],\n",
       " 'CASE59_27': [0.055526992287917736, 13.5],\n",
       " 'CASE59_28': [0.06471494607087827, 15.75],\n",
       " 'CASE59_29': [0.007015650296815974, 1.625],\n",
       " 'CASE59_30': [0.010570824524312896, 2.5],\n",
       " 'CASE59_31': [0.02203116603976357, 5.125],\n",
       " 'CASE59_32': [0.001594896331738437, 0.375],\n",
       " 'CASE59_33': [0.0010804970286331713, 0.25],\n",
       " 'CASE60_01': [0.19692814042786616, 0.3505859375],\n",
       " 'CASE60_02': [0.46409335727109513, 1.009765625],\n",
       " 'CASE60_03': [0.49967595593000647, 1.505859375],\n",
       " 'CASE60_04': [0.48168007149240394, 2.10546875],\n",
       " 'CASE60_05': [0.5327102803738317, 3.1171875],\n",
       " 'CASE60_06': [0.24481327800829875, 2.3046875],\n",
       " 'CASE60_07': [0.26678765880217786, 3.4453125],\n",
       " 'CASE60_08': [0.034261241970021415, 0.75],\n",
       " 'CASE60_09': [0.11317254174397032, 3.8125],\n",
       " 'CASE60_10': [0.1673881673881674, 7.25],\n",
       " 'CASE60_11': [0.1879021879021879, 9.125],\n",
       " 'CASE60_12': [0.18947997609085476, 9.90625],\n",
       " 'CASE60_13': [0.22090395480225988, 12.21875],\n",
       " 'CASE60_14': [0.2462809917355372, 13.96875],\n",
       " 'CASE60_15': [0.2568756875687569, 14.59375],\n",
       " 'CASE60_16': [0.34242761692650336, 19.21875],\n",
       " 'CASE60_17': [0.2813953488372093, 15.125],\n",
       " 'CASE60_18': [0.28499156829679595, 15.84375],\n",
       " 'CASE60_19': [0.2643874643874644, 14.5],\n",
       " 'CASE60_20': [0.17930591259640102, 8.71875],\n",
       " 'CASE60_21': [0.16862745098039217, 8.0625],\n",
       " 'CASE60_22': [0.18181818181818182, 8.5625],\n",
       " 'CASE60_23': [0.20518207282913165, 9.15625],\n",
       " 'CASE60_24': [0.29371387283236994, 12.703125],\n",
       " 'CASE60_25': [0.22896790980052037, 8.25],\n",
       " 'CASE60_26': [0.08062770562770563, 2.328125],\n",
       " 'CASE60_27': [0.19814410480349345, 5.671875],\n",
       " 'CASE60_28': [0.0827250608272506, 1.59375],\n",
       " 'CASE60_29': [0.006796941376380629, 0.125]}"
      ]
     },
     "execution_count": 107,
     "metadata": {},
     "output_type": "execute_result"
    }
   ],
   "source": [
    "fold4"
   ]
  },
  {
   "cell_type": "code",
   "execution_count": 109,
   "id": "da9cff29",
   "metadata": {},
   "outputs": [
    {
     "data": {
      "text/plain": [
       "{'CASE60_30': [0.3617021276595745, 4.9140625],\n",
       " 'CASE60_31': [0.33293341331733656, 4.3359375],\n",
       " 'CASE60_32': [0.1922365988909427, 2.4375],\n",
       " 'CASE60_33': [0.15478366849482023, 1.984375],\n",
       " 'CASE60_34': [0.01782304264799491, 0.21875],\n",
       " 'CASE61_01': [0.232711966325917, 0.18896484375],\n",
       " 'CASE61_02': [0.12836279784780938, 0.1630859375],\n",
       " 'CASE61_03': [0.12414649286157665, 0.1953125],\n",
       " 'CASE61_04': [0.1621900826446281, 0.306640625],\n",
       " 'CASE61_05': [0.6113470873786407, 3.935546875],\n",
       " 'CASE61_06': [0.5102040816326531, 3.515625],\n",
       " 'CASE61_07': [0.5041284403669725, 4.29296875],\n",
       " 'CASE61_08': [0.26911157024793386, 2.03515625],\n",
       " 'CASE61_09': [0.16742700729927007, 1.43359375],\n",
       " 'CASE61_10': [0.1729200652528548, 1.65625],\n",
       " 'CASE61_11': [0.16666666666666666, 1.390625],\n",
       " 'CASE61_12': [0.4688372093023256, 3.9375],\n",
       " 'CASE61_13': [0.5078299776286354, 5.3203125],\n",
       " 'CASE61_14': [0.27022900763358776, 4.1484375],\n",
       " 'CASE61_15': [0.10349554489376285, 2.359375],\n",
       " 'CASE61_16': [0.05857142857142857, 1.921875],\n",
       " 'CASE61_17': [0.05992217898832685, 2.40625],\n",
       " 'CASE61_18': [0.10184595798854233, 5.0],\n",
       " 'CASE61_19': [0.03241013553329405, 1.71875],\n",
       " 'CASE61_20': [0.04083570750237417, 2.6875],\n",
       " 'CASE61_21': [0.00782472613458529, 0.625],\n",
       " 'CASE61_22': [0.044796691936595454, 4.0625],\n",
       " 'CASE61_23': [0.0191415313225058, 2.0625],\n",
       " 'CASE61_24': [0.002472799208704253, 0.3125],\n",
       " 'CASE61_25': [0.03527336860670194, 5.0],\n",
       " 'CASE61_26': [0.08708938120702826, 14.25],\n",
       " 'CASE61_27': [0.06132075471698113, 11.375],\n",
       " 'CASE61_28': [0.1013215859030837, 23.0],\n",
       " 'CASE62_01': [0.009140767824497258, 0.009765625],\n",
       " 'CASE62_02': [0.0535264483627204, 0.0830078125],\n",
       " 'CASE62_03': [0.14991694352159468, 0.3525390625],\n",
       " 'CASE62_04': [0.5892267019167218, 3.482421875],\n",
       " 'CASE62_05': [0.5124293785310734, 3.54296875],\n",
       " 'CASE62_06': [0.49657198824681686, 3.9609375],\n",
       " 'CASE62_07': [0.3567681007345226, 2.65625],\n",
       " 'CASE62_08': [0.019206939281288724, 0.12109375],\n",
       " 'CASE62_09': [0.03486609398686205, 0.26953125],\n",
       " 'CASE62_10': [0.12022900763358779, 0.984375],\n",
       " 'CASE62_11': [0.13003095975232198, 1.3125],\n",
       " 'CASE62_12': [0.3958333333333333, 4.3046875],\n",
       " 'CASE62_13': [0.16587677725118483, 2.4609375],\n",
       " 'CASE62_14': [0.1077891424075531, 2.140625],\n",
       " 'CASE62_15': [0.03213296398891967, 0.90625],\n",
       " 'CASE62_16': [0.05775862068965517, 2.09375],\n",
       " 'CASE62_17': [0.02656137832017229, 1.15625],\n",
       " 'CASE62_18': [0.05936599423631124, 3.21875],\n",
       " 'CASE62_19': [0.0667016806722689, 3.96875],\n",
       " 'CASE62_20': [0.026427962489343565, 1.9375],\n",
       " 'CASE62_21': [0.04388489208633094, 3.8125],\n",
       " 'CASE62_22': [0.014243323442136498, 1.5],\n",
       " 'CASE62_23': [0.02216358839050132, 2.625],\n",
       " 'CASE62_24': [0.013501350135013501, 1.875],\n",
       " 'CASE62_25': [0.08022239872915012, 12.625],\n",
       " 'CASE62_26': [0.0012903225806451613, 0.25],\n",
       " 'CASE62_27': [0.10936654033567948, 25.25],\n",
       " 'CASE62_28': [0.1251342642320086, 29.125],\n",
       " 'CASE63_01': [0.0378619153674833, 0.02490234375],\n",
       " 'CASE63_02': [0.5828382838283829, 0.43115234375],\n",
       " 'CASE63_03': [0.21932515337423314, 0.279296875],\n",
       " 'CASE63_04': [0.12033014769765421, 0.2705078125],\n",
       " 'CASE63_05': [0.4078380706287683, 1.849609375],\n",
       " 'CASE63_06': [0.5047222222222222, 3.548828125],\n",
       " 'CASE63_07': [0.3371212121212121, 2.43359375],\n",
       " 'CASE63_08': [0.30159474671669795, 2.51171875],\n",
       " 'CASE63_09': [0.14328485885372114, 1.30859375],\n",
       " 'CASE63_10': [0.07455197132616488, 0.8125],\n",
       " 'CASE63_11': [0.19624217118997914, 2.203125],\n",
       " 'CASE63_12': [0.39565943238731216, 5.5546875],\n",
       " 'CASE63_13': [0.012971698113207548, 0.34375],\n",
       " 'CASE63_14': [0.0831889081455806, 3.0],\n",
       " 'CASE63_15': [0.0024645717806531116, 0.125],\n",
       " 'CASE63_16': [0.15244909190974132, 8.65625],\n",
       " 'CASE63_17': [0.1726027397260274, 11.8125],\n",
       " 'CASE63_18': [0.2143884892086331, 18.625],\n",
       " 'CASE63_19': [0.15363586659376707, 17.5625],\n",
       " 'CASE63_20': [0.1565217391304348, 22.5],\n",
       " 'CASE63_21': [0.02214765100671141, 4.125],\n",
       " 'CASE63_22': [0.046975546975546977, 9.125],\n",
       " 'CASE63_23': [0.05567805953693495, 12.625],\n",
       " 'CASE63_24': [0.029381443298969072, 7.125],\n",
       " 'CASE64_01': [0.17224199288256228, 0.1181640625],\n",
       " 'CASE64_02': [0.7146105741898806, 0.61376953125],\n",
       " 'CASE64_03': [0.06784049715173485, 0.1279296875],\n",
       " 'CASE64_04': [0.4056895485466914, 1.28125],\n",
       " 'CASE64_05': [0.26486246672582076, 1.166015625],\n",
       " 'CASE64_06': [0.43174250832408434, 3.0390625],\n",
       " 'CASE64_07': [0.14699074074074073, 0.9921875],\n",
       " 'CASE64_08': [0.2583011583011583, 2.61328125],\n",
       " 'CASE64_09': [0.17534246575342466, 2.0],\n",
       " 'CASE64_10': [0.14620298083747338, 1.609375],\n",
       " 'CASE64_11': [0.21061180292366, 3.0390625],\n",
       " 'CASE64_12': [0.14427860696517414, 3.171875],\n",
       " 'CASE64_13': [0.0017825311942959, 0.0625],\n",
       " 'CASE64_14': [0.043286867204695524, 1.84375],\n",
       " 'CASE64_15': [0.0921205098493627, 4.96875],\n",
       " 'CASE64_16': [0.1941941941941942, 12.125],\n",
       " 'CASE64_17': [0.18188795088257867, 14.8125],\n",
       " 'CASE64_18': [0.20614828209764918, 21.375],\n",
       " 'CASE64_19': [0.09566787003610108, 13.25],\n",
       " 'CASE64_20': [0.02463768115942029, 4.25],\n",
       " 'CASE64_21': [0.011620795107033639, 2.375],\n",
       " 'CASE64_22': [0.02068194522079374, 4.625],\n",
       " 'CASE64_23': [0.04943357363542739, 12.0],\n",
       " 'CASE65_01': [0.17518796992481203, 58.25],\n",
       " 'CASE65_02': [0.027711797307996833, 8.75],\n",
       " 'CASE66_01': [0.06215578284815106, 19.75],\n",
       " 'CASE67_01': [1.245520902455209, 0.91650390625],\n",
       " 'CASE67_02': [0.4333556597454789, 0.6318359375],\n",
       " 'CASE67_03': [0.18574859887910328, 0.453125],\n",
       " 'CASE67_04': [0.39819890368050115, 1.986328125],\n",
       " 'CASE67_05': [0.5082048731974143, 3.9921875],\n",
       " 'CASE67_06': [0.3859306301905227, 3.0859375],\n",
       " 'CASE67_07': [0.17976373908577298, 1.3671875],\n",
       " 'CASE67_08': [0.12940630797773656, 1.08984375],\n",
       " 'CASE67_09': [0.06936416184971098, 0.65625],\n",
       " 'CASE67_10': [0.007082152974504249, 0.078125],\n",
       " 'CASE67_11': [0.18175388967468176, 2.0078125],\n",
       " 'CASE67_12': [0.18543046357615894, 2.40625],\n",
       " 'CASE67_13': [0.3291796469366563, 4.953125],\n",
       " 'CASE67_14': [0.045165394402035625, 1.109375],\n",
       " 'CASE67_15': [0.07838616714697406, 2.125],\n",
       " 'CASE67_16': [0.11014263074484945, 4.34375],\n",
       " 'CASE67_17': [0.1205298013245033, 5.6875],\n",
       " 'CASE67_18': [0.10459035444509006, 5.625],\n",
       " 'CASE67_19': [0.06987577639751552, 4.21875],\n",
       " 'CASE67_20': [0.03339517625231911, 2.25],\n",
       " 'CASE67_21': [0.002969561989606533, 0.25],\n",
       " 'CASE67_22': [0.07735849056603773, 7.6875],\n",
       " 'CASE67_23': [0.0004885197850512946, 0.0625],\n",
       " 'CASE67_24': [0.07279029462738301, 10.5],\n",
       " 'CASE67_25': [0.07225433526011561, 12.5],\n",
       " 'CASE67_26': [0.07549361207897794, 16.25],\n",
       " 'CASE67_27': [0.045454545454545456, 11.75],\n",
       " 'CASE67_28': [0.0024855012427506215, 0.75],\n",
       " 'CASE68_01': [0.5790408525754884, 0.63671875],\n",
       " 'CASE68_02': [0.22440746343923348, 0.4345703125],\n",
       " 'CASE68_03': [0.5927922814982974, 4.080078125],\n",
       " 'CASE68_04': [0.5067148760330579, 3.83203125],\n",
       " 'CASE68_05': [0.30455635491606714, 1.984375],\n",
       " 'CASE68_06': [0.18763796909492272, 1.328125],\n",
       " 'CASE68_07': [0.08040201005025126, 0.625],\n",
       " 'CASE68_08': [0.13695299837925445, 1.3203125],\n",
       " 'CASE68_09': [0.024024024024024024, 0.25],\n",
       " 'CASE68_10': [0.1303095752339813, 1.4140625],\n",
       " 'CASE68_11': [0.12923076923076923, 1.640625],\n",
       " 'CASE68_12': [0.18017552916881777, 2.7265625],\n",
       " 'CASE68_13': [0.10082150858849888, 2.109375],\n",
       " 'CASE68_14': [0.11043256997455471, 3.390625],\n",
       " 'CASE68_15': [0.1343906510851419, 5.03125],\n",
       " 'CASE68_16': [0.13094417643004824, 5.9375],\n",
       " 'CASE68_17': [0.1288416075650118, 6.8125],\n",
       " 'CASE68_18': [0.06568575932737783, 3.90625],\n",
       " 'CASE68_19': [0.013786764705882353, 0.9375],\n",
       " 'CASE68_20': [0.013761467889908258, 1.125],\n",
       " 'CASE68_21': [0.0138801261829653, 1.375],\n",
       " 'CASE68_22': [0.016595289079229122, 1.9375],\n",
       " 'CASE68_23': [0.05500450856627592, 7.625],\n",
       " 'CASE68_24': [0.03295932678821879, 5.875],\n",
       " 'CASE68_25': [0.1643312101910828, 32.25],\n",
       " 'CASE68_26': [0.039323046291687404, 9.875],\n",
       " 'CASE68_27': [0.0156794425087108, 4.5],\n",
       " 'CASE68_28': [0.018794048551292093, 6.0],\n",
       " 'CASE69_01': [0.19437551695616212, 0.2294921875],\n",
       " 'CASE69_02': [0.15133333333333332, 0.2216796875],\n",
       " 'CASE69_03': [0.16249334043686733, 0.2978515625],\n",
       " 'CASE69_04': [0.2908567314614831, 0.7890625],\n",
       " 'CASE69_05': [0.5990131578947369, 3.556640625],\n",
       " 'CASE69_06': [0.5624651422197434, 3.939453125],\n",
       " 'CASE69_07': [0.35355392156862747, 2.25390625],\n",
       " 'CASE69_08': [0.12485549132947976, 0.84375],\n",
       " 'CASE69_09': [0.13102119460500963, 1.0625],\n",
       " 'CASE69_10': [0.1389324960753532, 1.3828125],\n",
       " 'CASE69_11': [0.08227848101265822, 0.9140625],\n",
       " 'CASE69_12': [0.2555693069306931, 3.2265625],\n",
       " 'CASE69_13': [0.10163468372423597, 2.234375],\n",
       " 'CASE69_14': [0.13825857519788917, 4.09375],\n",
       " 'CASE69_15': [0.1134278565471226, 4.25],\n",
       " 'CASE69_16': [0.08579088471849866, 4.0],\n",
       " 'CASE69_17': [0.03627232142857143, 2.03125],\n",
       " 'CASE69_18': [0.005719733079122974, 0.375],\n",
       " 'CASE69_19': [0.014446227929373997, 1.125],\n",
       " 'CASE69_20': [0.08493150684931507, 7.75],\n",
       " 'CASE69_21': [0.1344206974128234, 14.9375],\n",
       " 'CASE69_22': [0.08561341571050309, 12.125],\n",
       " 'CASE70_01': [0.07992895204262877, 16.875],\n",
       " 'CASE70_02': [0.04926686217008798, 10.5],\n",
       " 'CASE70_03': [0.08469791078486731, 18.75],\n",
       " 'CASE70_04': [0.07586206896551724, 19.25],\n",
       " 'CASE70_05': [0.08429458740017746, 23.75],\n",
       " 'CASE70_06': [0.04867986798679868, 14.75],\n",
       " 'CASE70_07': [0.06504065040650407, 20.0],\n",
       " 'CASE70_08': [0.07056936647955092, 22.0],\n",
       " 'CASE70_09': [0.07852564102564102, 24.5],\n",
       " 'CASE70_10': [0.10282574568288853, 32.75],\n",
       " 'CASE70_11': [0.12538940809968846, 40.25],\n",
       " 'CASE70_12': [0.11314984709480122, 37.0],\n",
       " 'CASE70_13': [0.11044327573253193, 36.75],\n",
       " 'CASE70_14': [0.0852314474650992, 29.0],\n",
       " 'CASE70_15': [0.10432190760059612, 35.0],\n",
       " 'CASE70_16': [0.038433111603843315, 13.0],\n",
       " 'CASE70_17': [0.15894568690095848, 49.75],\n",
       " 'CASE70_18': [0.020485175202156335, 4.75],\n",
       " 'CASE70_19': [0.072265625, 13.875],\n",
       " 'CASE70_20': [0.0913818722139673, 15.375],\n",
       " 'CASE70_21': [0.1392174704276615, 19.125],\n",
       " 'CASE70_22': [0.15005359056806003, 17.5],\n",
       " 'CASE70_23': [0.3081155433287483, 28.0],\n",
       " 'CASE70_24': [0.33930024410089504, 26.0625],\n",
       " 'CASE71_01': [0.964453125, 0.678131103515625],\n",
       " 'CASE71_02': [0.9623937074829932, 0.6907806396484375],\n",
       " 'CASE71_03': [0.9985991792065664, 0.7128671875],\n",
       " 'CASE71_04': [0.9986152805949966, 0.72116796875],\n",
       " 'CASE71_05': [0.9985148658448151, 0.67233984375],\n",
       " 'CASE71_06': [0.9989800796812749, 0.97946875],\n",
       " 'CASE71_07': [0.8678660049627791, 0.68310546875],\n",
       " 'CASE71_08': [0.7581401766004415, 0.6707763671875],\n",
       " 'CASE71_09': [0.7308762169680111, 0.51318359375],\n",
       " 'CASE71_10': [0.7114850798056905, 0.5006103515625],\n",
       " 'CASE71_11': [0.34493452791178497, 0.244384765625],\n",
       " 'CASE71_12': [0.40212342402123424, 0.2958984375],\n",
       " 'CASE71_13': [0.019553072625698324, 0.01708984375],\n",
       " 'CASE71_14': [0.12506486766995328, 0.11767578125],\n",
       " 'CASE71_15': [0.007739938080495356, 0.009765625],\n",
       " 'CASE71_16': [0.03321224701608718, 0.0625],\n",
       " 'CASE71_17': [0.3498080614203455, 1.423828125],\n",
       " 'CASE71_18': [0.4167226326393553, 2.423828125],\n",
       " 'CASE71_19': [0.3645765998707175, 2.203125],\n",
       " 'CASE71_20': [0.2857142857142857, 1.875],\n",
       " 'CASE71_21': [0.11895497498610338, 0.8359375],\n",
       " 'CASE71_22': [0.005921539600296077, 0.0625],\n",
       " 'CASE71_23': [0.14033942558746737, 1.6796875],\n",
       " 'CASE71_24': [0.35620354488279016, 4.8671875],\n",
       " 'CASE71_25': [0.18040435458786935, 3.625],\n",
       " 'CASE71_26': [0.15612535612535614, 4.28125],\n",
       " 'CASE71_27': [0.252096694622595, 7.984375],\n",
       " 'CASE71_28': [0.35327868852459016, 13.46875],\n",
       " 'CASE71_29': [0.43085880640465796, 18.5],\n",
       " 'CASE71_30': [0.5181644359464627, 25.40625],\n",
       " 'CASE71_31': [0.3528846153846154, 22.9375],\n",
       " 'CASE71_32': [0.1416539050535988, 11.5625],\n",
       " 'CASE72_01': [0.014860681114551083, 1.5],\n",
       " 'CASE72_02': [0.07735849056603773, 7.6875],\n",
       " 'CASE72_03': [0.046125461254612546, 4.6875],\n",
       " 'CASE72_04': [0.03714981729598051, 3.8125],\n",
       " 'CASE72_05': [0.04221954161640531, 4.375],\n",
       " 'CASE72_06': [0.18875, 18.875],\n",
       " 'CASE72_07': [0.1660839160839161, 11.875],\n",
       " 'CASE72_08': [0.14027538726333907, 10.1875],\n",
       " 'CASE72_09': [0.09265442404006678, 6.9375],\n",
       " 'CASE72_10': [0.1226890756302521, 9.125],\n",
       " 'CASE73_01': [0.13452914798206278, 9.375],\n",
       " 'CASE73_02': [0.3589041095890411, 24.5625],\n",
       " 'CASE73_03': [0.05263157894736842, 2.5625],\n",
       " 'CASE73_04': [0.5972602739726027, 40.875],\n",
       " 'CASE73_05': [0.1992110453648915, 25.25],\n",
       " 'CASE73_06': [0.17169540229885058, 29.875],\n",
       " 'CASE73_07': [0.09262536873156342, 19.625],\n",
       " 'CASE73_08': [0.06400839454354669, 15.25],\n",
       " 'CASE73_09': [0.027237354085603113, 7.0],\n",
       " 'CASE73_10': [0.7007366482504604, 190.25],\n",
       " 'CASE73_11': [0.38767234387672345, 29.875],\n",
       " 'CASE73_12': [0.017827298050139277, 2.0],\n",
       " 'CASE73_13': [0.013061650992685475, 1.5625],\n",
       " 'CASE73_14': [0.41346633416458856, 51.8125],\n",
       " 'CASE73_15': [0.001558846453624318, 0.125],\n",
       " 'CASE73_16': [0.03032490974729242, 2.625],\n",
       " 'CASE73_17': [0.009174311926605505, 0.8125],\n",
       " 'CASE73_18': [0.015058179329226557, 1.375],\n",
       " 'CASE73_19': [0.03395472703062583, 3.1875],\n",
       " 'CASE73_20': [0.036351619299405155, 3.4375],\n",
       " 'CASE73_21': [0.01119157340355497, 1.0625],\n",
       " 'CASE73_22': [0.007194244604316547, 0.6875],\n",
       " 'CASE73_23': [0.08173690932311622, 8.0],\n",
       " 'CASE73_24': [0.03505291005291005, 3.3125],\n",
       " 'CASE73_25': [0.03490759753593429, 3.1875],\n",
       " 'CASE73_26': [0.01127554615926709, 1.0],\n",
       " 'CASE73_27': [0.0851063829787234, 7.25],\n",
       " 'CASE73_28': [0.07418181818181818, 6.375],\n",
       " 'CASE73_29': [0.08118361153262518, 6.6875],\n",
       " 'CASE73_30': [0.03159692570452605, 2.3125],\n",
       " 'CASE73_31': [0.04535637149028078, 2.625],\n",
       " 'CASE73_32': [0.051364365971107544, 2.0],\n",
       " 'CASE73_33': [0.11984282907662082, 2.859375],\n",
       " 'CASE73_34': [0.047966631908237745, 0.71875],\n",
       " 'CASE74_01': [0.2743362831858407, 0.302734375],\n",
       " 'CASE74_02': [0.26492753623188403, 0.4462890625],\n",
       " 'CASE74_03': [0.4852941176470588, 2.642578125],\n",
       " 'CASE74_04': [0.3941553813257306, 2.16015625],\n",
       " 'CASE74_05': [0.143256464011181, 0.80078125],\n",
       " 'CASE74_06': [0.21354656632173094, 1.7734375],\n",
       " 'CASE74_07': [0.11055694098088113, 1.0390625],\n",
       " 'CASE74_08': [0.04057971014492753, 0.4375],\n",
       " 'CASE74_09': [0.23170731707317074, 2.8203125],\n",
       " 'CASE74_10': [0.07746478873239436, 1.375],\n",
       " 'CASE74_11': [0.014184397163120567, 0.34375],\n",
       " 'CASE74_12': [0.021400778210116732, 0.6875],\n",
       " 'CASE74_13': [0.06729264475743349, 2.6875],\n",
       " 'CASE74_14': [0.14394904458598726, 7.0625],\n",
       " 'CASE74_15': [0.17402082300446206, 10.96875],\n",
       " 'CASE74_16': [0.2096247960848287, 16.0625],\n",
       " 'CASE74_17': [0.16162266580811332, 15.6875],\n",
       " 'CASE74_18': [0.2229580573951435, 25.25],\n",
       " 'CASE74_19': [0.2488306828811974, 33.25],\n",
       " 'CASE74_20': [0.07854984894259819, 13.0],\n",
       " 'CASE74_21': [0.047386759581881537, 8.5],\n",
       " 'CASE74_22': [0.008917197452229299, 1.75],\n",
       " 'CASE74_23': [0.012262415695892091, 2.5],\n",
       " 'CASE74_24': [0.04199772985244041, 9.25],\n",
       " 'CASE74_25': [0.052100840336134456, 11.625],\n",
       " 'CASE74_26': [0.03220338983050847, 7.125],\n",
       " 'CASE74_27': [0.04777777777777778, 10.75],\n",
       " 'CASE75_01': [0.07657945118059988, 15.0],\n",
       " 'CASE75_02': [0.048064918851435705, 9.625]}"
      ]
     },
     "execution_count": 109,
     "metadata": {},
     "output_type": "execute_result"
    }
   ],
   "source": [
    "fold5"
   ]
  },
  {
   "cell_type": "markdown",
   "id": "e05f210c",
   "metadata": {},
   "source": [
    "중복데이터 삭제\n",
    "case59, case11, case12, case13, case14,\n",
    "이상치 리스트\n",
    "확인 : CASE05_21, CASE10_41, case16, case22, case23, case45-16, case45-17,\n",
    "CASE73_04, case73-10,CASE73_11, CASE73_14"
   ]
  },
  {
   "cell_type": "code",
   "execution_count": 61,
   "id": "b8459cd2",
   "metadata": {},
   "outputs": [
    {
     "name": "stderr",
     "output_type": "stream",
     "text": [
      "Using 16bit native Automatic Mixed Precision (AMP)\n",
      "GPU available: True, used: True\n",
      "TPU available: False, using: 0 TPU cores\n",
      "IPU available: False, using: 0 IPUs\n",
      "HPU available: False, using: 0 HPUs\n",
      "LOCAL_RANK: 0 - CUDA_VISIBLE_DEVICES: [0]\n",
      "\n",
      "  | Name            | Type               | Params\n",
      "-------------------------------------------------------\n",
      "0 | model           | CNN_RNN            | 4.4 M \n",
      "1 | train_nmae      | NMAE               | 0     \n",
      "2 | valid_nmae      | NMAE               | 0     \n",
      "3 | augment_dataset | PYTORCH_AUGMENTSET | 0     \n",
      "4 | train_dataset   | PYTORCH_DATASET    | 0     \n",
      "5 | val_dataset     | PYTORCH_DATASET    | 0     \n",
      "6 | predict_dataset | PYTORCH_PREDICTSET | 0     \n",
      "-------------------------------------------------------\n",
      "4.4 M     Trainable params\n",
      "0         Non-trainable params\n",
      "4.4 M     Total params\n",
      "8.707     Total estimated model params size (MB)\n"
     ]
    },
    {
     "data": {
      "application/vnd.jupyter.widget-view+json": {
       "model_id": "",
       "version_major": 2,
       "version_minor": 0
      },
      "text/plain": [
       "Sanity Checking: 0it [00:00, ?it/s]"
      ]
     },
     "metadata": {},
     "output_type": "display_data"
    },
    {
     "name": "stdout",
     "output_type": "stream",
     "text": [
      "validation nmae: 1.015\n"
     ]
    },
    {
     "data": {
      "application/vnd.jupyter.widget-view+json": {
       "model_id": "035261b3b93b4dcba69130cca547bd3c",
       "version_major": 2,
       "version_minor": 0
      },
      "text/plain": [
       "Training: 0it [00:00, ?it/s]"
      ]
     },
     "metadata": {},
     "output_type": "display_data"
    }
   ],
   "source": [
    "model = LIGHTNING_MODEL(train_dataset, valid_dataset, augment_dataset, test_dataset)\n",
    "trainer = pl.Trainer(\n",
    "                devices=[0],\n",
    "                accelerator='gpu',\n",
    "                max_epochs=70,\n",
    "                precision=16\n",
    "            )\n",
    "\n",
    "trainer.fit(model)"
   ]
  },
  {
   "cell_type": "code",
   "execution_count": null,
   "id": "16adffa9",
   "metadata": {},
   "outputs": [],
   "source": [
    "#생을 돌렸을때 나오는 성능 0.1298\n",
    "#mixer 사용 0.1092\n"
   ]
  }
 ],
 "metadata": {
  "kernelspec": {
   "display_name": "Python 3 (ipykernel)",
   "language": "python",
   "name": "python3"
  },
  "language_info": {
   "codemirror_mode": {
    "name": "ipython",
    "version": 3
   },
   "file_extension": ".py",
   "mimetype": "text/x-python",
   "name": "python",
   "nbconvert_exporter": "python",
   "pygments_lexer": "ipython3",
   "version": "3.7.9"
  }
 },
 "nbformat": 4,
 "nbformat_minor": 5
}
