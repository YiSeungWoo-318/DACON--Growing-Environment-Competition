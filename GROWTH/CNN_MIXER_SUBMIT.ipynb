{
 "cells": [
  {
   "cell_type": "code",
   "execution_count": 1,
   "id": "c5d81a27",
   "metadata": {},
   "outputs": [],
   "source": [
    "import os\n",
    "import pandas as pd\n",
    "import numpy as np\n",
    "from glob import glob\n",
    "from tqdm import tqdm\n",
    "import cv2\n",
    "import torch\n",
    "import torch.nn as nn\n",
    "import torch.nn.functional as F\n",
    "import albumentations as albu\n",
    "from albumentations.pytorch import ToTensorV2\n",
    "from sklearn.model_selection import KFold\n",
    "import pytorch_lightning as pl\n",
    "from torch.utils.data import DataLoader\n",
    "import timm\n",
    "from torchmetrics import Metric\n",
    "from timm.data import IMAGENET_DEFAULT_MEAN, IMAGENET_DEFAULT_STD\n",
    "from pytorch_lightning.callbacks import ModelCheckpoint, EarlyStopping\n",
    "import random"
   ]
  },
  {
   "cell_type": "code",
   "execution_count": 2,
   "id": "7785c63a",
   "metadata": {},
   "outputs": [],
   "source": [
    "class NMAE(Metric):\n",
    "    def __init__(self):\n",
    "        super().__init__()\n",
    "        self.add_state(\"mae\", default=[], dist_reduce_fx=None)\n",
    "        self.add_state(\"deno\", default=[], dist_reduce_fx=None)\n",
    "        \n",
    "    def update(self, preds: torch.Tensor, target: torch.Tensor):\n",
    "        assert preds.shape == target.shape\n",
    "        mae = torch.abs(target-preds)\n",
    "        deno = torch.abs(target)\n",
    "        self.mae.append(mae)\n",
    "        self.deno.append(deno)\n",
    "    def compute(self):\n",
    "        return torch.mean(torch.cat(self.mae)) / torch.mean(torch.cat(self.deno))"
   ]
  },
  {
   "cell_type": "code",
   "execution_count": 57,
   "id": "3db24981",
   "metadata": {},
   "outputs": [],
   "source": [
    "# model_type = \"efficientnet_B0\"\n",
    "model_type = \"efficientnetv2_rw_m\""
   ]
  },
  {
   "cell_type": "code",
   "execution_count": 58,
   "id": "1e21ebf6",
   "metadata": {},
   "outputs": [
    {
     "name": "stderr",
     "output_type": "stream",
     "text": [
      "100%|███████████████████████████████████████████████████████████████████████████████████████████████████████████████████████████████████████████████████████████████████████████████████████████| 1592/1592 [00:07<00:00, 219.76it/s]\n",
      "100%|█████████████████████████████████████████████████████████████████████████████████████████████████████████████████████████████████████████████████████████████████████████████████████████████| 460/460 [00:02<00:00, 183.00it/s]\n",
      "100%|█████████████████████████████████████████████████████████████████████████████████████████████████████████████████████████████████████████████████████████████████████████████████████████████| 492/492 [00:02<00:00, 179.93it/s]\n"
     ]
    }
   ],
   "source": [
    "#processing outlier\n",
    "\n",
    "if model_type ==  \"efficientnet_B0\":\n",
    "    preprocessing_train_imgs = glob(\"D:/DACON_GROWTH/PREPROCESSING-TRAIN_224/*\")\n",
    "    preprocessing_test_imgs = glob(\"D:/DACON_GROWTH/PREPROCESSING-TEST_224/*\")\n",
    "    augmetation_imgs = glob(\"D:/DACON_GROWTH/AUGMENTATION/SIZE224/*\")\n",
    "\n",
    "if model_type ==  \"efficientnetv2_rw_m\":\n",
    "    preprocessing_train_imgs = glob(\"D:/DACON_GROWTH/PREPROCESSING-TRAIN_416/*\")\n",
    "    preprocessing_test_imgs = glob(\"D:/DACON_GROWTH/PREPROCESSING-TEST_416/*\")\n",
    "    augmetation_imgs = glob(\"D:/DACON_GROWTH/AUGMENTATION/SIZE416/*\")\n",
    "    \n",
    "outlier_imgs = []\n",
    "outlier_path = []\n",
    "train_path = []\n",
    "train_imgs = []\n",
    "for path in tqdm(preprocessing_train_imgs):\n",
    "    img_file = os.path.basename(path)\n",
    "    img_name = img_file.split(\".\")[0]\n",
    "    case = img_name.split(\"_\")[0]\n",
    "    if case in [\"CASE59\", \"CASE11\", \"CASE12\", \"CASE13\", \"CASE14\"]:\n",
    "        continue\n",
    "    elif img_name in [\"CASE05_21\", \"CASE10_41\", \"CASE45_16\", \"CASE45_17\",\n",
    "                     \"CASE73_04\", \"CASE73_10\", \"CASE73_11\", \"CASE73_14\"]:        \n",
    "        img = cv2.imread(path, cv2.IMREAD_COLOR)\n",
    "        outlier_path.append(path)\n",
    "        outlier_imgs.append(img)\n",
    "    elif case in [\"CASE16\", \"CASE22\", \"CASE23\"]:\n",
    "        img = cv2.imread(path, cv2.IMREAD_COLOR)\n",
    "        outlier_path.append(path)\n",
    "        outlier_imgs.append(img)\n",
    "    else:\n",
    "        img = cv2.imread(path, cv2.IMREAD_COLOR)\n",
    "        train_path.append(path)\n",
    "        train_imgs.append(img)\n",
    "        \n",
    "test_path = []\n",
    "test_imgs = []\n",
    "for path in tqdm(preprocessing_test_imgs):\n",
    "    img = cv2.imread(path, cv2.IMREAD_COLOR)\n",
    "    test_path.append(path)\n",
    "    test_imgs.append(img)\n",
    "\n",
    "augment_path = []\n",
    "augment_imgs = []\n",
    "for path in tqdm(augmetation_imgs):\n",
    "    img = cv2.imread(path, cv2.IMREAD_COLOR)\n",
    "    augment_path.append(path)\n",
    "    augment_imgs.append(img)\n",
    "    \n",
    "augment_path = augment_path + outlier_path\n",
    "augment_imgs = augment_imgs + outlier_imgs"
   ]
  },
  {
   "cell_type": "code",
   "execution_count": 5,
   "id": "51cd81cb",
   "metadata": {},
   "outputs": [
    {
     "name": "stderr",
     "output_type": "stream",
     "text": [
      "100%|████████████████████████████████████████████████████████████████████████████████████████████████████████████████████████████████████████████████████████████████████████████████████████████| 1592/1592 [00:40<00:00, 39.16it/s]\n",
      "100%|████████████████████████████████████████████████████████████████████████████████████████████████████████████████████████████████████████████████████████████████████████████████████████████| 1592/1592 [05:11<00:00,  5.11it/s]\n",
      "  0%|                                                                                                                                                                                                       | 0/1592 [00:00<?, ?it/s]D:\\meta2\\venv\\lib\\site-packages\\pandas\\core\\frame.py:4913: SettingWithCopyWarning: \n",
      "A value is trying to be set on a copy of a slice from a DataFrame\n",
      "\n",
      "See the caveats in the documentation: https://pandas.pydata.org/pandas-docs/stable/user_guide/indexing.html#returning-a-view-versus-a-copy\n",
      "  errors=errors,\n",
      "100%|███████████████████████████████████████████████████████████████████████████████████████████████████████████████████████████████████████████████████████████████████████████████████████████| 1592/1592 [00:12<00:00, 130.46it/s]\n",
      "100%|██████████████████████████████████████████████████████████████████████████████████████████████████████████████████████████████████████████████████████████████████████████████████████████████| 460/460 [00:10<00:00, 42.96it/s]\n",
      "100%|█████████████████████████████████████████████████████████████████████████████████████████████████████████████████████████████████████████████████████████████████████████████████████████████| 460/460 [00:01<00:00, 338.06it/s]\n"
     ]
    }
   ],
   "source": [
    "main_path = \"D:/DACON_GROWTH\"\n",
    "train_data = glob(main_path+\"/train/*/meta/*.csv\")\n",
    "train_label = glob(main_path+\"/train/*/*.csv\")\n",
    "test_data = glob(main_path+\"/test/meta/*.csv\")\n",
    "\n",
    "train_df = []\n",
    "for i in tqdm(train_data):\n",
    "    name = i.split(\"\\\\\")[-1].split(\".\")[0]\n",
    "    df = pd.read_csv(i)\n",
    "    df[\"이미지\"] = name\n",
    "    case = name.split(\"_\")[0]\n",
    "    label = pd.read_csv(f\"D:/DACON_GROWTH/train/{case}/label.csv\")\n",
    "    label_name = [i.split(\".\")[0] for i in label.img_name]\n",
    "    label.img_name = label_name\n",
    "    leaf_weight = label[label.img_name == name].leaf_weight.values[0]\n",
    "    df[\"무게\"] = leaf_weight\n",
    "    df = df.replace([np.inf, -np.inf], np.nan)\n",
    "    train_df.append(df)\n",
    "\n",
    "train_df = pd.concat(train_df, ignore_index=True)\n",
    "\n",
    "img2weight = {}\n",
    "for i in tqdm(train_df[\"이미지\"].unique()):\n",
    "    temp = train_df[train_df[\"이미지\"]==i]\n",
    "    weight = temp[\"무게\"].values[0]\n",
    "    img2weight[i] = weight\n",
    "    \n",
    "train_df[\"시간2\"] = train_df[\"시간\"].apply(lambda x: x.split(\" \")[-1])\n",
    "\n",
    "golden_dict ={}\n",
    "for e, i in enumerate(train_df[\"시간2\"].unique()):\n",
    "       golden_dict[i] = e\n",
    "train_df[\"순서\"] = train_df[\"시간2\"].apply(lambda x : golden_dict[x])\n",
    "\n",
    "train_df2 = train_df[(train_df[\"순서\"] > 880) & (train_df[\"순서\"] < 930)]\n",
    "\n",
    "train_dfx = train_df2.copy()\n",
    "train_dfx.drop(columns=[\"시간\", \"시간2\"], inplace=True)\n",
    "train_dfx.fillna(0., inplace=True)\n",
    "\n",
    "img2data = {}\n",
    "for i in tqdm(train_dfx['이미지'].unique()):\n",
    "    temp = train_dfx[train_dfx[\"이미지\"]==i]\n",
    "    temp.drop(columns = [\"무게\", \"이미지\"], inplace=True)\n",
    "    img2data[i] = np.array(temp.values, dtype=np.float32)\n",
    "    \n",
    "test_df = []\n",
    "for i in tqdm(test_data):\n",
    "    name = i.split(\"\\\\\")[-1].split(\".\")[0]\n",
    "    df = pd.read_csv(i)\n",
    "    df[\"이미지\"] = name\n",
    "    df = df.replace([np.inf, -np.inf], np.nan)\n",
    "    test_df.append(df)\n",
    "    \n",
    "test_df = pd.concat(test_df, ignore_index=True)\n",
    "test_df[\"시간2\"] = test_df[\"시간\"].apply(lambda x: x.split(\" \")[-1])\n",
    "test_df[\"순서\"] = test_df[\"시간2\"].apply(lambda x : golden_dict[x])\n",
    "test_df2 = test_df[(test_df[\"순서\"] > 880) & (test_df[\"순서\"] < 930)]\n",
    "\n",
    "test_dfx = test_df2.copy()\n",
    "test_dfx.drop(columns=[\"시간\", \"시간2\"], inplace=True)\n",
    "test_dfx.fillna(0., inplace=True)\n",
    "\n",
    "img2test = {}\n",
    "for i in tqdm(test_dfx['이미지'].unique()):\n",
    "    temp = test_dfx[test_dfx[\"이미지\"]==i]\n",
    "    temp.drop(columns = \"이미지\", inplace=True)\n",
    "    img2test[i] = np.array(temp.values, dtype=np.float32)"
   ]
  },
  {
   "cell_type": "code",
   "execution_count": 28,
   "id": "c4362f72",
   "metadata": {},
   "outputs": [],
   "source": [
    "class PYTORCH_DATASET(nn.Module):\n",
    "    def __init__(self, path: list, img2weight: dict, imgs: np.array, img2data: dict,  \\\n",
    "                 transform=None):\n",
    "        super(PYTORCH_DATASET, self).__init__()\n",
    "        self.path = path\n",
    "        self.imgs = imgs\n",
    "\n",
    "        self.transform = transform\n",
    "        self.img2weight = img2weight\n",
    "        self.img2data = img2data\n",
    "\n",
    "    def __len__(self):\n",
    "        return len(self.path)\n",
    "\n",
    "    def __getitem__(self, idx):\n",
    "        before_img = self.imgs[idx]\n",
    "        img_path = self.path[idx]\n",
    "        img_path = img_path.split(\"\\\\\")[-1].split(\".\")[0]\n",
    "        df_index = self.img2data[img_path]\n",
    "        df_label = self.img2weight[img_path]\n",
    "\n",
    "        after_img = self.transform(image=before_img)[\"image\"]\n",
    "\n",
    "        return {\"사진\": after_img, \"정보\": df_index, \"상표\": df_label}\n",
    "\n",
    "\n",
    "class PYTORCH_PREDICTSET(nn.Module):\n",
    "    def __init__(self, path: list,  imgs: np.array, img2data: dict, \\\n",
    "                 transform=None):\n",
    "        super(PYTORCH_PREDICTSET, self).__init__()\n",
    "        self.path = path\n",
    "        self.imgs = imgs\n",
    "\n",
    "        self.transform = transform\n",
    "        self.img2data = img2data\n",
    "\n",
    "    def __len__(self):\n",
    "        return len(self.path)\n",
    "\n",
    "    def __getitem__(self, idx):\n",
    "        before_img = self.imgs[idx]\n",
    "        img_path = self.path[idx]\n",
    "        img_path = img_path.split(\"\\\\\")[-1].split(\".\")[0]\n",
    "        df_index = self.img2data[img_path]\n",
    "        after_img = self.transform(image=before_img)[\"image\"]\n",
    "        return {\"사진\": after_img, \"정보\": df_index}\n",
    "\n",
    "class PYTORCH_AUGMENTSET(nn.Module):\n",
    "    def __init__(self, aug_imgs: np.array, transform_ori = None, transform_aug=None):\n",
    "        super(PYTORCH_AUGMENTSET, self).__init__()\n",
    "        self.aug_imgs = aug_imgs\n",
    "        self.transform_ori = transform_ori\n",
    "        self.transform_aug = transform_aug\n",
    "\n",
    "    def __len__(self):\n",
    "        return len(self.aug_imgs)\n",
    "\n",
    "    def __getitem__(self, idx):\n",
    "        before_img = self.aug_imgs[idx]\n",
    "        after_img = self.transform_aug(image=before_img)[\"image\"]\n",
    "        before_img = self.transform_ori(image=before_img)[\"image\"]\n",
    "        temp_data = torch.FloatTensor(torch.zeros([49,19]))\n",
    "\n",
    "        return {\"원본\": before_img, \"확장\": after_img, \"정보\": temp_data}"
   ]
  },
  {
   "cell_type": "code",
   "execution_count": 59,
   "id": "f5bb9487",
   "metadata": {},
   "outputs": [],
   "source": [
    "if model_type ==  \"efficientnet_B0\":\n",
    "    train_image_size = 224\n",
    "    test_image_size = 224\n",
    "if model_type == \"efficientnetv2_rw_m\":\n",
    "    train_image_size = 320\n",
    "    test_image_size = 416\n",
    "    \n",
    "train_mode= albu.Compose([\n",
    "    albu.Resize(train_image_size, train_image_size),\n",
    "    albu.RandomResizedCrop(height=train_image_size, width=train_image_size,\n",
    "                           scale=(0.25, 1.0), ratio=(0.75, 1.3333333333333333),\n",
    "                           interpolation=1, p=0.9),\n",
    "    albu.ShiftScaleRotate(shift_limit=0.05, scale_limit=0.1,\n",
    "                          rotate_limit=30, interpolation=1, border_mode=0, value=0, p=0.25),\n",
    "    albu.HorizontalFlip(p=0.5),\n",
    "    albu.VerticalFlip(p=0.5),\n",
    "    albu.OneOf([\n",
    "        albu.MotionBlur(p=.2),\n",
    "        albu.MedianBlur(blur_limit=3, p=0.1),\n",
    "        albu.Blur(blur_limit=3, p=0.1),\n",
    "    ], p=0.25),\n",
    "    albu.OneOf([\n",
    "        albu.CLAHE(clip_limit=2),\n",
    "        albu.Sharpen(),\n",
    "        albu.Emboss(),\n",
    "        albu.RandomBrightnessContrast(),\n",
    "    ], p=0.25),\n",
    "    albu.CoarseDropout(max_holes=8, max_height=8, max_width=8, fill_value=0, p=0.25),\n",
    "    albu.Normalize(mean=IMAGENET_DEFAULT_MEAN, std=IMAGENET_DEFAULT_STD),\n",
    "    ToTensorV2(),\n",
    "])\n",
    "\n",
    "test_mode = albu.Compose([\n",
    "    albu.Resize(test_image_size, test_image_size),\n",
    "    albu.Normalize(mean=IMAGENET_DEFAULT_MEAN, std=IMAGENET_DEFAULT_STD),\n",
    "    ToTensorV2(),\n",
    "])\n",
    "\n",
    "import torch\n",
    "import numpy as np\n",
    "from torch import nn\n",
    "from einops.layers.torch import Rearrange\n",
    "\n",
    "\n",
    "class FeedForward(nn.Module):\n",
    "    def __init__(self, dim, hidden_dim, dropout=0.):\n",
    "        super().__init__()\n",
    "        self.net = nn.Sequential(\n",
    "            nn.Linear(dim, hidden_dim),\n",
    "            nn.GELU(),\n",
    "            nn.Dropout(dropout),\n",
    "            nn.Linear(hidden_dim, dim),\n",
    "            nn.Dropout(dropout)\n",
    "        )\n",
    "\n",
    "    def forward(self, x):\n",
    "        return self.net(x)\n",
    "\n",
    "\n",
    "class MixerBlock(nn.Module):\n",
    "\n",
    "    def __init__(self, dim, num_sequence, token_dim, channel_dim, dropout=0.):\n",
    "        super().__init__()\n",
    "\n",
    "        self.token_mix = nn.Sequential(\n",
    "            nn.LayerNorm(dim),\n",
    "            Rearrange('b n d -> b d n'),\n",
    "            FeedForward(num_sequence, token_dim, dropout),\n",
    "            Rearrange('b d n -> b n d')\n",
    "        )\n",
    "\n",
    "        self.channel_mix = nn.Sequential(\n",
    "            nn.LayerNorm(dim),\n",
    "            FeedForward(dim, channel_dim, dropout),\n",
    "        )\n",
    "\n",
    "    def forward(self, x):\n",
    "        x = x + self.token_mix(x)\n",
    "\n",
    "        x = x + self.channel_mix(x)\n",
    "\n",
    "        return x\n",
    "\n",
    "class MLPMixer(nn.Module):\n",
    "\n",
    "    def __init__(self):\n",
    "        super().__init__()\n",
    "\n",
    "        self.dim = 19\n",
    "        self.num_sequence = 49\n",
    "        self.token_dim = 64\n",
    "        self.channel_dim = 128\n",
    "        self.mixer_blocks = nn.ModuleList([])\n",
    "        self.depth = 1\n",
    "        for _ in range(self.depth):\n",
    "            self.mixer_blocks.append(MixerBlock(self.dim, self.num_sequence, self.token_dim, self.channel_dim))\n",
    "        self.layer_norm = nn.LayerNorm(self.dim)\n",
    "\n",
    "    def forward(self, x):\n",
    "        for mixer_block in self.mixer_blocks:\n",
    "            x = mixer_block(x)\n",
    "\n",
    "        x = self.layer_norm(x)\n",
    "\n",
    "        x = x.mean(dim=1)\n",
    "\n",
    "        return x\n",
    "    \n",
    "class EFFB0_MIXER(nn.Module):\n",
    "    def __init__(self):\n",
    "        super(EFFB0_MIXER, self).__init__()\n",
    "        self.model = timm.create_model(\"efficientnet_b0\", pretrained=True, \\\n",
    "                                       num_classes=1)\n",
    "        self.meta = MLPMixer()\n",
    "        self.avg = nn.AdaptiveAvgPool2d((1, 1))\n",
    "        self.linear = nn.Linear(1299, 256)\n",
    "        self.output = nn.Linear(256, 1)\n",
    "        self.relu = nn.ReLU()\n",
    "        self.dropout = nn.Dropout(0.9)\n",
    "        self.dropout1 = nn.Dropout(0.65)\n",
    "        self.dropout2 = nn.Dropout(0.3)\n",
    "        self.dropout3 = nn.Dropout(0)\n",
    "\n",
    "    def forward(self,  x, x2, training):\n",
    "        x = self.model.forward_features(x)\n",
    "        x = self.avg(x)\n",
    "        x = x.flatten()\n",
    "        x = x.view(-1,  1280)\n",
    "        x = self.dropout(x)\n",
    "        x2 = self.meta(x2)\n",
    "        if training:\n",
    "            c = random.choice([0, 0, 0, 1, 2, 3])\n",
    "            if c == 0:\n",
    "                pass\n",
    "            elif c == 1:\n",
    "                x2 = self.dropout1(x2)\n",
    "            elif c == 2:\n",
    "                x2 = self.dropout2(x2)\n",
    "            elif c == 3:\n",
    "                x2 = self.dropout3(x2)\n",
    "        x = torch.cat([x, x2], dim=-1)\n",
    "        x = self.linear(x)\n",
    "        x = self.relu(x)\n",
    "        x = self.output(x)\n",
    "        return x\n",
    "    \n",
    "class EFFV2M_MIXER(nn.Module):\n",
    "    def __init__(self):\n",
    "        super(EFFV2M_MIXER, self).__init__()\n",
    "        self.model = timm.create_model(\"efficientnetv2_rw_m\", pretrained=True, \\\n",
    "                                       num_classes=1)\n",
    "        self.meta = MLPMixer()\n",
    "        self.avg = nn.AdaptiveAvgPool2d((1, 1))\n",
    "        self.linear = nn.Linear(2171, 128)\n",
    "        self.output = nn.Linear(128, 1)\n",
    "        self.relu = nn.ReLU()\n",
    "        self.dropout = nn.Dropout(0.9)\n",
    "        self.dropout1 = nn.Dropout(0.65)\n",
    "        self.dropout2 = nn.Dropout(0.3)\n",
    "        self.dropout3 = nn.Dropout(0)\n",
    "\n",
    "    def forward(self,  x, x2, training):\n",
    "        x = self.model.forward_features(x)\n",
    "        x = self.avg(x)\n",
    "        x = x.flatten()\n",
    "        x = x.view(-1,  2152)\n",
    "        x = self.dropout(x)\n",
    "        x2 = self.meta(x2)\n",
    "        if training:\n",
    "            c = random.choice([0, 0, 0, 1, 2, 3])\n",
    "            if c == 0:\n",
    "                pass\n",
    "            elif c == 1:\n",
    "                x2 = self.dropout1(x2)\n",
    "            elif c == 2:\n",
    "                x2 = self.dropout2(x2)\n",
    "            elif c == 3:\n",
    "                x2 = self.dropout3(x2)\n",
    "        x = torch.cat([x, x2], dim=-1)\n",
    "        x = self.linear(x)\n",
    "        x = self.relu(x)\n",
    "        x = self.output(x)\n",
    "        return x\n",
    "    \n"
   ]
  },
  {
   "cell_type": "code",
   "execution_count": 38,
   "id": "4f6d70dd",
   "metadata": {},
   "outputs": [],
   "source": [
    "from pytorch_lightning.trainer.supporters import CombinedLoader\n",
    "\n",
    "class LIGHTNING_MODEL(pl.LightningModule):\n",
    "    def __init__(self, model, train_datasest, augment_dataset, predict_dataset, \\\n",
    "                train_batch, augment_batch, predict_batch):\n",
    "        super(LIGHTNING_MODEL, self).__init__()\n",
    "        self.model = model()\n",
    "        self.train_nmae = NMAE()\n",
    "        self.valid_nmae = NMAE()\n",
    "        self.augment_dataset= augment_dataset\n",
    "        self.train_dataset = train_dataset\n",
    "        self.predict_dataset = predict_dataset\n",
    "        self.train_batch = train_batch\n",
    "        self.augment_batch = augment_batch\n",
    "        self.predict_batch = predict_batch\n",
    "        \n",
    "    def forward(self, x):\n",
    "        output = self.model(x)\n",
    "        return output\n",
    "    \n",
    "    def train_dataloader(self):\n",
    "        loaders = {\"a\": DataLoader(self.train_dataset, shuffle=True, batch_size=self.train_batch, num_workers=0), \\\n",
    "                   \"b\": DataLoader(self.augment_dataset, shuffle=True, batch_size=self.augment_batch, num_workers=0)}\n",
    "        combined_loaders = CombinedLoader(loaders, mode=\"max_size_cycle\")\n",
    "        return combined_loaders\n",
    "\n",
    "    def predict_dataloader(self):\n",
    "        return DataLoader(self.predict_dataset, shuffle=False, batch_size=self.predict_batch, num_workers=0)\n",
    "    \n",
    "    def configure_optimizers(self):\n",
    "        optimizer = torch.optim.Adam(self.model.parameters(), lr=1e-3)\n",
    "        return optimizer\n",
    "\n",
    "    def training_step(self, train_batch, batch_idx):\n",
    "        ori_batch = train_batch[\"a\"]\n",
    "        aug_batch = train_batch[\"b\"]\n",
    "        img = ori_batch[\"사진\"]\n",
    "        data = ori_batch[\"정보\"]\n",
    "        label = ori_batch[\"상표\"]\n",
    "        \n",
    "        ori = aug_batch[\"원본\"]\n",
    "        ext = aug_batch[\"확장\"]\n",
    "        temp_data = aug_batch[\"정보\"]\n",
    "\n",
    "        pred = self.model(img, data, training=True)\n",
    "        pred = pred.view(-1)\n",
    "        label = label.view(-1)\n",
    "        \n",
    "        train_loss = nn.L1Loss()(pred, label)\n",
    "        self.log(\"train_loss\", train_loss)\n",
    "        \n",
    "        train_nmae = self.train_nmae(pred, label)\n",
    "        self.log('train_NMAE', train_nmae)\n",
    "        \n",
    "        with torch.no_grad():\n",
    "            ori_out = self.model(ori, temp_data, training=False)\n",
    "            ext_out = self.model(ext, temp_data, training=False)\n",
    "        con_loss = nn.L1Loss()(ori_out, ext_out)\n",
    "        con_loss = 0.25 * con_loss \n",
    "        self.log('con_loss', con_loss)\n",
    "        loss = train_loss + con_loss\n",
    "        self.log('loss', loss)\n",
    "        return train_loss\n",
    "\n",
    "    def training_epoch_end(self, outputs):\n",
    "        train_nmae = self.train_nmae.compute()\n",
    "        self.log(\"epoch_train_nmae\", train_nmae)\n",
    "        self.train_nmae.reset()\n",
    "        print(f\"training nmae: {train_nmae:.4}, epoch: {self.trainer.current_epoch}\")\n",
    "\n",
    "\n",
    "    def predict_step(self, batch, batch_idx, dataloader_idx=0):\n",
    "        img = batch[\"사진\"]\n",
    "        data = batch[\"정보\"]\n",
    "        pred = self.model(img, data, training=False).unsqueeze(0)\n",
    "        return pred"
   ]
  },
  {
   "cell_type": "code",
   "execution_count": 60,
   "id": "3f781a98",
   "metadata": {},
   "outputs": [],
   "source": [
    "train_dataset = PYTORCH_DATASET(path=train_path, img2weight=img2weight, \\\n",
    "                                imgs=train_imgs, img2data=img2data, \\\n",
    "                                transform=train_mode)\n",
    "\n",
    "augment_dataset = PYTORCH_AUGMENTSET(aug_imgs=augment_imgs, transform_ori=test_mode, transform_aug=train_mode)\n",
    "\n",
    "test_dataset = PYTORCH_PREDICTSET(path=test_path, imgs=test_imgs, img2data=img2test, \\\n",
    "                                    transform=test_mode)"
   ]
  },
  {
   "cell_type": "code",
   "execution_count": 13,
   "id": "cbf36258",
   "metadata": {},
   "outputs": [
    {
     "name": "stdout",
     "output_type": "stream",
     "text": [
      "1362\n",
      "524\n",
      "460\n",
      "3\n"
     ]
    }
   ],
   "source": [
    "#check\n",
    "print(len(train_path))\n",
    "print(len(augment_imgs))\n",
    "print(len(test_path))\n",
    "print(len(train_path)//len(augment_imgs)+1)"
   ]
  },
  {
   "cell_type": "code",
   "execution_count": 45,
   "id": "6959589e",
   "metadata": {},
   "outputs": [],
   "source": [
    "if model_type == \"efficientnet_B0\":\n",
    "    model = LIGHTNING_MODEL(EFFB0_MIXER, train_dataset, augment_dataset, test_dataset, \\\n",
    "                           32, 10, 32)\n",
    "    check_path =  f\"D:/DACON_GROWTH/EFFB0_MiXER\"\n",
    "    if not os.path.exists(check_path):\n",
    "        os.makedirs(check_path)\n",
    "        \n",
    "if model_type == \"efficientnetv2_rw_m\":\n",
    "    model = LIGHTNING_MODEL(EFFV2M_MIXER, train_dataset, augment_dataset, test_dataset, \\\n",
    "                           16, 5, 16)\n",
    "    check_path =  f\"D:/DACON_GROWTH/EFFV2M_MIXER\"\n",
    "    if not os.path.exists(check_path):\n",
    "        os.makedirs(check_path) "
   ]
  },
  {
   "cell_type": "code",
   "execution_count": 46,
   "id": "3ce572ce",
   "metadata": {},
   "outputs": [
    {
     "name": "stderr",
     "output_type": "stream",
     "text": [
      "Using 16bit native Automatic Mixed Precision (AMP)\n",
      "GPU available: True, used: True\n",
      "TPU available: False, using: 0 TPU cores\n",
      "IPU available: False, using: 0 IPUs\n",
      "HPU available: False, using: 0 HPUs\n",
      "LOCAL_RANK: 0 - CUDA_VISIBLE_DEVICES: [0]\n",
      "\n",
      "  | Name            | Type               | Params\n",
      "-------------------------------------------------------\n",
      "0 | model           | EFFV2M_MIXER       | 51.4 M\n",
      "1 | train_nmae      | NMAE               | 0     \n",
      "2 | valid_nmae      | NMAE               | 0     \n",
      "3 | augment_dataset | PYTORCH_AUGMENTSET | 0     \n",
      "4 | train_dataset   | PYTORCH_DATASET    | 0     \n",
      "5 | predict_dataset | PYTORCH_PREDICTSET | 0     \n",
      "-------------------------------------------------------\n",
      "51.4 M    Trainable params\n",
      "0         Non-trainable params\n",
      "51.4 M    Total params\n",
      "102.751   Total estimated model params size (MB)\n"
     ]
    },
    {
     "data": {
      "application/vnd.jupyter.widget-view+json": {
       "model_id": "bfb0d82b9a89469b962bfb4479701cc3",
       "version_major": 2,
       "version_minor": 0
      },
      "text/plain": [
       "Training: 0it [00:00, ?it/s]"
      ]
     },
     "metadata": {},
     "output_type": "display_data"
    },
    {
     "name": "stdout",
     "output_type": "stream",
     "text": [
      "training nmae: 0.5622, epoch: 0\n",
      "training nmae: 0.3254, epoch: 1\n",
      "training nmae: 0.2475, epoch: 2\n",
      "training nmae: 0.2235, epoch: 3\n",
      "training nmae: 0.2091, epoch: 4\n",
      "training nmae: 0.1817, epoch: 5\n",
      "training nmae: 0.2046, epoch: 6\n",
      "training nmae: 0.2067, epoch: 7\n",
      "training nmae: 0.1724, epoch: 8\n",
      "training nmae: 0.1779, epoch: 9\n",
      "training nmae: 0.1633, epoch: 10\n",
      "training nmae: 0.1574, epoch: 11\n",
      "training nmae: 0.1615, epoch: 12\n",
      "training nmae: 0.1606, epoch: 13\n",
      "training nmae: 0.1545, epoch: 14\n",
      "training nmae: 0.1408, epoch: 15\n",
      "training nmae: 0.1446, epoch: 16\n",
      "training nmae: 0.1447, epoch: 17\n",
      "training nmae: 0.1473, epoch: 18\n",
      "training nmae: 0.1496, epoch: 19\n",
      "training nmae: 0.1546, epoch: 20\n",
      "training nmae: 0.1666, epoch: 21\n",
      "training nmae: 0.1475, epoch: 22\n",
      "training nmae: 0.1403, epoch: 23\n",
      "training nmae: 0.1363, epoch: 24\n",
      "training nmae: 0.1414, epoch: 25\n",
      "training nmae: 0.1328, epoch: 26\n",
      "training nmae: 0.1346, epoch: 27\n",
      "training nmae: 0.1354, epoch: 28\n",
      "training nmae: 0.1309, epoch: 29\n",
      "training nmae: 0.1473, epoch: 30\n",
      "training nmae: 0.155, epoch: 31\n",
      "training nmae: 0.1467, epoch: 32\n",
      "training nmae: 0.1486, epoch: 33\n",
      "training nmae: 0.1369, epoch: 34\n",
      "training nmae: 0.1367, epoch: 35\n",
      "training nmae: 0.1329, epoch: 36\n",
      "training nmae: 0.1303, epoch: 37\n",
      "training nmae: 0.1288, epoch: 38\n",
      "training nmae: 0.1241, epoch: 39\n",
      "training nmae: 0.1406, epoch: 40\n",
      "training nmae: 0.1225, epoch: 41\n",
      "training nmae: 0.1398, epoch: 42\n",
      "training nmae: 0.1258, epoch: 43\n",
      "training nmae: 0.1303, epoch: 44\n",
      "training nmae: 0.1246, epoch: 45\n",
      "training nmae: 0.1369, epoch: 46\n",
      "training nmae: 0.1396, epoch: 47\n",
      "training nmae: 0.1392, epoch: 48\n",
      "training nmae: 0.1353, epoch: 49\n",
      "training nmae: 0.135, epoch: 50\n",
      "training nmae: 0.1275, epoch: 51\n",
      "training nmae: 0.1356, epoch: 52\n",
      "training nmae: 0.1235, epoch: 53\n",
      "training nmae: 0.1225, epoch: 54\n",
      "training nmae: 0.1239, epoch: 55\n",
      "training nmae: 0.1339, epoch: 56\n",
      "training nmae: 0.1178, epoch: 57\n",
      "training nmae: 0.1285, epoch: 58\n",
      "training nmae: 0.1337, epoch: 59\n",
      "training nmae: 0.1219, epoch: 60\n",
      "training nmae: 0.1255, epoch: 61\n",
      "training nmae: 0.1331, epoch: 62\n",
      "training nmae: 0.1238, epoch: 63\n",
      "training nmae: 0.1274, epoch: 64\n",
      "training nmae: 0.1225, epoch: 65\n",
      "training nmae: 0.125, epoch: 66\n",
      "training nmae: 0.1194, epoch: 67\n",
      "training nmae: 0.1264, epoch: 68\n",
      "training nmae: 0.1268, epoch: 69\n"
     ]
    }
   ],
   "source": [
    "checkpoint_callback = ModelCheckpoint(dirpath=check_path, save_top_k=-1,\n",
    "                                      save_weights_only=True, every_n_epochs=True)\n",
    "trainer = pl.Trainer(\n",
    "                devices=[0],\n",
    "                accelerator='gpu',\n",
    "                max_epochs=70,\n",
    "                callbacks=[checkpoint_callback],\n",
    "                precision=16\n",
    "            )\n",
    "\n",
    "trainer.fit(model)"
   ]
  },
  {
   "cell_type": "markdown",
   "id": "9c08040f",
   "metadata": {},
   "source": [
    "efficientV2-M\n",
    "epoch 55 이하 training nmae - 0.12때\n",
    "->55, 54, 53, 51\n",
    "\n",
    "efficientB0\n",
    "epoch 45 이하 큰 폭 변화 비선호\n",
    "->40, 41, 42\n"
   ]
  },
  {
   "cell_type": "markdown",
   "id": "fe627333",
   "metadata": {},
   "source": [
    "- efficient B\n",
    "training nmae: 0.5622, epoch: 0\n",
    "training nmae: 0.3254, epoch: 1\n",
    "training nmae: 0.2475, epoch: 2\n",
    "training nmae: 0.2235, epoch: 3\n",
    "training nmae: 0.2091, epoch: 4\n",
    "training nmae: 0.1817, epoch: 5\n",
    "training nmae: 0.2046, epoch: 6\n",
    "training nmae: 0.2067, epoch: 7\n",
    "training nmae: 0.1724, epoch: 8\n",
    "training nmae: 0.1779, epoch: 9\n",
    "training nmae: 0.1633, epoch: 10\n",
    "training nmae: 0.1574, epoch: 11\n",
    "training nmae: 0.1615, epoch: 12\n",
    "training nmae: 0.1606, epoch: 13\n",
    "training nmae: 0.1545, epoch: 14\n",
    "training nmae: 0.1408, epoch: 15\n",
    "training nmae: 0.1446, epoch: 16\n",
    "training nmae: 0.1447, epoch: 17\n",
    "training nmae: 0.1473, epoch: 18\n",
    "training nmae: 0.1496, epoch: 19\n",
    "training nmae: 0.1546, epoch: 20\n",
    "training nmae: 0.1666, epoch: 21\n",
    "training nmae: 0.1475, epoch: 22\n",
    "training nmae: 0.1403, epoch: 23\n",
    "training nmae: 0.1363, epoch: 24\n",
    "training nmae: 0.1414, epoch: 25\n",
    "training nmae: 0.1328, epoch: 26\n",
    "training nmae: 0.1346, epoch: 27\n",
    "training nmae: 0.1354, epoch: 28\n",
    "training nmae: 0.1309, epoch: 29\n",
    "training nmae: 0.1473, epoch: 30\n",
    "training nmae: 0.155, epoch: 31\n",
    "training nmae: 0.1467, epoch: 32\n",
    "training nmae: 0.1486, epoch: 33\n",
    "training nmae: 0.1369, epoch: 34\n",
    "training nmae: 0.1367, epoch: 35\n",
    "training nmae: 0.1329, epoch: 36\n",
    "training nmae: 0.1303, epoch: 37\n",
    "training nmae: 0.1288, epoch: 38\n",
    "training nmae: 0.1241, epoch: 39\n",
    "training nmae: 0.1406, epoch: 40\n",
    "training nmae: 0.1225, epoch: 41\n",
    "training nmae: 0.1398, epoch: 42\n",
    "training nmae: 0.1258, epoch: 43\n",
    "training nmae: 0.1303, epoch: 44\n",
    "training nmae: 0.1246, epoch: 45\n",
    "training nmae: 0.1369, epoch: 46\n",
    "training nmae: 0.1396, epoch: 47\n",
    "training nmae: 0.1392, epoch: 48\n",
    "training nmae: 0.1353, epoch: 49\n",
    "training nmae: 0.135, epoch: 50\n",
    "training nmae: 0.1275, epoch: 51\n",
    "training nmae: 0.1356, epoch: 52\n",
    "training nmae: 0.1235, epoch: 53\n",
    "training nmae: 0.1225, epoch: 54\n",
    "training nmae: 0.1239, epoch: 55\n",
    "training nmae: 0.1339, epoch: 56\n",
    "training nmae: 0.1178, epoch: 57\n",
    "training nmae: 0.1285, epoch: 58\n",
    "training nmae: 0.1337, epoch: 59\n",
    "training nmae: 0.1219, epoch: 60\n",
    "training nmae: 0.1255, epoch: 61\n",
    "training nmae: 0.1331, epoch: 62\n",
    "training nmae: 0.1238, epoch: 63\n",
    "training nmae: 0.1274, epoch: 64\n",
    "training nmae: 0.1225, epoch: 65\n",
    "training nmae: 0.125, epoch: 66\n",
    "training nmae: 0.1194, epoch: 67\n",
    "training nmae: 0.1264, epoch: 68\n",
    "training nmae: 0.1268, epoch: 69"
   ]
  },
  {
   "cell_type": "markdown",
   "id": "92371969",
   "metadata": {},
   "source": [
    "-efficient b0-\n",
    "training nmae: 0.6037, epoch: 0\n",
    "training nmae: 0.3026, epoch: 1\n",
    "training nmae: 0.2329, epoch: 2\n",
    "training nmae: 0.2202, epoch: 3\n",
    "training nmae: 0.2053, epoch: 4\n",
    "training nmae: 0.2027, epoch: 5\n",
    "training nmae: 0.1802, epoch: 6\n",
    "training nmae: 0.1632, epoch: 7\n",
    "training nmae: 0.1788, epoch: 8\n",
    "training nmae: 0.1764, epoch: 9\n",
    "training nmae: 0.1545, epoch: 10\n",
    "training nmae: 0.1609, epoch: 11\n",
    "training nmae: 0.1498, epoch: 12\n",
    "training nmae: 0.1456, epoch: 13\n",
    "training nmae: 0.1507, epoch: 14\n",
    "training nmae: 0.1501, epoch: 15\n",
    "training nmae: 0.1702, epoch: 16\n",
    "training nmae: 0.1538, epoch: 17\n",
    "training nmae: 0.1571, epoch: 18\n",
    "training nmae: 0.1445, epoch: 19\n",
    "training nmae: 0.1488, epoch: 20\n",
    "training nmae: 0.1311, epoch: 21\n",
    "training nmae: 0.1381, epoch: 22\n",
    "training nmae: 0.149, epoch: 23\n",
    "training nmae: 0.1401, epoch: 24\n",
    "training nmae: 0.1406, epoch: 25\n",
    "training nmae: 0.1329, epoch: 26\n",
    "training nmae: 0.1294, epoch: 27\n",
    "training nmae: 0.1384, epoch: 28\n",
    "training nmae: 0.1282, epoch: 29\n",
    "training nmae: 0.1491, epoch: 30\n",
    "training nmae: 0.1395, epoch: 31\n",
    "training nmae: 0.1264, epoch: 32\n",
    "training nmae: 0.1334, epoch: 33\n",
    "training nmae: 0.142, epoch: 34\n",
    "training nmae: 0.1253, epoch: 35\n",
    "training nmae: 0.1316, epoch: 36\n",
    "training nmae: 0.1225, epoch: 37\n",
    "training nmae: 0.1305, epoch: 38\n",
    "training nmae: 0.1302, epoch: 39\n",
    "training nmae: 0.1232, epoch: 40\n",
    "training nmae: 0.125, epoch: 41\n",
    "training nmae: 0.1287, epoch: 42\n",
    "training nmae: 0.135, epoch: 43\n",
    "training nmae: 0.1389, epoch: 44\n",
    "training nmae: 0.122, epoch: 45\n",
    "training nmae: 0.1235, epoch: 46\n",
    "training nmae: 0.1197, epoch: 47\n",
    "training nmae: 0.1215, epoch: 48\n",
    "training nmae: 0.1229, epoch: 49\n",
    "training nmae: 0.1324, epoch: 50\n",
    "training nmae: 0.1241, epoch: 51\n",
    "training nmae: 0.1292, epoch: 52\n",
    "training nmae: 0.1213, epoch: 53\n",
    "training nmae: 0.1251, epoch: 54\n",
    "training nmae: 0.1224, epoch: 55\n",
    "training nmae: 0.1147, epoch: 56\n",
    "training nmae: 0.1283, epoch: 57\n",
    "training nmae: 0.1217, epoch: 58\n",
    "training nmae: 0.111, epoch: 59\n",
    "training nmae: 0.1266, epoch: 60\n",
    "training nmae: 0.1246, epoch: 61\n",
    "training nmae: 0.1159, epoch: 62\n",
    "training nmae: 0.1156, epoch: 63\n",
    "training nmae: 0.1161, epoch: 64\n",
    "training nmae: 0.1113, epoch: 65\n",
    "training nmae: 0.1223, epoch: 66\n",
    "training nmae: 0.1238, epoch: 67\n",
    "training nmae: 0.1152, epoch: 68\n",
    "training nmae: 0.1144, epoch: 69"
   ]
  },
  {
   "cell_type": "code",
   "execution_count": 61,
   "id": "b9143e8f",
   "metadata": {},
   "outputs": [
    {
     "name": "stderr",
     "output_type": "stream",
     "text": [
      "LOCAL_RANK: 0 - CUDA_VISIBLE_DEVICES: [0]\n"
     ]
    },
    {
     "data": {
      "application/vnd.jupyter.widget-view+json": {
       "model_id": "3d1b0845c8db4bfaa733d0c10a752e53",
       "version_major": 2,
       "version_minor": 0
      },
      "text/plain": [
       "Predicting: 105it [00:00, ?it/s]"
      ]
     },
     "metadata": {},
     "output_type": "display_data"
    },
    {
     "name": "stderr",
     "output_type": "stream",
     "text": [
      "LOCAL_RANK: 0 - CUDA_VISIBLE_DEVICES: [0]\n"
     ]
    },
    {
     "data": {
      "application/vnd.jupyter.widget-view+json": {
       "model_id": "32144bdb65764dae8cba532fceb03cc3",
       "version_major": 2,
       "version_minor": 0
      },
      "text/plain": [
       "Predicting: 105it [00:00, ?it/s]"
      ]
     },
     "metadata": {},
     "output_type": "display_data"
    },
    {
     "name": "stderr",
     "output_type": "stream",
     "text": [
      "LOCAL_RANK: 0 - CUDA_VISIBLE_DEVICES: [0]\n"
     ]
    },
    {
     "data": {
      "application/vnd.jupyter.widget-view+json": {
       "model_id": "dbe8c05072d94f46a3c6e84230f93065",
       "version_major": 2,
       "version_minor": 0
      },
      "text/plain": [
       "Predicting: 105it [00:00, ?it/s]"
      ]
     },
     "metadata": {},
     "output_type": "display_data"
    },
    {
     "name": "stderr",
     "output_type": "stream",
     "text": [
      "LOCAL_RANK: 0 - CUDA_VISIBLE_DEVICES: [0]\n"
     ]
    },
    {
     "data": {
      "application/vnd.jupyter.widget-view+json": {
       "model_id": "e987aa1a3f454e10b6f0d1508e9a065c",
       "version_major": 2,
       "version_minor": 0
      },
      "text/plain": [
       "Predicting: 105it [00:00, ?it/s]"
      ]
     },
     "metadata": {},
     "output_type": "display_data"
    }
   ],
   "source": [
    "ensemble1 = 0.\n",
    "\n",
    "ensemble_path = [\n",
    "f\"D:/DACON_GROWTH/EFFV2M_MIXER/epoch=51-step=5460.ckpt\",\n",
    "f\"D:/DACON_GROWTH/EFFV2M_MIXER/epoch=53-step=5670.ckpt\",\n",
    "f\"D:/DACON_GROWTH/EFFV2M_MIXER/epoch=54-step=5775.ckpt\",\n",
    "f\"D:/DACON_GROWTH/EFFV2M_MIXER/epoch=55-step=5880.ckpt\",\n",
    "]\n",
    "\n",
    "for check in ensemble_path :\n",
    "    model = LIGHTNING_MODEL.load_from_checkpoint(checkpoint_path=check, \\\n",
    "                model= EFFV2M_MIXER, train_datasest = None, val_dataset = None, \\\n",
    "                    augment_dataset= None, predict_dataset = test_dataset,\\\n",
    "                train_batch=16, augment_batch=5, predict_batch=16)\n",
    "    prediction = trainer.predict(model)\n",
    "    sub_list = []\n",
    "    for p in prediction:\n",
    "        p = p.view(-1)\n",
    "        for sample in p:\n",
    "            sample = sample.cpu().numpy()\n",
    "            sub_list.append(sample)\n",
    "    sub = np.array(sub_list)\n",
    "    ensemble1 += sub/4"
   ]
  },
  {
   "cell_type": "code",
   "execution_count": 55,
   "id": "3d616d77",
   "metadata": {},
   "outputs": [
    {
     "name": "stderr",
     "output_type": "stream",
     "text": [
      "LOCAL_RANK: 0 - CUDA_VISIBLE_DEVICES: [0]\n"
     ]
    },
    {
     "data": {
      "application/vnd.jupyter.widget-view+json": {
       "model_id": "fdc5630807314df9b05ad2d98056859e",
       "version_major": 2,
       "version_minor": 0
      },
      "text/plain": [
       "Predicting: 105it [00:00, ?it/s]"
      ]
     },
     "metadata": {},
     "output_type": "display_data"
    },
    {
     "name": "stderr",
     "output_type": "stream",
     "text": [
      "LOCAL_RANK: 0 - CUDA_VISIBLE_DEVICES: [0]\n"
     ]
    },
    {
     "data": {
      "application/vnd.jupyter.widget-view+json": {
       "model_id": "e27c4ea40b7544e88dfef7f60f442857",
       "version_major": 2,
       "version_minor": 0
      },
      "text/plain": [
       "Predicting: 105it [00:00, ?it/s]"
      ]
     },
     "metadata": {},
     "output_type": "display_data"
    },
    {
     "name": "stderr",
     "output_type": "stream",
     "text": [
      "LOCAL_RANK: 0 - CUDA_VISIBLE_DEVICES: [0]\n"
     ]
    },
    {
     "data": {
      "application/vnd.jupyter.widget-view+json": {
       "model_id": "b140f941439347aea18fff5cfb11e89e",
       "version_major": 2,
       "version_minor": 0
      },
      "text/plain": [
       "Predicting: 105it [00:00, ?it/s]"
      ]
     },
     "metadata": {},
     "output_type": "display_data"
    }
   ],
   "source": [
    "ensemble2 = 0.\n",
    "\n",
    "ensemble_path = [\n",
    "f\"D:/DACON_GROWTH/EFFB0_MIXER/epoch=40-step=2173.ckpt\",\n",
    "f\"D:/DACON_GROWTH/EFFB0_MIXER/epoch=41-step=2226.ckpt\",\n",
    "f\"D:/DACON_GROWTH/EFFB0_MIXER/epoch=42-step=2279.ckpt\",\n",
    "]\n",
    "\n",
    "for check in ensemble_path :\n",
    "    model = LIGHTNING_MODEL.load_from_checkpoint(checkpoint_path=check, \\\n",
    "                model= EFFB0_MIXER, train_datasest = None, val_dataset = None, \\\n",
    "                    augment_dataset= None, predict_dataset = test_dataset,\\\n",
    "                train_batch=16, augment_batch=5, predict_batch=16)\n",
    "    prediction = trainer.predict(model)\n",
    "    sub_list = []\n",
    "    for p in prediction:\n",
    "        p = p.view(-1)\n",
    "        for sample in p:\n",
    "            sample = sample.cpu().numpy()\n",
    "            sub_list.append(sample)\n",
    "    sub = np.array(sub_list)\n",
    "    ensemble2 += sub/3"
   ]
  },
  {
   "cell_type": "code",
   "execution_count": 74,
   "id": "1b8c404f",
   "metadata": {},
   "outputs": [
    {
     "data": {
      "text/plain": [
       "0.07446"
      ]
     },
     "execution_count": 74,
     "metadata": {},
     "output_type": "execute_result"
    }
   ],
   "source": [
    "np_nmae(ensemble1, ensemble2)"
   ]
  },
  {
   "cell_type": "code",
   "execution_count": 82,
   "id": "cd50e06b",
   "metadata": {},
   "outputs": [
    {
     "name": "stdout",
     "output_type": "stream",
     "text": [
      "0.17646198647460054\n",
      "0.1591640053475045\n"
     ]
    }
   ],
   "source": [
    "b_neg = pd.read_csv(r\"D:/DACON_GROWTH/prediction_collection/eff0_baseline_check_data_driven_negative2.csv\")\n",
    "b_= pd.read_csv(r\"D:/DACON_GROWTH/prediction_collection/eff0_baseline.csv\")\n",
    "print(np_nmae(b_neg[\"leaf_weight\"], ensemble2*0.97))\n",
    "print(np_nmae(b_[\"leaf_weight\"], ensemble2*0.97))"
   ]
  },
  {
   "cell_type": "code",
   "execution_count": 86,
   "id": "621a7e2a",
   "metadata": {},
   "outputs": [],
   "source": [
    "sample_submission = pd.read_csv(\"D:/DACON_GROWTH/sample_submission.csv\")\n",
    "sample_submission[\"leaf_weight\"] = ensemble1 * 0.97\n",
    "sample_submission.to_csv(\"D:/DACON_GROWTH/prediction_collection/effV2_mixer.csv\", index=False)\n",
    "\n"
   ]
  },
  {
   "cell_type": "code",
   "execution_count": 83,
   "id": "a9985208",
   "metadata": {},
   "outputs": [],
   "source": [
    "result = ((ensemble1 + ensemble2) / 2) * 0.97"
   ]
  },
  {
   "cell_type": "code",
   "execution_count": 84,
   "id": "0e186b58",
   "metadata": {},
   "outputs": [],
   "source": [
    "sample_submission = pd.read_csv(\"D:/DACON_GROWTH/sample_submission.csv\")\n",
    "sample_submission[\"leaf_weight\"] = result\n",
    "sample_submission.to_csv(\"D:/DACON_GROWTH/prediction_collection/ensemble_eff0_effV2_mixer.csv\", index=False)\n"
   ]
  },
  {
   "cell_type": "code",
   "execution_count": 79,
   "id": "cae78846",
   "metadata": {},
   "outputs": [
    {
     "name": "stdout",
     "output_type": "stream",
     "text": [
      "0.07264489090704987\n",
      "0.07377572322383238\n",
      "0.08908733342840705\n"
     ]
    }
   ],
   "source": [
    "temp_neg = pd.read_csv(r\"D:/DACON_GROWTH/prediction_collection/effV2_rw_m_negative97.csv\")\n",
    "temp_ori = pd.read_csv(r\"D:/DACON_GROWTH/prediction_collection/effV2_rw_m_base.csv\")\n",
    "temp_en = pd.read_csv(r\"D:/DACON_GROWTH/prediction_collection/effV2_eff0_negative_ensemble.csv\")\n",
    "print(np_nmae(temp_ori[\"leaf_weight\"], ensemble1*0.96))\n",
    "print(np_nmae(temp_neg[\"leaf_weight\"], ensemble1*0.96))\n",
    "print(np_nmae(temp_en[\"leaf_weight\"], ensemble1*0.96))\n"
   ]
  },
  {
   "cell_type": "code",
   "execution_count": 54,
   "id": "4959cce2",
   "metadata": {},
   "outputs": [
    {
     "name": "stderr",
     "output_type": "stream",
     "text": [
      "LOCAL_RANK: 0 - CUDA_VISIBLE_DEVICES: [0]\n"
     ]
    },
    {
     "data": {
      "application/vnd.jupyter.widget-view+json": {
       "model_id": "e8eedaea41a542c091353f4ad3281588",
       "version_major": 2,
       "version_minor": 0
      },
      "text/plain": [
       "Predicting: 105it [00:00, ?it/s]"
      ]
     },
     "metadata": {},
     "output_type": "display_data"
    },
    {
     "name": "stderr",
     "output_type": "stream",
     "text": [
      "LOCAL_RANK: 0 - CUDA_VISIBLE_DEVICES: [0]\n"
     ]
    },
    {
     "data": {
      "application/vnd.jupyter.widget-view+json": {
       "model_id": "7468cb9b8e2340b9b41f49b9622fe7b2",
       "version_major": 2,
       "version_minor": 0
      },
      "text/plain": [
       "Predicting: 105it [00:00, ?it/s]"
      ]
     },
     "metadata": {},
     "output_type": "display_data"
    },
    {
     "name": "stderr",
     "output_type": "stream",
     "text": [
      "LOCAL_RANK: 0 - CUDA_VISIBLE_DEVICES: [0]\n"
     ]
    },
    {
     "data": {
      "application/vnd.jupyter.widget-view+json": {
       "model_id": "718915f598914c7fa5772944911503bf",
       "version_major": 2,
       "version_minor": 0
      },
      "text/plain": [
       "Predicting: 105it [00:00, ?it/s]"
      ]
     },
     "metadata": {},
     "output_type": "display_data"
    },
    {
     "name": "stderr",
     "output_type": "stream",
     "text": [
      "LOCAL_RANK: 0 - CUDA_VISIBLE_DEVICES: [0]\n"
     ]
    },
    {
     "data": {
      "application/vnd.jupyter.widget-view+json": {
       "model_id": "ab7c3e9a601b4f339e917692cde5150e",
       "version_major": 2,
       "version_minor": 0
      },
      "text/plain": [
       "Predicting: 105it [00:00, ?it/s]"
      ]
     },
     "metadata": {},
     "output_type": "display_data"
    },
    {
     "name": "stderr",
     "output_type": "stream",
     "text": [
      "LOCAL_RANK: 0 - CUDA_VISIBLE_DEVICES: [0]\n"
     ]
    },
    {
     "data": {
      "application/vnd.jupyter.widget-view+json": {
       "model_id": "b4a1928ed42543ec86c7ca646e561583",
       "version_major": 2,
       "version_minor": 0
      },
      "text/plain": [
       "Predicting: 105it [00:00, ?it/s]"
      ]
     },
     "metadata": {},
     "output_type": "display_data"
    },
    {
     "name": "stderr",
     "output_type": "stream",
     "text": [
      "LOCAL_RANK: 0 - CUDA_VISIBLE_DEVICES: [0]\n"
     ]
    },
    {
     "data": {
      "application/vnd.jupyter.widget-view+json": {
       "model_id": "ec0a9fb4549948c0af0fd5815905cb2d",
       "version_major": 2,
       "version_minor": 0
      },
      "text/plain": [
       "Predicting: 105it [00:00, ?it/s]"
      ]
     },
     "metadata": {},
     "output_type": "display_data"
    },
    {
     "name": "stderr",
     "output_type": "stream",
     "text": [
      "LOCAL_RANK: 0 - CUDA_VISIBLE_DEVICES: [0]\n"
     ]
    },
    {
     "data": {
      "application/vnd.jupyter.widget-view+json": {
       "model_id": "239e55bd964f4bee8200997b2d21b660",
       "version_major": 2,
       "version_minor": 0
      },
      "text/plain": [
       "Predicting: 105it [00:00, ?it/s]"
      ]
     },
     "metadata": {},
     "output_type": "display_data"
    },
    {
     "name": "stderr",
     "output_type": "stream",
     "text": [
      "LOCAL_RANK: 0 - CUDA_VISIBLE_DEVICES: [0]\n"
     ]
    },
    {
     "data": {
      "application/vnd.jupyter.widget-view+json": {
       "model_id": "e7f61aaf92154bcea54952de77dc1586",
       "version_major": 2,
       "version_minor": 0
      },
      "text/plain": [
       "Predicting: 105it [00:00, ?it/s]"
      ]
     },
     "metadata": {},
     "output_type": "display_data"
    },
    {
     "name": "stderr",
     "output_type": "stream",
     "text": [
      "LOCAL_RANK: 0 - CUDA_VISIBLE_DEVICES: [0]\n"
     ]
    },
    {
     "data": {
      "application/vnd.jupyter.widget-view+json": {
       "model_id": "3bae52df4e04430dbb88caf0be4fac2d",
       "version_major": 2,
       "version_minor": 0
      },
      "text/plain": [
       "Predicting: 105it [00:00, ?it/s]"
      ]
     },
     "metadata": {},
     "output_type": "display_data"
    },
    {
     "name": "stderr",
     "output_type": "stream",
     "text": [
      "LOCAL_RANK: 0 - CUDA_VISIBLE_DEVICES: [0]\n"
     ]
    },
    {
     "data": {
      "application/vnd.jupyter.widget-view+json": {
       "model_id": "8fee0f3ccc2f4577a39fc037e67a8c46",
       "version_major": 2,
       "version_minor": 0
      },
      "text/plain": [
       "Predicting: 105it [00:00, ?it/s]"
      ]
     },
     "metadata": {},
     "output_type": "display_data"
    },
    {
     "name": "stderr",
     "output_type": "stream",
     "text": [
      "LOCAL_RANK: 0 - CUDA_VISIBLE_DEVICES: [0]\n"
     ]
    },
    {
     "data": {
      "application/vnd.jupyter.widget-view+json": {
       "model_id": "bcb91defccb948fd8f574353221a3150",
       "version_major": 2,
       "version_minor": 0
      },
      "text/plain": [
       "Predicting: 105it [00:00, ?it/s]"
      ]
     },
     "metadata": {},
     "output_type": "display_data"
    },
    {
     "name": "stderr",
     "output_type": "stream",
     "text": [
      "LOCAL_RANK: 0 - CUDA_VISIBLE_DEVICES: [0]\n"
     ]
    },
    {
     "data": {
      "application/vnd.jupyter.widget-view+json": {
       "model_id": "7d8593a2be744cfaaa461ea9ffa92c03",
       "version_major": 2,
       "version_minor": 0
      },
      "text/plain": [
       "Predicting: 105it [00:00, ?it/s]"
      ]
     },
     "metadata": {},
     "output_type": "display_data"
    },
    {
     "name": "stderr",
     "output_type": "stream",
     "text": [
      "LOCAL_RANK: 0 - CUDA_VISIBLE_DEVICES: [0]\n"
     ]
    },
    {
     "data": {
      "application/vnd.jupyter.widget-view+json": {
       "model_id": "e0208d825e0c4a7b8c20ca57b66968dd",
       "version_major": 2,
       "version_minor": 0
      },
      "text/plain": [
       "Predicting: 105it [00:00, ?it/s]"
      ]
     },
     "metadata": {},
     "output_type": "display_data"
    },
    {
     "name": "stderr",
     "output_type": "stream",
     "text": [
      "LOCAL_RANK: 0 - CUDA_VISIBLE_DEVICES: [0]\n"
     ]
    },
    {
     "data": {
      "application/vnd.jupyter.widget-view+json": {
       "model_id": "e926de0644ba494bbe3f41be61076351",
       "version_major": 2,
       "version_minor": 0
      },
      "text/plain": [
       "Predicting: 105it [00:00, ?it/s]"
      ]
     },
     "metadata": {},
     "output_type": "display_data"
    },
    {
     "name": "stderr",
     "output_type": "stream",
     "text": [
      "LOCAL_RANK: 0 - CUDA_VISIBLE_DEVICES: [0]\n"
     ]
    },
    {
     "data": {
      "application/vnd.jupyter.widget-view+json": {
       "model_id": "0665629a9cda4f409ca9c1f7fdb6fb89",
       "version_major": 2,
       "version_minor": 0
      },
      "text/plain": [
       "Predicting: 105it [00:00, ?it/s]"
      ]
     },
     "metadata": {},
     "output_type": "display_data"
    },
    {
     "name": "stderr",
     "output_type": "stream",
     "text": [
      "LOCAL_RANK: 0 - CUDA_VISIBLE_DEVICES: [0]\n"
     ]
    },
    {
     "data": {
      "application/vnd.jupyter.widget-view+json": {
       "model_id": "f5c83285989441fc875faa61053380b5",
       "version_major": 2,
       "version_minor": 0
      },
      "text/plain": [
       "Predicting: 105it [00:00, ?it/s]"
      ]
     },
     "metadata": {},
     "output_type": "display_data"
    },
    {
     "name": "stderr",
     "output_type": "stream",
     "text": [
      "LOCAL_RANK: 0 - CUDA_VISIBLE_DEVICES: [0]\n"
     ]
    },
    {
     "data": {
      "application/vnd.jupyter.widget-view+json": {
       "model_id": "94dea1a5b9bc488d8a73889f73cc1da4",
       "version_major": 2,
       "version_minor": 0
      },
      "text/plain": [
       "Predicting: 105it [00:00, ?it/s]"
      ]
     },
     "metadata": {},
     "output_type": "display_data"
    },
    {
     "name": "stderr",
     "output_type": "stream",
     "text": [
      "LOCAL_RANK: 0 - CUDA_VISIBLE_DEVICES: [0]\n"
     ]
    },
    {
     "data": {
      "application/vnd.jupyter.widget-view+json": {
       "model_id": "77f094d11d2b47519d5cf423f41b8b61",
       "version_major": 2,
       "version_minor": 0
      },
      "text/plain": [
       "Predicting: 105it [00:00, ?it/s]"
      ]
     },
     "metadata": {},
     "output_type": "display_data"
    },
    {
     "name": "stderr",
     "output_type": "stream",
     "text": [
      "LOCAL_RANK: 0 - CUDA_VISIBLE_DEVICES: [0]\n"
     ]
    },
    {
     "data": {
      "application/vnd.jupyter.widget-view+json": {
       "model_id": "394b13b153f345f9aec97bb8245ce60d",
       "version_major": 2,
       "version_minor": 0
      },
      "text/plain": [
       "Predicting: 105it [00:00, ?it/s]"
      ]
     },
     "metadata": {},
     "output_type": "display_data"
    },
    {
     "name": "stderr",
     "output_type": "stream",
     "text": [
      "LOCAL_RANK: 0 - CUDA_VISIBLE_DEVICES: [0]\n"
     ]
    },
    {
     "data": {
      "application/vnd.jupyter.widget-view+json": {
       "model_id": "f41b30f4f9bc4deebc52ba9f928c1e3e",
       "version_major": 2,
       "version_minor": 0
      },
      "text/plain": [
       "Predicting: 105it [00:00, ?it/s]"
      ]
     },
     "metadata": {},
     "output_type": "display_data"
    },
    {
     "name": "stderr",
     "output_type": "stream",
     "text": [
      "LOCAL_RANK: 0 - CUDA_VISIBLE_DEVICES: [0]\n"
     ]
    },
    {
     "data": {
      "application/vnd.jupyter.widget-view+json": {
       "model_id": "1c50a644261c420295257433fd356617",
       "version_major": 2,
       "version_minor": 0
      },
      "text/plain": [
       "Predicting: 105it [00:00, ?it/s]"
      ]
     },
     "metadata": {},
     "output_type": "display_data"
    },
    {
     "name": "stderr",
     "output_type": "stream",
     "text": [
      "LOCAL_RANK: 0 - CUDA_VISIBLE_DEVICES: [0]\n"
     ]
    },
    {
     "data": {
      "application/vnd.jupyter.widget-view+json": {
       "model_id": "bee07408d7e4488f8137524a96033f8a",
       "version_major": 2,
       "version_minor": 0
      },
      "text/plain": [
       "Predicting: 105it [00:00, ?it/s]"
      ]
     },
     "metadata": {},
     "output_type": "display_data"
    },
    {
     "name": "stderr",
     "output_type": "stream",
     "text": [
      "LOCAL_RANK: 0 - CUDA_VISIBLE_DEVICES: [0]\n"
     ]
    },
    {
     "data": {
      "application/vnd.jupyter.widget-view+json": {
       "model_id": "397a251ff3fc47248f20500508170028",
       "version_major": 2,
       "version_minor": 0
      },
      "text/plain": [
       "Predicting: 105it [00:00, ?it/s]"
      ]
     },
     "metadata": {},
     "output_type": "display_data"
    },
    {
     "name": "stderr",
     "output_type": "stream",
     "text": [
      "LOCAL_RANK: 0 - CUDA_VISIBLE_DEVICES: [0]\n"
     ]
    },
    {
     "data": {
      "application/vnd.jupyter.widget-view+json": {
       "model_id": "ef2e3fbe5dc54dc49dfc1aafd361ea0f",
       "version_major": 2,
       "version_minor": 0
      },
      "text/plain": [
       "Predicting: 105it [00:00, ?it/s]"
      ]
     },
     "metadata": {},
     "output_type": "display_data"
    },
    {
     "name": "stderr",
     "output_type": "stream",
     "text": [
      "LOCAL_RANK: 0 - CUDA_VISIBLE_DEVICES: [0]\n"
     ]
    },
    {
     "data": {
      "application/vnd.jupyter.widget-view+json": {
       "model_id": "59e49d8f33044e509e182ed7aa74d946",
       "version_major": 2,
       "version_minor": 0
      },
      "text/plain": [
       "Predicting: 105it [00:00, ?it/s]"
      ]
     },
     "metadata": {},
     "output_type": "display_data"
    },
    {
     "name": "stderr",
     "output_type": "stream",
     "text": [
      "LOCAL_RANK: 0 - CUDA_VISIBLE_DEVICES: [0]\n"
     ]
    },
    {
     "data": {
      "application/vnd.jupyter.widget-view+json": {
       "model_id": "79c401339f6440c4a94411e9f6e8808f",
       "version_major": 2,
       "version_minor": 0
      },
      "text/plain": [
       "Predicting: 105it [00:00, ?it/s]"
      ]
     },
     "metadata": {},
     "output_type": "display_data"
    },
    {
     "name": "stderr",
     "output_type": "stream",
     "text": [
      "LOCAL_RANK: 0 - CUDA_VISIBLE_DEVICES: [0]\n"
     ]
    },
    {
     "data": {
      "application/vnd.jupyter.widget-view+json": {
       "model_id": "98b31e5cbc4d41318c51ee1e1515fdfc",
       "version_major": 2,
       "version_minor": 0
      },
      "text/plain": [
       "Predicting: 105it [00:00, ?it/s]"
      ]
     },
     "metadata": {},
     "output_type": "display_data"
    },
    {
     "name": "stderr",
     "output_type": "stream",
     "text": [
      "LOCAL_RANK: 0 - CUDA_VISIBLE_DEVICES: [0]\n"
     ]
    },
    {
     "data": {
      "application/vnd.jupyter.widget-view+json": {
       "model_id": "321204b97bcc4e7186df79ba59261f97",
       "version_major": 2,
       "version_minor": 0
      },
      "text/plain": [
       "Predicting: 105it [00:00, ?it/s]"
      ]
     },
     "metadata": {},
     "output_type": "display_data"
    },
    {
     "name": "stderr",
     "output_type": "stream",
     "text": [
      "LOCAL_RANK: 0 - CUDA_VISIBLE_DEVICES: [0]\n"
     ]
    },
    {
     "data": {
      "application/vnd.jupyter.widget-view+json": {
       "model_id": "25d94ef9eb5a495abd804d2178db3bbc",
       "version_major": 2,
       "version_minor": 0
      },
      "text/plain": [
       "Predicting: 105it [00:00, ?it/s]"
      ]
     },
     "metadata": {},
     "output_type": "display_data"
    },
    {
     "name": "stderr",
     "output_type": "stream",
     "text": [
      "LOCAL_RANK: 0 - CUDA_VISIBLE_DEVICES: [0]\n"
     ]
    },
    {
     "data": {
      "application/vnd.jupyter.widget-view+json": {
       "model_id": "fc40c0d909154678b611de23706a9bb9",
       "version_major": 2,
       "version_minor": 0
      },
      "text/plain": [
       "Predicting: 105it [00:00, ?it/s]"
      ]
     },
     "metadata": {},
     "output_type": "display_data"
    },
    {
     "name": "stderr",
     "output_type": "stream",
     "text": [
      "LOCAL_RANK: 0 - CUDA_VISIBLE_DEVICES: [0]\n"
     ]
    },
    {
     "data": {
      "application/vnd.jupyter.widget-view+json": {
       "model_id": "1c920494b96145eeb71a7e801de8759b",
       "version_major": 2,
       "version_minor": 0
      },
      "text/plain": [
       "Predicting: 105it [00:00, ?it/s]"
      ]
     },
     "metadata": {},
     "output_type": "display_data"
    },
    {
     "name": "stderr",
     "output_type": "stream",
     "text": [
      "LOCAL_RANK: 0 - CUDA_VISIBLE_DEVICES: [0]\n"
     ]
    },
    {
     "data": {
      "application/vnd.jupyter.widget-view+json": {
       "model_id": "e8b73498305c4b91aaea639d7fd91cd3",
       "version_major": 2,
       "version_minor": 0
      },
      "text/plain": [
       "Predicting: 105it [00:00, ?it/s]"
      ]
     },
     "metadata": {},
     "output_type": "display_data"
    },
    {
     "name": "stderr",
     "output_type": "stream",
     "text": [
      "LOCAL_RANK: 0 - CUDA_VISIBLE_DEVICES: [0]\n"
     ]
    },
    {
     "data": {
      "application/vnd.jupyter.widget-view+json": {
       "model_id": "a81a743e13c74e8a91982bd2769a6f3d",
       "version_major": 2,
       "version_minor": 0
      },
      "text/plain": [
       "Predicting: 105it [00:00, ?it/s]"
      ]
     },
     "metadata": {},
     "output_type": "display_data"
    },
    {
     "name": "stderr",
     "output_type": "stream",
     "text": [
      "LOCAL_RANK: 0 - CUDA_VISIBLE_DEVICES: [0]\n"
     ]
    },
    {
     "data": {
      "application/vnd.jupyter.widget-view+json": {
       "model_id": "bcb114e0739f4841b470fa8035eaa150",
       "version_major": 2,
       "version_minor": 0
      },
      "text/plain": [
       "Predicting: 105it [00:00, ?it/s]"
      ]
     },
     "metadata": {},
     "output_type": "display_data"
    },
    {
     "name": "stderr",
     "output_type": "stream",
     "text": [
      "LOCAL_RANK: 0 - CUDA_VISIBLE_DEVICES: [0]\n"
     ]
    },
    {
     "data": {
      "application/vnd.jupyter.widget-view+json": {
       "model_id": "a8da1cf170d148fcbdd5e0cb624825e7",
       "version_major": 2,
       "version_minor": 0
      },
      "text/plain": [
       "Predicting: 105it [00:00, ?it/s]"
      ]
     },
     "metadata": {},
     "output_type": "display_data"
    },
    {
     "name": "stderr",
     "output_type": "stream",
     "text": [
      "LOCAL_RANK: 0 - CUDA_VISIBLE_DEVICES: [0]\n"
     ]
    },
    {
     "data": {
      "application/vnd.jupyter.widget-view+json": {
       "model_id": "ea25a8c78fe74b0bb1983687e44e0498",
       "version_major": 2,
       "version_minor": 0
      },
      "text/plain": [
       "Predicting: 105it [00:00, ?it/s]"
      ]
     },
     "metadata": {},
     "output_type": "display_data"
    },
    {
     "name": "stderr",
     "output_type": "stream",
     "text": [
      "LOCAL_RANK: 0 - CUDA_VISIBLE_DEVICES: [0]\n"
     ]
    },
    {
     "data": {
      "application/vnd.jupyter.widget-view+json": {
       "model_id": "03c609ff8b624464862383720cedf7b2",
       "version_major": 2,
       "version_minor": 0
      },
      "text/plain": [
       "Predicting: 105it [00:00, ?it/s]"
      ]
     },
     "metadata": {},
     "output_type": "display_data"
    },
    {
     "name": "stderr",
     "output_type": "stream",
     "text": [
      "LOCAL_RANK: 0 - CUDA_VISIBLE_DEVICES: [0]\n"
     ]
    },
    {
     "data": {
      "application/vnd.jupyter.widget-view+json": {
       "model_id": "a6f6b2af3399428dbe7fb02bb19e9741",
       "version_major": 2,
       "version_minor": 0
      },
      "text/plain": [
       "Predicting: 105it [00:00, ?it/s]"
      ]
     },
     "metadata": {},
     "output_type": "display_data"
    },
    {
     "name": "stderr",
     "output_type": "stream",
     "text": [
      "LOCAL_RANK: 0 - CUDA_VISIBLE_DEVICES: [0]\n"
     ]
    },
    {
     "data": {
      "application/vnd.jupyter.widget-view+json": {
       "model_id": "ed46b61f945e40c08e69fc2516ed87b3",
       "version_major": 2,
       "version_minor": 0
      },
      "text/plain": [
       "Predicting: 105it [00:00, ?it/s]"
      ]
     },
     "metadata": {},
     "output_type": "display_data"
    },
    {
     "name": "stderr",
     "output_type": "stream",
     "text": [
      "LOCAL_RANK: 0 - CUDA_VISIBLE_DEVICES: [0]\n"
     ]
    },
    {
     "data": {
      "application/vnd.jupyter.widget-view+json": {
       "model_id": "504158b92db74b9caa978c656d450ef2",
       "version_major": 2,
       "version_minor": 0
      },
      "text/plain": [
       "Predicting: 105it [00:00, ?it/s]"
      ]
     },
     "metadata": {},
     "output_type": "display_data"
    },
    {
     "name": "stderr",
     "output_type": "stream",
     "text": [
      "LOCAL_RANK: 0 - CUDA_VISIBLE_DEVICES: [0]\n"
     ]
    },
    {
     "data": {
      "application/vnd.jupyter.widget-view+json": {
       "model_id": "d029e3869229438d9394f0cdee76dd75",
       "version_major": 2,
       "version_minor": 0
      },
      "text/plain": [
       "Predicting: 105it [00:00, ?it/s]"
      ]
     },
     "metadata": {},
     "output_type": "display_data"
    },
    {
     "name": "stderr",
     "output_type": "stream",
     "text": [
      "LOCAL_RANK: 0 - CUDA_VISIBLE_DEVICES: [0]\n"
     ]
    },
    {
     "data": {
      "application/vnd.jupyter.widget-view+json": {
       "model_id": "16c14581e7fd40cdbe90e4638814da9a",
       "version_major": 2,
       "version_minor": 0
      },
      "text/plain": [
       "Predicting: 105it [00:00, ?it/s]"
      ]
     },
     "metadata": {},
     "output_type": "display_data"
    },
    {
     "name": "stderr",
     "output_type": "stream",
     "text": [
      "LOCAL_RANK: 0 - CUDA_VISIBLE_DEVICES: [0]\n"
     ]
    },
    {
     "data": {
      "application/vnd.jupyter.widget-view+json": {
       "model_id": "84243d90c3c343b58e1b978193d4bb2a",
       "version_major": 2,
       "version_minor": 0
      },
      "text/plain": [
       "Predicting: 105it [00:00, ?it/s]"
      ]
     },
     "metadata": {},
     "output_type": "display_data"
    },
    {
     "name": "stderr",
     "output_type": "stream",
     "text": [
      "LOCAL_RANK: 0 - CUDA_VISIBLE_DEVICES: [0]\n"
     ]
    },
    {
     "data": {
      "application/vnd.jupyter.widget-view+json": {
       "model_id": "85aade874b0e4d45a08baf6a1d5edb49",
       "version_major": 2,
       "version_minor": 0
      },
      "text/plain": [
       "Predicting: 105it [00:00, ?it/s]"
      ]
     },
     "metadata": {},
     "output_type": "display_data"
    },
    {
     "name": "stderr",
     "output_type": "stream",
     "text": [
      "LOCAL_RANK: 0 - CUDA_VISIBLE_DEVICES: [0]\n"
     ]
    },
    {
     "data": {
      "application/vnd.jupyter.widget-view+json": {
       "model_id": "bccb8cc0c39940d9991889e5d37596f9",
       "version_major": 2,
       "version_minor": 0
      },
      "text/plain": [
       "Predicting: 105it [00:00, ?it/s]"
      ]
     },
     "metadata": {},
     "output_type": "display_data"
    },
    {
     "name": "stderr",
     "output_type": "stream",
     "text": [
      "LOCAL_RANK: 0 - CUDA_VISIBLE_DEVICES: [0]\n"
     ]
    },
    {
     "data": {
      "application/vnd.jupyter.widget-view+json": {
       "model_id": "3a00b91394e8420faf94963e49d7706e",
       "version_major": 2,
       "version_minor": 0
      },
      "text/plain": [
       "Predicting: 105it [00:00, ?it/s]"
      ]
     },
     "metadata": {},
     "output_type": "display_data"
    },
    {
     "name": "stderr",
     "output_type": "stream",
     "text": [
      "LOCAL_RANK: 0 - CUDA_VISIBLE_DEVICES: [0]\n"
     ]
    },
    {
     "data": {
      "application/vnd.jupyter.widget-view+json": {
       "model_id": "7982422dc553473b8c623e45a9e65bfc",
       "version_major": 2,
       "version_minor": 0
      },
      "text/plain": [
       "Predicting: 105it [00:00, ?it/s]"
      ]
     },
     "metadata": {},
     "output_type": "display_data"
    },
    {
     "name": "stderr",
     "output_type": "stream",
     "text": [
      "LOCAL_RANK: 0 - CUDA_VISIBLE_DEVICES: [0]\n"
     ]
    },
    {
     "data": {
      "application/vnd.jupyter.widget-view+json": {
       "model_id": "3641e1da180f4c63be8e132c3870a7f1",
       "version_major": 2,
       "version_minor": 0
      },
      "text/plain": [
       "Predicting: 105it [00:00, ?it/s]"
      ]
     },
     "metadata": {},
     "output_type": "display_data"
    },
    {
     "name": "stderr",
     "output_type": "stream",
     "text": [
      "LOCAL_RANK: 0 - CUDA_VISIBLE_DEVICES: [0]\n"
     ]
    },
    {
     "data": {
      "application/vnd.jupyter.widget-view+json": {
       "model_id": "facc0ee78fef4d97a9ee9bbb8c516a39",
       "version_major": 2,
       "version_minor": 0
      },
      "text/plain": [
       "Predicting: 105it [00:00, ?it/s]"
      ]
     },
     "metadata": {},
     "output_type": "display_data"
    },
    {
     "name": "stderr",
     "output_type": "stream",
     "text": [
      "LOCAL_RANK: 0 - CUDA_VISIBLE_DEVICES: [0]\n"
     ]
    },
    {
     "data": {
      "application/vnd.jupyter.widget-view+json": {
       "model_id": "0b8f2810b12d4445a634b2c95b8795d4",
       "version_major": 2,
       "version_minor": 0
      },
      "text/plain": [
       "Predicting: 105it [00:00, ?it/s]"
      ]
     },
     "metadata": {},
     "output_type": "display_data"
    },
    {
     "name": "stderr",
     "output_type": "stream",
     "text": [
      "LOCAL_RANK: 0 - CUDA_VISIBLE_DEVICES: [0]\n"
     ]
    },
    {
     "data": {
      "application/vnd.jupyter.widget-view+json": {
       "model_id": "3b8938e2e6a94abd8be39929a5c94bbf",
       "version_major": 2,
       "version_minor": 0
      },
      "text/plain": [
       "Predicting: 105it [00:00, ?it/s]"
      ]
     },
     "metadata": {},
     "output_type": "display_data"
    },
    {
     "name": "stderr",
     "output_type": "stream",
     "text": [
      "LOCAL_RANK: 0 - CUDA_VISIBLE_DEVICES: [0]\n"
     ]
    },
    {
     "data": {
      "application/vnd.jupyter.widget-view+json": {
       "model_id": "b838b7b0e2334b0b8476f973727c693f",
       "version_major": 2,
       "version_minor": 0
      },
      "text/plain": [
       "Predicting: 105it [00:00, ?it/s]"
      ]
     },
     "metadata": {},
     "output_type": "display_data"
    },
    {
     "name": "stderr",
     "output_type": "stream",
     "text": [
      "LOCAL_RANK: 0 - CUDA_VISIBLE_DEVICES: [0]\n"
     ]
    },
    {
     "data": {
      "application/vnd.jupyter.widget-view+json": {
       "model_id": "a26615ee7a6d4be3a715fd9370f0f1b6",
       "version_major": 2,
       "version_minor": 0
      },
      "text/plain": [
       "Predicting: 105it [00:00, ?it/s]"
      ]
     },
     "metadata": {},
     "output_type": "display_data"
    },
    {
     "name": "stderr",
     "output_type": "stream",
     "text": [
      "LOCAL_RANK: 0 - CUDA_VISIBLE_DEVICES: [0]\n"
     ]
    },
    {
     "data": {
      "application/vnd.jupyter.widget-view+json": {
       "model_id": "7bcaf6889425438abe6270dd2a07ab49",
       "version_major": 2,
       "version_minor": 0
      },
      "text/plain": [
       "Predicting: 105it [00:00, ?it/s]"
      ]
     },
     "metadata": {},
     "output_type": "display_data"
    },
    {
     "name": "stderr",
     "output_type": "stream",
     "text": [
      "LOCAL_RANK: 0 - CUDA_VISIBLE_DEVICES: [0]\n"
     ]
    },
    {
     "data": {
      "application/vnd.jupyter.widget-view+json": {
       "model_id": "66cb72ef130e407b8fe4232c03a84512",
       "version_major": 2,
       "version_minor": 0
      },
      "text/plain": [
       "Predicting: 105it [00:00, ?it/s]"
      ]
     },
     "metadata": {},
     "output_type": "display_data"
    },
    {
     "name": "stderr",
     "output_type": "stream",
     "text": [
      "LOCAL_RANK: 0 - CUDA_VISIBLE_DEVICES: [0]\n"
     ]
    },
    {
     "data": {
      "application/vnd.jupyter.widget-view+json": {
       "model_id": "b12ebc96c7f94f65b4f52f2d004f0e13",
       "version_major": 2,
       "version_minor": 0
      },
      "text/plain": [
       "Predicting: 105it [00:00, ?it/s]"
      ]
     },
     "metadata": {},
     "output_type": "display_data"
    },
    {
     "name": "stderr",
     "output_type": "stream",
     "text": [
      "LOCAL_RANK: 0 - CUDA_VISIBLE_DEVICES: [0]\n"
     ]
    },
    {
     "data": {
      "application/vnd.jupyter.widget-view+json": {
       "model_id": "3feb53f4925a4d00a7cfa44d8d58959d",
       "version_major": 2,
       "version_minor": 0
      },
      "text/plain": [
       "Predicting: 105it [00:00, ?it/s]"
      ]
     },
     "metadata": {},
     "output_type": "display_data"
    },
    {
     "name": "stderr",
     "output_type": "stream",
     "text": [
      "LOCAL_RANK: 0 - CUDA_VISIBLE_DEVICES: [0]\n"
     ]
    },
    {
     "data": {
      "application/vnd.jupyter.widget-view+json": {
       "model_id": "2692466c2559400faa5d0d28c6bc9abd",
       "version_major": 2,
       "version_minor": 0
      },
      "text/plain": [
       "Predicting: 105it [00:00, ?it/s]"
      ]
     },
     "metadata": {},
     "output_type": "display_data"
    },
    {
     "name": "stderr",
     "output_type": "stream",
     "text": [
      "LOCAL_RANK: 0 - CUDA_VISIBLE_DEVICES: [0]\n"
     ]
    },
    {
     "data": {
      "application/vnd.jupyter.widget-view+json": {
       "model_id": "e0be51e5baa44308a872bceef36cca04",
       "version_major": 2,
       "version_minor": 0
      },
      "text/plain": [
       "Predicting: 105it [00:00, ?it/s]"
      ]
     },
     "metadata": {},
     "output_type": "display_data"
    },
    {
     "name": "stderr",
     "output_type": "stream",
     "text": [
      "LOCAL_RANK: 0 - CUDA_VISIBLE_DEVICES: [0]\n"
     ]
    },
    {
     "data": {
      "application/vnd.jupyter.widget-view+json": {
       "model_id": "a774a94150344cffb92a3fe6a4aa5102",
       "version_major": 2,
       "version_minor": 0
      },
      "text/plain": [
       "Predicting: 105it [00:00, ?it/s]"
      ]
     },
     "metadata": {},
     "output_type": "display_data"
    },
    {
     "name": "stderr",
     "output_type": "stream",
     "text": [
      "LOCAL_RANK: 0 - CUDA_VISIBLE_DEVICES: [0]\n"
     ]
    },
    {
     "data": {
      "application/vnd.jupyter.widget-view+json": {
       "model_id": "c6120834c2d64721bc82aeb8a2e449ab",
       "version_major": 2,
       "version_minor": 0
      },
      "text/plain": [
       "Predicting: 105it [00:00, ?it/s]"
      ]
     },
     "metadata": {},
     "output_type": "display_data"
    },
    {
     "name": "stderr",
     "output_type": "stream",
     "text": [
      "LOCAL_RANK: 0 - CUDA_VISIBLE_DEVICES: [0]\n"
     ]
    },
    {
     "data": {
      "application/vnd.jupyter.widget-view+json": {
       "model_id": "f27794640c774ef9981e087211608274",
       "version_major": 2,
       "version_minor": 0
      },
      "text/plain": [
       "Predicting: 105it [00:00, ?it/s]"
      ]
     },
     "metadata": {},
     "output_type": "display_data"
    },
    {
     "name": "stderr",
     "output_type": "stream",
     "text": [
      "LOCAL_RANK: 0 - CUDA_VISIBLE_DEVICES: [0]\n"
     ]
    },
    {
     "data": {
      "application/vnd.jupyter.widget-view+json": {
       "model_id": "a4e2324e16554f6b8b24e1e79acbb7a2",
       "version_major": 2,
       "version_minor": 0
      },
      "text/plain": [
       "Predicting: 105it [00:00, ?it/s]"
      ]
     },
     "metadata": {},
     "output_type": "display_data"
    },
    {
     "name": "stderr",
     "output_type": "stream",
     "text": [
      "LOCAL_RANK: 0 - CUDA_VISIBLE_DEVICES: [0]\n"
     ]
    },
    {
     "data": {
      "application/vnd.jupyter.widget-view+json": {
       "model_id": "1ad438930a8a40f7bf444f04b2314b23",
       "version_major": 2,
       "version_minor": 0
      },
      "text/plain": [
       "Predicting: 105it [00:00, ?it/s]"
      ]
     },
     "metadata": {},
     "output_type": "display_data"
    },
    {
     "name": "stderr",
     "output_type": "stream",
     "text": [
      "LOCAL_RANK: 0 - CUDA_VISIBLE_DEVICES: [0]\n"
     ]
    },
    {
     "data": {
      "application/vnd.jupyter.widget-view+json": {
       "model_id": "0526f6148c5742b388ae9e1532b8763a",
       "version_major": 2,
       "version_minor": 0
      },
      "text/plain": [
       "Predicting: 105it [00:00, ?it/s]"
      ]
     },
     "metadata": {},
     "output_type": "display_data"
    },
    {
     "name": "stderr",
     "output_type": "stream",
     "text": [
      "LOCAL_RANK: 0 - CUDA_VISIBLE_DEVICES: [0]\n"
     ]
    },
    {
     "data": {
      "application/vnd.jupyter.widget-view+json": {
       "model_id": "07b1958921f347c0ba0feb3236bb1aa6",
       "version_major": 2,
       "version_minor": 0
      },
      "text/plain": [
       "Predicting: 105it [00:00, ?it/s]"
      ]
     },
     "metadata": {},
     "output_type": "display_data"
    },
    {
     "name": "stderr",
     "output_type": "stream",
     "text": [
      "LOCAL_RANK: 0 - CUDA_VISIBLE_DEVICES: [0]\n"
     ]
    },
    {
     "data": {
      "application/vnd.jupyter.widget-view+json": {
       "model_id": "daf31adc99d243d39b00d6c2e55cb948",
       "version_major": 2,
       "version_minor": 0
      },
      "text/plain": [
       "Predicting: 105it [00:00, ?it/s]"
      ]
     },
     "metadata": {},
     "output_type": "display_data"
    },
    {
     "name": "stderr",
     "output_type": "stream",
     "text": [
      "LOCAL_RANK: 0 - CUDA_VISIBLE_DEVICES: [0]\n"
     ]
    },
    {
     "data": {
      "application/vnd.jupyter.widget-view+json": {
       "model_id": "92fd5517a9f14d79b5024965556162c1",
       "version_major": 2,
       "version_minor": 0
      },
      "text/plain": [
       "Predicting: 105it [00:00, ?it/s]"
      ]
     },
     "metadata": {},
     "output_type": "display_data"
    },
    {
     "name": "stderr",
     "output_type": "stream",
     "text": [
      "LOCAL_RANK: 0 - CUDA_VISIBLE_DEVICES: [0]\n"
     ]
    },
    {
     "data": {
      "application/vnd.jupyter.widget-view+json": {
       "model_id": "9bfd602ff3694757a1e013ef5c22a862",
       "version_major": 2,
       "version_minor": 0
      },
      "text/plain": [
       "Predicting: 105it [00:00, ?it/s]"
      ]
     },
     "metadata": {},
     "output_type": "display_data"
    },
    {
     "name": "stderr",
     "output_type": "stream",
     "text": [
      "LOCAL_RANK: 0 - CUDA_VISIBLE_DEVICES: [0]\n"
     ]
    },
    {
     "data": {
      "application/vnd.jupyter.widget-view+json": {
       "model_id": "69ca5ecf22e445189743081c76d9594f",
       "version_major": 2,
       "version_minor": 0
      },
      "text/plain": [
       "Predicting: 105it [00:00, ?it/s]"
      ]
     },
     "metadata": {},
     "output_type": "display_data"
    },
    {
     "name": "stderr",
     "output_type": "stream",
     "text": [
      "LOCAL_RANK: 0 - CUDA_VISIBLE_DEVICES: [0]\n"
     ]
    },
    {
     "data": {
      "application/vnd.jupyter.widget-view+json": {
       "model_id": "aa9b759a4c0f4997abeedf98ceca0326",
       "version_major": 2,
       "version_minor": 0
      },
      "text/plain": [
       "Predicting: 105it [00:00, ?it/s]"
      ]
     },
     "metadata": {},
     "output_type": "display_data"
    },
    {
     "name": "stderr",
     "output_type": "stream",
     "text": [
      "LOCAL_RANK: 0 - CUDA_VISIBLE_DEVICES: [0]\n"
     ]
    },
    {
     "data": {
      "application/vnd.jupyter.widget-view+json": {
       "model_id": "2cf79ce0249a4fb88b0d87686297abcd",
       "version_major": 2,
       "version_minor": 0
      },
      "text/plain": [
       "Predicting: 105it [00:00, ?it/s]"
      ]
     },
     "metadata": {},
     "output_type": "display_data"
    },
    {
     "name": "stderr",
     "output_type": "stream",
     "text": [
      "LOCAL_RANK: 0 - CUDA_VISIBLE_DEVICES: [0]\n"
     ]
    },
    {
     "data": {
      "application/vnd.jupyter.widget-view+json": {
       "model_id": "3d02259346bf48848253b018c4c8497b",
       "version_major": 2,
       "version_minor": 0
      },
      "text/plain": [
       "Predicting: 105it [00:00, ?it/s]"
      ]
     },
     "metadata": {},
     "output_type": "display_data"
    },
    {
     "name": "stderr",
     "output_type": "stream",
     "text": [
      "LOCAL_RANK: 0 - CUDA_VISIBLE_DEVICES: [0]\n"
     ]
    },
    {
     "data": {
      "application/vnd.jupyter.widget-view+json": {
       "model_id": "a122ae6d25784936a0123f2e86c2ad3f",
       "version_major": 2,
       "version_minor": 0
      },
      "text/plain": [
       "Predicting: 105it [00:00, ?it/s]"
      ]
     },
     "metadata": {},
     "output_type": "display_data"
    },
    {
     "name": "stderr",
     "output_type": "stream",
     "text": [
      "LOCAL_RANK: 0 - CUDA_VISIBLE_DEVICES: [0]\n"
     ]
    },
    {
     "data": {
      "application/vnd.jupyter.widget-view+json": {
       "model_id": "b8f159cbb1524dd685f24d2eed7a4f01",
       "version_major": 2,
       "version_minor": 0
      },
      "text/plain": [
       "Predicting: 105it [00:00, ?it/s]"
      ]
     },
     "metadata": {},
     "output_type": "display_data"
    },
    {
     "name": "stderr",
     "output_type": "stream",
     "text": [
      "LOCAL_RANK: 0 - CUDA_VISIBLE_DEVICES: [0]\n"
     ]
    },
    {
     "data": {
      "application/vnd.jupyter.widget-view+json": {
       "model_id": "325f67cbceb6437095300ca4e37bbb5e",
       "version_major": 2,
       "version_minor": 0
      },
      "text/plain": [
       "Predicting: 105it [00:00, ?it/s]"
      ]
     },
     "metadata": {},
     "output_type": "display_data"
    },
    {
     "name": "stderr",
     "output_type": "stream",
     "text": [
      "LOCAL_RANK: 0 - CUDA_VISIBLE_DEVICES: [0]\n"
     ]
    },
    {
     "data": {
      "application/vnd.jupyter.widget-view+json": {
       "model_id": "026202778fb64b6a9c1d52bae1d0f1f7",
       "version_major": 2,
       "version_minor": 0
      },
      "text/plain": [
       "Predicting: 105it [00:00, ?it/s]"
      ]
     },
     "metadata": {},
     "output_type": "display_data"
    },
    {
     "name": "stderr",
     "output_type": "stream",
     "text": [
      "LOCAL_RANK: 0 - CUDA_VISIBLE_DEVICES: [0]\n"
     ]
    },
    {
     "data": {
      "application/vnd.jupyter.widget-view+json": {
       "model_id": "64bc1e0e3d1841cf8dd2569fc9eeb811",
       "version_major": 2,
       "version_minor": 0
      },
      "text/plain": [
       "Predicting: 105it [00:00, ?it/s]"
      ]
     },
     "metadata": {},
     "output_type": "display_data"
    },
    {
     "name": "stderr",
     "output_type": "stream",
     "text": [
      "LOCAL_RANK: 0 - CUDA_VISIBLE_DEVICES: [0]\n"
     ]
    },
    {
     "data": {
      "application/vnd.jupyter.widget-view+json": {
       "model_id": "d90b20977705435889ea5da316440e1d",
       "version_major": 2,
       "version_minor": 0
      },
      "text/plain": [
       "Predicting: 105it [00:00, ?it/s]"
      ]
     },
     "metadata": {},
     "output_type": "display_data"
    },
    {
     "name": "stderr",
     "output_type": "stream",
     "text": [
      "LOCAL_RANK: 0 - CUDA_VISIBLE_DEVICES: [0]\n"
     ]
    },
    {
     "data": {
      "application/vnd.jupyter.widget-view+json": {
       "model_id": "fcbc314b023f469095cf205ad3a9fc3e",
       "version_major": 2,
       "version_minor": 0
      },
      "text/plain": [
       "Predicting: 105it [00:00, ?it/s]"
      ]
     },
     "metadata": {},
     "output_type": "display_data"
    },
    {
     "name": "stderr",
     "output_type": "stream",
     "text": [
      "LOCAL_RANK: 0 - CUDA_VISIBLE_DEVICES: [0]\n"
     ]
    },
    {
     "data": {
      "application/vnd.jupyter.widget-view+json": {
       "model_id": "768a2bfe731c4ed39ca2d92964899207",
       "version_major": 2,
       "version_minor": 0
      },
      "text/plain": [
       "Predicting: 105it [00:00, ?it/s]"
      ]
     },
     "metadata": {},
     "output_type": "display_data"
    },
    {
     "name": "stderr",
     "output_type": "stream",
     "text": [
      "LOCAL_RANK: 0 - CUDA_VISIBLE_DEVICES: [0]\n"
     ]
    },
    {
     "data": {
      "application/vnd.jupyter.widget-view+json": {
       "model_id": "b38ed258c33344bd84c14939547b0b4c",
       "version_major": 2,
       "version_minor": 0
      },
      "text/plain": [
       "Predicting: 105it [00:00, ?it/s]"
      ]
     },
     "metadata": {},
     "output_type": "display_data"
    },
    {
     "name": "stderr",
     "output_type": "stream",
     "text": [
      "LOCAL_RANK: 0 - CUDA_VISIBLE_DEVICES: [0]\n"
     ]
    },
    {
     "data": {
      "application/vnd.jupyter.widget-view+json": {
       "model_id": "f1243b19ebf04848a5f164e1e0681e8f",
       "version_major": 2,
       "version_minor": 0
      },
      "text/plain": [
       "Predicting: 105it [00:00, ?it/s]"
      ]
     },
     "metadata": {},
     "output_type": "display_data"
    },
    {
     "name": "stderr",
     "output_type": "stream",
     "text": [
      "LOCAL_RANK: 0 - CUDA_VISIBLE_DEVICES: [0]\n"
     ]
    },
    {
     "data": {
      "application/vnd.jupyter.widget-view+json": {
       "model_id": "31befd17de0344d396dcad83cc95bc8d",
       "version_major": 2,
       "version_minor": 0
      },
      "text/plain": [
       "Predicting: 105it [00:00, ?it/s]"
      ]
     },
     "metadata": {},
     "output_type": "display_data"
    },
    {
     "name": "stderr",
     "output_type": "stream",
     "text": [
      "LOCAL_RANK: 0 - CUDA_VISIBLE_DEVICES: [0]\n"
     ]
    },
    {
     "data": {
      "application/vnd.jupyter.widget-view+json": {
       "model_id": "6afb687dfcd04c75937decf5126546d2",
       "version_major": 2,
       "version_minor": 0
      },
      "text/plain": [
       "Predicting: 105it [00:00, ?it/s]"
      ]
     },
     "metadata": {},
     "output_type": "display_data"
    },
    {
     "name": "stderr",
     "output_type": "stream",
     "text": [
      "LOCAL_RANK: 0 - CUDA_VISIBLE_DEVICES: [0]\n"
     ]
    },
    {
     "data": {
      "application/vnd.jupyter.widget-view+json": {
       "model_id": "9762c865a7c94005ace9dab8194552d8",
       "version_major": 2,
       "version_minor": 0
      },
      "text/plain": [
       "Predicting: 105it [00:00, ?it/s]"
      ]
     },
     "metadata": {},
     "output_type": "display_data"
    },
    {
     "name": "stderr",
     "output_type": "stream",
     "text": [
      "LOCAL_RANK: 0 - CUDA_VISIBLE_DEVICES: [0]\n"
     ]
    },
    {
     "data": {
      "application/vnd.jupyter.widget-view+json": {
       "model_id": "a0885da9679049ad9112b1cff1f7c904",
       "version_major": 2,
       "version_minor": 0
      },
      "text/plain": [
       "Predicting: 105it [00:00, ?it/s]"
      ]
     },
     "metadata": {},
     "output_type": "display_data"
    },
    {
     "name": "stderr",
     "output_type": "stream",
     "text": [
      "LOCAL_RANK: 0 - CUDA_VISIBLE_DEVICES: [0]\n"
     ]
    },
    {
     "data": {
      "application/vnd.jupyter.widget-view+json": {
       "model_id": "668a73bd6a14478e9bb2048de08ac724",
       "version_major": 2,
       "version_minor": 0
      },
      "text/plain": [
       "Predicting: 105it [00:00, ?it/s]"
      ]
     },
     "metadata": {},
     "output_type": "display_data"
    },
    {
     "name": "stderr",
     "output_type": "stream",
     "text": [
      "LOCAL_RANK: 0 - CUDA_VISIBLE_DEVICES: [0]\n"
     ]
    },
    {
     "data": {
      "application/vnd.jupyter.widget-view+json": {
       "model_id": "63455ab604d44ee8b50d5a7538227107",
       "version_major": 2,
       "version_minor": 0
      },
      "text/plain": [
       "Predicting: 105it [00:00, ?it/s]"
      ]
     },
     "metadata": {},
     "output_type": "display_data"
    },
    {
     "name": "stderr",
     "output_type": "stream",
     "text": [
      "LOCAL_RANK: 0 - CUDA_VISIBLE_DEVICES: [0]\n"
     ]
    },
    {
     "data": {
      "application/vnd.jupyter.widget-view+json": {
       "model_id": "93fd7a5284084c478434625263e56b59",
       "version_major": 2,
       "version_minor": 0
      },
      "text/plain": [
       "Predicting: 105it [00:00, ?it/s]"
      ]
     },
     "metadata": {},
     "output_type": "display_data"
    },
    {
     "name": "stderr",
     "output_type": "stream",
     "text": [
      "LOCAL_RANK: 0 - CUDA_VISIBLE_DEVICES: [0]\n"
     ]
    },
    {
     "data": {
      "application/vnd.jupyter.widget-view+json": {
       "model_id": "0947f499720d48d092eb4d0bfae4dbcc",
       "version_major": 2,
       "version_minor": 0
      },
      "text/plain": [
       "Predicting: 105it [00:00, ?it/s]"
      ]
     },
     "metadata": {},
     "output_type": "display_data"
    },
    {
     "name": "stderr",
     "output_type": "stream",
     "text": [
      "LOCAL_RANK: 0 - CUDA_VISIBLE_DEVICES: [0]\n"
     ]
    },
    {
     "data": {
      "application/vnd.jupyter.widget-view+json": {
       "model_id": "27c7b97212db4fd48635c0e111380272",
       "version_major": 2,
       "version_minor": 0
      },
      "text/plain": [
       "Predicting: 105it [00:00, ?it/s]"
      ]
     },
     "metadata": {},
     "output_type": "display_data"
    },
    {
     "name": "stderr",
     "output_type": "stream",
     "text": [
      "LOCAL_RANK: 0 - CUDA_VISIBLE_DEVICES: [0]\n"
     ]
    },
    {
     "data": {
      "application/vnd.jupyter.widget-view+json": {
       "model_id": "bbcc5082f35d47f083f02072a1a9f042",
       "version_major": 2,
       "version_minor": 0
      },
      "text/plain": [
       "Predicting: 105it [00:00, ?it/s]"
      ]
     },
     "metadata": {},
     "output_type": "display_data"
    },
    {
     "name": "stderr",
     "output_type": "stream",
     "text": [
      "LOCAL_RANK: 0 - CUDA_VISIBLE_DEVICES: [0]\n"
     ]
    },
    {
     "data": {
      "application/vnd.jupyter.widget-view+json": {
       "model_id": "99a66d78838e4f92bd94b3d522ac26ce",
       "version_major": 2,
       "version_minor": 0
      },
      "text/plain": [
       "Predicting: 105it [00:00, ?it/s]"
      ]
     },
     "metadata": {},
     "output_type": "display_data"
    },
    {
     "name": "stderr",
     "output_type": "stream",
     "text": [
      "LOCAL_RANK: 0 - CUDA_VISIBLE_DEVICES: [0]\n"
     ]
    },
    {
     "data": {
      "application/vnd.jupyter.widget-view+json": {
       "model_id": "3a729578359243558663eabbeaa3c873",
       "version_major": 2,
       "version_minor": 0
      },
      "text/plain": [
       "Predicting: 105it [00:00, ?it/s]"
      ]
     },
     "metadata": {},
     "output_type": "display_data"
    },
    {
     "name": "stderr",
     "output_type": "stream",
     "text": [
      "LOCAL_RANK: 0 - CUDA_VISIBLE_DEVICES: [0]\n"
     ]
    },
    {
     "data": {
      "application/vnd.jupyter.widget-view+json": {
       "model_id": "27ae5273fea84e6684e1ec6f33c1ff4e",
       "version_major": 2,
       "version_minor": 0
      },
      "text/plain": [
       "Predicting: 105it [00:00, ?it/s]"
      ]
     },
     "metadata": {},
     "output_type": "display_data"
    },
    {
     "name": "stderr",
     "output_type": "stream",
     "text": [
      "LOCAL_RANK: 0 - CUDA_VISIBLE_DEVICES: [0]\n"
     ]
    },
    {
     "data": {
      "application/vnd.jupyter.widget-view+json": {
       "model_id": "201a8be7c2c44edf8918dddaefa82b54",
       "version_major": 2,
       "version_minor": 0
      },
      "text/plain": [
       "Predicting: 105it [00:00, ?it/s]"
      ]
     },
     "metadata": {},
     "output_type": "display_data"
    },
    {
     "name": "stderr",
     "output_type": "stream",
     "text": [
      "LOCAL_RANK: 0 - CUDA_VISIBLE_DEVICES: [0]\n"
     ]
    },
    {
     "data": {
      "application/vnd.jupyter.widget-view+json": {
       "model_id": "90c9745b4ce246dca153ad8a2c08177f",
       "version_major": 2,
       "version_minor": 0
      },
      "text/plain": [
       "Predicting: 105it [00:00, ?it/s]"
      ]
     },
     "metadata": {},
     "output_type": "display_data"
    },
    {
     "name": "stderr",
     "output_type": "stream",
     "text": [
      "LOCAL_RANK: 0 - CUDA_VISIBLE_DEVICES: [0]\n"
     ]
    },
    {
     "data": {
      "application/vnd.jupyter.widget-view+json": {
       "model_id": "9256353b38c542afaadeb437b1128f5c",
       "version_major": 2,
       "version_minor": 0
      },
      "text/plain": [
       "Predicting: 105it [00:00, ?it/s]"
      ]
     },
     "metadata": {},
     "output_type": "display_data"
    },
    {
     "name": "stderr",
     "output_type": "stream",
     "text": [
      "LOCAL_RANK: 0 - CUDA_VISIBLE_DEVICES: [0]\n"
     ]
    },
    {
     "data": {
      "application/vnd.jupyter.widget-view+json": {
       "model_id": "8b97ccf2f2364b919ae0cc6b29f5c04e",
       "version_major": 2,
       "version_minor": 0
      },
      "text/plain": [
       "Predicting: 105it [00:00, ?it/s]"
      ]
     },
     "metadata": {},
     "output_type": "display_data"
    },
    {
     "name": "stderr",
     "output_type": "stream",
     "text": [
      "LOCAL_RANK: 0 - CUDA_VISIBLE_DEVICES: [0]\n"
     ]
    },
    {
     "data": {
      "application/vnd.jupyter.widget-view+json": {
       "model_id": "264e2b0c247f44b6a9b9ab7c65cdc1cd",
       "version_major": 2,
       "version_minor": 0
      },
      "text/plain": [
       "Predicting: 105it [00:00, ?it/s]"
      ]
     },
     "metadata": {},
     "output_type": "display_data"
    },
    {
     "name": "stderr",
     "output_type": "stream",
     "text": [
      "LOCAL_RANK: 0 - CUDA_VISIBLE_DEVICES: [0]\n"
     ]
    },
    {
     "data": {
      "application/vnd.jupyter.widget-view+json": {
       "model_id": "b2cf1f01c24349449ecc7e62d794e593",
       "version_major": 2,
       "version_minor": 0
      },
      "text/plain": [
       "Predicting: 105it [00:00, ?it/s]"
      ]
     },
     "metadata": {},
     "output_type": "display_data"
    },
    {
     "name": "stderr",
     "output_type": "stream",
     "text": [
      "LOCAL_RANK: 0 - CUDA_VISIBLE_DEVICES: [0]\n"
     ]
    },
    {
     "data": {
      "application/vnd.jupyter.widget-view+json": {
       "model_id": "127d40295de94d919103305c5607d736",
       "version_major": 2,
       "version_minor": 0
      },
      "text/plain": [
       "Predicting: 105it [00:00, ?it/s]"
      ]
     },
     "metadata": {},
     "output_type": "display_data"
    },
    {
     "name": "stderr",
     "output_type": "stream",
     "text": [
      "LOCAL_RANK: 0 - CUDA_VISIBLE_DEVICES: [0]\n"
     ]
    },
    {
     "data": {
      "application/vnd.jupyter.widget-view+json": {
       "model_id": "7dab0bde0a37448cbb99d1b965379f92",
       "version_major": 2,
       "version_minor": 0
      },
      "text/plain": [
       "Predicting: 105it [00:00, ?it/s]"
      ]
     },
     "metadata": {},
     "output_type": "display_data"
    },
    {
     "name": "stderr",
     "output_type": "stream",
     "text": [
      "LOCAL_RANK: 0 - CUDA_VISIBLE_DEVICES: [0]\n"
     ]
    },
    {
     "data": {
      "application/vnd.jupyter.widget-view+json": {
       "model_id": "14ac42729d054eeca79de64343fd6c9d",
       "version_major": 2,
       "version_minor": 0
      },
      "text/plain": [
       "Predicting: 105it [00:00, ?it/s]"
      ]
     },
     "metadata": {},
     "output_type": "display_data"
    },
    {
     "name": "stderr",
     "output_type": "stream",
     "text": [
      "LOCAL_RANK: 0 - CUDA_VISIBLE_DEVICES: [0]\n"
     ]
    },
    {
     "data": {
      "application/vnd.jupyter.widget-view+json": {
       "model_id": "392e303b467746fbbc73f7960ac43f5d",
       "version_major": 2,
       "version_minor": 0
      },
      "text/plain": [
       "Predicting: 105it [00:00, ?it/s]"
      ]
     },
     "metadata": {},
     "output_type": "display_data"
    },
    {
     "name": "stderr",
     "output_type": "stream",
     "text": [
      "LOCAL_RANK: 0 - CUDA_VISIBLE_DEVICES: [0]\n"
     ]
    },
    {
     "data": {
      "application/vnd.jupyter.widget-view+json": {
       "model_id": "d86fb7cf698d4a70a105c6256ed0f96b",
       "version_major": 2,
       "version_minor": 0
      },
      "text/plain": [
       "Predicting: 105it [00:00, ?it/s]"
      ]
     },
     "metadata": {},
     "output_type": "display_data"
    },
    {
     "name": "stderr",
     "output_type": "stream",
     "text": [
      "LOCAL_RANK: 0 - CUDA_VISIBLE_DEVICES: [0]\n"
     ]
    },
    {
     "data": {
      "application/vnd.jupyter.widget-view+json": {
       "model_id": "e7b3733fc28a4681b2da4a3811954671",
       "version_major": 2,
       "version_minor": 0
      },
      "text/plain": [
       "Predicting: 105it [00:00, ?it/s]"
      ]
     },
     "metadata": {},
     "output_type": "display_data"
    },
    {
     "name": "stderr",
     "output_type": "stream",
     "text": [
      "LOCAL_RANK: 0 - CUDA_VISIBLE_DEVICES: [0]\n"
     ]
    },
    {
     "data": {
      "application/vnd.jupyter.widget-view+json": {
       "model_id": "85100b73bc154071941cf553114f3aa7",
       "version_major": 2,
       "version_minor": 0
      },
      "text/plain": [
       "Predicting: 105it [00:00, ?it/s]"
      ]
     },
     "metadata": {},
     "output_type": "display_data"
    },
    {
     "name": "stderr",
     "output_type": "stream",
     "text": [
      "LOCAL_RANK: 0 - CUDA_VISIBLE_DEVICES: [0]\n"
     ]
    },
    {
     "data": {
      "application/vnd.jupyter.widget-view+json": {
       "model_id": "53960a5a9cad44c98935a02ec5b7c67f",
       "version_major": 2,
       "version_minor": 0
      },
      "text/plain": [
       "Predicting: 105it [00:00, ?it/s]"
      ]
     },
     "metadata": {},
     "output_type": "display_data"
    },
    {
     "name": "stderr",
     "output_type": "stream",
     "text": [
      "LOCAL_RANK: 0 - CUDA_VISIBLE_DEVICES: [0]\n"
     ]
    },
    {
     "data": {
      "application/vnd.jupyter.widget-view+json": {
       "model_id": "79239613112740248684bf030c4a63ce",
       "version_major": 2,
       "version_minor": 0
      },
      "text/plain": [
       "Predicting: 105it [00:00, ?it/s]"
      ]
     },
     "metadata": {},
     "output_type": "display_data"
    },
    {
     "name": "stderr",
     "output_type": "stream",
     "text": [
      "LOCAL_RANK: 0 - CUDA_VISIBLE_DEVICES: [0]\n"
     ]
    },
    {
     "data": {
      "application/vnd.jupyter.widget-view+json": {
       "model_id": "28aa4322dca64ecaaf6efa35fee2575c",
       "version_major": 2,
       "version_minor": 0
      },
      "text/plain": [
       "Predicting: 105it [00:00, ?it/s]"
      ]
     },
     "metadata": {},
     "output_type": "display_data"
    },
    {
     "name": "stderr",
     "output_type": "stream",
     "text": [
      "LOCAL_RANK: 0 - CUDA_VISIBLE_DEVICES: [0]\n"
     ]
    },
    {
     "data": {
      "application/vnd.jupyter.widget-view+json": {
       "model_id": "e736c59e20964254b064b5d76dc7c622",
       "version_major": 2,
       "version_minor": 0
      },
      "text/plain": [
       "Predicting: 105it [00:00, ?it/s]"
      ]
     },
     "metadata": {},
     "output_type": "display_data"
    },
    {
     "name": "stderr",
     "output_type": "stream",
     "text": [
      "LOCAL_RANK: 0 - CUDA_VISIBLE_DEVICES: [0]\n"
     ]
    },
    {
     "data": {
      "application/vnd.jupyter.widget-view+json": {
       "model_id": "b48f1c871c00455e80dbc16118dc86ca",
       "version_major": 2,
       "version_minor": 0
      },
      "text/plain": [
       "Predicting: 105it [00:00, ?it/s]"
      ]
     },
     "metadata": {},
     "output_type": "display_data"
    },
    {
     "name": "stderr",
     "output_type": "stream",
     "text": [
      "LOCAL_RANK: 0 - CUDA_VISIBLE_DEVICES: [0]\n"
     ]
    },
    {
     "data": {
      "application/vnd.jupyter.widget-view+json": {
       "model_id": "8702be4266894aea9deb49fa42f587ce",
       "version_major": 2,
       "version_minor": 0
      },
      "text/plain": [
       "Predicting: 105it [00:00, ?it/s]"
      ]
     },
     "metadata": {},
     "output_type": "display_data"
    },
    {
     "name": "stderr",
     "output_type": "stream",
     "text": [
      "LOCAL_RANK: 0 - CUDA_VISIBLE_DEVICES: [0]\n"
     ]
    },
    {
     "data": {
      "application/vnd.jupyter.widget-view+json": {
       "model_id": "fbbea1882efe43b9949b60ad100f241b",
       "version_major": 2,
       "version_minor": 0
      },
      "text/plain": [
       "Predicting: 105it [00:00, ?it/s]"
      ]
     },
     "metadata": {},
     "output_type": "display_data"
    },
    {
     "name": "stderr",
     "output_type": "stream",
     "text": [
      "LOCAL_RANK: 0 - CUDA_VISIBLE_DEVICES: [0]\n"
     ]
    },
    {
     "data": {
      "application/vnd.jupyter.widget-view+json": {
       "model_id": "1a325770eae644a89656828f2a51a2d7",
       "version_major": 2,
       "version_minor": 0
      },
      "text/plain": [
       "Predicting: 105it [00:00, ?it/s]"
      ]
     },
     "metadata": {},
     "output_type": "display_data"
    },
    {
     "name": "stderr",
     "output_type": "stream",
     "text": [
      "LOCAL_RANK: 0 - CUDA_VISIBLE_DEVICES: [0]\n"
     ]
    },
    {
     "data": {
      "application/vnd.jupyter.widget-view+json": {
       "model_id": "33400490d32040b486b84d34df32bb54",
       "version_major": 2,
       "version_minor": 0
      },
      "text/plain": [
       "Predicting: 105it [00:00, ?it/s]"
      ]
     },
     "metadata": {},
     "output_type": "display_data"
    },
    {
     "name": "stderr",
     "output_type": "stream",
     "text": [
      "LOCAL_RANK: 0 - CUDA_VISIBLE_DEVICES: [0]\n"
     ]
    },
    {
     "data": {
      "application/vnd.jupyter.widget-view+json": {
       "model_id": "02e74f0bcc2a45af8d05057af1b8a5dd",
       "version_major": 2,
       "version_minor": 0
      },
      "text/plain": [
       "Predicting: 105it [00:00, ?it/s]"
      ]
     },
     "metadata": {},
     "output_type": "display_data"
    },
    {
     "name": "stderr",
     "output_type": "stream",
     "text": [
      "LOCAL_RANK: 0 - CUDA_VISIBLE_DEVICES: [0]\n"
     ]
    },
    {
     "data": {
      "application/vnd.jupyter.widget-view+json": {
       "model_id": "848b33eb06694ebcaa1dd8ae6d43fce4",
       "version_major": 2,
       "version_minor": 0
      },
      "text/plain": [
       "Predicting: 105it [00:00, ?it/s]"
      ]
     },
     "metadata": {},
     "output_type": "display_data"
    },
    {
     "name": "stderr",
     "output_type": "stream",
     "text": [
      "LOCAL_RANK: 0 - CUDA_VISIBLE_DEVICES: [0]\n"
     ]
    },
    {
     "data": {
      "application/vnd.jupyter.widget-view+json": {
       "model_id": "ca1205d819d44cac904d2bc3db5f05ef",
       "version_major": 2,
       "version_minor": 0
      },
      "text/plain": [
       "Predicting: 105it [00:00, ?it/s]"
      ]
     },
     "metadata": {},
     "output_type": "display_data"
    },
    {
     "name": "stderr",
     "output_type": "stream",
     "text": [
      "LOCAL_RANK: 0 - CUDA_VISIBLE_DEVICES: [0]\n"
     ]
    },
    {
     "data": {
      "application/vnd.jupyter.widget-view+json": {
       "model_id": "39c060076c8c4a30b455dee5ac951418",
       "version_major": 2,
       "version_minor": 0
      },
      "text/plain": [
       "Predicting: 105it [00:00, ?it/s]"
      ]
     },
     "metadata": {},
     "output_type": "display_data"
    },
    {
     "name": "stderr",
     "output_type": "stream",
     "text": [
      "LOCAL_RANK: 0 - CUDA_VISIBLE_DEVICES: [0]\n"
     ]
    },
    {
     "data": {
      "application/vnd.jupyter.widget-view+json": {
       "model_id": "43d049b0afff4dea9d1ed3231bb4f4fb",
       "version_major": 2,
       "version_minor": 0
      },
      "text/plain": [
       "Predicting: 105it [00:00, ?it/s]"
      ]
     },
     "metadata": {},
     "output_type": "display_data"
    },
    {
     "name": "stderr",
     "output_type": "stream",
     "text": [
      "LOCAL_RANK: 0 - CUDA_VISIBLE_DEVICES: [0]\n"
     ]
    },
    {
     "data": {
      "application/vnd.jupyter.widget-view+json": {
       "model_id": "70470892f45d43c29e7998f0a687b32c",
       "version_major": 2,
       "version_minor": 0
      },
      "text/plain": [
       "Predicting: 105it [00:00, ?it/s]"
      ]
     },
     "metadata": {},
     "output_type": "display_data"
    },
    {
     "name": "stderr",
     "output_type": "stream",
     "text": [
      "LOCAL_RANK: 0 - CUDA_VISIBLE_DEVICES: [0]\n"
     ]
    },
    {
     "data": {
      "application/vnd.jupyter.widget-view+json": {
       "model_id": "a2fde9146f5e406ca034ff15a3426249",
       "version_major": 2,
       "version_minor": 0
      },
      "text/plain": [
       "Predicting: 105it [00:00, ?it/s]"
      ]
     },
     "metadata": {},
     "output_type": "display_data"
    },
    {
     "name": "stderr",
     "output_type": "stream",
     "text": [
      "LOCAL_RANK: 0 - CUDA_VISIBLE_DEVICES: [0]\n"
     ]
    },
    {
     "data": {
      "application/vnd.jupyter.widget-view+json": {
       "model_id": "f7e527976a1841d1911e5a13ded0e60c",
       "version_major": 2,
       "version_minor": 0
      },
      "text/plain": [
       "Predicting: 105it [00:00, ?it/s]"
      ]
     },
     "metadata": {},
     "output_type": "display_data"
    },
    {
     "name": "stderr",
     "output_type": "stream",
     "text": [
      "LOCAL_RANK: 0 - CUDA_VISIBLE_DEVICES: [0]\n"
     ]
    },
    {
     "data": {
      "application/vnd.jupyter.widget-view+json": {
       "model_id": "18103e81e568411594a43916c431d1c2",
       "version_major": 2,
       "version_minor": 0
      },
      "text/plain": [
       "Predicting: 105it [00:00, ?it/s]"
      ]
     },
     "metadata": {},
     "output_type": "display_data"
    },
    {
     "name": "stderr",
     "output_type": "stream",
     "text": [
      "LOCAL_RANK: 0 - CUDA_VISIBLE_DEVICES: [0]\n"
     ]
    },
    {
     "data": {
      "application/vnd.jupyter.widget-view+json": {
       "model_id": "af013fd6a60d4a848ece5719f35c9965",
       "version_major": 2,
       "version_minor": 0
      },
      "text/plain": [
       "Predicting: 105it [00:00, ?it/s]"
      ]
     },
     "metadata": {},
     "output_type": "display_data"
    },
    {
     "name": "stderr",
     "output_type": "stream",
     "text": [
      "LOCAL_RANK: 0 - CUDA_VISIBLE_DEVICES: [0]\n"
     ]
    },
    {
     "data": {
      "application/vnd.jupyter.widget-view+json": {
       "model_id": "b7a16b4b4af5413da1fe6fa525314989",
       "version_major": 2,
       "version_minor": 0
      },
      "text/plain": [
       "Predicting: 105it [00:00, ?it/s]"
      ]
     },
     "metadata": {},
     "output_type": "display_data"
    },
    {
     "name": "stderr",
     "output_type": "stream",
     "text": [
      "LOCAL_RANK: 0 - CUDA_VISIBLE_DEVICES: [0]\n"
     ]
    },
    {
     "data": {
      "application/vnd.jupyter.widget-view+json": {
       "model_id": "803cf11ad025402da96cc32f7537d45d",
       "version_major": 2,
       "version_minor": 0
      },
      "text/plain": [
       "Predicting: 105it [00:00, ?it/s]"
      ]
     },
     "metadata": {},
     "output_type": "display_data"
    },
    {
     "name": "stderr",
     "output_type": "stream",
     "text": [
      "LOCAL_RANK: 0 - CUDA_VISIBLE_DEVICES: [0]\n"
     ]
    },
    {
     "data": {
      "application/vnd.jupyter.widget-view+json": {
       "model_id": "afd0fe94055743b1acb644eef7e630a1",
       "version_major": 2,
       "version_minor": 0
      },
      "text/plain": [
       "Predicting: 105it [00:00, ?it/s]"
      ]
     },
     "metadata": {},
     "output_type": "display_data"
    },
    {
     "name": "stderr",
     "output_type": "stream",
     "text": [
      "LOCAL_RANK: 0 - CUDA_VISIBLE_DEVICES: [0]\n"
     ]
    },
    {
     "data": {
      "application/vnd.jupyter.widget-view+json": {
       "model_id": "0224939e54904d21867408296399cd72",
       "version_major": 2,
       "version_minor": 0
      },
      "text/plain": [
       "Predicting: 105it [00:00, ?it/s]"
      ]
     },
     "metadata": {},
     "output_type": "display_data"
    },
    {
     "name": "stderr",
     "output_type": "stream",
     "text": [
      "LOCAL_RANK: 0 - CUDA_VISIBLE_DEVICES: [0]\n"
     ]
    },
    {
     "data": {
      "application/vnd.jupyter.widget-view+json": {
       "model_id": "fd80cf5bde404720badecb337f076ab9",
       "version_major": 2,
       "version_minor": 0
      },
      "text/plain": [
       "Predicting: 105it [00:00, ?it/s]"
      ]
     },
     "metadata": {},
     "output_type": "display_data"
    },
    {
     "name": "stderr",
     "output_type": "stream",
     "text": [
      "LOCAL_RANK: 0 - CUDA_VISIBLE_DEVICES: [0]\n"
     ]
    },
    {
     "data": {
      "application/vnd.jupyter.widget-view+json": {
       "model_id": "2578da8a2bf143d2a2cd3348bf7ee526",
       "version_major": 2,
       "version_minor": 0
      },
      "text/plain": [
       "Predicting: 105it [00:00, ?it/s]"
      ]
     },
     "metadata": {},
     "output_type": "display_data"
    },
    {
     "name": "stderr",
     "output_type": "stream",
     "text": [
      "LOCAL_RANK: 0 - CUDA_VISIBLE_DEVICES: [0]\n"
     ]
    },
    {
     "data": {
      "application/vnd.jupyter.widget-view+json": {
       "model_id": "0f9375ee2ad948ed99b3737087559eb5",
       "version_major": 2,
       "version_minor": 0
      },
      "text/plain": [
       "Predicting: 105it [00:00, ?it/s]"
      ]
     },
     "metadata": {},
     "output_type": "display_data"
    },
    {
     "name": "stderr",
     "output_type": "stream",
     "text": [
      "LOCAL_RANK: 0 - CUDA_VISIBLE_DEVICES: [0]\n"
     ]
    },
    {
     "data": {
      "application/vnd.jupyter.widget-view+json": {
       "model_id": "fe2a1296226047d6a9aed570a72ca9ee",
       "version_major": 2,
       "version_minor": 0
      },
      "text/plain": [
       "Predicting: 105it [00:00, ?it/s]"
      ]
     },
     "metadata": {},
     "output_type": "display_data"
    },
    {
     "name": "stderr",
     "output_type": "stream",
     "text": [
      "LOCAL_RANK: 0 - CUDA_VISIBLE_DEVICES: [0]\n"
     ]
    },
    {
     "data": {
      "application/vnd.jupyter.widget-view+json": {
       "model_id": "aab8eeec5f344c4484b38cadfea7d658",
       "version_major": 2,
       "version_minor": 0
      },
      "text/plain": [
       "Predicting: 105it [00:00, ?it/s]"
      ]
     },
     "metadata": {},
     "output_type": "display_data"
    },
    {
     "name": "stderr",
     "output_type": "stream",
     "text": [
      "LOCAL_RANK: 0 - CUDA_VISIBLE_DEVICES: [0]\n"
     ]
    },
    {
     "data": {
      "application/vnd.jupyter.widget-view+json": {
       "model_id": "062a4484ea514e57bd2f63695009e037",
       "version_major": 2,
       "version_minor": 0
      },
      "text/plain": [
       "Predicting: 105it [00:00, ?it/s]"
      ]
     },
     "metadata": {},
     "output_type": "display_data"
    },
    {
     "name": "stderr",
     "output_type": "stream",
     "text": [
      "LOCAL_RANK: 0 - CUDA_VISIBLE_DEVICES: [0]\n"
     ]
    },
    {
     "data": {
      "application/vnd.jupyter.widget-view+json": {
       "model_id": "b400e0bf909c48e6883bb542eb2ad660",
       "version_major": 2,
       "version_minor": 0
      },
      "text/plain": [
       "Predicting: 105it [00:00, ?it/s]"
      ]
     },
     "metadata": {},
     "output_type": "display_data"
    },
    {
     "name": "stderr",
     "output_type": "stream",
     "text": [
      "LOCAL_RANK: 0 - CUDA_VISIBLE_DEVICES: [0]\n"
     ]
    },
    {
     "data": {
      "application/vnd.jupyter.widget-view+json": {
       "model_id": "b4aaaa9c8ca1439eaf0ea2ed25df4448",
       "version_major": 2,
       "version_minor": 0
      },
      "text/plain": [
       "Predicting: 105it [00:00, ?it/s]"
      ]
     },
     "metadata": {},
     "output_type": "display_data"
    },
    {
     "data": {
      "text/plain": [
       "{'D:/DACON_GROWTH/EFFB0_MIXER\\\\epoch=0-step=53.ckpt': 0.0647,\n",
       " 'D:/DACON_GROWTH/EFFB0_MIXER\\\\epoch=1-step=106.ckpt': 0.0941,\n",
       " 'D:/DACON_GROWTH/EFFB0_MIXER\\\\epoch=10-step=583.ckpt': 0.2732,\n",
       " 'D:/DACON_GROWTH/EFFB0_MIXER\\\\epoch=11-step=636.ckpt': 0.2478,\n",
       " 'D:/DACON_GROWTH/EFFB0_MIXER\\\\epoch=12-step=689.ckpt': 0.2478,\n",
       " 'D:/DACON_GROWTH/EFFB0_MIXER\\\\epoch=13-step=742.ckpt': 0.251,\n",
       " 'D:/DACON_GROWTH/EFFB0_MIXER\\\\epoch=14-step=795.ckpt': 0.2869,\n",
       " 'D:/DACON_GROWTH/EFFB0_MIXER\\\\epoch=15-step=848.ckpt': 0.256,\n",
       " 'D:/DACON_GROWTH/EFFB0_MIXER\\\\epoch=16-step=901.ckpt': 0.2788,\n",
       " 'D:/DACON_GROWTH/EFFB0_MIXER\\\\epoch=17-step=954.ckpt': 0.2766,\n",
       " 'D:/DACON_GROWTH/EFFB0_MIXER\\\\epoch=18-step=1007.ckpt': 0.2218,\n",
       " 'D:/DACON_GROWTH/EFFB0_MIXER\\\\epoch=19-step=1060.ckpt': 0.272,\n",
       " 'D:/DACON_GROWTH/EFFB0_MIXER\\\\epoch=2-step=159.ckpt': 0.118,\n",
       " 'D:/DACON_GROWTH/EFFB0_MIXER\\\\epoch=20-step=1113.ckpt': 0.2866,\n",
       " 'D:/DACON_GROWTH/EFFB0_MIXER\\\\epoch=21-step=1166.ckpt': 0.2705,\n",
       " 'D:/DACON_GROWTH/EFFB0_MIXER\\\\epoch=22-step=1219.ckpt': 0.2423,\n",
       " 'D:/DACON_GROWTH/EFFB0_MIXER\\\\epoch=23-step=1272.ckpt': 0.2566,\n",
       " 'D:/DACON_GROWTH/EFFB0_MIXER\\\\epoch=24-step=1325.ckpt': 0.2686,\n",
       " 'D:/DACON_GROWTH/EFFB0_MIXER\\\\epoch=25-step=1378.ckpt': 0.2954,\n",
       " 'D:/DACON_GROWTH/EFFB0_MIXER\\\\epoch=26-step=1431.ckpt': 0.2786,\n",
       " 'D:/DACON_GROWTH/EFFB0_MIXER\\\\epoch=27-step=1484.ckpt': 0.283,\n",
       " 'D:/DACON_GROWTH/EFFB0_MIXER\\\\epoch=28-step=1537.ckpt': 0.2925,\n",
       " 'D:/DACON_GROWTH/EFFB0_MIXER\\\\epoch=29-step=1590.ckpt': 0.2664,\n",
       " 'D:/DACON_GROWTH/EFFB0_MIXER\\\\epoch=3-step=212.ckpt': 0.1304,\n",
       " 'D:/DACON_GROWTH/EFFB0_MIXER\\\\epoch=30-step=1643.ckpt': 0.2717,\n",
       " 'D:/DACON_GROWTH/EFFB0_MIXER\\\\epoch=31-step=1696.ckpt': 0.2834,\n",
       " 'D:/DACON_GROWTH/EFFB0_MIXER\\\\epoch=32-step=1749.ckpt': 0.2612,\n",
       " 'D:/DACON_GROWTH/EFFB0_MIXER\\\\epoch=33-step=1802.ckpt': 0.2666,\n",
       " 'D:/DACON_GROWTH/EFFB0_MIXER\\\\epoch=34-step=1855.ckpt': 0.335,\n",
       " 'D:/DACON_GROWTH/EFFB0_MIXER\\\\epoch=35-step=1908.ckpt': 0.282,\n",
       " 'D:/DACON_GROWTH/EFFB0_MIXER\\\\epoch=36-step=1961.ckpt': 0.2925,\n",
       " 'D:/DACON_GROWTH/EFFB0_MIXER\\\\epoch=37-step=2014.ckpt': 0.3223,\n",
       " 'D:/DACON_GROWTH/EFFB0_MIXER\\\\epoch=38-step=2067.ckpt': 0.2717,\n",
       " 'D:/DACON_GROWTH/EFFB0_MIXER\\\\epoch=39-step=2120.ckpt': 0.2747,\n",
       " 'D:/DACON_GROWTH/EFFB0_MIXER\\\\epoch=4-step=265.ckpt': 0.1615,\n",
       " 'D:/DACON_GROWTH/EFFB0_MIXER\\\\epoch=40-step=2173.ckpt': 0.2783,\n",
       " 'D:/DACON_GROWTH/EFFB0_MIXER\\\\epoch=41-step=2226.ckpt': 0.2751,\n",
       " 'D:/DACON_GROWTH/EFFB0_MIXER\\\\epoch=42-step=2279.ckpt': 0.2957,\n",
       " 'D:/DACON_GROWTH/EFFB0_MIXER\\\\epoch=43-step=2332.ckpt': 0.2727,\n",
       " 'D:/DACON_GROWTH/EFFB0_MIXER\\\\epoch=44-step=2385.ckpt': 0.2776,\n",
       " 'D:/DACON_GROWTH/EFFB0_MIXER\\\\epoch=45-step=2438.ckpt': 0.3054,\n",
       " 'D:/DACON_GROWTH/EFFB0_MIXER\\\\epoch=46-step=2491.ckpt': 0.289,\n",
       " 'D:/DACON_GROWTH/EFFB0_MIXER\\\\epoch=47-step=2544.ckpt': 0.277,\n",
       " 'D:/DACON_GROWTH/EFFB0_MIXER\\\\epoch=48-step=2597.ckpt': 0.3054,\n",
       " 'D:/DACON_GROWTH/EFFB0_MIXER\\\\epoch=49-step=2650.ckpt': 0.3267,\n",
       " 'D:/DACON_GROWTH/EFFB0_MIXER\\\\epoch=5-step=318.ckpt': 0.1921,\n",
       " 'D:/DACON_GROWTH/EFFB0_MIXER\\\\epoch=50-step=2703.ckpt': 0.2915,\n",
       " 'D:/DACON_GROWTH/EFFB0_MIXER\\\\epoch=51-step=2756.ckpt': 0.3123,\n",
       " 'D:/DACON_GROWTH/EFFB0_MIXER\\\\epoch=52-step=2809.ckpt': 0.2998,\n",
       " 'D:/DACON_GROWTH/EFFB0_MIXER\\\\epoch=53-step=2862.ckpt': 0.3198,\n",
       " 'D:/DACON_GROWTH/EFFB0_MIXER\\\\epoch=54-step=2915.ckpt': 0.3179,\n",
       " 'D:/DACON_GROWTH/EFFB0_MIXER\\\\epoch=55-step=2968.ckpt': 0.2898,\n",
       " 'D:/DACON_GROWTH/EFFB0_MIXER\\\\epoch=56-step=3021.ckpt': 0.2988,\n",
       " 'D:/DACON_GROWTH/EFFB0_MIXER\\\\epoch=57-step=3074.ckpt': 0.318,\n",
       " 'D:/DACON_GROWTH/EFFB0_MIXER\\\\epoch=58-step=3127.ckpt': 0.295,\n",
       " 'D:/DACON_GROWTH/EFFB0_MIXER\\\\epoch=59-step=3180.ckpt': 0.2898,\n",
       " 'D:/DACON_GROWTH/EFFB0_MIXER\\\\epoch=6-step=371.ckpt': 0.2179,\n",
       " 'D:/DACON_GROWTH/EFFB0_MIXER\\\\epoch=60-step=3233.ckpt': 0.2942,\n",
       " 'D:/DACON_GROWTH/EFFB0_MIXER\\\\epoch=61-step=3286.ckpt': 0.2876,\n",
       " 'D:/DACON_GROWTH/EFFB0_MIXER\\\\epoch=62-step=3339.ckpt': 0.295,\n",
       " 'D:/DACON_GROWTH/EFFB0_MIXER\\\\epoch=63-step=3392.ckpt': 0.2693,\n",
       " 'D:/DACON_GROWTH/EFFB0_MIXER\\\\epoch=64-step=3445.ckpt': 0.2812,\n",
       " 'D:/DACON_GROWTH/EFFB0_MIXER\\\\epoch=65-step=3498.ckpt': 0.2473,\n",
       " 'D:/DACON_GROWTH/EFFB0_MIXER\\\\epoch=66-step=3551.ckpt': 0.3003,\n",
       " 'D:/DACON_GROWTH/EFFB0_MIXER\\\\epoch=67-step=3604.ckpt': 0.2837,\n",
       " 'D:/DACON_GROWTH/EFFB0_MIXER\\\\epoch=68-step=3657.ckpt': 0.2874,\n",
       " 'D:/DACON_GROWTH/EFFB0_MIXER\\\\epoch=69-step=3710.ckpt': 0.277,\n",
       " 'D:/DACON_GROWTH/EFFB0_MIXER\\\\epoch=7-step=424.ckpt': 0.2347,\n",
       " 'D:/DACON_GROWTH/EFFB0_MIXER\\\\epoch=8-step=477.ckpt': 0.2534,\n",
       " 'D:/DACON_GROWTH/EFFB0_MIXER\\\\epoch=9-step=530.ckpt': 0.2727}"
      ]
     },
     "execution_count": 54,
     "metadata": {},
     "output_type": "execute_result"
    }
   ],
   "source": [
    "def np_nmae(y_true, y_pred):\n",
    "    result = np.mean(np.abs(y_true-y_pred)) / np.mean(np.abs(y_true))\n",
    "    return result\n",
    "\n",
    "class PYTORCH_TTASET(nn.Module):\n",
    "    def __init__(self, path: list,  imgs: np.array,  \\\n",
    "                 transform=None):\n",
    "        super(PYTORCH_TTASET, self).__init__()\n",
    "        self.path = path\n",
    "        self.imgs = imgs\n",
    "\n",
    "        self.transform = transform\n",
    "\n",
    "    def __len__(self):\n",
    "        return len(self.path)\n",
    "\n",
    "    def __getitem__(self, idx):\n",
    "        before_img = self.imgs[idx]\n",
    "        img_path = self.path[idx]\n",
    "        img_path = img_path.split(\"\\\\\")[-1].split(\".\")[0]\n",
    "        df_index = torch.FloatTensor(torch.zeros([49,19]))\n",
    "        after_img = self.transform(image=before_img)[\"image\"]\n",
    "        return {\"사진\": after_img, \"정보\": df_index}\n",
    "\n",
    "test_dataset2 = PYTORCH_TTASET(path=test_path, imgs=test_imgs, \\\n",
    "                                    transform=test_mode)\n",
    "\n",
    "check_paths = glob(f\"D:/DACON_GROWTH/EFFB0_MIXER/*\")\n",
    "\n",
    "tta_diff = {}\n",
    "\n",
    "\n",
    "for check in check_paths:\n",
    "    model = LIGHTNING_MODEL.load_from_checkpoint(checkpoint_path=check, \\\n",
    "                model= EFFB0_MIXER, train_datasest = None, val_dataset = None, \\\n",
    "                    augment_dataset= None, predict_dataset = test_dataset, \\\n",
    "                    train_batch = 16, augment_batch= 5, predict_batch= 16)\n",
    "    prediction = trainer.predict(model)\n",
    "    sub_list = []\n",
    "    for p in prediction:\n",
    "        p = p.view(-1)\n",
    "        for sample in p:\n",
    "            sample = sample.cpu().numpy()\n",
    "            sub_list.append(sample)\n",
    "    sub = np.array(sub_list)\n",
    "    #TTA\n",
    "    model = LIGHTNING_MODEL.load_from_checkpoint(checkpoint_path=check, \\\n",
    "        model = EFFB0_MIXER, train_datasest = None, val_dataset = None, \\\n",
    "                    augment_dataset= None, predict_dataset = test_dataset2, \\\n",
    "                    train_batch = 16, augment_batch= 5, predict_batch= 16)\n",
    "    prediction = trainer.predict(model)\n",
    "    sub_list = []\n",
    "    for p in prediction:\n",
    "        p = p.view(-1)\n",
    "        for sample in p:\n",
    "            sample = sample.cpu().numpy()\n",
    "            sub_list.append(sample)\n",
    "    sub2 = np.array(sub_list)\n",
    "    \n",
    "    result = np_nmae(sub, sub2)\n",
    "    tta_diff[check] = result\n",
    "    \n",
    "tta_diff"
   ]
  },
  {
   "cell_type": "code",
   "execution_count": null,
   "id": "cedd8cb2",
   "metadata": {},
   "outputs": [],
   "source": []
  }
 ],
 "metadata": {
  "kernelspec": {
   "display_name": "Python 3 (ipykernel)",
   "language": "python",
   "name": "python3"
  },
  "language_info": {
   "codemirror_mode": {
    "name": "ipython",
    "version": 3
   },
   "file_extension": ".py",
   "mimetype": "text/x-python",
   "name": "python",
   "nbconvert_exporter": "python",
   "pygments_lexer": "ipython3",
   "version": "3.7.9"
  }
 },
 "nbformat": 4,
 "nbformat_minor": 5
}
