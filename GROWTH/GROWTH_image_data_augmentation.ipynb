{
 "cells": [
  {
   "cell_type": "code",
   "execution_count": 1,
   "id": "475f5d24",
   "metadata": {},
   "outputs": [],
   "source": [
    "import os \n",
    "import pandas as pd\n",
    "import numpy as np\n",
    "from glob import glob\n",
    "from tqdm import tqdm\n",
    "import cv2"
   ]
  },
  {
   "cell_type": "code",
   "execution_count": 2,
   "id": "ee64998e",
   "metadata": {},
   "outputs": [],
   "source": [
    "main_path = \"D:/DACON_GROWTH_AUGMENTATION_DATA\"\n",
    "\n",
    "train_imgs = glob(main_path+\"/open/train_dataset/BC/*/*.png\")\n",
    "test_imgs = glob(main_path+\"/open/test_dataset/BC/*/*.png\")\n",
    "augmentation_imgs = train_imgs + test_imgs\n",
    "\n",
    "augmentation_folder = \"D:/DACON_GROWTH/AUGMENTATION\"\n",
    "if not os.path.exists(augmentation_folder):\n",
    "    os.mkdir(augmentation_folder)"
   ]
  },
  {
   "cell_type": "code",
   "execution_count": 8,
   "id": "d1b55c1d",
   "metadata": {},
   "outputs": [
    {
     "data": {
      "text/plain": [
       "1592"
      ]
     },
     "execution_count": 8,
     "metadata": {},
     "output_type": "execute_result"
    }
   ],
   "source": [
    "temp = glob(r\"D:\\DACON_GROWTH\\PREPROCESSING-TRAIN_224/*\")\n",
    "len(temp)"
   ]
  },
  {
   "cell_type": "code",
   "execution_count": 7,
   "id": "14c54cf1",
   "metadata": {},
   "outputs": [
    {
     "data": {
      "text/plain": [
       "492"
      ]
     },
     "execution_count": 7,
     "metadata": {},
     "output_type": "execute_result"
    }
   ],
   "source": [
    "len(augmentation_imgs)"
   ]
  },
  {
   "cell_type": "code",
   "execution_count": null,
   "id": "598ebba4",
   "metadata": {},
   "outputs": [],
   "source": [
    "augmentation_folder = \"D:/DACON_GROWTH/AUGMENTATION\"\n",
    "if not os.path.exists(augmentation_folder):\n",
    "    os.mkdir(augmentation_folder)"
   ]
  },
  {
   "cell_type": "code",
   "execution_count": 11,
   "id": "0d6fcf4f",
   "metadata": {},
   "outputs": [],
   "source": [
    "augmentation_folder = \"D:/DACON_GROWTH/AUGMENTATION/SIZE224\"\n",
    "if not os.path.exists(augmentation_folder):\n",
    "    os.mkdir(augmentation_folder)"
   ]
  },
  {
   "cell_type": "code",
   "execution_count": 12,
   "id": "46d194d7",
   "metadata": {},
   "outputs": [
    {
     "name": "stderr",
     "output_type": "stream",
     "text": [
      "100%|██████████████████████████████████████████████████████████████████████████████████████████████████████████████████████████████████████████████████████████████████████████████████████████████| 492/492 [02:09<00:00,  3.79it/s]\n"
     ]
    }
   ],
   "source": [
    "#256 256\n",
    "num = 0\n",
    "for i in tqdm(augmentation_imgs):\n",
    "    num += 1\n",
    "    img = cv2.imread(i, cv2.IMREAD_COLOR)\n",
    "    img = cv2.resize(img, dsize=(224, 224), interpolation=cv2.INTER_AREA)\n",
    "    cv2.imwrite(os.path.join(augmentation_folder,f\"augment_data{num}.png\"), img)"
   ]
  },
  {
   "cell_type": "code",
   "execution_count": null,
   "id": "cb2501ab",
   "metadata": {},
   "outputs": [],
   "source": []
  }
 ],
 "metadata": {
  "kernelspec": {
   "display_name": "Python 3 (ipykernel)",
   "language": "python",
   "name": "python3"
  },
  "language_info": {
   "codemirror_mode": {
    "name": "ipython",
    "version": 3
   },
   "file_extension": ".py",
   "mimetype": "text/x-python",
   "name": "python",
   "nbconvert_exporter": "python",
   "pygments_lexer": "ipython3",
   "version": "3.7.9"
  }
 },
 "nbformat": 4,
 "nbformat_minor": 5
}
