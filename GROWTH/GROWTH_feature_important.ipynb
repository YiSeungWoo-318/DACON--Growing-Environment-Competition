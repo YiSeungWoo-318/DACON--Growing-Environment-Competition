{
 "cells": [
  {
   "cell_type": "code",
   "execution_count": 1,
   "id": "d46f5715",
   "metadata": {},
   "outputs": [
    {
     "name": "stdout",
     "output_type": "stream",
     "text": [
      "EC관측치 0.25\n",
      "외부습도관측치 0.15233333333333332\n",
      "내부습도관측치 0.103\n",
      "외부온도관측치 0.095\n",
      "CO2관측치 0.094\n",
      "냉방부하 0.06933333333333333\n",
      "내부온도관측치 0.055\n",
      "최근분무량 0.043333333333333335\n",
      "화이트 LED동작강도 0.019666666666666666\n",
      "냉방온도 0.018666666666666668\n",
      "총추정광량 0.018\n",
      "난방온도 0.017666666666666667\n",
      "블루 LED동작강도 0.014333333333333333\n",
      "난방부하 0.012333333333333333\n",
      "레드 LED동작강도 0.012\n",
      "적색광추정광량 0.01\n",
      "백색광추정광량 0.007666666666666666\n",
      "청색광추정광량 0.007666666666666666\n"
     ]
    }
   ],
   "source": [
    "import pandas as pd\n",
    "import lightgbm as lgb\n",
    "train_df = pd.read_parquet(\"D:/DACON_GROWTH/train.parquet\")\n",
    "features = ['내부온도관측치', '외부온도관측치', '내부습도관측치', '외부습도관측치', 'CO2관측치', 'EC관측치',\n",
    "       '최근분무량', '화이트 LED동작강도', '레드 LED동작강도', '블루 LED동작강도', '냉방온도', '냉방부하',\n",
    "       '난방온도', '난방부하', '총추정광량', '백색광추정광량', '적색광추정광량', '청색광추정광량']\n",
    "\n",
    "train_col = train_df[features]\n",
    "train_target = train_df[\"무게\"]\n",
    "model = lgb.LGBMRegressor()\n",
    "model.fit(train_col, train_target)\n",
    "\n",
    "for i in model.feature_importances_.argsort()[::-1]:\n",
    "    print(features[i], model.feature_importances_[i]/model.feature_importances_.sum())\n"
   ]
  },
  {
   "cell_type": "code",
   "execution_count": null,
   "id": "cbbf80e8",
   "metadata": {},
   "outputs": [],
   "source": []
  }
 ],
 "metadata": {
  "kernelspec": {
   "display_name": "Python 3 (ipykernel)",
   "language": "python",
   "name": "python3"
  },
  "language_info": {
   "codemirror_mode": {
    "name": "ipython",
    "version": 3
   },
   "file_extension": ".py",
   "mimetype": "text/x-python",
   "name": "python",
   "nbconvert_exporter": "python",
   "pygments_lexer": "ipython3",
   "version": "3.7.9"
  }
 },
 "nbformat": 4,
 "nbformat_minor": 5
}
